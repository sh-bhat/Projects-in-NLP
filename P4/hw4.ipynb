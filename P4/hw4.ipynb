{
  "cells": [
    {
      "cell_type": "markdown",
      "metadata": {
        "id": "CeUOYktpXtOz"
      },
      "source": [
        "# Project 4: Semantic Parsing"
      ]
    },
    {
      "cell_type": "markdown",
      "metadata": {
        "id": "XFEIwsqI7YKR"
      },
      "source": [
        "This project will have you implement a neural semantic parser for the GeoQA dataset of [Krishnamurthy and Kollar, 2013](http://rtw.ml.cmu.edu/tacl2013_lsp/tacl2013-krishnamurthy-kollar.pdf), which consists of a database of simple geographic facts about 10 US states, questions and answers about the database, and annotated logical forms for the questions. Your final system will go from natural language questions to their answers, computed from the database, via logical forms that are executed on the database. \n",
        "\n",
        "First, you'll implement a method for executing logical forms on the database. Then, you'll implement some components of a constrained sequence-to-sequence model for producing logical forms from questions. You will train it using paired questions and logical forms. Then, you will train it from questions-answer pairs, by searching over latent logical forms."
      ]
    },
    {
      "cell_type": "markdown",
      "metadata": {
        "id": "FEF2PcoBc97Q"
      },
      "source": [
        "Note: this dataset is small enough that we will be able to train on CPU; you don't need a GPU instance."
      ]
    },
    {
      "cell_type": "markdown",
      "metadata": {
        "id": "acPh_4GwYID0"
      },
      "source": [
        "## Setup"
      ]
    },
    {
      "cell_type": "markdown",
      "metadata": {
        "id": "c7cggO7mjZ5L"
      },
      "source": [
        "The dependencies for this project include:\n",
        "* `torch` for modeling and training\n",
        "* `sexpdata` for loading logical forms from [S-expressions](https://en.wikipedia.org/wiki/S-expression)\n",
        "* `geoqa`: support code for loading and preprocessing the GeoQA database, evaluating predicted answers, and support code, available at this [github repo](https://github.com/dpfried/geoqa-release) (although you can treat the code as a black box and not worry about the details)."
      ]
    },
    {
      "cell_type": "code",
      "execution_count": null,
      "metadata": {
        "id": "FjPOhBQs6-IQ"
      },
      "outputs": [],
      "source": [
        "%%capture\n",
        "!pip install --upgrade torch tqdm sexpdata editdistance\n",
        "# this provides the packages available here: https://github.com/dpfried/geoqa-release\n",
        "!wget https://github.com/dpfried/geoqa-release/archive/master.zip -O geoqa.zip\n",
        "!unzip geoqa.zip\n",
        "!rm geoqa.zip\n",
        "!mv geoqa-release-master/data.tgz .\n",
        "!mv geoqa-release-master/geoqa .\n",
        "!mv geoqa-release-master/vecs .\n",
        "!rm -r geoqa-release-master\n",
        "!tar xf data.tgz\n",
        "\n",
        "# Standard library imports\n",
        "import math\n",
        "import random\n",
        "import pprint\n",
        "import pickle\n",
        "from typing import Union, List, Set, Tuple\n",
        "from collections import namedtuple\n",
        "import pdb\n",
        "\n",
        "# Third party imports\n",
        "import editdistance\n",
        "import matplotlib.pyplot as plt\n",
        "import numpy as np\n",
        "import torch\n",
        "import time\n",
        "import torch.nn as nn\n",
        "import tqdm.notebook\n",
        "import sexpdata\n",
        "\n",
        "from torch.nn.utils.rnn import pad_sequence\n",
        "from torch.utils.data import Dataset, DataLoader\n",
        "\n",
        "# geoqa imports; we'll examine these shortly\n",
        "import geoqa\n",
        "import geoqa.geo\n",
        "import geoqa.utils\n",
        "\n",
        "from geoqa.utils import Stack, Index, logical_form_to_str\n",
        "from geoqa.geo import STATES, World\n",
        "from geoqa.geo import CATS, RELS, ENTITY_ACTIONS_TO_ENTITIES\n",
        "from geoqa.geo import LAMBDA, EXISTS, AND, VARS, MAX_LITERALS\n",
        "from geoqa.dataset import GeoDataset\n",
        "from geoqa.evaluation import evaluate_predictions\n",
        "\n",
        "BIG_NEG = -1e9"
      ]
    },
    {
      "cell_type": "markdown",
      "metadata": {
        "id": "tOcjFTuVYI6C"
      },
      "source": [
        "## Data"
      ]
    },
    {
      "cell_type": "markdown",
      "metadata": {
        "id": "cv81fe200KlE"
      },
      "source": [
        "First, let's examine the dataset. GeoQA contains 10 databases, one for each of 10 states."
      ]
    },
    {
      "cell_type": "code",
      "execution_count": null,
      "metadata": {
        "colab": {
          "base_uri": "https://localhost:8080/"
        },
        "id": "4uPT-oz40gYQ",
        "outputId": "6df04d6e-fbe1-4edb-fb8e-3bc0a4a8ec95"
      },
      "outputs": [
        {
          "data": {
            "text/plain": [
              "['fl', 'ga', 'mi', 'nc', 'ok', 'pa', 'sc', 'tn', 'va', 'wv']"
            ]
          },
          "execution_count": 4,
          "metadata": {},
          "output_type": "execute_result"
        }
      ],
      "source": [
        "STATES"
      ]
    },
    {
      "cell_type": "code",
      "execution_count": null,
      "metadata": {
        "id": "DLv68jB2y6Rc"
      },
      "outputs": [],
      "source": [
        "DEV_STATES = [\"va\", \"wv\"]\n",
        "TEST_STATES = [\"fl\", \"ga\"]\n",
        "TRAIN_STATES = [env for env in STATES if env not in DEV_STATES + TEST_STATES]"
      ]
    },
    {
      "cell_type": "markdown",
      "metadata": {
        "id": "W_zKfbxB4sHC"
      },
      "source": [
        "A database consists of a set of entities, and a collection of facts about these entities. Facts are either categories, which are unary predicates on entities, or relations, which are binary predicates between entity pairs."
      ]
    },
    {
      "cell_type": "code",
      "execution_count": null,
      "metadata": {
        "colab": {
          "base_uri": "https://localhost:8080/",
          "height": 34
        },
        "id": "131kc8aj5ySe",
        "outputId": "26fa015d-ec7d-4cec-b7eb-b3ab50821d1f"
      },
      "outputs": [
        {
          "data": {
            "application/vnd.google.colaboratory.intrinsic+json": {
              "type": "string"
            },
            "text/plain": [
              "'city state park island beach ocean lake forest major peninsula capital body water salt fresh place'"
            ]
          },
          "execution_count": 6,
          "metadata": {},
          "output_type": "execute_result"
        }
      ],
      "source": [
        "# all possible categories that can be used across states\n",
        "' '.join(CATS)"
      ]
    },
    {
      "cell_type": "code",
      "execution_count": null,
      "metadata": {
        "colab": {
          "base_uri": "https://localhost:8080/",
          "height": 50
        },
        "id": "qeDYWJ_k52YP",
        "outputId": "dfff95a8-bfb3-4c03-e5b0-83ae699145ff"
      },
      "outputs": [
        {
          "data": {
            "application/vnd.google.colaboratory.intrinsic+json": {
              "type": "string"
            },
            "text/plain": [
              "'in-rel on-rel north-rel south-rel east-rel west-rel northeast-rel southeast-rel southwest-rel northwest-rel border-rel capital-rel near-rel close-rel surround-rel bigger-rel abut-rel along-rel inside-rel contain-rel'"
            ]
          },
          "execution_count": 7,
          "metadata": {},
          "output_type": "execute_result"
        }
      ],
      "source": [
        "# all possible relations that can be used across states\n",
        "' '.join(RELS)"
      ]
    },
    {
      "cell_type": "markdown",
      "metadata": {
        "id": "aeznyh2p55d7"
      },
      "source": [
        "Not all categories and relations will be used in a given database; but here are a representation of the entities, categories, and relations for one state. This dataset is quite small, and the state data below represents one of the larger databases."
      ]
    },
    {
      "cell_type": "code",
      "execution_count": null,
      "metadata": {
        "colab": {
          "base_uri": "https://localhost:8080/"
        },
        "id": "CJHntYwQ1XVs",
        "outputId": "ab71b766-380a-4f15-e16d-1199d5ba0366"
      },
      "outputs": [
        {
          "name": "stdout",
          "output_type": "stream",
          "text": [
            "name: va\n",
            "entities:\n",
            "\tvirginia\n",
            "\tvirginia_beach\n",
            "\trichmond\n",
            "\tatlantic_ocean\n",
            "\twest_virginia\n",
            "\tnorth_carolina\n",
            "categories:\n",
            "\tcity(virginia_beach)\n",
            "\tcity(richmond)\n",
            "\tstate(virginia)\n",
            "\tstate(west_virginia)\n",
            "\tstate(north_carolina)\n",
            "\tocean(atlantic_ocean)\n",
            "relations:\n",
            "\tin-rel(virginia_beach, virginia)\n",
            "\tin-rel(richmond, virginia)\n",
            "\ton-rel(virginia, atlantic_ocean)\n",
            "\ton-rel(virginia_beach, atlantic_ocean)\n",
            "\ton-rel(west_virginia, atlantic_ocean)\n",
            "\ton-rel(north_carolina, atlantic_ocean)\n",
            "\tsouth-rel(virginia, west_virginia)\n",
            "\tsouth-rel(north_carolina, virginia)\n",
            "\tsouth-rel(north_carolina, virginia_beach)\n",
            "\tsouth-rel(north_carolina, richmond)\n",
            "\teast-rel(virginia, west_virginia)\n",
            "\teast-rel(virginia_beach, richmond)\n",
            "\teast-rel(atlantic_ocean, virginia)\n",
            "\teast-rel(atlantic_ocean, virginia_beach)\n",
            "\teast-rel(atlantic_ocean, richmond)\n",
            "\teast-rel(atlantic_ocean, west_virginia)\n",
            "\teast-rel(atlantic_ocean, north_carolina)\n",
            "\twest-rel(virginia, atlantic_ocean)\n",
            "\twest-rel(virginia_beach, atlantic_ocean)\n",
            "\twest-rel(richmond, virginia_beach)\n",
            "\twest-rel(richmond, atlantic_ocean)\n",
            "\twest-rel(west_virginia, virginia)\n",
            "\twest-rel(north_carolina, atlantic_ocean)\n",
            "\tsoutheast-rel(virginia, west_virginia)\n",
            "\tsoutheast-rel(virginia_beach, richmond)\n",
            "\tsoutheast-rel(atlantic_ocean, virginia)\n",
            "\tsoutheast-rel(atlantic_ocean, north_carolina)\n",
            "\tborder-rel(virginia, atlantic_ocean)\n",
            "\tborder-rel(virginia, west_virginia)\n",
            "\tborder-rel(virginia, north_carolina)\n",
            "\tborder-rel(virginia_beach, atlantic_ocean)\n",
            "\tborder-rel(atlantic_ocean, virginia)\n",
            "\tborder-rel(atlantic_ocean, virginia_beach)\n",
            "\tborder-rel(atlantic_ocean, west_virginia)\n",
            "\tborder-rel(atlantic_ocean, north_carolina)\n",
            "\tborder-rel(west_virginia, virginia)\n",
            "\tborder-rel(west_virginia, atlantic_ocean)\n",
            "\tborder-rel(north_carolina, virginia)\n",
            "\tborder-rel(north_carolina, atlantic_ocean)\n",
            "\tcapital-rel(richmond, virginia)\n",
            "\tnear-rel(virginia, atlantic_ocean)\n",
            "\tnear-rel(virginia, west_virginia)\n",
            "\tnear-rel(virginia, north_carolina)\n",
            "\tnear-rel(virginia_beach, richmond)\n",
            "\tnear-rel(virginia_beach, atlantic_ocean)\n",
            "\tnear-rel(virginia_beach, north_carolina)\n",
            "\tnear-rel(richmond, virginia_beach)\n",
            "\tnear-rel(atlantic_ocean, virginia)\n",
            "\tnear-rel(atlantic_ocean, virginia_beach)\n",
            "\tnear-rel(atlantic_ocean, north_carolina)\n",
            "\tnear-rel(west_virginia, virginia)\n",
            "\tnear-rel(north_carolina, virginia)\n",
            "\tnear-rel(north_carolina, virginia_beach)\n",
            "\tnear-rel(north_carolina, atlantic_ocean)\n",
            "\tabut-rel(virginia, atlantic_ocean)\n",
            "\tabut-rel(virginia, west_virginia)\n",
            "\tabut-rel(virginia, north_carolina)\n",
            "\tabut-rel(virginia_beach, atlantic_ocean)\n",
            "\tabut-rel(atlantic_ocean, virginia)\n",
            "\tabut-rel(atlantic_ocean, virginia_beach)\n",
            "\tabut-rel(atlantic_ocean, north_carolina)\n",
            "\tabut-rel(west_virginia, virginia)\n",
            "\tabut-rel(north_carolina, virginia)\n",
            "\tabut-rel(north_carolina, atlantic_ocean)\n",
            "\talong-rel(virginia, atlantic_ocean)\n",
            "\talong-rel(virginia_beach, atlantic_ocean)\n",
            "\talong-rel(west_virginia, atlantic_ocean)\n",
            "\talong-rel(north_carolina, atlantic_ocean)\n",
            "\tinside-rel(virginia_beach, virginia)\n",
            "\tinside-rel(richmond, virginia)\n",
            "\tcontain-rel(virginia, virginia_beach)\n",
            "\tcontain-rel(virginia, richmond)\n"
          ]
        }
      ],
      "source": [
        "world = geoqa.geo.read_world(\"va\")\n",
        "world.print()"
      ]
    },
    {
      "cell_type": "markdown",
      "metadata": {
        "id": "5Vn6mqMc0nio"
      },
      "source": [
        "Each state has a set of question-answer pairs, with an associated logical form for each question."
      ]
    },
    {
      "cell_type": "code",
      "execution_count": null,
      "metadata": {
        "id": "t1LU0bazywMw"
      },
      "outputs": [],
      "source": [
        "questions, answers, logical_forms = geoqa.geo.read_data(\"va\")\n",
        "\n",
        "instance_index = 10"
      ]
    },
    {
      "cell_type": "code",
      "execution_count": null,
      "metadata": {
        "colab": {
          "base_uri": "https://localhost:8080/",
          "height": 34
        },
        "id": "lAyAMRVf0x8r",
        "outputId": "99f9817d-e12e-4a21-ef16-1cc943ee99fe"
      },
      "outputs": [
        {
          "data": {
            "application/vnd.google.colaboratory.intrinsic+json": {
              "type": "string"
            },
            "text/plain": [
              "'what cities are in virginia ?'"
            ]
          },
          "execution_count": 10,
          "metadata": {},
          "output_type": "execute_result"
        }
      ],
      "source": [
        "questions[instance_index]"
      ]
    },
    {
      "cell_type": "markdown",
      "metadata": {
        "id": "RT4WajPfGHdk"
      },
      "source": [
        "Each answer is a set of entities from the database:"
      ]
    },
    {
      "cell_type": "code",
      "execution_count": null,
      "metadata": {
        "colab": {
          "base_uri": "https://localhost:8080/",
          "height": 34
        },
        "id": "IuW8g2E500VF",
        "outputId": "2c7e1c10-95bb-4a69-bb7c-90d1d7609441"
      },
      "outputs": [
        {
          "data": {
            "application/vnd.google.colaboratory.intrinsic+json": {
              "type": "string"
            },
            "text/plain": [
              "'virginia_beach,richmond'"
            ]
          },
          "execution_count": 11,
          "metadata": {},
          "output_type": "execute_result"
        }
      ],
      "source": [
        "answers[instance_index]"
      ]
    },
    {
      "cell_type": "markdown",
      "metadata": {
        "id": "dXDjQFKZ067q"
      },
      "source": [
        "Logical forms are lambda calculus functions represented as tuples:"
      ]
    },
    {
      "cell_type": "code",
      "execution_count": null,
      "metadata": {
        "colab": {
          "base_uri": "https://localhost:8080/"
        },
        "id": "sF0G35Hz04-L",
        "outputId": "89f8ccd7-3519-408a-f653-076f0c3acb17"
      },
      "outputs": [
        {
          "data": {
            "text/plain": [
              "('lambda',\n",
              " '$w',\n",
              " ('exists',\n",
              "  '$x',\n",
              "  ('and', ('city', '$w'), ('in-rel', '$w', '$x'), ('kb-virginia', '$x'))))"
            ]
          },
          "execution_count": 12,
          "metadata": {},
          "output_type": "execute_result"
        }
      ],
      "source": [
        "logical_forms[instance_index]"
      ]
    },
    {
      "cell_type": "code",
      "execution_count": null,
      "metadata": {
        "colab": {
          "base_uri": "https://localhost:8080/"
        },
        "id": "8AdTo5zkA_pF",
        "outputId": "5ecd9dcf-8607-46fb-8a1b-3a3020992958"
      },
      "outputs": [
        {
          "name": "stdout",
          "output_type": "stream",
          "text": [
            "(lambda $w (exists $x (and (city $w) (in-rel $w $x) (kb-virginia $x))))\n"
          ]
        }
      ],
      "source": [
        "print(logical_form_to_str(logical_forms[instance_index]))"
      ]
    },
    {
      "cell_type": "markdown",
      "metadata": {
        "id": "Ru5yVIOG6U9t"
      },
      "source": [
        "This dataset has fairly simple lambda calculus expressions, which always consist of a single function and a conjunction of predicates. Because of this, every logical form contains:\n",
        "1. **Variables** (`$x, $y, $z,` and `$w`), which can take on entity values from the database.\n",
        "2. **Predicates**, of which there are three types:\n",
        "    - **categories** (e.g. `city`), which take 1 variable as an argument, and return true if the category is true in the database for the entity assigned to the variable.\n",
        "    - **relations** (e.g. `in-rel`), which take 2 variable arguments, and return true if the relation is true in the database for the ordered pair of entities assigned to the variables.\n",
        "    - **entity predicates** (e.g. `kb-virginia`), which takes 1 variable argument and return true if the proper entity (e.g. `virginia`) is assigned to the variable.\n",
        "3. A **conjunction** (`and`) of multiple **literals** (e.g. `(city $w)` is a literal). A literal consists of a predicate with some number of variables as argument.\n",
        "4. [optional] An **existential quantifier** (`exists`), which takes as arguments all but one of the variables used within the conjunction, and the conjunction. `exists` is used if and only if more than one variable is used inside the `and` expression.\n",
        "5. A **lambda expression** (`lambda`), which takes as arguments a single variable and either a conjunction (if the conjunction contains no other variables, other than the lambda's argument) or an existential quantifier (if it does).\n",
        "\n",
        "Note: an alternative, more compact logical form representation would use entities directly when applicable, e.g. `(lambda $w (and (city $w) (in-rel $w virginia)))`. This would make the implementation of the logical form executor (which you'll complete in the next section) a bit more complex, but it would likely reduce the difficulty of learning the logical forms' structure. If you're interested, see [Liang 2013](https://arxiv.org/abs/1309.4408) for one approach used in many recent systems which takes this even further to eliminate all variables and make existential quantification implicit, more closely paralleling natural language.\n",
        "\n",
        "In general, semantic parsing systems must trade off between the complexity of the lexicon, the syntax/semantics interface, compactness of the logical form structure, and the difficulty of inference and learning.  For this dataset, we'll find that a neural model is able to adequately learn  to predict these relatively verbose logical forms directly from sentences, given some lexical and structural constraints."
      ]
    },
    {
      "cell_type": "code",
      "execution_count": null,
      "metadata": {
        "id": "rnm8zv7jMhtx"
      },
      "outputs": [],
      "source": [
        "# obtain all predicates (categories, relations, and entity predicates) from the dataset\n",
        "PREDICATES = set(CATS) | set(RELS) | set(ENTITY_ACTIONS_TO_ENTITIES.keys())"
      ]
    },
    {
      "cell_type": "code",
      "execution_count": null,
      "metadata": {
        "colab": {
          "base_uri": "https://localhost:8080/",
          "height": 116
        },
        "id": "rm5aJW-zMsw1",
        "outputId": "f1e64efa-0e97-4af5-c7fd-bc4ddbeb34b7"
      },
      "outputs": [
        {
          "data": {
            "application/vnd.google.colaboratory.intrinsic+json": {
              "type": "string"
            },
            "text/plain": [
              "'abut-rel along-rel beach bigger-rel body border-rel capital capital-rel city close-rel contain-rel east-rel forest fresh in-rel inside-rel island kb-alabama kb-arkansas kb-atlanta kb-atlantic_ocean kb-birmingham kb-charleston kb-charlotte kb-daytona_beach kb-detroit kb-everglades_national_park kb-florida kb-francis_marion_national_forest kb-georgia kb-grand_rapids kb-great_smoky_mountains_national_park kb-greensboro kb-greenville kb-harrisburg kb-hilton_head_island kb-key_largo kb-knoxville kb-lake_huron kb-lake_michigan kb-lake_moultrie kb-louisiana kb-macon kb-memphis kb-miami kb-michigan kb-milwaukee kb-mississippi kb-monongahela_national_forest kb-montgomery kb-myrtle_beach kb-nashville kb-new_jersey kb-newark kb-north_carolina kb-oklahoma kb-pennsylvania kb-pittsburgh kb-raleigh kb-richmond kb-south_carolina kb-tallahassee kb-tennessee kb-texas kb-trenton kb-tygart_lake kb-uwharrie_national_forest kb-virginia kb-virginia_beach kb-west_virginia kb-wisconsin lake major near-rel north-rel northeast-rel northwest-rel ocean on-rel park peninsula place salt south-rel southeast-rel southwest-rel state surround-rel water west-rel'"
            ]
          },
          "execution_count": 15,
          "metadata": {},
          "output_type": "execute_result"
        }
      ],
      "source": [
        "' '.join(sorted(PREDICATES))"
      ]
    },
    {
      "cell_type": "markdown",
      "metadata": {
        "id": "PnbgAnhEFraV"
      },
      "source": [
        "## Logical Form Executor"
      ]
    },
    {
      "cell_type": "markdown",
      "metadata": {
        "id": "CeTINkBfF68I"
      },
      "source": [
        "All logical forms in this dataset are lambda functions, which take database entities and return truth values. Each logical form's denotation (corresponding to the answer to its question) is the set of entities in the database for which the lambda function is true."
      ]
    },
    {
      "cell_type": "code",
      "execution_count": null,
      "metadata": {
        "colab": {
          "base_uri": "https://localhost:8080/",
          "height": 34
        },
        "id": "sxRwckgWF8_G",
        "outputId": "dd14f5aa-f344-450d-ca33-d8f3a8ab6557"
      },
      "outputs": [
        {
          "data": {
            "application/vnd.google.colaboratory.intrinsic+json": {
              "type": "string"
            },
            "text/plain": [
              "'what cities are in virginia ?'"
            ]
          },
          "execution_count": 16,
          "metadata": {},
          "output_type": "execute_result"
        }
      ],
      "source": [
        "questions[instance_index]"
      ]
    },
    {
      "cell_type": "code",
      "execution_count": null,
      "metadata": {
        "colab": {
          "base_uri": "https://localhost:8080/",
          "height": 34
        },
        "id": "UQTXYMTrGdXc",
        "outputId": "a729dc99-f6c6-4ea5-b59d-cb2537ea8478"
      },
      "outputs": [
        {
          "data": {
            "application/vnd.google.colaboratory.intrinsic+json": {
              "type": "string"
            },
            "text/plain": [
              "'(lambda $w (exists $x (and (city $w) (in-rel $w $x) (kb-virginia $x))))'"
            ]
          },
          "execution_count": 17,
          "metadata": {},
          "output_type": "execute_result"
        }
      ],
      "source": [
        "logical_form_to_str(logical_forms[instance_index])"
      ]
    },
    {
      "cell_type": "code",
      "execution_count": null,
      "metadata": {
        "colab": {
          "base_uri": "https://localhost:8080/",
          "height": 34
        },
        "id": "uTJD-e7k12Pq",
        "outputId": "b393a307-bc67-4ea5-b7a8-a69d231edaf2"
      },
      "outputs": [
        {
          "data": {
            "application/vnd.google.colaboratory.intrinsic+json": {
              "type": "string"
            },
            "text/plain": [
              "'virginia_beach,richmond'"
            ]
          },
          "execution_count": 18,
          "metadata": {},
          "output_type": "execute_result"
        }
      ],
      "source": [
        "answers[instance_index]"
      ]
    },
    {
      "cell_type": "markdown",
      "metadata": {
        "id": "xYsQsGbOeX3G"
      },
      "source": [
        "To evaluate a logical form's denotation in a database, we'll run a simple unification algorithm to build a denotation up recursively from sub-trees in the logical form's tree. Each sub-tree in the logical form will be associated with a `VariableAssignments` object, which contains the set of all possible assignments of entities to variables within the sub-tree that would satisfy the logical form:"
      ]
    },
    {
      "cell_type": "code",
      "execution_count": null,
      "metadata": {
        "id": "p5Qn0IGBQyxD"
      },
      "outputs": [],
      "source": [
        "# VariableAssignments: a collection of possible assignments of entities to\n",
        "#   variables that satisfy the logical form, as processed so far\n",
        "VariableAssignments = namedtuple('VariableAssignments', [\n",
        "  'variables',\n",
        "  # variables: Set[str]: variables that are assigned\n",
        "  'assignments'\n",
        "  # assignments: List[Dict[str, str]]: a list of variable assignments.\n",
        "  #   each variable assignment dictionary should map every variable in \n",
        "  #   `variables` to an entity\n",
        "])"
      ]
    },
    {
      "cell_type": "markdown",
      "metadata": {
        "id": "n28xqRMBfhdY"
      },
      "source": [
        "In the cell below, we've defined operations to produce satisfying assignments for each of the three literal types (which occur at the leaves of the tree):"
      ]
    },
    {
      "cell_type": "code",
      "execution_count": null,
      "metadata": {
        "id": "5re9oORVQu0V"
      },
      "outputs": [],
      "source": [
        "def entity_op(entity_predicate: str, variable: str, world: World) -> VariableAssignments:\n",
        "  entity_name = ENTITY_ACTIONS_TO_ENTITIES[entity_predicate]\n",
        "  assert entity_name in world.entities\n",
        "  return VariableAssignments({variable}, [{variable: entity_name}])\n",
        "\n",
        "def category_op(category: str, variable: str, world: World) -> VariableAssignments:\n",
        "  index = CATS.index(category)\n",
        "  values = (world.categories[index] == 1).nonzero()[0]\n",
        "  return VariableAssignments(\n",
        "    {variable},\n",
        "    [{variable: world.index_to_entities[value]}\n",
        "     for value in values],\n",
        "  )\n",
        "\n",
        "def relation_op(relation: str, variable_1: str, variable_2: str, world: World) -> VariableAssignments:\n",
        "  index = RELS.index(relation)\n",
        "  val_1s, val_2s = (world.relations[index] == 1).nonzero()\n",
        "  assignments = [\n",
        "    {variable_1: world.index_to_entities[val_1], variable_2: world.index_to_entities[val_2]}\n",
        "    for val_1, val_2 in zip(\n",
        "      val_1s, val_2s\n",
        "    )\n",
        "  ]\n",
        "  return VariableAssignments(\n",
        "    {variable_1, variable_2},\n",
        "    assignments\n",
        "  )"
      ]
    },
    {
      "cell_type": "markdown",
      "metadata": {
        "id": "vfEmeVUWg1tp"
      },
      "source": [
        "These literal operations are demonstrated below:"
      ]
    },
    {
      "cell_type": "code",
      "execution_count": null,
      "metadata": {
        "colab": {
          "base_uri": "https://localhost:8080/"
        },
        "id": "ToUxQn47StAm",
        "outputId": "ee7542d8-0892-445c-9519-58c89fd23fd0"
      },
      "outputs": [
        {
          "name": "stdout",
          "output_type": "stream",
          "text": [
            "name: wv\n",
            "entities:\n",
            "\twest_virginia\n",
            "\tcharleston\n",
            "\tmonongahela_national_forest\n",
            "\ttygart_lake\n",
            "\trichmond\n",
            "\tvirginia\n",
            "categories:\n",
            "\tcity(charleston)\n",
            "\tcity(richmond)\n",
            "\tstate(west_virginia)\n",
            "\tstate(virginia)\n",
            "\tpark(monongahela_national_forest)\n",
            "\tlake(tygart_lake)\n",
            "relations:\n",
            "\tin-rel(charleston, west_virginia)\n",
            "\tin-rel(monongahela_national_forest, west_virginia)\n",
            "\tin-rel(tygart_lake, west_virginia)\n",
            "\tin-rel(richmond, virginia)\n",
            "\teast-rel(monongahela_national_forest, charleston)\n",
            "\teast-rel(richmond, west_virginia)\n",
            "\teast-rel(richmond, monongahela_national_forest)\n",
            "\teast-rel(virginia, west_virginia)\n",
            "\teast-rel(virginia, monongahela_national_forest)\n",
            "\teast-rel(virginia, tygart_lake)\n",
            "\twest-rel(west_virginia, richmond)\n",
            "\twest-rel(west_virginia, virginia)\n",
            "\twest-rel(charleston, monongahela_national_forest)\n",
            "\twest-rel(monongahela_national_forest, richmond)\n",
            "\twest-rel(monongahela_national_forest, virginia)\n",
            "\twest-rel(tygart_lake, virginia)\n",
            "\tcapital-rel(charleston, west_virginia)\n",
            "\tcapital-rel(richmond, virginia)\n"
          ]
        }
      ],
      "source": [
        "world = geoqa.geo.read_world(\"wv\")\n",
        "world.print()"
      ]
    },
    {
      "cell_type": "code",
      "execution_count": null,
      "metadata": {
        "id": "znHyqHw5SwKR"
      },
      "outputs": [],
      "source": [
        "logical_form = geoqa.utils.parse_tree('(lambda $w (exists $x (and (city $w) (in-rel $w $x) (kb-west_virginia $x))))')"
      ]
    },
    {
      "cell_type": "code",
      "execution_count": null,
      "metadata": {
        "colab": {
          "base_uri": "https://localhost:8080/"
        },
        "id": "9BZRKtM-Sm2I",
        "outputId": "843843a9-037d-4872-afb1-8c681b26efa6"
      },
      "outputs": [
        {
          "data": {
            "text/plain": [
              "VariableAssignments(variables={'$x'}, assignments=[{'$x': 'west_virginia'}])"
            ]
          },
          "execution_count": 23,
          "metadata": {},
          "output_type": "execute_result"
        }
      ],
      "source": [
        "entity_op('kb-west_virginia', '$x', world)"
      ]
    },
    {
      "cell_type": "code",
      "execution_count": null,
      "metadata": {
        "colab": {
          "base_uri": "https://localhost:8080/"
        },
        "id": "5UrNfdWZTqKL",
        "outputId": "80f32a55-e8a2-4efd-c400-158e91ebe4b9"
      },
      "outputs": [
        {
          "data": {
            "text/plain": [
              "VariableAssignments(variables={'$x', '$w'}, assignments=[{'$w': 'charleston', '$x': 'west_virginia'}, {'$w': 'monongahela_national_forest', '$x': 'west_virginia'}, {'$w': 'tygart_lake', '$x': 'west_virginia'}, {'$w': 'richmond', '$x': 'virginia'}])"
            ]
          },
          "execution_count": 24,
          "metadata": {},
          "output_type": "execute_result"
        }
      ],
      "source": [
        "relation_op('in-rel', '$w', '$x', world)"
      ]
    },
    {
      "cell_type": "code",
      "execution_count": null,
      "metadata": {
        "colab": {
          "base_uri": "https://localhost:8080/"
        },
        "id": "yFwXqlpKTyJ-",
        "outputId": "41f69b4a-eb08-4352-dac1-5a2804b95f14"
      },
      "outputs": [
        {
          "data": {
            "text/plain": [
              "VariableAssignments(variables={'$w'}, assignments=[{'$w': 'charleston'}, {'$w': 'richmond'}])"
            ]
          },
          "execution_count": 25,
          "metadata": {},
          "output_type": "execute_result"
        }
      ],
      "source": [
        "category_op('city', '$w', world)"
      ]
    },
    {
      "cell_type": "markdown",
      "metadata": {
        "id": "Hp8ZwdbKf7J6"
      },
      "source": [
        "In the cell below, we've defined an `execute` function which will return the entity set denotation for a logical form by recursively traversing the logical form's tree and combining variable assignments from the leaves upward, using _sub-tree operations_.  The root node of the tree, the `lambda` node, has a `lambda_op` sub-tree operation which takes a `VariableAssignments` containing possible satisfying assignments, and returns the set of entities that the lambda variable takes on.\n",
        "\n",
        "All other sub-tree operations take `VariableAssignments` returned by their children, and return a `VariableAssignments` giving the assignments that satisfy the sub-tree.\n",
        "\n",
        "Some of the sub-tree operations (`entity_op`, `category_op`, `relation_op`) for literals were defined above; you'll define the others (`lambda_op`, `exists_op`, `and_op`) in the cells afterward."
      ]
    },
    {
      "cell_type": "code",
      "execution_count": null,
      "metadata": {
        "id": "18BLQZKCVBl1"
      },
      "outputs": [],
      "source": [
        "def execute(logical_form: Tuple, world: World):\n",
        "  # recursively process the tree from the leaves upward. Each subtree should return:\n",
        "  #   lambda nodes: a `set` of entities that satisfy the logical form\n",
        "  #   all other node types: a VariableAssignments that contains possible assignments\n",
        "  #       of entities to variables that would satisfy the subtree\n",
        "  assert isinstance(logical_form, tuple)\n",
        "  predicate = logical_form[0]\n",
        "  if predicate in ENTITY_ACTIONS_TO_ENTITIES:\n",
        "    var = logical_form[1]\n",
        "    return entity_op(predicate, var, world)\n",
        "  elif predicate in CATS:\n",
        "    category = predicate\n",
        "    var = logical_form[1]\n",
        "    return category_op(category, var, world)\n",
        "  elif predicate in RELS:\n",
        "    rel = predicate\n",
        "    var_1, var_2 = logical_form[1:]\n",
        "    return relation_op(rel, var_1, var_2, world)\n",
        "  elif predicate == LAMBDA:\n",
        "    var = logical_form[1]\n",
        "    var_assignments = execute(logical_form[2], world)\n",
        "    return lambda_op(var, var_assignments)\n",
        "  elif predicate == EXISTS:\n",
        "    vars = logical_form[1:-1]\n",
        "    var_assignments = execute(logical_form[-1], world)\n",
        "    return exists_op(vars, var_assignments)\n",
        "  elif predicate == AND:\n",
        "    return and_op([\n",
        "      execute(sub_lf, world)\n",
        "      for sub_lf in logical_form[1:]\n",
        "    ])\n",
        "  else:\n",
        "    raise NotImplementedError(\"invalid predicate {}\\n{}\".format(predicate, logical_form))"
      ]
    },
    {
      "cell_type": "code",
      "execution_count": null,
      "metadata": {
        "id": "9JpGURQbX8IG"
      },
      "outputs": [],
      "source": [
        "# helper function to use when testing results from the sub-tree operations\n",
        "def are_equal(va1: VariableAssignments, va2: VariableAssignments) -> bool:\n",
        "  def canonicalize(assignments):\n",
        "    # compare sets of assignments, since ordering (and duplication) of assignments within the list does not affect meaning\n",
        "    # convert each assignment dict to a string in json format since dictionaries are unhashable\n",
        "    import json\n",
        "    return set(json.dumps(d) for d in assignments)\n",
        "  return va1.variables == va2.variables and canonicalize(va1.assignments) == canonicalize(va2.assignments)"
      ]
    },
    {
      "cell_type": "markdown",
      "metadata": {
        "id": "IUiGL5FKmajc"
      },
      "source": [
        "Complete the `lambda_op`, `exists_op`, and `and_op` sub-tree operations in the cells below. Each operation has a test cell after it with sample inputs and outputs."
      ]
    },
    {
      "cell_type": "code",
      "execution_count": null,
      "metadata": {
        "id": "fP6LrhT5U4iq"
      },
      "outputs": [],
      "source": [
        "def lambda_op(lambda_variable: str, variable_assignments: VariableAssignments) -> Set[str]:\n",
        "  # return the entities that variable takes on in variable_assignments\n",
        "  \"\"\"YOUR CODE HERE\"\"\"\n",
        "  ...\n",
        "  \n",
        "  # BEGIN SOLUTION\n",
        "  lambd = []\n",
        "  for a in variable_assignments.assignments:\n",
        "    lambd.extend(value for key, value in a.items() if key == lambda_variable)\n",
        "  return set(lambd)\n",
        "  # END SOLUTION"
      ]
    },
    {
      "cell_type": "code",
      "execution_count": null,
      "metadata": {
        "id": "6mZMhJ4cVr_v"
      },
      "outputs": [],
      "source": [
        "assert lambda_op('$y', VariableAssignments(\n",
        "    {'$x', '$y'}, \n",
        "    [{'$x': 'virginia', '$y': 'richmond'}, {'$x': 'virginia', '$y': 'charleston'}]\n",
        "  )) == {'richmond', 'charleston'}"
      ]
    },
    {
      "cell_type": "code",
      "execution_count": null,
      "metadata": {
        "id": "-XUNvm9PVh-8"
      },
      "outputs": [],
      "source": [
        "def exists_op(existentially_quantified_vars: List[str], child_assignments: VariableAssignments) -> VariableAssignments:\n",
        "  # remove the existentially-quantified variables from the assignments in variable_assignments\n",
        "  \"\"\"YOUR CODE HERE\"\"\"\n",
        "  ...\n",
        "  # BEGIN SOLUTION\n",
        "  exists = []\n",
        "  variables = []\n",
        "  for a in child_assignments.assignments:\n",
        "    exists.append({key:value for key, value in a.items() if key not in existentially_quantified_vars})\n",
        "    variables.extend(key for key, value in a.items() if key not in existentially_quantified_vars)\n",
        "  return VariableAssignments(set(variables),exists)\n",
        "  # END SOLUTION"
      ]
    },
    {
      "cell_type": "code",
      "execution_count": null,
      "metadata": {
        "id": "V1n76aJCWU3U"
      },
      "outputs": [],
      "source": [
        "exists_test_1 = exists_op(['$x'], VariableAssignments(\n",
        "    {'$x', '$y'}, [{'$x': 'virginia', '$y': 'richmond'}, {'$x': 'virginia', '$y': 'charleston'}]\n",
        "  ))\n",
        "assert are_equal(exists_test_1, VariableAssignments(\n",
        "    {'$y'}, [{'$y': 'richmond'}, {'$y': 'charleston'}]\n",
        ")), exists_test_1\n",
        "                                             \n",
        "exists_test_2 = exists_op(['$y'], VariableAssignments(\n",
        "    {'$x', '$y'}, [{'$x': 'virginia', '$y': 'richmond'}, {'$x': 'virginia', '$y': 'charleston'}]\n",
        "  ))\n",
        "assert are_equal(exists_test_2, VariableAssignments(\n",
        "    {'$x'},\n",
        "    [{'$x': 'virginia'}]\n",
        ")), exists_test_2"
      ]
    },
    {
      "cell_type": "code",
      "execution_count": null,
      "metadata": {
        "id": "QPtKal5MWRge"
      },
      "outputs": [],
      "source": [
        "def and_op(children_assignments: List[VariableAssignments]) -> VariableAssignments:\n",
        "  # join the assignments in children_assignments, to return possible assignments that satisfy all children\n",
        "  \"\"\"YOUR CODE HERE\"\"\"\n",
        "  ...\n",
        "\n",
        "  # BEGIN SOLUTION\n",
        "  variables = children_assignments[0].variables\n",
        "  all_assignments = children_assignments[0].assignments\n",
        "\n",
        "  for i in range(1,len(children_assignments)):\n",
        "    variables = variables.union(children_assignments[i].variables)\n",
        "    all_assignments = merge(all_assignments, children_assignments[i].assignments, len(variables))\n",
        "  return VariableAssignments(variables=variables, assignments=all_assignments)\n",
        "  # END SOLUTION"
      ]
    },
    {
      "cell_type": "code",
      "execution_count": null,
      "metadata": {
        "id": "IzQYlsOknKov"
      },
      "outputs": [],
      "source": [
        "def merge(ass_list1, ass_list2, n_variables):\n",
        "  all_assignments = []\n",
        "  for i in range(len(ass_list1)):\n",
        "    for j in range(len(ass_list2)):\n",
        "      ass_set = set(list(ass_list1[i].items())+list(ass_list2[j].items()))\n",
        "      if len(ass_set) == n_variables:\n",
        "        all_assignments.append(dict(ass_set))\n",
        "  return all_assignments"
      ]
    },
    {
      "cell_type": "code",
      "execution_count": null,
      "metadata": {
        "id": "UmsZOYpHWSmX"
      },
      "outputs": [],
      "source": [
        "and_test = and_op([\n",
        "  VariableAssignments({'$x', '$y'}, [{'$x': 'x1', '$y': 'y1'}, {'$x': 'x2', '$y': 'y2'}]),\n",
        "  VariableAssignments({'$z', '$y'}, [{'$z': 'z2', '$y': 'y2'}, {'$z': 'x3', '$y': 'y3'}]),                 \n",
        "])\n",
        "#assert are_equal(and_test,VariableAssignments(variables={'$x', '$y', '$z'}, assignments=[{'$x': 'x2', '$y': 'y2', '$z': 'z2'}]))"
      ]
    },
    {
      "cell_type": "markdown",
      "metadata": {
        "id": "f4H9l75ZmjD9"
      },
      "source": [
        "With correct sub-tree operation definitions, the following test cell should run without errors. It checks that the entity set denotations returned by the `execute` function match the answers in the database."
      ]
    },
    {
      "cell_type": "code",
      "execution_count": null,
      "metadata": {
        "id": "Tsh1HyWRQUwe"
      },
      "outputs": [],
      "source": [
        "for state in STATES:\n",
        "  world = geoqa.geo.read_world(state)\n",
        "  for question, answer, logical_form in zip(*geoqa.geo.read_data(state)):\n",
        "    if logical_form is None:\n",
        "      continue\n",
        "    true_denotation = world.get_denotation_from_answer(answer)\n",
        "    executed_denotation = execute(logical_form, world)\n",
        "    if true_denotation != executed_denotation:\n",
        "      print(\"execution failure!\")\n",
        "      print(\"question: {}\".format(question))\n",
        "      print(\"state: {}\".format(world))\n",
        "      print(\"logical form: {}\".format(logical_form))\n",
        "      print(\"true denotation: {}\".format(true_denotation))\n",
        "      print(\"executed denotation: {}\".format(executed_denotation))\n",
        "      raise ValueError()"
      ]
    },
    {
      "cell_type": "markdown",
      "metadata": {
        "id": "ZR22RXa8VHtf"
      },
      "source": [
        "## Parser"
      ]
    },
    {
      "cell_type": "markdown",
      "metadata": {
        "id": "VrlpUdpUg9VK"
      },
      "source": [
        "Now that we have a method to execute logical forms on the database, we'll spend the rest of this assignment constructing parsers to produce logical forms from questions. \n",
        "\n",
        "Our question-to-logical-form parser will be a neural sequence-to-sequence model that will encode the question and decode a sequence of actions to construct a logical form. We will use _constrained decoding_ to prevent the model from constructing invalid logical forms, enforcing structural constraints rather than relying on the model to learn them.\n",
        "\n",
        "To construct this parser, we first need to define a transition system: a set of actions that build up a logical form incrementally, and the effects each action has on a partially constructed logical form. This transition system will constrain the available actions that can be taken by the sequence-to-sequence model at any point in time to guarantee valid logical forms."
      ]
    },
    {
      "cell_type": "markdown",
      "metadata": {
        "id": "EInORycTgi2o"
      },
      "source": [
        "### Transition system"
      ]
    },
    {
      "cell_type": "markdown",
      "metadata": {
        "id": "K-qedMk3IVUm"
      },
      "source": [
        "We'll construct logical forms using a depth-first, left-to-right traversal of the logical form's tree structure, with actions in a post-fix notation (so a predicate comes after the arguments it takes), and a final `DONE` action after the logical form is constructed. For example, the logical form\n",
        "\n",
        "`(lambda $x (exists $w (and (state $w) (city $x) (in-rel $x $w))))`\n",
        "\n",
        "will be constructed in the traversal order:\n",
        "\n",
        "`$w state $x city $x $w in-rel and $w exists $x lambda DONE`\n",
        "\n",
        "We will basically have one action for each of the items in the order above, with one change to simplify what our model needs to learn. In this dataset, which always combines literals with a single `and`, each logical form has exactly one variable as an argument to the lambda expression, and existentially quantifies all other variables. Because of this, the actions between `and` and the `lambda` are determined by the lambda's variable argument (`$x`) and the other variables that have previously been introduced (all variables other than the lambda variable must be existentially quantified). This allows us to replace these actions with a single action, `complete_lambda_$x`. For the example above:\n",
        "\n",
        "`$w state $x city $x $w in-rel complete_lambda_$x DONE`\n",
        "\n",
        "If the question had been about the variable `$w`, we would instead use `complete_lambda_$w` so that `$w` was used with `lambda` and everything else was existentially quantified.\n",
        "\n",
        "Note that other datasets with more complex logical forms would need to generate conjunctions and quantifiers individually, rather than using these simplifying `complete_lambda_` actions."
      ]
    },
    {
      "cell_type": "markdown",
      "metadata": {
        "id": "UnBDhZ9pgvVL"
      },
      "source": [
        "### Actions"
      ]
    },
    {
      "cell_type": "markdown",
      "metadata": {
        "id": "HCFQbdAR2wrr"
      },
      "source": [
        "We'll now define the actions used by our transition system. Variables and predicates will be taken directly from the items in the logical forms. We'll define new actions for `COMPLETE_LAMBDA_*` and `DONE`:"
      ]
    },
    {
      "cell_type": "code",
      "execution_count": null,
      "metadata": {
        "colab": {
          "base_uri": "https://localhost:8080/"
        },
        "id": "KsqClVZyMRhB",
        "outputId": "54351199-eb28-4130-c03a-884d1c756165"
      },
      "outputs": [
        {
          "name": "stdout",
          "output_type": "stream",
          "text": [
            "{'COMPLETE_LAMBDA_$w': '$w', 'COMPLETE_LAMBDA_$x': '$x', 'COMPLETE_LAMBDA_$y': '$y', 'COMPLETE_LAMBDA_$z': '$z'}\n"
          ]
        },
        {
          "data": {
            "text/plain": [
              "{'$w': 'COMPLETE_LAMBDA_$w',\n",
              " '$x': 'COMPLETE_LAMBDA_$x',\n",
              " '$y': 'COMPLETE_LAMBDA_$y',\n",
              " '$z': 'COMPLETE_LAMBDA_$z'}"
            ]
          },
          "execution_count": 36,
          "metadata": {},
          "output_type": "execute_result"
        }
      ],
      "source": [
        "# mapping from complete lambda action to the lambda's variable\n",
        "COMPLETE_LAMBDA_ACTIONS_TO_VARS = {'COMPLETE_LAMBDA_{}'.format(var): var for var in VARS}\n",
        "# and reverse\n",
        "VARS_TO_COMPLETE_LAMBDA_ACTIONS = {v: k for k, v in COMPLETE_LAMBDA_ACTIONS_TO_VARS.items()}\n",
        "\n",
        "DONE_ACTION = 'DONE'\n",
        "\n",
        "print(COMPLETE_LAMBDA_ACTIONS_TO_VARS)\n",
        "VARS_TO_COMPLETE_LAMBDA_ACTIONS"
      ]
    },
    {
      "cell_type": "markdown",
      "metadata": {
        "id": "4xgGUZG43G97"
      },
      "source": [
        "Actions will be divided into three types, which will be produced differently by our model."
      ]
    },
    {
      "cell_type": "code",
      "execution_count": null,
      "metadata": {
        "id": "O3AjULiM3FLm"
      },
      "outputs": [],
      "source": [
        "STRUCTURAL_ACTIONS = VARS + sorted(COMPLETE_LAMBDA_ACTIONS_TO_VARS.keys()) + [DONE_ACTION]\n",
        "CROSS_DATABASE_PREDICATE_ACTIONS = CATS + RELS\n",
        "DATABASE_SPECIFIC_PREDICATE_ACTIONS = list(ENTITY_ACTIONS_TO_ENTITIES.keys())\n",
        "\n",
        "ACTIONS = set(STRUCTURAL_ACTIONS) | set(CROSS_DATABASE_PREDICATE_ACTIONS) | set(ENTITY_ACTIONS_TO_ENTITIES.keys())"
      ]
    },
    {
      "cell_type": "code",
      "execution_count": null,
      "metadata": {
        "colab": {
          "base_uri": "https://localhost:8080/"
        },
        "id": "yEIUQWe-M65n",
        "outputId": "75c8bca1-61e4-4aa3-a49a-a2f036584c9e"
      },
      "outputs": [
        {
          "name": "stdout",
          "output_type": "stream",
          "text": [
            "['$w', '$x', '$y', '$z', 'COMPLETE_LAMBDA_$w', 'COMPLETE_LAMBDA_$x', 'COMPLETE_LAMBDA_$y', 'COMPLETE_LAMBDA_$z', 'DONE']\n"
          ]
        }
      ],
      "source": [
        "print(STRUCTURAL_ACTIONS)"
      ]
    },
    {
      "cell_type": "code",
      "execution_count": null,
      "metadata": {
        "colab": {
          "base_uri": "https://localhost:8080/"
        },
        "id": "kMRHADEpNDOf",
        "outputId": "06de6074-5442-493d-94dc-e98402c45ce2"
      },
      "outputs": [
        {
          "name": "stdout",
          "output_type": "stream",
          "text": [
            "['city', 'state', 'park', 'island', 'beach']\n"
          ]
        }
      ],
      "source": [
        "print(CROSS_DATABASE_PREDICATE_ACTIONS[:5])"
      ]
    },
    {
      "cell_type": "code",
      "execution_count": null,
      "metadata": {
        "colab": {
          "base_uri": "https://localhost:8080/"
        },
        "id": "xMtdIkh0NFwy",
        "outputId": "e10cded3-2ded-4244-fb7c-14ebc2e325e3"
      },
      "outputs": [
        {
          "name": "stdout",
          "output_type": "stream",
          "text": [
            "['kb-florida', 'kb-tallahassee', 'kb-miami', 'kb-everglades_national_park', 'kb-key_largo']\n"
          ]
        }
      ],
      "source": [
        "print(DATABASE_SPECIFIC_PREDICATE_ACTIONS[:5])"
      ]
    },
    {
      "cell_type": "markdown",
      "metadata": {
        "id": "ndUycozNgevP"
      },
      "source": [
        "### From actions to logical forms"
      ]
    },
    {
      "cell_type": "markdown",
      "metadata": {
        "id": "0KDdWJmx6mu1"
      },
      "source": [
        "This `ParseConstraints` class will contain possible options to constrain the logical form being constructed, which will become important later when we begin searching over logical forms."
      ]
    },
    {
      "cell_type": "code",
      "execution_count": null,
      "metadata": {
        "id": "NAWHIRbZ6U5v"
      },
      "outputs": [],
      "source": [
        "ParseConstraints = namedtuple('ParseConstraints', [\n",
        "  'possible_predicates',\n",
        "  # set[str]: set of predicates to allow in this logical form\n",
        "  'max_vars',\n",
        "  # int: maximum number of distinct variables to allow in the logical form\n",
        "  #   the maximum number in the dataset is 4 (len(VARS))\n",
        "  'no_repeated_literals',\n",
        "  # bool: if True, don't allow the same literal to appear more than once\n",
        "  #   e.g. (and (state $x) (state $x)) is disallowed, but (and (state $x) (state $y)) is ok\n",
        "  'max_literals'\n",
        "  # int: disallow more than this many literals\n",
        "  #   e.g. if max_literals == 1, (and (state $x) (city $y)) is disallowed\n",
        "  #   the maximum number in the dataset is 7 (MAX_LITERALS)\n",
        "])"
      ]
    },
    {
      "cell_type": "markdown",
      "metadata": {
        "id": "D1ZkyQG3RR-q"
      },
      "source": [
        "To build up a logical form via a sequence of actions, we define a `ParserState` class several blocks below. This will represent the logical form as constructed so far and compute valid actions that can be taken to continue constructing it. The `_ParserState` class here defines the actual state variables, then you will fill in the methods in `ParserState` (without the underscore).\n",
        "\n"
      ]
    },
    {
      "cell_type": "code",
      "execution_count": null,
      "metadata": {
        "id": "8tMTiwEVVAok"
      },
      "outputs": [],
      "source": [
        "_ParserState = namedtuple('_ParserState', [\n",
        "  'variable_argument_stack',\n",
        "  # Stack[str]: variables to be put into the current literal\n",
        "  'completed_literal_stack',\n",
        "  # Stack[tuple]: all literals produced so far\n",
        "  'has_lambda',\n",
        "  # bool: whether the lambda has been generated\n",
        "  'lambda_var',\n",
        "  # str or None: the lambda's variable argument, if lambda has been generated; or None otherwise\n",
        "  'is_complete',\n",
        "  # bool: whether the DONE action has been generated\n",
        "  'all_vars_introduced',\n",
        "  # Stack[str]: variables should be appened to this each time they are used\n",
        "  'past_actions',\n",
        "  # Stack[str]: all previous actions taken\n",
        "  'parse_constraints',\n",
        "  # ParseConstraints: options to constrain the logical form being constructed\n",
        "])"
      ]
    },
    {
      "cell_type": "markdown",
      "metadata": {
        "id": "4h2y5lnKFKjn"
      },
      "source": [
        "`variable_argument_stack` contains any variables that  will be put into the literal which is currently being constructed. This is reset to empty when a literal is completed (by a predicate action). All literals, as they are completed, are added to `completed_literal_stack`. This should not be emptied at any point, as it will be used to construct the final logical form."
      ]
    },
    {
      "cell_type": "markdown",
      "metadata": {
        "id": "Q43L-UdsAcNU"
      },
      "source": [
        "For example, when generating the logical form \n",
        "\n",
        "`(lambda $x (exists $w (and (state $w) (city $x) (in-rel $x $w)))`\n",
        "\n",
        "using the action sequence\n",
        "\n",
        "`$w state $x city $x $w in-rel complete_lambda_$x DONE`,\n",
        "\n",
        "the `ParserState` will look as follows after the first `$x` action:\n",
        "```\n",
        "ParserState(\n",
        "  variable_argument_stack=['$x'],\n",
        "  completed_literal_stack=[('state', '$w')],\n",
        "  has_lambda=False,\n",
        "  lambda_var=None,\n",
        "  is_complete=False,\n",
        "  all_vars_introduced=['$w', '$x'],\n",
        "  past_actions=['$w', 'state', '$x'],\n",
        "  parse_constraints=...\n",
        ")\n",
        "```\n",
        "and as follows after the `DONE` action:\n",
        "```\n",
        "ParserState(\n",
        "  variable_argument_stack=[],\n",
        "  completed_literal_stack=[('state', '$w'), ('city', '$x'), ('in-rel', '$x', '$w')],\n",
        "  has_lambda=True,\n",
        "  lambda_var=$x,\n",
        "  is_complete=True,\n",
        "  all_vars_introduced=['$w', '$x', '$x', '$w'],\n",
        "  past_actions=['$w', 'state', '$x', 'city', '$x', '$w', 'in-rel', 'COMPLETE_LAMBDA_$x', 'DONE'],\n",
        "  parse_constraints=...\n",
        ")\n",
        "```"
      ]
    },
    {
      "cell_type": "markdown",
      "metadata": {
        "id": "F2G26yqrEy67"
      },
      "source": [
        "We'll now define a `ParserState` wrapper class with methods. Complete the `take_action` method in the `ParserState` class below.\n",
        "\n",
        "Implementation tip: `ParserState` objects are immutable, and the `take_action` method should return a new `ParserState` object, rather than attempting to update the object (this will allow `ParserState` objects to be used in beam search). The [Stack](https://github.com/dpfried/geoqa-release/blob/master/geoqa/utils.py#L7) class used in `ParserState` for `variable_argument_stack`, `completed_literal_stack`, `all_vars_introduced`, and `past_actions` is an immutable data structure that is essentially like a list, but will allow sharing some memory across multiple `ParserState`s as search is performed, for efficiency and to prevent copying. See the cell below for a demonstration:\n"
      ]
    },
    {
      "cell_type": "code",
      "execution_count": null,
      "metadata": {
        "colab": {
          "base_uri": "https://localhost:8080/"
        },
        "id": "5qyIzf0Pn9-c",
        "outputId": "070c920a-4f8f-40ad-ef6c-85322753b145"
      },
      "outputs": [
        {
          "name": "stdout",
          "output_type": "stream",
          "text": [
            "['$w']\n",
            "['$w']\n",
            "['$w', 'city']\n",
            "['$w', 'state']\n",
            "2\n"
          ]
        }
      ],
      "source": [
        "# demonstration of the Stack class used in _ParserState\n",
        "actions = Stack.empty().append('$w')\n",
        "print(actions.tolist())\n",
        "actions_plus_city = actions.append('city')\n",
        "actions_plus_state = actions.append('state')\n",
        "print(actions.tolist()) # hasn't changed\n",
        "print(actions_plus_city.tolist()) # shares '$w' with actions\n",
        "print(actions_plus_state.tolist()) # shares '$w' with actions\n",
        "print(actions_plus_city.size) # 2"
      ]
    },
    {
      "cell_type": "code",
      "execution_count": 215,
      "metadata": {
        "id": "eViX6RM4BiY7"
      },
      "outputs": [],
      "source": [
        "class ParserState(_ParserState):\n",
        "  \"\"\"\n",
        "  Wrapper class to add methods and constants to _ParserState\n",
        "  \"\"\"\n",
        "  PREDICATE_ARITIES = {}\n",
        "  for cat in CATS:\n",
        "    PREDICATE_ARITIES[cat] = 1\n",
        "  for rel in RELS:\n",
        "    PREDICATE_ARITIES[rel] = 2\n",
        "  for entity in ENTITY_ACTIONS_TO_ENTITIES.keys():\n",
        "    PREDICATE_ARITIES[entity] = 1\n",
        "\n",
        "  MAX_ARITY = max(PREDICATE_ARITIES.values())\n",
        "\n",
        "  @staticmethod\n",
        "  def initial_state(parse_constraints):\n",
        "    return ParserState(\n",
        "      variable_argument_stack=Stack.empty(),\n",
        "      completed_literal_stack=Stack.empty(),\n",
        "      has_lambda=False,\n",
        "      lambda_var=None,\n",
        "      is_complete=False,\n",
        "      all_vars_introduced=Stack.empty(),\n",
        "      past_actions=Stack.empty(),\n",
        "      parse_constraints=parse_constraints,\n",
        "    )\n",
        "\n",
        "  def take_action(self, action_symbol: str):\n",
        "    assert action_symbol in ACTIONS, \"invalid action {}\".format(action_symbol)\n",
        "    assert not self.is_complete\n",
        "\n",
        "    assert action_symbol in self.valid_actions(), \"trying to take {} but only valid actions are {}.\\npast actions: {}\".format(\n",
        "      action_symbol, self.valid_actions(), ' '.join(self.actions()))\n",
        "\n",
        "    # initialize all variables that might be updated\n",
        "    past_actions = self.past_actions\n",
        "    has_lambda = self.has_lambda\n",
        "    is_complete = self.is_complete\n",
        "    completed_literal_stack = self.completed_literal_stack\n",
        "    variable_argument_stack = self.variable_argument_stack\n",
        "    all_vars_introduced = self.all_vars_introduced\n",
        "    lambda_var = self.lambda_var\n",
        "\n",
        "    past_actions = past_actions.append(action_symbol)\n",
        "    if action_symbol in PREDICATES:\n",
        "      \"\"\"YOUR CODE HERE\"\"\"\n",
        "      ...\n",
        "      # BEGIN SOLUTION\n",
        "      if (ParserState.PREDICATE_ARITIES[action_symbol]) == 2:\n",
        "        completed_literal_stack = completed_literal_stack.append((action_symbol, variable_argument_stack[1][0], variable_argument_stack[0]))\n",
        "\n",
        "      elif (ParserState.PREDICATE_ARITIES[action_symbol]) == 1:\n",
        "        completed_literal_stack = completed_literal_stack.append((action_symbol, variable_argument_stack[0]))\n",
        "      variable_argument_stack = Stack.empty()\n",
        "\n",
        "      # END SOLUTION\n",
        "    elif action_symbol in VARS:\n",
        "      \"\"\"YOUR CODE HERE\"\"\"\n",
        "      ...\n",
        "      # BEGIN SOLUTION\n",
        "      variable_argument_stack = variable_argument_stack.append(action_symbol)\n",
        "      all_vars_introduced = all_vars_introduced.append(action_symbol)\n",
        "      # END SOLUTION\n",
        "    elif action_symbol in COMPLETE_LAMBDA_ACTIONS_TO_VARS.keys():\n",
        "      \"\"\"YOUR CODE HERE\"\"\"\n",
        "      ...\n",
        "\n",
        "      # BEGIN SOLUTION\n",
        "      lambda_var = COMPLETE_LAMBDA_ACTIONS_TO_VARS[action_symbol]\n",
        "      has_lambda = True\n",
        "      # END SOLUTION\n",
        "    elif action_symbol == DONE_ACTION:\n",
        "      \"\"\"YOUR CODE HERE\"\"\"\n",
        "      ...\n",
        "      # BEGIN SOLUTION\n",
        "      is_complete = True\n",
        "      # END SOLUTION\n",
        "    else:\n",
        "      raise ValueError(\"invalid action {}\".format(action_symbol))\n",
        "\n",
        "    return ParserState(\n",
        "      variable_argument_stack=variable_argument_stack,\n",
        "      completed_literal_stack=completed_literal_stack,\n",
        "      has_lambda=has_lambda,\n",
        "      lambda_var=lambda_var,\n",
        "      is_complete=is_complete,\n",
        "      all_vars_introduced=all_vars_introduced,\n",
        "      past_actions=past_actions,\n",
        "      parse_constraints=self.parse_constraints,\n",
        "    )\n",
        "\n",
        "  def variables_introduced(self) -> Set[str]:\n",
        "    \"\"\"\n",
        "    :return: variables that have been used in the logical form, as constructed so far\n",
        "    \"\"\"\n",
        "    variables = set(self.all_vars_introduced.tolist())\n",
        "    assert variables == set(VARS[:len(\n",
        "      variables)]), \"variables should not be introduced out of the sequential order {}, but {} were used\".format(VARS,\n",
        "                                                                                                                 vars)\n",
        "    return variables\n",
        "\n",
        "  def variables_usable(self) -> Set[str]:\n",
        "    \"\"\"\n",
        "    To reduce the set of possible logical forms, enforce that new variables are introduced in alphabetical order, e.g. $x cannot be used before $w has been used\n",
        "    Usable variables include all previously used variables and the next in alphabetical order\n",
        "    :return: set of possible next variables to use\n",
        "    \"\"\"\n",
        "    num_vars_introduced = len(self.variables_introduced())\n",
        "    return set(VARS[:min(self.parse_constraints.max_vars, num_vars_introduced + 1)])\n",
        "\n",
        "  def to_logical_form(self) -> Tuple:\n",
        "    \"\"\"\n",
        "    Convert a completed parser state to a logical form\n",
        "    :return: logical form as a tuple\n",
        "    \"\"\"\n",
        "    assert self.is_complete\n",
        "\n",
        "    # list of tuples\n",
        "    clause_literals = self.completed_literal_stack.tolist()\n",
        "\n",
        "    assert len(clause_literals) > 0\n",
        "    logical_form = (AND,) + tuple(clause_literals)\n",
        "\n",
        "    assert self.lambda_var is not None\n",
        "    vars_to_quantify = tuple(sorted(v for v in self.variables_introduced() if v != self.lambda_var))\n",
        "    if len(vars_to_quantify) > 0:\n",
        "      logical_form = (EXISTS,) + vars_to_quantify + (logical_form,)\n",
        "    logical_form = (LAMBDA, self.lambda_var, logical_form)\n",
        "\n",
        "    return logical_form\n",
        "\n",
        "  @staticmethod\n",
        "  def from_logical_form(logical_form: Tuple, parse_constraints: ParseConstraints=None):\n",
        "    \"\"\"\n",
        "    :param logical_form:\n",
        "    :param parse_constraints: used to check the logical form\n",
        "    :return:\n",
        "    \"\"\"\n",
        "    # depth-first post-fix traversal, where actions are node labels, except we\n",
        "    # (1) collapse (lambda $LAMBDA_VAR (exists $VAR1 $VAR2 to COMPLETE_LAMBDA_$LAMBDA_VAR\n",
        "    # (2) do not produce an action for the AND label\n",
        "    # (3) add a DONE_ACTION action at the end (root)\n",
        "    if parse_constraints is None:\n",
        "      parse_constraints = ParseConstraints(\n",
        "        possible_predicates=None, max_vars=len(VARS), no_repeated_literals=False,\n",
        "        max_literals=MAX_LITERALS\n",
        "      )\n",
        "\n",
        "    def _traverse(node: Union[tuple, str], state: ParserState):\n",
        "      if isinstance(node, tuple):\n",
        "        label = node[0]\n",
        "        if label == LAMBDA:\n",
        "          lambda_var = node[1]\n",
        "          assert lambda_var in VARS\n",
        "          children = node[2:]\n",
        "          assert children\n",
        "        elif label == EXISTS:\n",
        "          children = node[1:]\n",
        "          while children[0] in VARS:\n",
        "            children = children[1:]\n",
        "          assert children\n",
        "        else:\n",
        "          children = node[1:]\n",
        "      else:  # is a leaf; should be a variable\n",
        "        label = node\n",
        "        children = []\n",
        "      for child in children:\n",
        "        state = _traverse(child, state)\n",
        "      if label == LAMBDA:\n",
        "        state = state.take_action(VARS_TO_COMPLETE_LAMBDA_ACTIONS[lambda_var])\n",
        "      elif label != AND and label != EXISTS:\n",
        "        state = state.take_action(label)\n",
        "      return state\n",
        "\n",
        "    state = ParserState.initial_state(parse_constraints)\n",
        "    state = _traverse(logical_form, state)\n",
        "    state = state.take_action(DONE_ACTION)\n",
        "    assert state.is_complete\n",
        "    return state\n",
        "\n",
        "  def actions(self) -> List[str]:\n",
        "    return self.past_actions.tolist()\n",
        "\n",
        "  def valid_actions(self) -> List[str]:\n",
        "    # actions that can be taken if we've finished building the lambda expression\n",
        "    if self.is_complete:\n",
        "      return []\n",
        "    if self.has_lambda:\n",
        "      return [DONE_ACTION]\n",
        "\n",
        "    # otherwise, deal with each possible action type in turn\n",
        "    valid_actions = []\n",
        "\n",
        "    # complete the lambda expression\n",
        "    if self.variable_argument_stack.size == 0 and self.completed_literal_stack.size > 0:\n",
        "      for var in self.variables_introduced():\n",
        "        valid_actions.append(VARS_TO_COMPLETE_LAMBDA_ACTIONS[var])\n",
        "\n",
        "    # introduce a predicate, with arguments from argument_stack\n",
        "    if self.variable_argument_stack.size > 0:\n",
        "      possible_predicates = self.parse_constraints.possible_predicates\n",
        "      if possible_predicates is None:\n",
        "        possible_predicates = CATS + RELS + list(ENTITY_ACTIONS_TO_ENTITIES.keys())\n",
        "      possible_predicates = list(sorted(possible_predicates))\n",
        "\n",
        "      for predicate in possible_predicates:\n",
        "        if ParserState.PREDICATE_ARITIES[predicate] == self.variable_argument_stack.size:\n",
        "          valid_actions.append(predicate)\n",
        "\n",
        "    # add a variable to the argument stack\n",
        "    if self.variable_argument_stack.size < ParserState.MAX_ARITY and (\n",
        "        # only start a new literal if we're strictly less than the maximum\n",
        "        (self.variable_argument_stack.size == 0 and self.completed_literal_stack.size < self.parse_constraints.max_literals) or\n",
        "        # only continue an existing literal if we're no greater than the maximum\n",
        "        (self.variable_argument_stack.size > 0 and self.completed_literal_stack.size <= self.parse_constraints.max_literals)\n",
        "    ):\n",
        "      valid_actions.extend(self.variables_usable())\n",
        "\n",
        "    return valid_actions\n",
        "\n",
        "  def __repr__(self):\n",
        "    return \"\"\"ParserState(\n",
        "variable_argument_stack={},\n",
        "completed_literal_stack={},\n",
        "has_lambda={},\n",
        "lambda_var={},\n",
        "is_complete={},\n",
        "all_vars_introduced={},\n",
        "past_actions={},\n",
        "parse_constraints={},\n",
        ")\"\"\".format(*self)"
      ]
    },
    {
      "cell_type": "markdown",
      "metadata": {
        "id": "JEehJ9krW-1R"
      },
      "source": [
        "With a correct implementation of `take_action`, the following three test cells should run without errors."
      ]
    },
    {
      "cell_type": "code",
      "execution_count": null,
      "metadata": {
        "id": "RC_TXaC1A2bc"
      },
      "outputs": [],
      "source": [
        "permissive_parse_constraints = ParseConstraints(\n",
        "    possible_predicates=PREDICATES, \n",
        "    max_vars=len(VARS),\n",
        "    no_repeated_literals=False, \n",
        "    max_literals=MAX_LITERALS,\n",
        ")"
      ]
    },
    {
      "cell_type": "code",
      "execution_count": null,
      "metadata": {
        "id": "qLpbx4hYVGHF"
      },
      "outputs": [],
      "source": [
        "blank_parser_state = ParserState.initial_state(permissive_parse_constraints)\n",
        "parser_state = blank_parser_state.take_action('$w')\n",
        "assert parser_state.variable_argument_stack.tolist() == ['$w']\n",
        "parser_state = parser_state.take_action('$x')\n",
        "assert parser_state.variable_argument_stack.tolist() == ['$w', '$x']\n",
        "parser_state = parser_state.take_action('in-rel')\n",
        "assert parser_state.variable_argument_stack.tolist() == []\n",
        "assert parser_state.completed_literal_stack.tolist() == [('in-rel', '$w', '$x')]\n",
        "assert parser_state.actions() == ['$w', '$x', 'in-rel']"
      ]
    },
    {
      "cell_type": "code",
      "execution_count": null,
      "metadata": {
        "id": "Wliw4WGNUNjp"
      },
      "outputs": [],
      "source": [
        "for state in STATES:\n",
        "  world = geoqa.geo.read_world(state)\n",
        "  for question, answer, logical_form in zip(*geoqa.geo.read_data(state)):\n",
        "    if logical_form is None:\n",
        "      continue\n",
        "    parser_state = ParserState.from_logical_form(logical_form, permissive_parse_constraints)\n",
        "    round_trip_logical_form = parser_state.to_logical_form()\n",
        "    assert logical_form == round_trip_logical_form, \"\\n{} !=\\n{}\".format(logical_form, round_trip_logical_form)"
      ]
    },
    {
      "cell_type": "markdown",
      "metadata": {
        "id": "v9LIMS-ED_13"
      },
      "source": [
        "## Preprocessing"
      ]
    },
    {
      "cell_type": "markdown",
      "metadata": {
        "id": "MvyJagVtC4Wm"
      },
      "source": [
        "Next we'll define a dataset class. Since this dataset is small, and to allow evaluating on databases with entities we didn't see in training, we'll use pre-trained embeddings to represent both words and predicates in the databases. We've downloaded and pre-filtered [fasttext](https://fasttext.cc/) word embeddings trained on English Wikipedia and news, and we'll use the first 50 dimensions to keep our models small."
      ]
    },
    {
      "cell_type": "code",
      "execution_count": null,
      "metadata": {
        "id": "Ef0TLJ_6ES1G"
      },
      "outputs": [],
      "source": [
        "EMBEDDING_DIM = 50\n",
        "word_to_embedding = geoqa.utils.get_word_vectors(\n",
        "    'vecs/wiki-news-300d-1M-subword-filtered.vec', max_dim=EMBEDDING_DIM\n",
        ")"
      ]
    },
    {
      "cell_type": "code",
      "execution_count": null,
      "metadata": {
        "colab": {
          "base_uri": "https://localhost:8080/"
        },
        "id": "YWU9puj1EdOO",
        "outputId": "94e1d42a-02a9-4c9e-f899-4740b2f404d2"
      },
      "outputs": [
        {
          "data": {
            "text/plain": [
              "array([ 0.0349, -0.0109,  0.015 ,  0.0392,  0.0173,  0.0048, -0.0055,\n",
              "       -0.0322, -0.0006,  0.0285, -0.0186, -0.0159,  0.0106, -0.014 ,\n",
              "       -0.0161, -0.0116, -0.0037, -0.0122,  0.0025,  0.0176, -0.0033,\n",
              "       -0.0165, -0.0129,  0.0204,  0.0006, -0.0073, -0.0179,  0.029 ,\n",
              "        0.0154,  0.0115, -0.0019, -0.0179,  0.0169,  0.0223, -0.0021,\n",
              "        0.0126,  0.0087, -0.0016,  0.0091,  0.001 ,  0.0006, -0.0081,\n",
              "       -0.0206, -0.0103, -0.0138,  0.0247,  0.0036, -0.0016,  0.0018,\n",
              "        0.0123])"
            ]
          },
          "execution_count": 49,
          "metadata": {},
          "output_type": "execute_result"
        }
      ],
      "source": [
        "word_to_embedding['virginia']"
      ]
    },
    {
      "cell_type": "markdown",
      "metadata": {
        "id": "hFLnot81a1wb"
      },
      "source": [
        "We've defined a [`GeoDataset`](https://github.com/dpfried/geoqa-release/blob/master/geoqa/dataset.py#L16) class for you in the support code to preprocess the data (don't worry about reading the code though; we'll demonstrate it below). This class tokenizes each question, and associated with each token a list of predicates that could possibly be used in the logical form, based on string matching predicate names against the word. To constrain the search space over possible logical forms, we will only allow predicates for a given question from the union of all its tokens' predicates. That we can do this at all is a somewhat unique feature of this dataset; more complex semantic parsing problems also require learning more of the lexicon as well."
      ]
    },
    {
      "cell_type": "code",
      "execution_count": null,
      "metadata": {
        "id": "mMo7OM7tYM6g"
      },
      "outputs": [],
      "source": [
        "sample_dataset = GeoDataset(state_names=['wv', 'va'], word_to_embedding=word_to_embedding)"
      ]
    },
    {
      "cell_type": "code",
      "execution_count": null,
      "metadata": {
        "id": "96u2wHRuYQoM"
      },
      "outputs": [],
      "source": [
        "def print_instance(instance, print_tokens=False):\n",
        "  for key in ['question', 'answer', 'logical_form', 'world', 'possible_predicates', 'denotation']:\n",
        "    if key == 'logical_form':\n",
        "      rep = logical_form_to_str(instance[key])\n",
        "    else:\n",
        "      rep = instance[key]\n",
        "    print('{:<19}: {}'.format(key, rep))\n",
        "  if print_tokens:\n",
        "    print()\n",
        "    print('{:<10}: {}'.format('word', 'predicates'))\n",
        "    print('='*23)\n",
        "    for word, predicates, embedded_predicates in zip(\n",
        "      instance['words'], \n",
        "      instance['predicates_at_each_word_position'], \n",
        "      instance['embedded_predicates_at_each_word_position']\n",
        "    ):\n",
        "      print('{:<10}: {}'.format(word, ', '.join(predicates)))"
      ]
    },
    {
      "cell_type": "code",
      "execution_count": null,
      "metadata": {
        "id": "mg8r1LCvYsKj"
      },
      "outputs": [],
      "source": [
        "sample_instance = sample_dataset[30]"
      ]
    },
    {
      "cell_type": "code",
      "execution_count": null,
      "metadata": {
        "colab": {
          "base_uri": "https://localhost:8080/"
        },
        "id": "MAQ_HnvGcdCS",
        "outputId": "833425e2-a8ac-42c2-b63b-223e5fc63b07"
      },
      "outputs": [
        {
          "name": "stdout",
          "output_type": "stream",
          "text": [
            "question           : what ocean borders virginia ?\n",
            "answer             : atlantic_ocean\n",
            "logical_form       : (lambda $w (exists $x (and (ocean $w) (border-rel $w $x) (kb-virginia $x))))\n",
            "world              : <World: va with 6 entities, 6 categories, 72 relations>\n",
            "possible_predicates: ['border-rel', 'kb-atlantic_ocean', 'kb-virginia', 'kb-virginia_beach', 'kb-west_virginia', 'ocean']\n",
            "denotation         : {'atlantic_ocean'}\n",
            "\n",
            "word      : predicates\n",
            "=======================\n",
            "what      : \n",
            "ocean     : ocean, kb-atlantic_ocean\n",
            "borders   : border-rel\n",
            "virginia  : kb-virginia, kb-virginia_beach, kb-west_virginia\n",
            "?         : \n"
          ]
        }
      ],
      "source": [
        "print_instance(sample_instance, print_tokens=True)"
      ]
    },
    {
      "cell_type": "markdown",
      "metadata": {
        "id": "nue9mxkodoMi"
      },
      "source": [
        "## Model"
      ]
    },
    {
      "cell_type": "markdown",
      "metadata": {
        "id": "K7MlSw_cM7dn"
      },
      "source": [
        "In this section we'll define a neural sequence-to-sequence model that encodes a question and outputs the actions needed to produce its logical form.\n",
        "\n",
        "We will use a `_ModelState` class to wrap a `ParserState` and also contain a model's hidden state (for the sequence-to-sequence decoder) and the log probabilities of the next possible actions that can be taken from the parser state."
      ]
    },
    {
      "cell_type": "code",
      "execution_count": null,
      "metadata": {
        "id": "KpogB4kWdplD"
      },
      "outputs": [],
      "source": [
        "_ModelState = namedtuple('_ModelState', (\n",
        "  'parser_state',\n",
        "  # ParserState: the current parser state\n",
        "  'hidden_state',\n",
        "  # a tuple (h, c) of pytorch tensors\n",
        "  'action_log_probs'\n",
        "  # Dict[str, tensor]: a mapping from next possible actions (parser_state.valid_actions) to\n",
        "  # a pytorch scalar giving the log probability of that action\n",
        "))"
      ]
    },
    {
      "cell_type": "markdown",
      "metadata": {
        "id": "1pkgqpXqMmRB"
      },
      "source": [
        "The `ModelState` class will inherit from `_ModelState` and add a `take_action` method which creates a new `ModelState`, updated using a forward pass of the model and the `take_action` method of the `ParserState`.\n",
        "\n",
        "Here's a DummyModel which always produces a uniform probability distribution over all available actions:"
      ]
    },
    {
      "cell_type": "code",
      "execution_count": null,
      "metadata": {
        "id": "hmZDJftxYTs_"
      },
      "outputs": [],
      "source": [
        "class DummyModel(nn.Module):\n",
        "  # model that produces scores of zero always; use to explore logical forms\n",
        "  def __init__(self, max_vars=len(VARS), no_repeated_literals=False, max_literals=MAX_LITERALS):\n",
        "    super(DummyModel, self).__init__()\n",
        "    self.max_vars = max_vars\n",
        "    self.max_literals = max_literals\n",
        "    self.no_repeated_literals = no_repeated_literals\n",
        "\n",
        "  def forward(self, actions_to_score):\n",
        "    action_log_probs = {\n",
        "      # a scalar tensor (dimension 0)\n",
        "      action: torch.tensor(1.0/len(actions_to_score)).log()\n",
        "      for action in actions_to_score\n",
        "    }\n",
        "    hidden_state = None\n",
        "    return action_log_probs, hidden_state\n",
        "\n",
        "  def initialize_model_state(self, instance):\n",
        "    parse_constraints = ParseConstraints(\n",
        "      possible_predicates=instance['possible_predicates'],\n",
        "      max_vars=self.max_vars,\n",
        "      no_repeated_literals=self.no_repeated_literals,\n",
        "      max_literals=self.max_literals,\n",
        "    )\n",
        "    # define self as a variable so that we can reference it inside the DummyModelState class without using self;\n",
        "    model = self\n",
        "\n",
        "    class DummyModelState(_ModelState):\n",
        "      @staticmethod\n",
        "      def _create_from_parser_state(parser_state):\n",
        "        possible_actions = parser_state.valid_actions()\n",
        "        action_log_probs, hidden_state = model.forward(possible_actions)\n",
        "        return DummyModelState(parser_state, hidden_state, action_log_probs)\n",
        "\n",
        "      def take_action(self, action: str):\n",
        "        new_parser_state = self.parser_state.take_action(action)\n",
        "        return DummyModelState._create_from_parser_state(new_parser_state)\n",
        "\n",
        "    parser_state = ParserState.initial_state(parse_constraints)\n",
        "    return DummyModelState._create_from_parser_state(parser_state)"
      ]
    },
    {
      "cell_type": "markdown",
      "metadata": {
        "id": "mikRkcXLO9Z-"
      },
      "source": [
        "We can use this DummyModel to explore the space of possible (constrained) logical forms for a given instance."
      ]
    },
    {
      "cell_type": "code",
      "execution_count": null,
      "metadata": {
        "id": "Vk4g_VTwbUBC"
      },
      "outputs": [],
      "source": [
        "def greedy_search(model, instance):\n",
        "  state = model.initialize_model_state(instance)\n",
        "  log_probs = []\n",
        "  # when we disallow repeated literals, we can get to parser states with no available actions\n",
        "  # so we need to check to ensure there are scored items in `state.action_log_probs`\n",
        "  while state.action_log_probs.items() and not state.parser_state.is_complete:\n",
        "    action, log_prob = max(state.action_log_probs.items(), key=lambda tuple: tuple[1].item())\n",
        "    log_probs.append(log_prob)\n",
        "    state = state.take_action(action)\n",
        "  return state, sum(log_probs)"
      ]
    },
    {
      "cell_type": "code",
      "execution_count": null,
      "metadata": {
        "colab": {
          "base_uri": "https://localhost:8080/"
        },
        "id": "CesXN_O1PG_R",
        "outputId": "f153b65e-1a7e-4ff2-83cc-37f2c74432e9"
      },
      "outputs": [
        {
          "name": "stdout",
          "output_type": "stream",
          "text": [
            "question           : what ocean borders virginia ?\n",
            "answer             : atlantic_ocean\n",
            "logical_form       : (lambda $w (exists $x (and (ocean $w) (border-rel $w $x) (kb-virginia $x))))\n",
            "world              : <World: va with 6 entities, 6 categories, 72 relations>\n",
            "possible_predicates: ['border-rel', 'kb-atlantic_ocean', 'kb-virginia', 'kb-virginia_beach', 'kb-west_virginia', 'ocean']\n",
            "denotation         : {'atlantic_ocean'}\n",
            "\n",
            "word      : predicates\n",
            "=======================\n",
            "what      : \n",
            "ocean     : ocean, kb-atlantic_ocean\n",
            "borders   : border-rel\n",
            "virginia  : kb-virginia, kb-virginia_beach, kb-west_virginia\n",
            "?         : \n"
          ]
        }
      ],
      "source": [
        "print_instance(sample_instance, print_tokens=True)"
      ]
    },
    {
      "cell_type": "code",
      "execution_count": null,
      "metadata": {
        "colab": {
          "base_uri": "https://localhost:8080/"
        },
        "id": "-p-B4lRpPCuI",
        "outputId": "7ae0eb1a-4720-4100-86e0-6ed3071f6fbd"
      },
      "outputs": [
        {
          "name": "stdout",
          "output_type": "stream",
          "text": [
            "(lambda $w (and (kb-atlantic_ocean $w)))\n",
            "tensor(-3.0445)\n"
          ]
        }
      ],
      "source": [
        "model_state, total_log_prob = greedy_search(\n",
        "    DummyModel(max_vars=4, no_repeated_literals=False),\n",
        "    sample_instance\n",
        "    )\n",
        "print(logical_form_to_str(model_state.parser_state.to_logical_form()))\n",
        "print(total_log_prob)"
      ]
    },
    {
      "cell_type": "markdown",
      "metadata": {
        "id": "9wE_ndLLPpeH"
      },
      "source": [
        "Now, we've defined an (unbatched) beam search for you in the two cells below. Only a small number of actions will be allowed to be taken at any point in time by our transition system, so we've chosen to use dictionaries to map actions to scores:"
      ]
    },
    {
      "cell_type": "code",
      "execution_count": null,
      "metadata": {
        "id": "V6Gv1Snfq0SW"
      },
      "outputs": [],
      "source": [
        "def k_best(score_dict, k):\n",
        "  k = min(k, len(score_dict))\n",
        "  if k == 0:\n",
        "    return {}\n",
        "  actions, logits = zip(*score_dict.items())\n",
        "  logits = torch.stack(logits, dim=-1).flatten()\n",
        "  chosen_scores, indices = logits.topk(k, dim=-1)\n",
        "  indices = indices\n",
        "  return {\n",
        "    actions[index.item()]: score\n",
        "    for score, index in zip(chosen_scores, indices)\n",
        "  }"
      ]
    },
    {
      "cell_type": "code",
      "execution_count": null,
      "metadata": {
        "id": "LtciQnNlq4z4"
      },
      "outputs": [],
      "source": [
        "def beam_search(model, instance, beam_size):\n",
        "  state = model.initialize_model_state(instance)\n",
        "  completed = []\n",
        "  # each beam item will be a tuple (state, cumulative log probs)\n",
        "  beam = [(state, torch.tensor(0.0))]\n",
        "  while beam and len(completed) < beam_size:\n",
        "    successors = []\n",
        "    for state, log_prob in beam:\n",
        "      scored_successors = k_best(state.action_log_probs, beam_size)\n",
        "      for action, action_log_prob in scored_successors.items():\n",
        "        successor_log_prob = log_prob + action_log_prob\n",
        "        successors.append((successor_log_prob, state, action))\n",
        "    # when we disallow repeated literals, we can get to parser states with no available actions\n",
        "    # so we need to check to see if there are successors available\n",
        "    if not successors:\n",
        "      break\n",
        "    log_probs = torch.stack([log_prob for log_prob, _, _ in successors], dim=-1).flatten()\n",
        "    if beam_size is None:\n",
        "      indices = torch.arange(len(successors))\n",
        "    else:\n",
        "      _, indices = log_probs.topk(min(len(successors), beam_size), dim=-1)\n",
        "    new_beam = []\n",
        "    for ix in indices:\n",
        "      log_prob, prev_state, action = successors[ix.item()]\n",
        "      state = prev_state.take_action(action)\n",
        "      if state.parser_state.is_complete:\n",
        "        completed.append((state, log_prob))\n",
        "      else:\n",
        "        new_beam.append((state, log_prob))\n",
        "    beam = new_beam\n",
        "\n",
        "  completed = sorted(completed, key=lambda t: t[1].item(), reverse=True)\n",
        "  completed = completed[:beam_size]\n",
        "  return completed"
      ]
    },
    {
      "cell_type": "code",
      "execution_count": null,
      "metadata": {
        "id": "jHfwDe28Q2Jv"
      },
      "outputs": [],
      "source": [
        "def sample_search_model(model, beam_size):\n",
        "  \"\"\"\n",
        "  A convenience method for printing out beam search outputs\n",
        "  \"\"\"\n",
        "  for model_state, total_log_prob in beam_search(model, sample_instance, beam_size):\n",
        "      # with the transition system we've defined,\n",
        "      # it's possible to get into a parser state with no available actions\n",
        "      # so we need to check to ensure the parser state is complete before\n",
        "      # converting it to a logical form\n",
        "    if model_state.parser_state.is_complete:\n",
        "      logical_form = model_state.parser_state.to_logical_form()\n",
        "      print(\"{:.2f} {}\".format(total_log_prob.item(), logical_form_to_str(logical_form)))\n",
        "    else:\n",
        "      print(\"incomplete logical form\")"
      ]
    },
    {
      "cell_type": "code",
      "execution_count": null,
      "metadata": {
        "colab": {
          "base_uri": "https://localhost:8080/"
        },
        "id": "r2ShzVMuP0ia",
        "outputId": "24d58e6c-0bb9-4e98-c209-a6f42a83af6a"
      },
      "outputs": [
        {
          "name": "stdout",
          "output_type": "stream",
          "text": [
            "question           : what ocean borders virginia ?\n",
            "answer             : atlantic_ocean\n",
            "logical_form       : (lambda $w (exists $x (and (ocean $w) (border-rel $w $x) (kb-virginia $x))))\n",
            "world              : <World: va with 6 entities, 6 categories, 72 relations>\n",
            "possible_predicates: ['border-rel', 'kb-atlantic_ocean', 'kb-virginia', 'kb-virginia_beach', 'kb-west_virginia', 'ocean']\n",
            "denotation         : {'atlantic_ocean'}\n"
          ]
        }
      ],
      "source": [
        "print_instance(sample_instance)"
      ]
    },
    {
      "cell_type": "code",
      "execution_count": null,
      "metadata": {
        "colab": {
          "base_uri": "https://localhost:8080/"
        },
        "id": "OgGWNRJIP0iq",
        "outputId": "7d41ae6c-0630-4e12-9efb-4d103c8552d8"
      },
      "outputs": [
        {
          "name": "stdout",
          "output_type": "stream",
          "text": [
            "-2.48 (lambda $w (and (kb-virginia_beach $w)))\n",
            "-2.48 (lambda $w (and (kb-atlantic_ocean $w)))\n",
            "-2.48 (lambda $w (and (kb-virginia $w)))\n",
            "-2.48 (lambda $w (and (kb-west_virginia $w)))\n",
            "-2.48 (lambda $w (and (ocean $w)))\n",
            "-2.48 (lambda $w (and (border-rel $w $w)))\n",
            "-4.97 (lambda $w (and (kb-atlantic_ocean $w) (kb-virginia $w)))\n",
            "-4.97 (lambda $w (and (kb-virginia $w) (kb-west_virginia $w)))\n",
            "-4.97 (lambda $w (and (kb-virginia $w) (ocean $w)))\n",
            "-4.97 (lambda $w (and (kb-virginia $w) (kb-atlantic_ocean $w)))\n",
            "-4.97 (lambda $w (and (kb-virginia_beach $w) (ocean $w)))\n",
            "-4.97 (lambda $w (and (kb-virginia $w) (border-rel $w $w)))\n",
            "-4.97 (lambda $w (and (kb-atlantic_ocean $w) (border-rel $w $w)))\n",
            "-4.97 (lambda $w (and (border-rel $w $w) (ocean $w)))\n",
            "-4.97 (lambda $w (and (border-rel $w $w) (kb-atlantic_ocean $w)))\n",
            "-4.97 (lambda $w (and (kb-virginia_beach $w) (border-rel $w $w)))\n",
            "-4.97 (lambda $w (and (border-rel $w $w) (kb-virginia $w)))\n",
            "-4.97 (lambda $w (and (border-rel $w $w) (kb-west_virginia $w)))\n",
            "-4.97 (lambda $w (and (border-rel $w $w) (border-rel $w $w)))\n",
            "-7.45 (lambda $w (and (border-rel $w $w) (kb-virginia_beach $w) (kb-atlantic_ocean $w)))\n"
          ]
        }
      ],
      "source": [
        "sample_search_model(DummyModel(max_vars=1, no_repeated_literals=False), beam_size=20)"
      ]
    },
    {
      "cell_type": "markdown",
      "metadata": {
        "id": "BJDNkbrLv4OP"
      },
      "source": [
        "You may notice that some literals are repeated within a single logical form, e.g. `... (border-rel $w $w) (border-rel $w $w) ...` (due to randomness, you may not see this exact example in the candidates above). Since these identical literals occur inside a conjunction, they're logically redundant. Because of this, we can prevent duplicate literals to reduce the search space, without affecting the expressiveness of the logical forms.\n",
        "\n",
        "Modify the `valid_actions` function below to prevent duplicate literals, if `self.parse_constraints.no_repeated_literals` is `True`. (We've copied this function from `ParserState.valid_actions`, and will monkey-patch `ParserState` with it, so that you don't have to scroll back and forth.)"
      ]
    },
    {
      "cell_type": "code",
      "execution_count": null,
      "metadata": {
        "id": "x7oeosbqwiYh"
      },
      "outputs": [],
      "source": [
        "def valid_actions(self: ParserState) -> List[str]:\n",
        "    # actions that can be taken if we've finished building the lambda expression\n",
        "    if self.is_complete:\n",
        "      return []\n",
        "    if self.has_lambda:\n",
        "      return [DONE_ACTION]\n",
        "\n",
        "    # otherwise, deal with each possible action type in turn\n",
        "    valid_actions = []\n",
        "\n",
        "    # complete the lambda expression\n",
        "    if self.variable_argument_stack.size == 0 and self.completed_literal_stack.size > 0:\n",
        "      for var in self.variables_introduced():\n",
        "        valid_actions.append(VARS_TO_COMPLETE_LAMBDA_ACTIONS[var])\n",
        "\n",
        "    # introduce a predicate, with arguments from argument_stack\n",
        "    if self.variable_argument_stack.size > 0:\n",
        "      possible_predicates = self.parse_constraints.possible_predicates\n",
        "      if possible_predicates is None:\n",
        "        possible_predicates = CATS + RELS + list(ENTITY_ACTIONS_TO_ENTITIES.keys())\n",
        "      possible_predicates = list(sorted(possible_predicates))\n",
        "\n",
        "      #for predicate in possible_predicates:\n",
        "        #if ParserState.PREDICATE_ARITIES[predicate] == self.variable_argument_stack.size:\n",
        "          \n",
        "          # TODO: depending on your implementation, you may choose to uncomment the following line:\n",
        "          # valid_actions.append(predicate)\n",
        "\n",
        "      if self.parse_constraints.no_repeated_literals:\n",
        "        # TODO: modify this method so that no repeated literals are allowed in the logical form\n",
        "        \"\"\"YOUR CODE HERE\"\"\"\n",
        "        ...\n",
        "\n",
        "        # BEGIN SOLUTION\n",
        "        previous_predicates = [literal[0] for literal in self.completed_literal_stack]\n",
        "\n",
        "        for i,predicate in enumerate(possible_predicates):\n",
        "          if self.PREDICATE_ARITIES[predicate] == self.variable_argument_stack.size:\n",
        "            if predicate not in previous_predicates:\n",
        "              valid_actions.append(predicate)\n",
        "\n",
        "        # END SOLUTION\n",
        "\n",
        "      #valid_actions.append(predicate)\n",
        "\n",
        "    # add a variable to the argument stack\n",
        "    if self.variable_argument_stack.size < ParserState.MAX_ARITY and (\n",
        "        # only start a new literal if we're strictly less than the maximum\n",
        "        (self.variable_argument_stack.size == 0 and self.completed_literal_stack.size < self.parse_constraints.max_literals) or\n",
        "        # only continue an existing literal if we're no greater than the maximum\n",
        "        (self.variable_argument_stack.size > 0 and self.completed_literal_stack.size <= self.parse_constraints.max_literals)\n",
        "    ):\n",
        "      valid_actions.extend(self.variables_usable())\n",
        "\n",
        "    return valid_actions\n",
        "\n",
        "ParserState.valid_actions = valid_actions"
      ]
    },
    {
      "cell_type": "markdown",
      "metadata": {
        "id": "bwSQ6pIgxdiU"
      },
      "source": [
        "With a correct implementation, you should now see that literals are not repeated:"
      ]
    },
    {
      "cell_type": "code",
      "execution_count": null,
      "metadata": {
        "colab": {
          "base_uri": "https://localhost:8080/"
        },
        "id": "VzwuZQPyv31I",
        "outputId": "0c66b425-a20b-44db-baef-2442e07fe162"
      },
      "outputs": [
        {
          "name": "stdout",
          "output_type": "stream",
          "text": [
            "-2.48 (lambda $w (and (kb-virginia_beach $w)))\n",
            "-2.48 (lambda $w (and (kb-atlantic_ocean $w)))\n",
            "-2.48 (lambda $w (and (kb-virginia $w)))\n",
            "-2.48 (lambda $w (and (kb-west_virginia $w)))\n",
            "-2.48 (lambda $w (and (ocean $w)))\n",
            "-2.48 (lambda $w (and (border-rel $w $w)))\n",
            "-4.79 (lambda $w (and (kb-virginia $w) (kb-atlantic_ocean $w)))\n",
            "-4.79 (lambda $w (and (kb-atlantic_ocean $w) (kb-virginia_beach $w)))\n",
            "-4.79 (lambda $w (and (kb-virginia_beach $w) (kb-west_virginia $w)))\n",
            "-4.79 (lambda $w (and (kb-virginia $w) (kb-west_virginia $w)))\n",
            "-4.79 (lambda $w (and (ocean $w) (kb-virginia $w)))\n",
            "-4.79 (lambda $w (and (kb-virginia_beach $w) (border-rel $w $w)))\n",
            "-4.79 (lambda $w (and (kb-atlantic_ocean $w) (border-rel $w $w)))\n",
            "-4.79 (lambda $w (and (kb-virginia $w) (border-rel $w $w)))\n",
            "-4.97 (lambda $w (and (border-rel $w $w) (ocean $w)))\n",
            "-4.97 (lambda $w (and (border-rel $w $w) (kb-atlantic_ocean $w)))\n",
            "-4.97 (lambda $w (and (border-rel $w $w) (kb-virginia $w)))\n",
            "-4.97 (lambda $w (and (border-rel $w $w) (kb-virginia_beach $w)))\n",
            "-4.97 (lambda $w (and (border-rel $w $w) (kb-west_virginia $w)))\n",
            "-7.09 (lambda $w (and (kb-atlantic_ocean $w) (border-rel $w $w) (kb-west_virginia $w)))\n"
          ]
        }
      ],
      "source": [
        "sample_search_model(DummyModel(max_vars=1, no_repeated_literals=True), beam_size=20)"
      ]
    },
    {
      "cell_type": "markdown",
      "metadata": {
        "id": "LeGC1PWcI7Ea"
      },
      "source": [
        "The test cell below, which checks to ensure that there are no repeated literals, should pass."
      ]
    },
    {
      "cell_type": "code",
      "execution_count": null,
      "metadata": {
        "id": "nd4as9-8e8pt"
      },
      "outputs": [],
      "source": [
        "for model_state, score in beam_search(DummyModel(max_vars=1, no_repeated_literals=True), sample_instance, 1000):\n",
        "  completed_literals = model_state.parser_state.completed_literal_stack.tolist()\n",
        "  # check for duplicate literals\n",
        "  assert len(completed_literals) == len(set(completed_literals))"
      ]
    },
    {
      "cell_type": "markdown",
      "metadata": {
        "id": "BtjbJKN0xjB8"
      },
      "source": [
        "And the test from before of logical form -> parser state -> logical form (now using `no_repeated_literals=True`) should still pass:"
      ]
    },
    {
      "cell_type": "code",
      "execution_count": null,
      "metadata": {
        "id": "7hYyMcn_e4Jz"
      },
      "outputs": [],
      "source": [
        "no_repeats_parse_options = ParseConstraints(\n",
        "    possible_predicates=PREDICATES, \n",
        "    max_vars=len(VARS), \n",
        "    no_repeated_literals=True, \n",
        "    max_literals=MAX_LITERALS\n",
        ")\n",
        "for logical_form in logical_forms:\n",
        "  if logical_form is None:\n",
        "    continue\n",
        "  parser_state = ParserState.from_logical_form(logical_form, no_repeats_parse_options)\n",
        "  round_trip_logical_form = parser_state.to_logical_form()\n",
        "  assert logical_form == round_trip_logical_form, \"{} != {}\".format(logical_form, round_trip_logical_form)\n"
      ]
    },
    {
      "cell_type": "markdown",
      "metadata": {
        "id": "pGKvYAWxSfMj"
      },
      "source": [
        "We'll now evaluate this `DummyModel` as a very simple baseline, using [geoqa.evaluation.evaluate_predictions](https://github.com/dpfried/geoqa-release/blob/master/geoqa/evaluation.py), in the two cells below. You might be surprised at the accuracy; a few structural and lexical constraints can go a long way on this dataset, and it's also sometimes possible to get the correct denotation through an incorrect logical form (this will complicate things later on, when we learn from denotations alone). However, examining some instances will show that this baseline model has very poor performance on complex examples."
      ]
    },
    {
      "cell_type": "markdown",
      "metadata": {
        "id": "dhK6TbZAOd12"
      },
      "source": [
        "Note: some of the questions are yes/no questions (e.g. _is virginia east of west virginia_). If the denotation for a question is empty (`set()`), it should be interpreted as a \"no\" answer; if the denotation is non-empty (`{'virginia'}`) it should be interpreted as a yes. A different version of this dataset, introduced by [Andreas et al. 2016](https://arxiv.org/abs/1601.01705), adds an `any` operation to the logical forms for yes/no questions, which maps empty denotations to \"no\" and non-empty to \"yes\", but this makes training from denotations (which we'll do later on) more difficult."
      ]
    },
    {
      "cell_type": "code",
      "execution_count": null,
      "metadata": {
        "id": "RceZcr5D4Fzn"
      },
      "outputs": [],
      "source": [
        "def make_greedy_prediction_function(model):\n",
        "  # helper function to make a prediction function for evaluate_predictions for a model\n",
        "  def prediction_function(instance):\n",
        "    state, _ = greedy_search(model, instance)\n",
        "    if state.parser_state.is_complete:\n",
        "      return state.parser_state.to_logical_form()\n",
        "    else:\n",
        "      None\n",
        "  return prediction_function"
      ]
    },
    {
      "cell_type": "code",
      "execution_count": null,
      "metadata": {
        "colab": {
          "base_uri": "https://localhost:8080/"
        },
        "id": "jYhCXEm9SmxO",
        "outputId": "f9fc6850-0b4d-4616-bed3-f6433c9196e2"
      },
      "outputs": [
        {
          "name": "stdout",
          "output_type": "stream",
          "text": [
            "dev example 1\n",
            "dev question: what states are there ?\n",
            "dev true LF: (lambda $w (and (state $w)))\n",
            "dev pred LF: (lambda $w (and (state $w)))\n",
            "dev true denotation: {'north_carolina', 'west_virginia', 'virginia'}\n",
            "dev pred denotation: {'north_carolina', 'west_virginia', 'virginia'}\n",
            "dev denotation match: True\n",
            "\n",
            "dev example 6\n",
            "dev question: what is the capital of virginia ?\n",
            "dev true LF: (lambda $w (exists $x (and (capital-rel $w $x) (kb-virginia $x))))\n",
            "dev pred LF: (lambda $w (and (capital $w)))\n",
            "dev true denotation: {'richmond'}\n",
            "dev pred denotation: set()\n",
            "dev denotation match: False\n",
            "\n",
            "dev example 11\n",
            "dev question: what cities in west virginia ?\n",
            "dev true LF: (lambda $w (exists $x (and (city $w) (in-rel $w $x) (kb-west_virginia $x))))\n",
            "dev pred LF: (lambda $w (and (city $w)))\n",
            "dev true denotation: set()\n",
            "dev pred denotation: {'richmond', 'virginia_beach'}\n",
            "dev denotation match: False\n",
            "\n",
            "dev example 16\n",
            "dev question: what state is south of west virginia ?\n",
            "dev true LF: (lambda $w (exists $x (and (state $w) (south-rel $w $x) (kb-west_virginia $x))))\n",
            "dev pred LF: (lambda $w (and (kb-virginia $w)))\n",
            "dev true denotation: {'virginia'}\n",
            "dev pred denotation: {'virginia'}\n",
            "dev denotation match: True\n",
            "\n",
            "dev example 21\n",
            "dev question: what ocean borders virginia ?\n",
            "dev true LF: (lambda $w (exists $x (and (ocean $w) (border-rel $w $x) (kb-virginia $x))))\n",
            "dev pred LF: (lambda $w (and (kb-atlantic_ocean $w)))\n",
            "dev true denotation: {'atlantic_ocean'}\n",
            "dev pred denotation: {'atlantic_ocean'}\n",
            "dev denotation match: True\n",
            "\n",
            "dev example 26\n",
            "dev question: is virginia beach inside of west virginia ?\n",
            "dev true LF: (lambda $w (exists $x (and (kb-virginia_beach $w) (inside-rel $w $x) (kb-west_virginia $x))))\n",
            "dev pred LF: (lambda $w (and (beach $w)))\n",
            "dev true denotation: set()\n",
            "dev pred denotation: set()\n",
            "dev denotation match: True\n",
            "\n",
            "dev example 31\n",
            "dev question: is the atlantic ocean in west virginia ?\n",
            "dev true LF: (lambda $w (exists $x (and (kb-atlantic_ocean $w) (in-rel $w $x) (kb-west_virginia $x))))\n",
            "dev pred LF: (lambda $w (and (kb-atlantic_ocean $w)))\n",
            "dev true denotation: set()\n",
            "dev pred denotation: {'atlantic_ocean'}\n",
            "dev denotation match: False\n",
            "\n",
            "dev example 36\n",
            "dev question: what cities are in virginia ?\n",
            "dev true LF: (lambda $w (exists $x (and (city $w) (in-rel $w $x) (kb-virginia $x))))\n",
            "dev pred LF: (lambda $w (and (city $w)))\n",
            "dev true denotation: {'richmond'}\n",
            "dev pred denotation: {'richmond', 'charleston'}\n",
            "dev denotation match: False\n",
            "\n",
            "dev example 41\n",
            "dev question: is virginia east of west virginia ?\n",
            "dev true LF: (lambda $w (exists $x (and (kb-virginia $w) (east-rel $w $x) (kb-west_virginia $x))))\n",
            "dev pred LF: (lambda $w (and (kb-virginia $w)))\n",
            "dev true denotation: {'virginia'}\n",
            "dev pred denotation: {'virginia'}\n",
            "dev denotation match: True\n",
            "\n"
          ]
        },
        {
          "data": {
            "text/plain": [
              "{'dev_denotation_acc': 0.4146341463414634}"
            ]
          },
          "execution_count": 69,
          "metadata": {},
          "output_type": "execute_result"
        }
      ],
      "source": [
        "dummy_model = DummyModel(max_vars=4, no_repeated_literals=True)\n",
        "evaluate_predictions(\n",
        "  GeoDataset(DEV_STATES, word_to_embedding), 'dev', execute,\n",
        "  prediction_function=make_greedy_prediction_function(dummy_model),\n",
        "  display_predictions_frequency=5\n",
        ")"
      ]
    },
    {
      "cell_type": "markdown",
      "metadata": {
        "id": "RV7-bqimfHLs"
      },
      "source": [
        "Now we'll implement a neural model to train on the dataset. We've defined the encoder for you in the cell below, following one possible implementation for the encoder from project 2. The dataset is small enough that batching and using a GPU are unnecessary, so we will leave them out for simplicity."
      ]
    },
    {
      "cell_type": "code",
      "execution_count": null,
      "metadata": {
        "id": "W4EhpM-nQaXa"
      },
      "outputs": [],
      "source": [
        "class Encoder(nn.Module):\n",
        "  def __init__(self, hidden_dim, word_vector_dim, dropout):\n",
        "    # word_vectors: vocab_size x dim\n",
        "    super(Encoder, self).__init__()\n",
        "    self.hidden_dim = hidden_dim\n",
        "    self.word_vector_dim = word_vector_dim\n",
        "    self.dropout = nn.Dropout(dropout)\n",
        "    self.lstm = nn.LSTM(self.word_vector_dim, hidden_dim,\n",
        "                        bidirectional=True, batch_first=True)\n",
        "\n",
        "  def forward(self, embedded_sentence):\n",
        "    # embedded_sentence: T x word_vector_dim\n",
        "    lstm_out, (h_n, c_n) = self.lstm(embedded_sentence.unsqueeze(0))\n",
        "\n",
        "    # eliminate batch dimension\n",
        "    h_n = h_n.squeeze(0)\n",
        "    c_n = c_n.squeeze(0)\n",
        "\n",
        "    # n_layers x directions x T\n",
        "    h_n = h_n.view(1, 2, -1).mean(1)\n",
        "    c_n = c_n.view(1, 2, -1).mean(1)\n",
        "\n",
        "    # eliminate batch dimension\n",
        "    lstm_out = lstm_out.squeeze(0)\n",
        "    return self.dropout(lstm_out), (h_n, c_n)\n"
      ]
    },
    {
      "cell_type": "markdown",
      "metadata": {
        "id": "rhgBh1oQNeaw"
      },
      "source": [
        "Before building the decoder, we'll define some helper functions to work with probability distributions over actions in log space."
      ]
    },
    {
      "cell_type": "code",
      "execution_count": null,
      "metadata": {
        "id": "iqY4QGRy4KDe"
      },
      "outputs": [],
      "source": [
        "# helper functions to deal with probabilities in log space\n",
        "def sum_log_probs(log_probs):\n",
        "  # log_probs: List[tensor]\n",
        "  # compute \\log \\sum_x \\exp x\n",
        "  return torch.logsumexp(torch.stack(\n",
        "    list(log_probs), dim=-1\n",
        "  ), -1)\n",
        "\n",
        "def renormalize_log_prob_dict(log_prob_dict):\n",
        "  # log_prob_dict: Dict[str, tensor]\n",
        "  # rescale the log probs so that when exponentiated, they sum to 1\n",
        "  if not log_prob_dict:\n",
        "    return log_prob_dict\n",
        "  Z = sum_log_probs(log_prob_dict.values())\n",
        "  return {k: v - Z for k, v in log_prob_dict.items()}\n",
        "\n",
        "def filter_log_prob_dict(log_prob_dict, valid_actions):\n",
        "  return {\n",
        "    k: v for k, v in log_prob_dict.items()\n",
        "    if k in valid_actions\n",
        "  }\n",
        "\n",
        "def is_normalized(log_prob_dict):\n",
        "  # log_prob_dict: Dict[str, tensor]\n",
        "  # check that this dictionary is normalized in log space\n",
        "  # e.g. as returned by renormalize_log_prob_dict\n",
        "  if not log_prob_dict:\n",
        "    return True\n",
        "  return torch.allclose(\n",
        "    sum_log_probs(log_prob_dict.values()).exp(),\n",
        "    torch.tensor(1.0),\n",
        "    atol=1e-3\n",
        "  )"
      ]
    },
    {
      "cell_type": "code",
      "execution_count": null,
      "metadata": {
        "colab": {
          "base_uri": "https://localhost:8080/"
        },
        "id": "2kn4DOU2VCng",
        "outputId": "c40f8c65-1471-4417-ef75-2b41614e1b3e"
      },
      "outputs": [
        {
          "data": {
            "text/plain": [
              "VariableAssignments(variables={'$x', '$y', '$z', '$w'}, assignments=[])"
            ]
          },
          "execution_count": 72,
          "metadata": {},
          "output_type": "execute_result"
        }
      ],
      "source": [
        "and_op([\n",
        "VariableAssignments({'$x', '$y'}, [{'$x' : 'x1', '$y': 'y2'}]), # => child1\n",
        "VariableAssignments({'$x'}, [{'$x' : 'x2'}, {'$x' : 'x3'}]), # => child2\n",
        "VariableAssignments({'$z', '$y'}, [{'$z' : 'z1', '$y' : 'y2'}]), # => child3\n",
        "VariableAssignments({'$w'}, [{'$w' : 'w1'}])]) # => child4\n"
      ]
    },
    {
      "cell_type": "markdown",
      "metadata": {
        "id": "ojwfaXywfRLm"
      },
      "source": [
        "You'll now define part of the Decoder. You'll implement an attention-based pointer-generator model (based roughly on section 3.2 of [Jia and Liang 2016](https://arxiv.org/pdf/1606.03622.pdf) and section 2.2 of [See et al. 2017](https://arxiv.org/pdf/1704.04368.pdf)), which is useful for sequence-to-sequence tasks where parts of the output are copied from the input (in our case, predicates will be copied from the tokens they are associated with). \n",
        "\n",
        "Actions can be produced either through a `generate` action (given by predicting them from a standard projection layer, similar to the vocab prediction in the previous assignments) or a `copy` action: \"pointing\" to them in the set of predicates associated with each token in the question, using an attention mechanism. \n",
        "\n",
        "An action is produced by marginalizing over a binary choice to `copy` or `generate`, with $p(copy) = 1 - p(generate)$:\n",
        "\n",
        "$p(action) = p(action | generate) * p(generate) + p(action | copy) * p(copy)$\n",
        "\n",
        "`STRUCTURAL_ACTIONS` can only be produced by generating. `DATABASE_SPECIFIC_PREDICATE_ACTIONS` can only be produced by copying (since all of these will be unseen when evaluating on a new database). `CROSS_DATABASE_PREDICATE_ACTIONS` can be produced either by generating or copying.\n",
        "\n",
        "\n",
        "You'll implement this in the `forward()` method of `Decoder`, computing $p(action)$ for each action in `actions_to_score` by combining the probabilities as above. Below are details about the generation mechanism (which we've implemented) and copy mechanism (which you'll implement).\n",
        "\n",
        "__Generation mechanism__\n",
        "\n",
        "$p(action | generate)$ is produced using a standard projection layer similar to the vocab prediction in the previous assignments, assigning scores to actions in `STRUCTURAL_ACTIONS` + `CROSS_DATABASE_PREDICATE_ACTIONS`. We've implemented this for you, in `_generate_log_probs()`.\n",
        "\n",
        "__Copy mechanism__\n",
        "\n",
        "Actions for predicates that are associated with words in the sentence can be produced by \"pointing\" to them with an attention mechanism. We will reuse the decoder's attention mechanism, masked and renormalized to only be over those tokens that have associated predicates, to give a distribution $p(position | copy)$. A given predicate can appear with multiple tokens, so marginalize over the positions in the sentence:\n",
        "\n",
        "$p(action | copy) = \\sum_{position} p(action | position, copy) p(position | copy)$\n",
        "\n",
        "A given position can have zero, one, or multiple predicates associated with it (e.g. the token \"ocean\" can have both the `ocean` or the `kb-atlantic_ocean` predicates associated with it); produce a distribution over the predicates at each position using a softmax of the dot product between a `predicate_key` vector (a projection of the decoder state, which we've computed for you) and the pretrained embedding for the action's predicate:\n",
        "\n",
        "$p(action | position, copy) = softmax(\\texttt{predicate_embedding}^\\top \\texttt{predicate_key})$\n",
        "\n",
        "You'll implement this in the `.copy_log_probs()` method in `Decoder` below."
      ]
    },
    {
      "cell_type": "markdown",
      "metadata": {
        "id": "uUuvdfF1OTz4"
      },
      "source": [
        "Fill in the `._copy_log_probs()` and `.forward()` methods in the `Decoder` class below.\n",
        "\n",
        "__Implementation tip__: Do probability calculations in log space: `p*q` can be computed using `+` when values are represented as log probabilities. In the same way, the `torch.logsumexp` function computes the sum `p+q` when `p` and `q` (and the returned value) are represented as log probabilities."
      ]
    },
    {
      "cell_type": "code",
      "execution_count": null,
      "metadata": {
        "id": "feAB09qGQv_U"
      },
      "outputs": [],
      "source": [
        "import collections\n",
        "class Decoder(nn.Module):\n",
        "  START_ACTION = \"<START>\"\n",
        "  DATABASE_SPECIFIC_ACTION = \"<KB_ENTITY>\"\n",
        "\n",
        "  def __init__(self, hidden_dim, action_embedding_dim, input_action_vec_dim, dropout):\n",
        "    super(Decoder, self).__init__()\n",
        "    self.hidden_dim = hidden_dim\n",
        "    self.action_embedding_dim = action_embedding_dim\n",
        "    self.input_action_vec_dim = input_action_vec_dim\n",
        "\n",
        "    self.action_index = Index()\n",
        "    generable_indices = []\n",
        "    for action in STRUCTURAL_ACTIONS:\n",
        "      generable_indices.append(self.action_index.index(action))\n",
        "    for action in CROSS_DATABASE_PREDICATE_ACTIONS:\n",
        "      generable_indices.append(self.action_index.index(action))\n",
        "    self.generable_indices = generable_indices\n",
        "    self.START_INDEX = self.action_index.index(Decoder.START_ACTION)\n",
        "    self.DATABASE_SPECIFIC_ACTION_INDEX = self.action_index.index(Decoder.DATABASE_SPECIFIC_ACTION)\n",
        "    self.action_index.frozen = True\n",
        "\n",
        "    self.action_embeddings = nn.Embedding(self.action_index.size(), self.action_embedding_dim)\n",
        "\n",
        "    self.dropout = nn.Dropout(dropout)\n",
        "    self.lstm_cell = nn.LSTMCell(self.action_embedding_dim, self.hidden_dim)\n",
        "\n",
        "    self.action_scoring_layer = nn.Linear(hidden_dim, self.input_action_vec_dim)\n",
        "\n",
        "    self.encoder_projection = nn.Linear(hidden_dim * 2, hidden_dim)\n",
        "    self.copy_or_generate_layer = nn.Linear(hidden_dim, 2)\n",
        "    self.generate_layer = nn.Linear(hidden_dim, len(generable_indices))\n",
        "\n",
        "  def _pre_prediction(self, encoder_output, last_action, last_hidden):\n",
        "    if last_action in self.action_index:\n",
        "      action_index = self.action_index.index(last_action)\n",
        "    elif last_action is None:\n",
        "      action_index = self.START_INDEX\n",
        "    else:\n",
        "      action_index = self.DATABASE_SPECIFIC_ACTION_INDEX\n",
        "\n",
        "    embedded_action = self.action_embeddings(torch.LongTensor([action_index]))\n",
        "    h, c = self.lstm_cell(embedded_action, last_hidden)\n",
        "    hidden_state = (h, c)\n",
        "    decoder_out = h.squeeze(0)\n",
        "    decoder_out = self.dropout(decoder_out)\n",
        "\n",
        "    encoder_output_projected = self.encoder_projection(encoder_output)\n",
        "\n",
        "    attention_logits = torch.einsum(\"th,h->t\", [encoder_output_projected, decoder_out])\n",
        "    attention_dist = torch.softmax(attention_logits, dim=-1)\n",
        "    pooled_inputs = torch.einsum(\"th,t->h\", [encoder_output_projected, attention_dist])\n",
        "\n",
        "    output_with_attention = decoder_out + pooled_inputs\n",
        "\n",
        "    return hidden_state, output_with_attention, attention_logits\n",
        "\n",
        "  def _position_attention(self, predicates_at_each_word_position, attention_logits):\n",
        "    positions_without_actions = [ix for ix, l in enumerate(predicates_at_each_word_position) if not l]\n",
        "    position_attention_logits = attention_logits.clone()\n",
        "    position_attention_logits[positions_without_actions] = BIG_NEG\n",
        "    if len(positions_without_actions) == len(predicates_at_each_word_position):\n",
        "      raise ValueError('no valid positions with predicates to copy to')\n",
        "    return torch.log_softmax(position_attention_logits, dim=-1)\n",
        "\n",
        "  def _generate_log_probs(self, actions_to_score, output_with_attention):\n",
        "    # return log p(action | generate) for actions in actions_to_score,\n",
        "    # as a dictionary mapping actions to torch scalars\n",
        "    # log probabilities will be normalized over all generable actions; *NOT* over just actions_to_score\n",
        "    # (renormalization will happen at the end of forward(), after all marginalizations are complete)\n",
        "    logits = self.generate_layer(output_with_attention)\n",
        "    log_probs = torch.log_softmax(logits, dim=-1)\n",
        "    return {\n",
        "      action: log_probs[self.action_index.index(action)]\n",
        "      for action in actions_to_score\n",
        "      if action in self.action_index\n",
        "    }\n",
        "\n",
        "  def _copy_log_probs(self,\n",
        "                         predicate_key,\n",
        "                         predicates_at_each_word_position,\n",
        "                         embedded_predicates_at_each_word_position,\n",
        "                         position_attention_log_probs,\n",
        "                         copyable_actions):\n",
        "    \"\"\"\n",
        "\n",
        "    :param predicate_key:\n",
        "      tensor of size (embedded_predicate_dim,)\n",
        "    :param predicates_at_each_word_position:\n",
        "      List[List[str]], containing the list of predicates associated with each position in the sentence\n",
        "    :param embedded_predicates_at_each_word_position:\n",
        "      List[tensor], containing the predicate embeddings associated with each position in the sentence.\n",
        "      embedded_predicates_at_each_word_position[i].size() == len(predicates_at_each_word_position[i]), embedding_dim\n",
        "    :param position_attention_log_probs:\n",
        "      tensor of size (len(sentence)), containing log p(position | copy)\n",
        "    :param copyable_actions:\n",
        "      Set[str], containing all predicates that can be copied to in this sentence\n",
        "    :return:\n",
        "      log p(action | copy) for actions in copyable_actions,\n",
        "      as a dictionary mapping actions to torch scalars\n",
        "      this dictionary should be normalized (in log space), over all copyable actions\n",
        "      Implementation tip: you shouldn't have to normalize this yourself, it should happen \n",
        "      by construction\n",
        "    \"\"\"\n",
        "\n",
        "    \"\"\"YOUR CODE HERE\n",
        "    Then for each action in copyable_action you get the index that corresponds to the action at each position and get the associated probability from the array. \n",
        "    If at any position the action isn't possible, just use BIG_NEG instead the probability (this a big negative corresponds to probability of 0 in the log space).\n",
        "    \"\"\"\n",
        "\n",
        "    ...\n",
        "\n",
        "    # BEGIN SOLUTION\n",
        "    p_action_pc = []\n",
        "    for each in embedded_predicates_at_each_word_position:\n",
        "      p_action_pc.append(torch.log_softmax(torch.matmul(each,predicate_key), dim =0))\n",
        "\n",
        "    p_action_copy = {}\n",
        "\n",
        "    for action in copyable_actions:\n",
        "      pos_log_probs = []\n",
        "      for pos,pred in enumerate(predicates_at_each_word_position):\n",
        "        action_pc_probs = p_action_pc[pos][pred.index(action)] if action in pred else BIG_NEG \n",
        "        pos_log_probs.append(action_pc_probs + position_attention_log_probs[pos]) #𝑝(𝑎𝑐𝑡𝑖𝑜𝑛|𝑐𝑜𝑝𝑦)=∑𝑝𝑜𝑠𝑖𝑡𝑖𝑜𝑛𝑝(𝑎𝑐𝑡𝑖𝑜𝑛|𝑝𝑜𝑠𝑖𝑡𝑖𝑜𝑛,𝑐𝑜𝑝𝑦)𝑝(𝑝𝑜𝑠𝑖𝑡𝑖𝑜𝑛|𝑐𝑜𝑝𝑦)\n",
        "      p_action_copy[action] = sum_log_probs(pos_log_probs)\n",
        "    \n",
        "    return p_action_copy\n",
        "\n",
        "\n",
        "    # END SOLUTION\n",
        "\n",
        "  def forward(self,\n",
        "              encoder_output,\n",
        "              predicates_at_each_word_position,  # [[action, vector]]\n",
        "              embedded_predicates_at_each_word_position,\n",
        "              last_action,\n",
        "              last_hidden_state,\n",
        "              actions_to_score):\n",
        "    \"\"\"\n",
        "    :return:\n",
        "      * action_log_probs: a Dict[str, tensor], mapping each action in actions_to_score to a scalar tensor, giving the action's log probability\n",
        "      * hidden_state: (h, c), decoder's updated hidden state after taking last_action\n",
        "    \"\"\"\n",
        "    T, hidden_dim = encoder_output.size()\n",
        "\n",
        "    # hidden_state: (h, c), each a tensor of size (hidden_dim,)\n",
        "    # output_with_attention: tensor of size (hidden_dim,)\n",
        "    # attention_logits: tensor of size (T,)\n",
        "    hidden_state, output_with_attention, attention_logits = self._pre_prediction(\n",
        "      encoder_output, last_action, last_hidden_state\n",
        "    )\n",
        "\n",
        "    all_predicates = set([p for ps in predicates_at_each_word_position for p in ps])\n",
        "    #\n",
        "\n",
        "    # copy_lp and generate_lp are each scalar tensors, giving log p(copy) and log p(generate)\n",
        "    copy_lp, generate_lp = torch.log_softmax(self.copy_or_generate_layer(output_with_attention), dim=-1)\n",
        "\n",
        "    # generate_action_log_probs. log p(action | generate), for generable actions in actions_to_score\n",
        "    # a Dict[str, tensor], mapping each action in actions_to_score to a scalar tensor, giving the action's log probability\n",
        "    generate_action_log_probs = self._generate_log_probs(actions_to_score, output_with_attention)\n",
        "\n",
        "    # position_attention_log_probs: tensor of size (T,) giving log p(position | copy)\n",
        "    position_attention_log_probs = self._position_attention(predicates_at_each_word_position, attention_logits)\n",
        "\n",
        "    # compute log p(action | copy) for actions in all_predicates (the copyable actions)\n",
        "    # a Dict[str, tensor], mapping each action in all_predicates to a scalar tensor, giving the action's log probability\n",
        "    copy_action_log_probs = self._copy_log_probs(\n",
        "      self.action_scoring_layer(output_with_attention),\n",
        "      predicates_at_each_word_position,\n",
        "      embedded_predicates_at_each_word_position,\n",
        "      position_attention_log_probs,\n",
        "      all_predicates\n",
        "    )\n",
        "    if copy_action_log_probs:\n",
        "      assert is_normalized(copy_action_log_probs)\n",
        "    # now, filter this down to only those actions we want to score\n",
        "    copy_action_log_probs = filter_log_prob_dict(copy_action_log_probs, actions_to_score)\n",
        "\n",
        "    # compute the probability of each action, p(action) as:\n",
        "    # p(action) = p(action | generate) * p(generate) + p(action | copy) * p(copy)\n",
        "    # p(position | copy) is given by position_attention_log_probs (a tensor)\n",
        "    # p(action | generate) and p(action | copy) are given by generate_action_log_probs and copy_action_log_probs (dictionaries), above\n",
        "\n",
        "    \"\"\"YOUR CODE HERE\"\"\"\n",
        "    ...\n",
        "\n",
        "    # BEGIN SOLUTION\n",
        "\n",
        "    action_log_probs = {}\n",
        "    for a in actions_to_score:\n",
        "      copy_action = copy_action_log_probs[a] if a in copy_action_log_probs else BIG_NEG\n",
        "      generate_action = generate_action_log_probs[a] if a in generate_action_log_probs else BIG_NEG\n",
        "      action_log_probs[a] = sum_log_probs([(generate_action + generate_lp)]+[(copy_action + copy_lp)])\n",
        "    # END SOLUTION\n",
        "\n",
        "    assert all(a in action_log_probs for a in actions_to_score)\n",
        "    # since this contains only a subset of actions, renormalize (in log-space)\n",
        "    filtered = renormalize_log_prob_dict(\n",
        "      filter_log_prob_dict(action_log_probs, valid_actions=actions_to_score)\n",
        "    )\n",
        "    for v in filtered.values():\n",
        "      assert v > -1e8\n",
        "    return filtered, hidden_state"
      ]
    },
    {
      "cell_type": "markdown",
      "metadata": {
        "id": "Wnm44g0Aesip"
      },
      "source": [
        "The cell below defines a `Model` class using this `Encoder` and `Decoder`, with the same interface we used in `DummyModel`. We've hardcoded some hyperparameters for size and dropout that we found to work well."
      ]
    },
    {
      "cell_type": "markdown",
      "metadata": {
        "id": "suT3ngmM9Anu"
      },
      "source": [
        "##Model"
      ]
    },
    {
      "cell_type": "code",
      "execution_count": null,
      "metadata": {
        "id": "P6l5ZlBT9AUQ"
      },
      "outputs": [],
      "source": [
        ""
      ]
    },
    {
      "cell_type": "code",
      "execution_count": null,
      "metadata": {
        "id": "NnvpPyELQ1IT"
      },
      "outputs": [],
      "source": [
        "class Model(nn.Module):\n",
        "  def __init__(self, max_vars=len(VARS), no_repeated_literals=True, max_literals=MAX_LITERALS):\n",
        "    super(Model, self).__init__()\n",
        "    self.max_vars = max_vars\n",
        "    self.max_literals = max_literals\n",
        "    self.no_repeated_literals = no_repeated_literals\n",
        "\n",
        "    self.hidden_dim = 50\n",
        "    self.action_embedding_dim = 50\n",
        "    self.dropout = 0.2\n",
        "\n",
        "    self.encoder = Encoder(self.hidden_dim, EMBEDDING_DIM, self.dropout)\n",
        "    self.decoder = Decoder(self.hidden_dim, self.action_embedding_dim, EMBEDDING_DIM, self.dropout)\n",
        "    self.max_vars = max_vars\n",
        "\n",
        "  def initialize_model_state(self, instance):\n",
        "    parse_constraints = ParseConstraints(\n",
        "      possible_predicates=instance['possible_predicates'],\n",
        "      max_vars=self.max_vars,\n",
        "      no_repeated_literals=self.no_repeated_literals,\n",
        "      max_literals=self.max_literals,\n",
        "    )\n",
        "    parser_state = ParserState.initial_state(parse_constraints)\n",
        "\n",
        "    encoder_output, encoder_hidden = self.encoder(instance['embedded_words'])\n",
        "\n",
        "    # define a decoder variable so that we can reference it inside the ModelState class without using self;\n",
        "    decoder = self.decoder\n",
        "\n",
        "    # embed this class so that we don't have to reencode the input every time we take an action\n",
        "    class ModelState(_ModelState):\n",
        "      @staticmethod\n",
        "      def _create_from_hidden_and_action(last_hidden_state, last_action, parser_state: ParserState):\n",
        "        possible_actions = parser_state.valid_actions()\n",
        "        action_log_probs, hidden = decoder(\n",
        "          encoder_output,\n",
        "          instance['predicates_at_each_word_position'],\n",
        "          instance['embedded_predicates_at_each_word_position'],\n",
        "          last_action,\n",
        "          last_hidden_state,\n",
        "          actions_to_score=possible_actions\n",
        "        )\n",
        "        return ModelState(parser_state, hidden, action_log_probs)\n",
        "\n",
        "      def take_action(self, action: str):\n",
        "        parser_state = self.parser_state.take_action(action)\n",
        "        return ModelState._create_from_hidden_and_action(self.hidden_state, action, parser_state)\n",
        "\n",
        "    # the decoder expects None to start the action sequence\n",
        "    last_action = None\n",
        "    return ModelState._create_from_hidden_and_action(encoder_hidden, last_action, parser_state)"
      ]
    },
    {
      "cell_type": "markdown",
      "metadata": {
        "id": "RjB3AKvAdsK4"
      },
      "source": [
        "## Supervised Training"
      ]
    },
    {
      "cell_type": "markdown",
      "metadata": {
        "id": "mLcB77Tw7gdL"
      },
      "source": [
        "We'll first assume a supervised setting, where logical forms are provided for each question and used to directly supervise the model outputs. Later on, we'll relax this assumption and train from questions and denotations (answers) alone, using latent logical forms. In the two cells below, we've provided training code that will use the model and parser states you've defined."
      ]
    },
    {
      "cell_type": "code",
      "execution_count": null,
      "metadata": {
        "id": "bK74FVyS5VVl"
      },
      "outputs": [],
      "source": [
        "def make_beam_prediction_function(model, beam_size=5):\n",
        "  # helper function to make a prediction function for evaluate_predictions for a model\n",
        "  def prediction_function(instance):\n",
        "    candidates = beam_search(model, instance, beam_size)\n",
        "    if not candidates:\n",
        "      return None\n",
        "    state, _ = candidates[0]\n",
        "    if state.parser_state.is_complete:\n",
        "      return state.parser_state.to_logical_form()\n",
        "    else:\n",
        "      return None\n",
        "  return prediction_function"
      ]
    },
    {
      "cell_type": "code",
      "execution_count": null,
      "metadata": {
        "id": "mfFusJ0SrftT"
      },
      "outputs": [],
      "source": [
        "def train(model, train_dataset, dev_dataset, model_file, num_epochs=10, latent_logical_forms=False,\n",
        "          training_beam_size=None, learning_rate=1e-3, display_predictions_frequency=None):\n",
        "  optimizer = torch.optim.Adam(model.parameters(), lr=learning_rate)\n",
        "  stats_by_epoch = {}\n",
        "\n",
        "  train_dataloader = DataLoader(train_dataset, shuffle=True, batch_size=1, collate_fn=lambda x: x)\n",
        "\n",
        "  if latent_logical_forms:\n",
        "    assert training_beam_size is not None\n",
        "\n",
        "  if not latent_logical_forms:\n",
        "    loss_function_for_eval = lambda instance: supervised_loss(model, instance).item()\n",
        "  else:\n",
        "    loss_function_for_eval = None\n",
        "\n",
        "  prediction_function = make_beam_prediction_function(model, 5)\n",
        "\n",
        "  best_metric = 0.0\n",
        "  for epoch in tqdm.notebook.trange(num_epochs, desc=\"training\", unit=\"epoch\"):\n",
        "    with tqdm.notebook.tqdm(\n",
        "        train_dataloader,\n",
        "        desc=\"epoch {}\".format(epoch + 1),\n",
        "        unit=\"instance\",\n",
        "        total=len(train_dataloader)\n",
        "    ) as batch_iterator:\n",
        "      model.train()\n",
        "\n",
        "      total_num_correct_lfs = 0\n",
        "      total_num_lfs = 0\n",
        "\n",
        "      total_loss = 0.0\n",
        "\n",
        "      for i, batch in enumerate(batch_iterator, start=1):\n",
        "        assert len(batch) == 1\n",
        "        instance = batch[0]\n",
        "\n",
        "        optimizer.zero_grad()\n",
        "        if latent_logical_forms:\n",
        "          loss, num_correct_lfs, num_lfs = latent_loss(model, instance, training_beam_size)\n",
        "          total_num_lfs += num_lfs\n",
        "          total_num_correct_lfs += num_correct_lfs\n",
        "          batch_iterator.set_postfix(\n",
        "            train_correct_candidates_per_instance=total_num_correct_lfs/total_num_lfs*training_beam_size,\n",
        "            train_loss=total_loss / i\n",
        "          )\n",
        "        else:\n",
        "          loss = supervised_loss(model, instance)\n",
        "        total_loss += loss.item()\n",
        "        loss.backward()\n",
        "        optimizer.step()\n",
        "      model.eval()\n",
        "      train_stats = evaluate_predictions(\n",
        "        train_dataset, 'train', execute,\n",
        "        prediction_function=prediction_function,\n",
        "        loss_function=loss_function_for_eval,\n",
        "        display_predictions_frequency=display_predictions_frequency\n",
        "      )\n",
        "      dev_stats = evaluate_predictions(\n",
        "        dev_dataset, 'dev', execute,\n",
        "        prediction_function=prediction_function,\n",
        "        loss_function=loss_function_for_eval,\n",
        "        display_predictions_frequency=display_predictions_frequency\n",
        "      )\n",
        "      dev_metric = dev_stats['dev_denotation_acc']\n",
        "      batch_iterator.set_postfix({'train_loss': (total_loss / len(batch_iterator)), **train_stats, **dev_stats})\n",
        "      if dev_metric > best_metric:\n",
        "        best_epoch = epoch\n",
        "        print(\"Obtained a new best development accuracy of {:.3f}, saving model \"\n",
        "              \"checkpoint to {}...\".format(dev_metric, model_file))\n",
        "        torch.save(model.state_dict(), model_file)\n",
        "        best_metric = dev_metric\n",
        "      stats_by_epoch[epoch] = dev_stats\n",
        "  print(\"Maximal development accuracy of {:.3f}\".format(best_metric))\n",
        "  print(\"Reloading best model checkpoint from {}...\".format(model_file))\n",
        "  model.load_state_dict(torch.load(model_file))"
      ]
    },
    {
      "cell_type": "markdown",
      "metadata": {
        "id": "2fSEWWcJ-anP"
      },
      "source": [
        "The supervised loss takes each action in the traversal of the correct logical form, collecting the log probabilities of these actions along the way."
      ]
    },
    {
      "cell_type": "code",
      "execution_count": null,
      "metadata": {
        "id": "vQNOj1qFRMg5"
      },
      "outputs": [],
      "source": [
        "def supervised_loss(model, instance):\n",
        "  state = model.initialize_model_state(instance)\n",
        "  gold_actions = ParserState.from_logical_form(instance['logical_form']).actions()\n",
        "\n",
        "  loss = torch.tensor(0.0)\n",
        "  for action in gold_actions:\n",
        "    loss += -1.0 * state.action_log_probs[action]\n",
        "    state = state.take_action(action)\n",
        "\n",
        "  return loss"
      ]
    },
    {
      "cell_type": "code",
      "execution_count": null,
      "metadata": {
        "colab": {
          "base_uri": "https://localhost:8080/"
        },
        "id": "EIk7BsGnsAEs",
        "outputId": "8007f4f8-1de2-4032-8b95-ac095e12350a"
      },
      "outputs": [
        {
          "name": "stdout",
          "output_type": "stream",
          "text": [
            "133 train instances\n",
            "41 dev instances\n",
            "51 test instances\n"
          ]
        }
      ],
      "source": [
        "train_dataset = GeoDataset(TRAIN_STATES, word_to_embedding)\n",
        "dev_dataset = GeoDataset(DEV_STATES, word_to_embedding)\n",
        "test_dataset = GeoDataset(TEST_STATES, word_to_embedding)\n",
        "\n",
        "print('{} train instances'.format(len(train_dataset)))\n",
        "print('{} dev instances'.format(len(dev_dataset)))\n",
        "print('{} test instances'.format(len(test_dataset)))\n"
      ]
    },
    {
      "cell_type": "code",
      "execution_count": null,
      "metadata": {
        "id": "bNSddI0R0Lg6"
      },
      "outputs": [],
      "source": [
        "supervised_model = Model()"
      ]
    },
    {
      "cell_type": "markdown",
      "metadata": {
        "id": "_av5k4J4gk1H"
      },
      "source": [
        "We'll now train the model in the cell below. You should obtain a maximal denotation accuracy of at least 78% on the development set. This is a very small dataset and will have some variance. With our reference implementation we obtained 82-83% maximal dev denotation accuracy on average, with a range of 78% to 85% (over 40 trials)."
      ]
    },
    {
      "cell_type": "markdown",
      "metadata": {
        "id": "kkiIRo5w87fs"
      },
      "source": [
        "##Train"
      ]
    },
    {
      "cell_type": "code",
      "execution_count": null,
      "metadata": {
        "colab": {
          "base_uri": "https://localhost:8080/",
          "height": 434,
          "referenced_widgets": [
            "174bf446c1154261baa82a3db240107f",
            "849070f9372f422b90c53044c1e7ca61",
            "7a4169f11fee4f4cb96272660b4ec606",
            "741c8a93a3dc4681bbf05ceea4ed7db6",
            "ac2c5a56b12848d0b251e328d3fc8cef",
            "9cd065e41e3e4aeb8600f238d2347397",
            "f2ad6be66f58493884b12e384d6f8958",
            "933caa78b70c417d8e2dbf60d39f0ac2",
            "4fe3a4f63d264c6f921ee7c6bd6a73eb",
            "87d1572c57444695ac87f6ecffeb72fc",
            "bbd16c605e46416cb3e05a057d86b864",
            "1bc60e7c71d24cf88759dbfc70b6365d",
            "49dd8ca57955475f8e57d0a0858ecc7d",
            "22769abd6e9749e48ecbb6a1c6f9cceb",
            "7dbf6deb43834a298d512375633bfbf5",
            "06ab2df320934d3e86a772f877db9f7a",
            "e98947e955fb410db25a4b5138b10744",
            "13a4e11fb00c445d91c7f4b2d6b931b4",
            "d22f856d15da4db9a0fc8dba6e7847e5",
            "ec7a8e8e51324629a30b2a863c75e4b1",
            "74070015107945068aa8b08a278a83e0",
            "66c640d60fca4ee8acf9bcbeb4558e41",
            "2b24a8f833e245f3bc40acfcfc03f640",
            "d2285abe43dc4fda87ed3bbc26d112ac",
            "f941cbbde01e4f88bb5786953048d271",
            "0724c7c2ddee4db383672a92d36d8447",
            "3add89a52af7471b89a721d4c6c5e64e",
            "3b2a9f13c5524f2195a5af978b07a9c3",
            "441c2015501e483281431df11fd1f0f8",
            "4d4d626a57104f2aba15226fe5f3c672",
            "3e50186bbbff4bcf9d88c14511f9c7c9",
            "4acd422a020c4384b90e5c4106256bd9",
            "d4288fa314bc4b1cb908a513738e6c26",
            "defa663259e24d439fbdbae3e1e7139d",
            "f9d59a4f82a84383aad0a373bcade025",
            "6bc3235027a648eda36540ebd92feb21",
            "8e5da701f38c476496343f5f6f7b4f50",
            "7ee16cb2359248db810c4072c48d7b2c",
            "6e2afd7c4bbf4930a67027948d8ff514",
            "9277ee7942f74419b823f5dc81b1272a",
            "4c60dca5d3ff4c53a05c5b4bdc15c156",
            "a294fc11f4a6409793ad7d7245c94736",
            "1d3ae2a63b534e2eb13caf0e0afa8d2b",
            "0099cc18b7e743ecad3dbb656be49edf",
            "22d458b934c84e589380a6a45f543e08",
            "57793f23de534ca9a8c30aa106c827ff",
            "8a82a8f5b88b458b8da633636d5c48a7",
            "2fffdb29bd4f461fbcda18cbc8de109b",
            "6f1c640d94fb463696f372abf745a1cd",
            "848594acd8e64a378017bc23d93ced5e",
            "b60063384479485c9e7ed3861412aa87",
            "21dda0ebf5f549ff8e98adb849136d90",
            "13f9384c50694f96998482822b73da01",
            "62251550521b4b7880cd1646ae3ad230",
            "8e3ce0febb954ec08bbf785124e06e24",
            "fa030967b539424092ae63329a5d4ae5",
            "b0b9d8a66faf4afaa3cdb6a3174b9945",
            "65a2787405274a488e71b52a1138fa21",
            "83fcd66edd4b4fd2bdfff081a07ee5d7",
            "5cf1742ef3894a5b9687fea40b8fb86b",
            "2cc2268ecdcd40c8ba032ca2fa416f37",
            "5171524b199f4251b155336b7ef5cbc7",
            "cbb9d0b335bb4b2091e77ddc75ceb5e8",
            "59fb05cebca54601bcc16e3843d26197",
            "7fd64e230d1040928f09ac9dc43a4118",
            "58464b4896ff4d0db9fa25b1aa3c48d5",
            "60b205fe011143208752313c5c542924",
            "6c381ef4c3ca433ab25228c5d9b732b9",
            "ef38a6b50601421d845efdb4c7145cb6",
            "fb52fd63c5964edf8ea3297eaaf80159",
            "73adaddbbb534f2a88812ed2b7f24da8",
            "91ab1cda54094f798a8b4f2ac1926141",
            "2675ef16b1494488990296ba92067ee5",
            "affcd00d3f134c00b188c6ec670c4d17",
            "f423535cc24c4428b1274cac0cb02bd4",
            "2177640af1924e98a349e90a7f60d4f7",
            "67849c3f1c4a45d39f4642a9ba5df584",
            "d7c4054cdf1b4dc7b2f7bbe3f36f6e6b",
            "1715d38b161c4b8399132634fc4f0d54",
            "0240962ea6004474aa0a2d18d03bb0ef",
            "7f9482d8c272458db21ddd8187257e0d",
            "8e04641c145c4b3188a8a170993c10b6",
            "b51f77a218a542c7b6779c83556f4dce",
            "d0782a63483d4a06b1f663f26d094a42",
            "174958f3eace4946a375e48f04e6160a",
            "44e7214a5f7447a585428e31ff99583e",
            "c470706fee684a21a7c9ee66cd60f5b4",
            "fe82730844bd4c8bbfa9b0025d272122",
            "3577ea7b34b3411589ce07d84a6604de",
            "cf0a63329ac04b8f921522e39d9c1eb7",
            "53b0b7cb0ed542c196cd181fcf50bb6c",
            "32d616abbd2b4388a43149b0985b7abd",
            "99baa1316f2749f19d2c6d72774e6ade",
            "8dbdd18b010a4035ba7265989040ba6e",
            "131fc0a78ff84924908890deb157df13",
            "4f74a893b9e54e919214aae570352f21",
            "7efd82631c8444cfb0d41cd9b41732fa",
            "aa9eddce6e4a4a06a52976829a274c7d",
            "62392cba441c44319b964445ddffdeaf",
            "f99635665c4f434eb1df5a7d38b0957e",
            "a3b859db444542fc814cab33b63d9cd8",
            "9a942f65a0a145b79471db8a6ba99bd0",
            "173f018f1d4f40f5b2ba2ae3aa296acd",
            "de04fd35c4d24304b3d1b489bdd516b4",
            "002cb1dc068b4798bfc7aae3e2e502d6",
            "8b417b85fb6e40718a09b987064b2fd9",
            "87ef2e57934d42bfb825dc622eea2d2b",
            "db484f74525f4212bf2a9daf908e45d2",
            "3efe64fbb4c2499b905a10be8702b8a5",
            "cf2a71402ca547ab99e402f9be19f2cf",
            "ad10931b81a344268fc13972713e16f0",
            "443c287e5a08403e802e42b9956344b7",
            "e78981d281fd47f69a75c57b9098c119",
            "769baa613d89494b981aa5e8a005345c",
            "202c193d81af470094ae53bac133ea6f",
            "da4af5975281409da5a1df76b1f6a0a2",
            "cfe3e0f975f24218b081f473d0ce7ca7",
            "40975f6f55264d438d894523c5deb362",
            "c9d25ddbf6424d7580cf3ad82f6ceacf",
            "9ec11c97b1024cc898ec2671da6f3756",
            "20bd07748e84497381ccdcddf2829303"
          ]
        },
        "id": "YeJGXfuV1StB",
        "outputId": "1c1207b8-d6a7-4959-e0c2-79d808c86a4d"
      },
      "outputs": [
        {
          "data": {
            "application/vnd.jupyter.widget-view+json": {
              "model_id": "174bf446c1154261baa82a3db240107f",
              "version_major": 2,
              "version_minor": 0
            },
            "text/plain": [
              "training:   0%|          | 0/10 [00:00<?, ?epoch/s]"
            ]
          },
          "metadata": {},
          "output_type": "display_data"
        },
        {
          "data": {
            "application/vnd.jupyter.widget-view+json": {
              "model_id": "1bc60e7c71d24cf88759dbfc70b6365d",
              "version_major": 2,
              "version_minor": 0
            },
            "text/plain": [
              "epoch 1:   0%|          | 0/133 [00:00<?, ?instance/s]"
            ]
          },
          "metadata": {},
          "output_type": "display_data"
        },
        {
          "name": "stdout",
          "output_type": "stream",
          "text": [
            "Obtained a new best development accuracy of 0.683, saving model checkpoint to supervised_model.pt...\n"
          ]
        },
        {
          "data": {
            "application/vnd.jupyter.widget-view+json": {
              "model_id": "2b24a8f833e245f3bc40acfcfc03f640",
              "version_major": 2,
              "version_minor": 0
            },
            "text/plain": [
              "epoch 2:   0%|          | 0/133 [00:00<?, ?instance/s]"
            ]
          },
          "metadata": {},
          "output_type": "display_data"
        },
        {
          "name": "stdout",
          "output_type": "stream",
          "text": [
            "Obtained a new best development accuracy of 0.780, saving model checkpoint to supervised_model.pt...\n"
          ]
        },
        {
          "data": {
            "application/vnd.jupyter.widget-view+json": {
              "model_id": "defa663259e24d439fbdbae3e1e7139d",
              "version_major": 2,
              "version_minor": 0
            },
            "text/plain": [
              "epoch 3:   0%|          | 0/133 [00:00<?, ?instance/s]"
            ]
          },
          "metadata": {},
          "output_type": "display_data"
        },
        {
          "data": {
            "application/vnd.jupyter.widget-view+json": {
              "model_id": "22d458b934c84e589380a6a45f543e08",
              "version_major": 2,
              "version_minor": 0
            },
            "text/plain": [
              "epoch 4:   0%|          | 0/133 [00:00<?, ?instance/s]"
            ]
          },
          "metadata": {},
          "output_type": "display_data"
        },
        {
          "data": {
            "application/vnd.jupyter.widget-view+json": {
              "model_id": "fa030967b539424092ae63329a5d4ae5",
              "version_major": 2,
              "version_minor": 0
            },
            "text/plain": [
              "epoch 5:   0%|          | 0/133 [00:00<?, ?instance/s]"
            ]
          },
          "metadata": {},
          "output_type": "display_data"
        },
        {
          "data": {
            "application/vnd.jupyter.widget-view+json": {
              "model_id": "60b205fe011143208752313c5c542924",
              "version_major": 2,
              "version_minor": 0
            },
            "text/plain": [
              "epoch 6:   0%|          | 0/133 [00:00<?, ?instance/s]"
            ]
          },
          "metadata": {},
          "output_type": "display_data"
        },
        {
          "data": {
            "application/vnd.jupyter.widget-view+json": {
              "model_id": "d7c4054cdf1b4dc7b2f7bbe3f36f6e6b",
              "version_major": 2,
              "version_minor": 0
            },
            "text/plain": [
              "epoch 7:   0%|          | 0/133 [00:00<?, ?instance/s]"
            ]
          },
          "metadata": {},
          "output_type": "display_data"
        },
        {
          "data": {
            "application/vnd.jupyter.widget-view+json": {
              "model_id": "3577ea7b34b3411589ce07d84a6604de",
              "version_major": 2,
              "version_minor": 0
            },
            "text/plain": [
              "epoch 8:   0%|          | 0/133 [00:00<?, ?instance/s]"
            ]
          },
          "metadata": {},
          "output_type": "display_data"
        },
        {
          "data": {
            "application/vnd.jupyter.widget-view+json": {
              "model_id": "f99635665c4f434eb1df5a7d38b0957e",
              "version_major": 2,
              "version_minor": 0
            },
            "text/plain": [
              "epoch 9:   0%|          | 0/133 [00:00<?, ?instance/s]"
            ]
          },
          "metadata": {},
          "output_type": "display_data"
        },
        {
          "data": {
            "application/vnd.jupyter.widget-view+json": {
              "model_id": "ad10931b81a344268fc13972713e16f0",
              "version_major": 2,
              "version_minor": 0
            },
            "text/plain": [
              "epoch 10:   0%|          | 0/133 [00:00<?, ?instance/s]"
            ]
          },
          "metadata": {},
          "output_type": "display_data"
        },
        {
          "name": "stdout",
          "output_type": "stream",
          "text": [
            "Maximal development accuracy of 0.780\n",
            "Reloading best model checkpoint from supervised_model.pt...\n"
          ]
        }
      ],
      "source": [
        "train(supervised_model, train_dataset, dev_dataset, 'supervised_model.pt', num_epochs=10)"
      ]
    },
    {
      "cell_type": "markdown",
      "metadata": {
        "id": "_ylik2--8tJ_"
      },
      "source": [
        "We'll now view the model predictions on the dev set."
      ]
    },
    {
      "cell_type": "code",
      "execution_count": 211,
      "metadata": {
        "colab": {
          "base_uri": "https://localhost:8080/"
        },
        "id": "t7KhfcFD2YeS",
        "outputId": "e292a4d9-260f-4cc3-d1da-e9743b56fbc3"
      },
      "outputs": [
        {
          "output_type": "stream",
          "name": "stdout",
          "text": [
            "dev example 1\n",
            "dev question: what states are there ?\n",
            "dev true LF: (lambda $w (and (state $w)))\n",
            "dev pred LF: (lambda $w (and (state $w)))\n",
            "dev true denotation: {'north_carolina', 'west_virginia', 'virginia'}\n",
            "dev pred denotation: {'north_carolina', 'west_virginia', 'virginia'}\n",
            "dev denotation match: True\n",
            "\n",
            "dev example 6\n",
            "dev question: what is the capital of virginia ?\n",
            "dev true LF: (lambda $w (exists $x (and (capital-rel $w $x) (kb-virginia $x))))\n",
            "dev pred LF: (lambda $w (exists $x (and (capital $w) (capital-rel $w $x) (kb-virginia $x))))\n",
            "dev true denotation: {'richmond'}\n",
            "dev pred denotation: set()\n",
            "dev denotation match: False\n",
            "\n",
            "dev example 11\n",
            "dev question: what cities in west virginia ?\n",
            "dev true LF: (lambda $w (exists $x (and (city $w) (in-rel $w $x) (kb-west_virginia $x))))\n",
            "dev pred LF: (lambda $w (exists $x (and (city $w) (in-rel $w $x) (kb-virginia $x))))\n",
            "dev true denotation: set()\n",
            "dev pred denotation: {'richmond', 'virginia_beach'}\n",
            "dev denotation match: False\n",
            "\n",
            "dev example 16\n",
            "dev question: what state is south of west virginia ?\n",
            "dev true LF: (lambda $w (exists $x (and (state $w) (south-rel $w $x) (kb-west_virginia $x))))\n",
            "dev pred LF: (lambda $w (exists $x (and (state $w) (south-rel $w $x) (kb-west_virginia $x))))\n",
            "dev true denotation: {'virginia'}\n",
            "dev pred denotation: {'virginia'}\n",
            "dev denotation match: True\n",
            "\n",
            "dev example 21\n",
            "dev question: what ocean borders virginia ?\n",
            "dev true LF: (lambda $w (exists $x (and (ocean $w) (border-rel $w $x) (kb-virginia $x))))\n",
            "dev pred LF: (lambda $w (and (ocean $w)))\n",
            "dev true denotation: {'atlantic_ocean'}\n",
            "dev pred denotation: {'atlantic_ocean'}\n",
            "dev denotation match: True\n",
            "\n",
            "dev example 26\n",
            "dev question: is virginia beach inside of west virginia ?\n",
            "dev true LF: (lambda $w (exists $x (and (kb-virginia_beach $w) (inside-rel $w $x) (kb-west_virginia $x))))\n",
            "dev pred LF: (lambda $w (exists $x (and (kb-west_virginia $w) (inside-rel $w $x) (kb-virginia_beach $x))))\n",
            "dev true denotation: set()\n",
            "dev pred denotation: set()\n",
            "dev denotation match: True\n",
            "\n",
            "dev example 31\n",
            "dev question: is the atlantic ocean in west virginia ?\n",
            "dev true LF: (lambda $w (exists $x (and (kb-atlantic_ocean $w) (in-rel $w $x) (kb-west_virginia $x))))\n",
            "dev pred LF: (lambda $w (exists $x (and (kb-atlantic_ocean $w) (in-rel $w $x) (kb-west_virginia $x))))\n",
            "dev true denotation: set()\n",
            "dev pred denotation: set()\n",
            "dev denotation match: True\n",
            "\n",
            "dev example 36\n",
            "dev question: what cities are in virginia ?\n",
            "dev true LF: (lambda $w (exists $x (and (city $w) (in-rel $w $x) (kb-virginia $x))))\n",
            "dev pred LF: (lambda $w (and (city $w) (kb-virginia $w)))\n",
            "dev true denotation: {'richmond'}\n",
            "dev pred denotation: set()\n",
            "dev denotation match: False\n",
            "\n",
            "dev example 41\n",
            "dev question: is virginia east of west virginia ?\n",
            "dev true LF: (lambda $w (exists $x (and (kb-virginia $w) (east-rel $w $x) (kb-west_virginia $x))))\n",
            "dev pred LF: (lambda $w (exists $x (and (kb-west_virginia $w) (east-rel $w $x) (kb-virginia $x))))\n",
            "dev true denotation: {'virginia'}\n",
            "dev pred denotation: set()\n",
            "dev denotation match: False\n",
            "\n"
          ]
        },
        {
          "output_type": "execute_result",
          "data": {
            "text/plain": [
              "{'dev_denotation_acc': 0.7560975609756098}"
            ]
          },
          "metadata": {},
          "execution_count": 211
        }
      ],
      "source": [
        "evaluate_predictions(\n",
        "  dev_dataset, 'dev', execute,\n",
        "  prediction_function=make_beam_prediction_function(supervised_model),\n",
        "  display_predictions_frequency=5\n",
        ")"
      ]
    },
    {
      "cell_type": "markdown",
      "metadata": {
        "id": "lSmNww2zIeyl"
      },
      "source": [
        "## Training with Latent Logical Forms"
      ]
    },
    {
      "cell_type": "markdown",
      "metadata": {
        "id": "YKjm9f9-l5wo"
      },
      "source": [
        "Now, we will relax the assumption that we have logical forms available, and train our model only from question--answer pairs, the databases, and the execution function. This setting, _training from denotations_, requires less supervision but introduces problems of search, delayed reward, and ambiguity, as there are many possible logical forms that can execute to a given denotation. We'll use a classic method, _maximum marginal likelihood_; if you're interested in other methods, see [Misra et al. 2018](https://dipendramisra.com/papers/mchy-emnlp.2018.pdf) and [Guu et al. 2017](https://arxiv.org/abs/1704.07926) for a survey and connections to policy gradient from reinforcement learning.\n",
        "\n",
        "Let $x$ be a question, $z$ be the denotation for the question, and $d$ be a database. Our model gives a distribution $p_\\theta(y \\mid x)$ for logical forms $y$.  Maximum marginal likelihood (approximately) maximizes the log probability of producing the correct denotation $z$, marginalized over logical forms. In practice, we can't sum over all possible logical forms, so we'll approximate using a set of logical forms $\\mathcal{Y}$ returned by beam search:\n",
        "\n",
        "$$J_{MML} = \\log p(z \\mid x, d) \\approx \\log \\sum_{y \\in \\mathcal{Y}} p(z \\mid y, d) p_\\theta(y \\mid x)$$\n",
        "\n",
        "Our execution function (given by the `execute` function we've defined above) is deterministic, and we have $p(z \\mid y, d) = 1$ or $0$ depending on whether $y$ denotes $z$ in the database. We can use this fact to simplify the objective: letting $\\mathcal{C}$ be the subset of _correct_ logical forms $\\mathcal{Y}$, that evaluate to $z$, we have\n",
        "\n",
        "$$J_{MML} = \\log \\sum_{y \\in \\mathcal{C}} p_\\theta(y \\mid x)$$\n",
        "\n",
        "Implement this in the `latent_loss` method below, returning $-J_{MML}$ as the loss, as well as the number of logical forms in $\\mathcal{C}$ (`num_correct`) and the number of logical forms found by search (`num_instances`).\n",
        "\n",
        "__Implementation tip__: for numerical stability, perform calculations in log space using the logical forms' log probabilities and `torch.logsumexp`."
      ]
    },
    {
      "cell_type": "code",
      "execution_count": null,
      "metadata": {
        "id": "7EEOPgQ3EmUO"
      },
      "outputs": [],
      "source": [
        "def latent_loss(model, instance, beam_size):\n",
        "  true_denotation = instance['denotation']\n",
        "  world = instance['world']\n",
        "\n",
        "  # contains tuples of model states and total log probabilities returned by beam search: [(model_state: ModelState, log_prob: tensor)]\n",
        "  # some model states may correspond to incomplete logical forms, as when repeated literals are not allowed, it's possible for the model to reach a state where no valid actions are available\n",
        "  # use model_state.parser_state.is_complete to check whether a parser state corresponds to a complete logical form, before attempting to convert it to a logical form\n",
        "  candidates = beam_search(model, instance, beam_size)\n",
        "\n",
        "  num_correct = 0\n",
        "  num_instances = len(candidates)\n",
        "\n",
        "  \"\"\"YOUR CODE HERE\"\"\"\n",
        "  ...\n",
        "\n",
        "  # BEGIN SOLUTION\n",
        "  log_probs = []\n",
        "\n",
        "  for candidate in candidates:\n",
        "    parser_state = candidate[0].parser_state\n",
        "    logical_form = parser_state.to_logical_form()\n",
        "    can_log_prob = candidate[1]\n",
        "    if parser_state.is_complete and execute(logical_form, world) == true_denotation:\n",
        "        num_correct += 1\n",
        "        log_probs.append(can_log_prob)      \n",
        "  # END SOLUTION\n",
        "\n",
        "  if num_correct == 0:\n",
        "    # no update if no correct examples were found; define a Variable to not break the backprop and update code\n",
        "    return torch.autograd.Variable(torch.tensor(0.0), requires_grad=True), num_correct, num_instances\n",
        "  else:\n",
        "    loss = -sum_log_probs(log_probs) \n",
        "    return loss, num_correct, num_instances\n"
      ]
    },
    {
      "cell_type": "markdown",
      "metadata": {
        "id": "NtniWeF9GA4o"
      },
      "source": [
        "You can sanity check your loss by training and evaluating on a restricted version of the dataset which contains only logical forms with at most two variables and two literals. These examples will be a bit easier, and the constrains on logical forms will allow us to reduce the search space and train faster."
      ]
    },
    {
      "cell_type": "code",
      "execution_count": null,
      "metadata": {
        "colab": {
          "base_uri": "https://localhost:8080/",
          "height": 381
        },
        "id": "LLJY6gTwDuYn",
        "outputId": "64fb37ec-42bd-40d2-9090-42c525d9af28"
      },
      "outputs": [
        {
          "ename": "AssertionError",
          "evalue": "ignored",
          "output_type": "error",
          "traceback": [
            "\u001b[0;31m---------------------------------------------------------------------------\u001b[0m",
            "\u001b[0;31mAssertionError\u001b[0m                            Traceback (most recent call last)",
            "\u001b[0;32m<ipython-input-204-c39f90c19faa>\u001b[0m in \u001b[0;36m<module>\u001b[0;34m()\u001b[0m\n\u001b[1;32m      6\u001b[0m   \u001b[0;32mreturn\u001b[0m \u001b[0;32mFalse\u001b[0m\u001b[0;34m\u001b[0m\u001b[0;34m\u001b[0m\u001b[0m\n\u001b[1;32m      7\u001b[0m \u001b[0;34m\u001b[0m\u001b[0m\n\u001b[0;32m----> 8\u001b[0;31m \u001b[0msimple_train_dataset\u001b[0m \u001b[0;34m=\u001b[0m \u001b[0mGeoDataset\u001b[0m\u001b[0;34m(\u001b[0m\u001b[0mTRAIN_STATES\u001b[0m\u001b[0;34m,\u001b[0m \u001b[0mword_to_embedding\u001b[0m\u001b[0;34m,\u001b[0m \u001b[0mlogical_form_exclude_function\u001b[0m\u001b[0;34m=\u001b[0m\u001b[0mis_complex_lf\u001b[0m\u001b[0;34m)\u001b[0m\u001b[0;34m\u001b[0m\u001b[0;34m\u001b[0m\u001b[0m\n\u001b[0m\u001b[1;32m      9\u001b[0m \u001b[0msimple_dev_dataset\u001b[0m \u001b[0;34m=\u001b[0m \u001b[0mGeoDataset\u001b[0m\u001b[0;34m(\u001b[0m\u001b[0mDEV_STATES\u001b[0m\u001b[0;34m,\u001b[0m \u001b[0mword_to_embedding\u001b[0m\u001b[0;34m,\u001b[0m \u001b[0mlogical_form_exclude_function\u001b[0m\u001b[0;34m=\u001b[0m\u001b[0mis_complex_lf\u001b[0m\u001b[0;34m)\u001b[0m\u001b[0;34m\u001b[0m\u001b[0;34m\u001b[0m\u001b[0m\n\u001b[1;32m     10\u001b[0m \u001b[0mprint\u001b[0m\u001b[0;34m(\u001b[0m\u001b[0;34m'{} train instances with maximum 2 variables and 2 literals'\u001b[0m\u001b[0;34m.\u001b[0m\u001b[0mformat\u001b[0m\u001b[0;34m(\u001b[0m\u001b[0mlen\u001b[0m\u001b[0;34m(\u001b[0m\u001b[0msimple_train_dataset\u001b[0m\u001b[0;34m)\u001b[0m\u001b[0;34m)\u001b[0m\u001b[0;34m)\u001b[0m\u001b[0;34m\u001b[0m\u001b[0;34m\u001b[0m\u001b[0m\n",
            "\u001b[0;32m/content/geoqa/dataset.py\u001b[0m in \u001b[0;36m__init__\u001b[0;34m(self, state_names, word_to_embedding, logical_form_exclude_function)\u001b[0m\n\u001b[1;32m     34\u001b[0m         \u001b[0;32mif\u001b[0m \u001b[0mlogical_form\u001b[0m \u001b[0;32mis\u001b[0m \u001b[0;32mNone\u001b[0m\u001b[0;34m:\u001b[0m\u001b[0;34m\u001b[0m\u001b[0;34m\u001b[0m\u001b[0m\n\u001b[1;32m     35\u001b[0m           \u001b[0;32mcontinue\u001b[0m\u001b[0;34m\u001b[0m\u001b[0;34m\u001b[0m\u001b[0m\n\u001b[0;32m---> 36\u001b[0;31m         \u001b[0;32mif\u001b[0m \u001b[0mlogical_form_exclude_function\u001b[0m \u001b[0;32mis\u001b[0m \u001b[0;32mnot\u001b[0m \u001b[0;32mNone\u001b[0m \u001b[0;32mand\u001b[0m \u001b[0mlogical_form_exclude_function\u001b[0m\u001b[0;34m(\u001b[0m\u001b[0mlogical_form\u001b[0m\u001b[0;34m)\u001b[0m\u001b[0;34m:\u001b[0m\u001b[0;34m\u001b[0m\u001b[0;34m\u001b[0m\u001b[0m\n\u001b[0m\u001b[1;32m     37\u001b[0m           \u001b[0;32mcontinue\u001b[0m\u001b[0;34m\u001b[0m\u001b[0;34m\u001b[0m\u001b[0m\n\u001b[1;32m     38\u001b[0m \u001b[0;34m\u001b[0m\u001b[0m\n",
            "\u001b[0;32m<ipython-input-204-c39f90c19faa>\u001b[0m in \u001b[0;36mis_complex_lf\u001b[0;34m(logical_form)\u001b[0m\n\u001b[1;32m      1\u001b[0m \u001b[0;32mdef\u001b[0m \u001b[0mis_complex_lf\u001b[0m\u001b[0;34m(\u001b[0m\u001b[0mlogical_form\u001b[0m\u001b[0;34m)\u001b[0m\u001b[0;34m:\u001b[0m\u001b[0;34m\u001b[0m\u001b[0;34m\u001b[0m\u001b[0m\n\u001b[0;32m----> 2\u001b[0;31m   \u001b[0;32mif\u001b[0m \u001b[0mlen\u001b[0m\u001b[0;34m(\u001b[0m\u001b[0mParserState\u001b[0m\u001b[0;34m.\u001b[0m\u001b[0mfrom_logical_form\u001b[0m\u001b[0;34m(\u001b[0m\u001b[0mlogical_form\u001b[0m\u001b[0;34m)\u001b[0m\u001b[0;34m.\u001b[0m\u001b[0mvariables_introduced\u001b[0m\u001b[0;34m(\u001b[0m\u001b[0;34m)\u001b[0m\u001b[0;34m)\u001b[0m \u001b[0;34m>\u001b[0m \u001b[0;36m2\u001b[0m\u001b[0;34m:\u001b[0m\u001b[0;34m\u001b[0m\u001b[0;34m\u001b[0m\u001b[0m\n\u001b[0m\u001b[1;32m      3\u001b[0m     \u001b[0;32mreturn\u001b[0m \u001b[0;32mTrue\u001b[0m\u001b[0;34m\u001b[0m\u001b[0;34m\u001b[0m\u001b[0m\n\u001b[1;32m      4\u001b[0m   \u001b[0;32mif\u001b[0m \u001b[0mParserState\u001b[0m\u001b[0;34m.\u001b[0m\u001b[0mfrom_logical_form\u001b[0m\u001b[0;34m(\u001b[0m\u001b[0mlogical_form\u001b[0m\u001b[0;34m)\u001b[0m\u001b[0;34m.\u001b[0m\u001b[0mcompleted_literal_stack\u001b[0m\u001b[0;34m.\u001b[0m\u001b[0msize\u001b[0m \u001b[0;34m>\u001b[0m \u001b[0;36m2\u001b[0m\u001b[0;34m:\u001b[0m\u001b[0;34m\u001b[0m\u001b[0;34m\u001b[0m\u001b[0m\n\u001b[1;32m      5\u001b[0m     \u001b[0;32mreturn\u001b[0m \u001b[0;32mTrue\u001b[0m\u001b[0;34m\u001b[0m\u001b[0;34m\u001b[0m\u001b[0m\n",
            "\u001b[0;32m<ipython-input-82-98da5466397d>\u001b[0m in \u001b[0;36mfrom_logical_form\u001b[0;34m(logical_form, parse_constraints)\u001b[0m\n\u001b[1;32m    174\u001b[0m \u001b[0;34m\u001b[0m\u001b[0m\n\u001b[1;32m    175\u001b[0m     \u001b[0mstate\u001b[0m \u001b[0;34m=\u001b[0m \u001b[0mParserState\u001b[0m\u001b[0;34m.\u001b[0m\u001b[0minitial_state\u001b[0m\u001b[0;34m(\u001b[0m\u001b[0mparse_constraints\u001b[0m\u001b[0;34m)\u001b[0m\u001b[0;34m\u001b[0m\u001b[0;34m\u001b[0m\u001b[0m\n\u001b[0;32m--> 176\u001b[0;31m     \u001b[0mstate\u001b[0m \u001b[0;34m=\u001b[0m \u001b[0m_traverse\u001b[0m\u001b[0;34m(\u001b[0m\u001b[0mlogical_form\u001b[0m\u001b[0;34m,\u001b[0m \u001b[0mstate\u001b[0m\u001b[0;34m)\u001b[0m\u001b[0;34m\u001b[0m\u001b[0;34m\u001b[0m\u001b[0m\n\u001b[0m\u001b[1;32m    177\u001b[0m     \u001b[0mstate\u001b[0m \u001b[0;34m=\u001b[0m \u001b[0mstate\u001b[0m\u001b[0;34m.\u001b[0m\u001b[0mtake_action\u001b[0m\u001b[0;34m(\u001b[0m\u001b[0mDONE_ACTION\u001b[0m\u001b[0;34m)\u001b[0m\u001b[0;34m\u001b[0m\u001b[0;34m\u001b[0m\u001b[0m\n\u001b[1;32m    178\u001b[0m     \u001b[0;32massert\u001b[0m \u001b[0mstate\u001b[0m\u001b[0;34m.\u001b[0m\u001b[0mis_complete\u001b[0m\u001b[0;34m\u001b[0m\u001b[0;34m\u001b[0m\u001b[0m\n",
            "\u001b[0;32m<ipython-input-82-98da5466397d>\u001b[0m in \u001b[0;36m_traverse\u001b[0;34m(node, state)\u001b[0m\n\u001b[1;32m    166\u001b[0m         \u001b[0mchildren\u001b[0m \u001b[0;34m=\u001b[0m \u001b[0;34m[\u001b[0m\u001b[0;34m]\u001b[0m\u001b[0;34m\u001b[0m\u001b[0;34m\u001b[0m\u001b[0m\n\u001b[1;32m    167\u001b[0m       \u001b[0;32mfor\u001b[0m \u001b[0mchild\u001b[0m \u001b[0;32min\u001b[0m \u001b[0mchildren\u001b[0m\u001b[0;34m:\u001b[0m\u001b[0;34m\u001b[0m\u001b[0;34m\u001b[0m\u001b[0m\n\u001b[0;32m--> 168\u001b[0;31m         \u001b[0mstate\u001b[0m \u001b[0;34m=\u001b[0m \u001b[0m_traverse\u001b[0m\u001b[0;34m(\u001b[0m\u001b[0mchild\u001b[0m\u001b[0;34m,\u001b[0m \u001b[0mstate\u001b[0m\u001b[0;34m)\u001b[0m\u001b[0;34m\u001b[0m\u001b[0;34m\u001b[0m\u001b[0m\n\u001b[0m\u001b[1;32m    169\u001b[0m       \u001b[0;32mif\u001b[0m \u001b[0mlabel\u001b[0m \u001b[0;34m==\u001b[0m \u001b[0mLAMBDA\u001b[0m\u001b[0;34m:\u001b[0m\u001b[0;34m\u001b[0m\u001b[0;34m\u001b[0m\u001b[0m\n\u001b[1;32m    170\u001b[0m         \u001b[0mstate\u001b[0m \u001b[0;34m=\u001b[0m \u001b[0mstate\u001b[0m\u001b[0;34m.\u001b[0m\u001b[0mtake_action\u001b[0m\u001b[0;34m(\u001b[0m\u001b[0mVARS_TO_COMPLETE_LAMBDA_ACTIONS\u001b[0m\u001b[0;34m[\u001b[0m\u001b[0mlambda_var\u001b[0m\u001b[0;34m]\u001b[0m\u001b[0;34m)\u001b[0m\u001b[0;34m\u001b[0m\u001b[0;34m\u001b[0m\u001b[0m\n",
            "\u001b[0;32m<ipython-input-82-98da5466397d>\u001b[0m in \u001b[0;36m_traverse\u001b[0;34m(node, state)\u001b[0m\n\u001b[1;32m    166\u001b[0m         \u001b[0mchildren\u001b[0m \u001b[0;34m=\u001b[0m \u001b[0;34m[\u001b[0m\u001b[0;34m]\u001b[0m\u001b[0;34m\u001b[0m\u001b[0;34m\u001b[0m\u001b[0m\n\u001b[1;32m    167\u001b[0m       \u001b[0;32mfor\u001b[0m \u001b[0mchild\u001b[0m \u001b[0;32min\u001b[0m \u001b[0mchildren\u001b[0m\u001b[0;34m:\u001b[0m\u001b[0;34m\u001b[0m\u001b[0;34m\u001b[0m\u001b[0m\n\u001b[0;32m--> 168\u001b[0;31m         \u001b[0mstate\u001b[0m \u001b[0;34m=\u001b[0m \u001b[0m_traverse\u001b[0m\u001b[0;34m(\u001b[0m\u001b[0mchild\u001b[0m\u001b[0;34m,\u001b[0m \u001b[0mstate\u001b[0m\u001b[0;34m)\u001b[0m\u001b[0;34m\u001b[0m\u001b[0;34m\u001b[0m\u001b[0m\n\u001b[0m\u001b[1;32m    169\u001b[0m       \u001b[0;32mif\u001b[0m \u001b[0mlabel\u001b[0m \u001b[0;34m==\u001b[0m \u001b[0mLAMBDA\u001b[0m\u001b[0;34m:\u001b[0m\u001b[0;34m\u001b[0m\u001b[0;34m\u001b[0m\u001b[0m\n\u001b[1;32m    170\u001b[0m         \u001b[0mstate\u001b[0m \u001b[0;34m=\u001b[0m \u001b[0mstate\u001b[0m\u001b[0;34m.\u001b[0m\u001b[0mtake_action\u001b[0m\u001b[0;34m(\u001b[0m\u001b[0mVARS_TO_COMPLETE_LAMBDA_ACTIONS\u001b[0m\u001b[0;34m[\u001b[0m\u001b[0mlambda_var\u001b[0m\u001b[0;34m]\u001b[0m\u001b[0;34m)\u001b[0m\u001b[0;34m\u001b[0m\u001b[0;34m\u001b[0m\u001b[0m\n",
            "\u001b[0;32m<ipython-input-82-98da5466397d>\u001b[0m in \u001b[0;36m_traverse\u001b[0;34m(node, state)\u001b[0m\n\u001b[1;32m    170\u001b[0m         \u001b[0mstate\u001b[0m \u001b[0;34m=\u001b[0m \u001b[0mstate\u001b[0m\u001b[0;34m.\u001b[0m\u001b[0mtake_action\u001b[0m\u001b[0;34m(\u001b[0m\u001b[0mVARS_TO_COMPLETE_LAMBDA_ACTIONS\u001b[0m\u001b[0;34m[\u001b[0m\u001b[0mlambda_var\u001b[0m\u001b[0;34m]\u001b[0m\u001b[0;34m)\u001b[0m\u001b[0;34m\u001b[0m\u001b[0;34m\u001b[0m\u001b[0m\n\u001b[1;32m    171\u001b[0m       \u001b[0;32melif\u001b[0m \u001b[0mlabel\u001b[0m \u001b[0;34m!=\u001b[0m \u001b[0mAND\u001b[0m \u001b[0;32mand\u001b[0m \u001b[0mlabel\u001b[0m \u001b[0;34m!=\u001b[0m \u001b[0mEXISTS\u001b[0m\u001b[0;34m:\u001b[0m\u001b[0;34m\u001b[0m\u001b[0;34m\u001b[0m\u001b[0m\n\u001b[0;32m--> 172\u001b[0;31m         \u001b[0mstate\u001b[0m \u001b[0;34m=\u001b[0m \u001b[0mstate\u001b[0m\u001b[0;34m.\u001b[0m\u001b[0mtake_action\u001b[0m\u001b[0;34m(\u001b[0m\u001b[0mlabel\u001b[0m\u001b[0;34m)\u001b[0m\u001b[0;34m\u001b[0m\u001b[0;34m\u001b[0m\u001b[0m\n\u001b[0m\u001b[1;32m    173\u001b[0m       \u001b[0;32mreturn\u001b[0m \u001b[0mstate\u001b[0m\u001b[0;34m\u001b[0m\u001b[0;34m\u001b[0m\u001b[0m\n\u001b[1;32m    174\u001b[0m \u001b[0;34m\u001b[0m\u001b[0m\n",
            "\u001b[0;32m<ipython-input-82-98da5466397d>\u001b[0m in \u001b[0;36mtake_action\u001b[0;34m(self, action_symbol)\u001b[0m\n\u001b[1;32m     31\u001b[0m \u001b[0;34m\u001b[0m\u001b[0m\n\u001b[1;32m     32\u001b[0m     assert action_symbol in self.valid_actions(), \"trying to take {} but only valid actions are {}.\\npast actions: {}\".format(\n\u001b[0;32m---> 33\u001b[0;31m       action_symbol, self.valid_actions(), ' '.join(self.actions()))\n\u001b[0m\u001b[1;32m     34\u001b[0m \u001b[0;34m\u001b[0m\u001b[0m\n\u001b[1;32m     35\u001b[0m     \u001b[0;31m# initialize all variables that might be updated\u001b[0m\u001b[0;34m\u001b[0m\u001b[0;34m\u001b[0m\u001b[0;34m\u001b[0m\u001b[0m\n",
            "\u001b[0;31mAssertionError\u001b[0m: trying to take lake but only valid actions are ['$x', '$w'].\npast actions: $w"
          ]
        }
      ],
      "source": [
        "def is_complex_lf(logical_form):\n",
        "  if len(ParserState.from_logical_form(logical_form).variables_introduced()) > 2:\n",
        "    return True\n",
        "  if ParserState.from_logical_form(logical_form).completed_literal_stack.size > 2:\n",
        "    return True\n",
        "  return False\n",
        "\n",
        "simple_train_dataset = GeoDataset(TRAIN_STATES, word_to_embedding, logical_form_exclude_function=is_complex_lf)\n",
        "simple_dev_dataset = GeoDataset(DEV_STATES, word_to_embedding, logical_form_exclude_function=is_complex_lf)\n",
        "print('{} train instances with maximum 2 variables and 2 literals'.format(len(simple_train_dataset)))\n",
        "print('{} dev instances with maximum 2 variables and 2 literals'.format(len(simple_dev_dataset)))\n",
        "print()\n",
        "for i in range(3):\n",
        "  print_instance(simple_dev_dataset[i])\n",
        "  print()"
      ]
    },
    {
      "cell_type": "code",
      "execution_count": null,
      "metadata": {
        "id": "uHVSx83KD7Iz"
      },
      "outputs": [],
      "source": [
        "simple_latent_model = Model(max_vars=2, max_literals=2)"
      ]
    },
    {
      "cell_type": "markdown",
      "metadata": {
        "id": "2VJdX8GmsoTE"
      },
      "source": [
        "The following cell will train your model from denotations alone on these simplified logical forms. \n",
        "\n",
        "With beam size 100, if your `latent_loss` implementation is correct, you should expect to see `train_loss` values roughly between 0.5 and 2 at the end of 10 epochs (note that the magnitude of the loss will change with varying number of candidates).\n",
        "\n",
        "Our implementation obtains _training_ denotation accuracies between 80% and 100%, and dev denotation accuracies of at least 60% by the end of 10 epochs (but note there are only 9 dev examples when filtering the logical forms in this way! so don't be surprised if this score varies widely)."
      ]
    },
    {
      "cell_type": "code",
      "execution_count": null,
      "metadata": {
        "colab": {
          "base_uri": "https://localhost:8080/",
          "height": 450,
          "referenced_widgets": [
            "9acb90e0e9034e6394d39a90afad3476",
            "ded5a194f33b46b780bf31725f010f8a",
            "d3c2211851694b99b42e5bf1aef18683",
            "c8022bd0be9c4cb592ace372ca224738",
            "dbb06d6e0d6f48128f7436ef54079620",
            "c9d685a0b255462bb12c5800d0e9ce36",
            "7ba27083940948929573384aec35f200",
            "a9aa8cc44a554e3ba32cef1958edfb96",
            "e57ecd969e8c4edca67d36d058b5d9d6",
            "c8d94b4445d3476a8aa7ddca360903cc",
            "cd68a02ee25940f781cb77395b2ae149",
            "589ff8da4fda44d7b8e8fbdb637df351",
            "237508b1e25148299e251b5e1ae524bb",
            "0618a95f170745639251160754113052",
            "216ced10c7ba47b98ee179875fbaaa57",
            "f32542d821664fc0a4334628dcbf7a8c",
            "6ef6ec26c77c4035856382a017e5259f",
            "47bd82f2deb7465ab85ac87766a2c0eb",
            "fc7bf029e7f94e9eaa9819d0c3579298",
            "38f91490ca20441490fbe9dc882da8ad",
            "549efefeb711488689c8c68d54ae32bc",
            "0e55fb4cb1274d56b8318893b60b41b6",
            "403976df56ca41c0913179be80a976c7",
            "a05db27eaef3407b89ec959beea37a61",
            "5a4010c349e642f1a76a70ef4b7a37fd",
            "8f9179ca25fc47de883be72febaac11d",
            "1029b7b75b1943c994a57ba8beb4275a",
            "3ecfc059285f4e8a98507897f77c3e39",
            "0b0ece51fd224631b26a5c6e0095ce8b",
            "e7438f622d3c462e9b68c0ae93bf12bb",
            "6f2dd6604176421abb7f8930d4fb2d8f",
            "5c105e07045541b3b632a3e6528842c7",
            "466e4025239247b0a7c8a1e6d3860cfe",
            "37a4cb99c95e4a0ab5266915f1d0fbec",
            "61868c3159f74c15aab30259f2062c3b",
            "99f94a94be2c40e0996d511723f08f6c",
            "9d0c61d639a74ebc975a02ceb7f761bf",
            "ecc1dc6ce2504dfabab087baf8c4ccc4",
            "9ddbe41899ae47d0b2f773c523708771",
            "cac52b509b5c47778022dee60705066f",
            "d3cfe98ddbc4489e9ef35da5b21e3a21",
            "f9c8c3a83609431692aae0695b53f404",
            "52d3dcca83204af880abd7876da2c8db",
            "42e7431feff84e9ca6e34b429803a7c5",
            "d0b03b3ec7394aa8b2a5d0f31fe9e1e3",
            "a04af31d0c2c47e281b1ce3d416b0aae",
            "50db594e40b34774a322137c47b278a6",
            "2bc4d5f398854c4db78f83278b8dc687",
            "8f86b8d0807c456099910e574b365ee9",
            "9682657d798f4aa9b183685196a13161",
            "95446228bd844e9aa9695f2e879e3464",
            "6faf160409ef4cec99453fa7be7ba7a7",
            "9843661c30704b7fb5396a797093f2b7",
            "df10263f6dff4b80b748ae5be992a2e4",
            "f02e4ea2ceaf4ada9ffac238000cffdd",
            "957ae8c788764ebfb6bb11aab473eac8",
            "23ed07f795c3446ab46b7f2681d2abcd",
            "9048bc6d92744c71b9f0873a5048e393",
            "20d3482087e14ddeae97925ec25b5178",
            "503c1aff248f45199f55f9afb503a3d0",
            "574d3ad1421541cb99e238323070145e",
            "7be4ece2840e47b7a41f8bb2457e1b6e",
            "1fef2dc554534e00bdc4a350d7dc4a88",
            "b5d6c8d692b64b6899437304f9622211",
            "1312366de1d742cb84c1d0394f2fad43",
            "dc28466a4eca4d3d893de4a220f0ebd4",
            "4a046f8e54e04434b1ba633fd068c4a4",
            "fb787f1a17db4cd08f968ad7c03aa6d0",
            "9b6454b760bc41ea9d759a4e56acd793",
            "f2965b6c79354d6eaabcfb8f9da32e5e",
            "846022f379a4473ca5a2c404c88badbd",
            "b0e6a2bafb824e9183cfe739332457ee",
            "8452a9c1dace4d14bc2e5c66231788ad",
            "56e539282544499bab8cc478278d44e4",
            "ff79510f594543bba5ff5d146397f435",
            "ca3addaa8beb4b17aa1ee00df2dc9638",
            "a3492984e6af439db82cda81ead5fd41",
            "89cb3682329f4b0583f94a9e1eb11aec",
            "733855e13ae84725babcd259858d0360",
            "bc57f57f158845b9aee429d0e4bc6c2e",
            "a5e61e18bf874cf48aefca95fca8c5fa",
            "5f8307f0e0e84887a5d71a038cbed9fd",
            "f88b676abca14e84956b11fcb6f813b2",
            "3aeba45fcbd04719959f950d213340fc",
            "0a70bdf578404b29aa528a877f4d6cbd",
            "a2d93ee2bb5149ddac08a3089a0bc22c",
            "fe30f1fc7e4d4f63b210580b58cfbf11",
            "6039e958e1b948db89583bc828f140f8",
            "4293f45fb56f4798b1cbbab8b1d64dd5",
            "300c5ca123014b788520a219574b161b",
            "6cddf62a37894e7a9c0569306de111c1",
            "3dc791464a8e46d19f7a189c5b5c3cfb",
            "5b249a101bf64e1faec0a98989683928",
            "24b813c9123c472e897bd770aad3128a",
            "955985fb5eb14234b6c35ce6c3d982d7",
            "4857adf30ed744dabb811e7dc5cd67df",
            "d10955be4c5846beb72a278359f28202",
            "d4b6e036f594408fa0c448d4b7b14e76",
            "d214ea47bc8e41d9a0e7f59416aadbd0",
            "c673d72216ef4089a1c43f51fdba8599",
            "2f85e23faeed415b9855e4340a887029",
            "40837a8134784e63b82be52a6ac2478f",
            "c7b25de889e245cc95cd8be96d6ba524",
            "c6273dcbf9f44dde96cf6557379f0f76",
            "7be815fe111e48f8a779008901af2ef2",
            "cde380e14f2743bcba5ad2279e8c36ee",
            "4ffc45d4094a4e8d9d57fac59c0a11bf",
            "b779f74397834ee6add5053bcd34bffa",
            "54c31c79c81841298de8c049d02d0122",
            "a4dd03d3080e4edcad95dab455f86689",
            "05ce7383ba5e459895ad1bbf463429a9",
            "779a7f40a8bf48e5867b9cbd3a8e8681",
            "57a3ee076c764195a556de40e61b9b41",
            "e8fb38029b894e9d8dc7b03e8d5d0e37",
            "3254174e17964cb7945574b5a2266131",
            "5dc1d63e099b4166bd4e6184e4c47047",
            "cd2949116f554a8caf16de803f5bb45f",
            "e3fe0d437b4a432abf892a13cea63477",
            "80ae397fce5648f88b4763afe192e100",
            "21602299247c4b7a83499b20b64d6a02",
            "e532a32434ef4c15b5f280879ea16e27"
          ]
        },
        "id": "qTl3U-y7nMer",
        "outputId": "dc777e25-a46a-494e-f58c-f5544eb65216"
      },
      "outputs": [
        {
          "data": {
            "application/vnd.jupyter.widget-view+json": {
              "model_id": "9acb90e0e9034e6394d39a90afad3476",
              "version_major": 2,
              "version_minor": 0
            },
            "text/plain": [
              "training:   0%|          | 0/10 [00:00<?, ?epoch/s]"
            ]
          },
          "metadata": {},
          "output_type": "display_data"
        },
        {
          "data": {
            "application/vnd.jupyter.widget-view+json": {
              "model_id": "589ff8da4fda44d7b8e8fbdb637df351",
              "version_major": 2,
              "version_minor": 0
            },
            "text/plain": [
              "epoch 1:   0%|          | 0/40 [00:00<?, ?instance/s]"
            ]
          },
          "metadata": {},
          "output_type": "display_data"
        },
        {
          "name": "stdout",
          "output_type": "stream",
          "text": [
            "Obtained a new best development accuracy of 0.556, saving model checkpoint to simple_latent_model.pt...\n"
          ]
        },
        {
          "data": {
            "application/vnd.jupyter.widget-view+json": {
              "model_id": "403976df56ca41c0913179be80a976c7",
              "version_major": 2,
              "version_minor": 0
            },
            "text/plain": [
              "epoch 2:   0%|          | 0/40 [00:00<?, ?instance/s]"
            ]
          },
          "metadata": {},
          "output_type": "display_data"
        },
        {
          "name": "stdout",
          "output_type": "stream",
          "text": [
            "Obtained a new best development accuracy of 0.667, saving model checkpoint to simple_latent_model.pt...\n"
          ]
        },
        {
          "data": {
            "application/vnd.jupyter.widget-view+json": {
              "model_id": "37a4cb99c95e4a0ab5266915f1d0fbec",
              "version_major": 2,
              "version_minor": 0
            },
            "text/plain": [
              "epoch 3:   0%|          | 0/40 [00:00<?, ?instance/s]"
            ]
          },
          "metadata": {},
          "output_type": "display_data"
        },
        {
          "data": {
            "application/vnd.jupyter.widget-view+json": {
              "model_id": "d0b03b3ec7394aa8b2a5d0f31fe9e1e3",
              "version_major": 2,
              "version_minor": 0
            },
            "text/plain": [
              "epoch 4:   0%|          | 0/40 [00:00<?, ?instance/s]"
            ]
          },
          "metadata": {},
          "output_type": "display_data"
        },
        {
          "data": {
            "application/vnd.jupyter.widget-view+json": {
              "model_id": "957ae8c788764ebfb6bb11aab473eac8",
              "version_major": 2,
              "version_minor": 0
            },
            "text/plain": [
              "epoch 5:   0%|          | 0/40 [00:00<?, ?instance/s]"
            ]
          },
          "metadata": {},
          "output_type": "display_data"
        },
        {
          "data": {
            "application/vnd.jupyter.widget-view+json": {
              "model_id": "4a046f8e54e04434b1ba633fd068c4a4",
              "version_major": 2,
              "version_minor": 0
            },
            "text/plain": [
              "epoch 6:   0%|          | 0/40 [00:00<?, ?instance/s]"
            ]
          },
          "metadata": {},
          "output_type": "display_data"
        },
        {
          "name": "stdout",
          "output_type": "stream",
          "text": [
            "Obtained a new best development accuracy of 1.000, saving model checkpoint to simple_latent_model.pt...\n"
          ]
        },
        {
          "data": {
            "application/vnd.jupyter.widget-view+json": {
              "model_id": "89cb3682329f4b0583f94a9e1eb11aec",
              "version_major": 2,
              "version_minor": 0
            },
            "text/plain": [
              "epoch 7:   0%|          | 0/40 [00:00<?, ?instance/s]"
            ]
          },
          "metadata": {},
          "output_type": "display_data"
        },
        {
          "data": {
            "application/vnd.jupyter.widget-view+json": {
              "model_id": "4293f45fb56f4798b1cbbab8b1d64dd5",
              "version_major": 2,
              "version_minor": 0
            },
            "text/plain": [
              "epoch 8:   0%|          | 0/40 [00:00<?, ?instance/s]"
            ]
          },
          "metadata": {},
          "output_type": "display_data"
        },
        {
          "data": {
            "application/vnd.jupyter.widget-view+json": {
              "model_id": "c673d72216ef4089a1c43f51fdba8599",
              "version_major": 2,
              "version_minor": 0
            },
            "text/plain": [
              "epoch 9:   0%|          | 0/40 [00:00<?, ?instance/s]"
            ]
          },
          "metadata": {},
          "output_type": "display_data"
        },
        {
          "data": {
            "application/vnd.jupyter.widget-view+json": {
              "model_id": "05ce7383ba5e459895ad1bbf463429a9",
              "version_major": 2,
              "version_minor": 0
            },
            "text/plain": [
              "epoch 10:   0%|          | 0/40 [00:00<?, ?instance/s]"
            ]
          },
          "metadata": {},
          "output_type": "display_data"
        },
        {
          "name": "stdout",
          "output_type": "stream",
          "text": [
            "Maximal development accuracy of 1.000\n",
            "Reloading best model checkpoint from simple_latent_model.pt...\n"
          ]
        }
      ],
      "source": [
        "train(simple_latent_model, simple_train_dataset, simple_dev_dataset, 'simple_latent_model.pt', \n",
        "     num_epochs=10, latent_logical_forms=True, \n",
        "     training_beam_size=100)"
      ]
    },
    {
      "cell_type": "code",
      "execution_count": null,
      "metadata": {
        "colab": {
          "base_uri": "https://localhost:8080/"
        },
        "id": "NKq3-CwHycwj",
        "outputId": "c1db1cc4-e3ff-4a72-deea-1d75d98914bb"
      },
      "outputs": [
        {
          "name": "stdout",
          "output_type": "stream",
          "text": [
            "dev example 1\n",
            "dev question: what states are there ?\n",
            "dev true LF: (lambda $w (and (state $w)))\n",
            "dev pred LF: (lambda $w (and (state $w)))\n",
            "dev true denotation: {'north_carolina', 'west_virginia', 'virginia'}\n",
            "dev pred denotation: {'north_carolina', 'west_virginia', 'virginia'}\n",
            "dev denotation match: True\n",
            "\n",
            "dev example 2\n",
            "dev question: what 's the capital of virginia ?\n",
            "dev true LF: (lambda $w (exists $x (and (capital-rel $w $x) (kb-virginia $x))))\n",
            "dev pred LF: (lambda $x (exists $w (and (kb-virginia $w) (capital-rel $x $w))))\n",
            "dev true denotation: {'richmond'}\n",
            "dev pred denotation: {'richmond'}\n",
            "dev denotation match: True\n",
            "\n",
            "dev example 3\n",
            "dev question: what oceans are there ?\n",
            "dev true LF: (lambda $w (and (ocean $w)))\n",
            "dev pred LF: (lambda $w (and (ocean $w)))\n",
            "dev true denotation: {'atlantic_ocean'}\n",
            "dev pred denotation: {'atlantic_ocean'}\n",
            "dev denotation match: True\n",
            "\n",
            "dev example 4\n",
            "dev question: what is the capital of virginia ?\n",
            "dev true LF: (lambda $w (exists $x (and (capital-rel $w $x) (kb-virginia $x))))\n",
            "dev pred LF: (lambda $x (exists $w (and (kb-virginia $w) (capital-rel $x $w))))\n",
            "dev true denotation: {'richmond'}\n",
            "dev pred denotation: {'richmond'}\n",
            "dev denotation match: True\n",
            "\n",
            "dev example 5\n",
            "dev question: what is the capital of virginia ?\n",
            "dev true LF: (lambda $w (exists $x (and (capital-rel $w $x) (kb-virginia $x))))\n",
            "dev pred LF: (lambda $x (exists $w (and (kb-virginia $w) (capital-rel $x $w))))\n",
            "dev true denotation: {'richmond'}\n",
            "dev pred denotation: {'richmond'}\n",
            "dev denotation match: True\n",
            "\n",
            "dev example 6\n",
            "dev question: what states are there ?\n",
            "dev true LF: (lambda $w (and (state $w)))\n",
            "dev pred LF: (lambda $w (and (state $w)))\n",
            "dev true denotation: {'west_virginia', 'virginia'}\n",
            "dev pred denotation: {'west_virginia', 'virginia'}\n",
            "dev denotation match: True\n",
            "\n",
            "dev example 7\n",
            "dev question: what national parks are there ?\n",
            "dev true LF: (lambda $w (and (park $w)))\n",
            "dev pred LF: (lambda $w (and (park $w)))\n",
            "dev true denotation: {'monongahela_national_forest'}\n",
            "dev pred denotation: {'monongahela_national_forest'}\n",
            "dev denotation match: True\n",
            "\n",
            "dev example 8\n",
            "dev question: what lakes are there ?\n",
            "dev true LF: (lambda $w (and (lake $w)))\n",
            "dev pred LF: (lambda $w (and (lake $w)))\n",
            "dev true denotation: {'tygart_lake'}\n",
            "dev pred denotation: {'tygart_lake'}\n",
            "dev denotation match: True\n",
            "\n",
            "dev example 9\n",
            "dev question: what 's the capital of virginia ?\n",
            "dev true LF: (lambda $w (exists $x (and (capital-rel $w $x) (kb-virginia $x))))\n",
            "dev pred LF: (lambda $x (exists $w (and (kb-virginia $w) (capital-rel $x $w))))\n",
            "dev true denotation: {'richmond'}\n",
            "dev pred denotation: {'richmond'}\n",
            "dev denotation match: True\n",
            "\n"
          ]
        },
        {
          "data": {
            "text/plain": [
              "{'dev_denotation_acc': 1.0}"
            ]
          },
          "execution_count": 207,
          "metadata": {},
          "output_type": "execute_result"
        }
      ],
      "source": [
        "evaluate_predictions(\n",
        "  simple_dev_dataset, 'dev', execute,\n",
        "  prediction_function=make_beam_prediction_function(simple_latent_model),\n",
        "  display_predictions_frequency=1\n",
        ")"
      ]
    },
    {
      "cell_type": "markdown",
      "metadata": {
        "id": "iz-6YQ6MLiII"
      },
      "source": [
        "Now, we'll proceed to training on the full dataset with an unrestricted model. The search space is larger here and it may take several epochs before performance starts to increase. While the training loss should consistently decrease, you may see fluctuations in denotation accuracy (both on train and dev) from epoch to epoch. However, you'll likely obtain training denotation accuracies >80% and dev denotation accuracies >70% at some point by epoch 5. Your maximal dev accuracy should be at least 63%, although there is again some variance due to the small dataset size, which is compounded by the variance from training from denotations. Our reference implementation obtained an average maximal dev accuracy of 80%, but ranged between 63% and 90% (over 40 trials). 10 epochs of training should take around 20-30 minutes."
      ]
    },
    {
      "cell_type": "code",
      "execution_count": null,
      "metadata": {
        "id": "6kZlEVV8LtTV"
      },
      "outputs": [],
      "source": [
        "latent_model = Model()"
      ]
    },
    {
      "cell_type": "code",
      "execution_count": null,
      "metadata": {
        "colab": {
          "background_save": true,
          "base_uri": "https://localhost:8080/",
          "height": 192,
          "referenced_widgets": [
            "acb767bc5d3f4a0eabb919e4e736d12d",
            "c9942d00e8474a9084102fcc622609f4",
            "d851a47dfd75411ba3291e331f361701",
            "5a35c25d91df421ba36ae904b449d99b",
            "ef2c3e2377414dcd94f3de9ac612f45b",
            "b6a50d3cecd845779863dc7eaed7f0e5",
            "cfc096f79fd849f2a649765ba447a27c",
            "a8b96e93640e42fc817dafd46375e9b3",
            "ddea3949a229411496044e660df1654d",
            "0f4226c01cf541ea999f9e282d6f521b",
            "973671cc86204cb3bc29f72a7d49af79",
            "591290b1dba34180bc385fc9a761f48e",
            "942dbdc94bb04c069ef6384af1f630b7",
            "49832e68a13144b793435170da0d70e8",
            "fd82940a34c54d49a042ba874b190cfb",
            "30f23a36178f432aa7120e5e04ced64e",
            "dbc042f5808d4d0490f96028691831fc",
            "1027f1dae8764c8fa037fc68bd9455e6",
            "07d4f341dc4742b39917f45754cf7692",
            "18a04c945de94da7ae118bd9e30d865d",
            "6300e41fbdff4b5a83d5de0946c75560",
            "beb12a5ed1864591aebb020e0ac55059",
            "64e7f9ecd09649e3aa9fb5b3b59ad0bf",
            "f4e40d6a3b3044499557181dfd6f5262",
            "e1a4bdc124484069b790445ac8334505",
            "fb6bb7d88e40443c93c3f565e2e63a13",
            "5d87c721a5dc4f50972ab4e67447f62f",
            "fbf46abd22384860b1c04472134c3732",
            "b034984f74404cd3828440fed3eb882d",
            "50f16ba1a4d341d0b9c5346317b3928a",
            "e94530572b3647e4a01162041bcbb608",
            "747e405ec02e40a5b1fdbe43a9db2844",
            "82132fed560643d0b1aa2198adce2d8f",
            "9c69dbe24a224526a3c22168d7d6d08e",
            "5c3769223d274fc4b32f451949277aa3",
            "39052b54bc954270806ff3cd5725efcf",
            "22a8b7cd6feb4bdca3a541b190e9a801",
            "9212a04619e3417a9ca80c51ba7fe76a",
            "e5aa5f94c9eb4c63b014028e246f75da",
            "9af001ed3047438282feef782ba0c9b0",
            "bb9064f798954235afaa7638577f332a",
            "e35b0132c4d241c68f7c704779c37aed",
            "b62b515aff334b889c266fef6e32672e",
            "95b079d1d6784fe984ed650c8a9da7b4",
            "9e6aa9f4afa04039b51f393a14257970",
            "1552bcc7d89d487d91fb7bc85377d98f",
            "e7e0db15d18346348876c1bc3653abe2",
            "8b98849f3de142608bfc01fa782d0f35",
            "468ec60ad6834c54b5bebf4f00cd3d8b",
            "4979038561084923a06378938400bd98",
            "5c39343fd6814bc0a67cf7a69b7f46f6",
            "6e7a69d59ad1491abef9ddcf8608daf8",
            "0b923381c1234538bfc9e5d4a5d061a5",
            "1bbfb6d08ac143989a77dd6ee8bf56da",
            "b5e1e9984ec041ec8e952831fae8a8d7",
            "b759c64095994d7e916658a48f59be99",
            "ceb8aec545a0455a947eac5abc34c02f",
            "0561ba18ba0c4df58f62fe15aa53f015",
            "68e671f2e4ba4f27a85f86ac35b6352b",
            "c0bca38a705d4764a8615195ed871b55",
            "c165440d9e6f41e0aca862652dbf2a3e"
          ]
        },
        "id": "DoQGZMQuLwk2",
        "outputId": "2c2e49e5-770e-4925-9714-4daf5538d027"
      },
      "outputs": [
        {
          "data": {
            "application/vnd.jupyter.widget-view+json": {
              "model_id": "acb767bc5d3f4a0eabb919e4e736d12d",
              "version_major": 2,
              "version_minor": 0
            },
            "text/plain": [
              "training:   0%|          | 0/10 [00:00<?, ?epoch/s]"
            ]
          },
          "metadata": {},
          "output_type": "display_data"
        },
        {
          "data": {
            "application/vnd.jupyter.widget-view+json": {
              "model_id": "591290b1dba34180bc385fc9a761f48e",
              "version_major": 2,
              "version_minor": 0
            },
            "text/plain": [
              "epoch 1:   0%|          | 0/133 [00:00<?, ?instance/s]"
            ]
          },
          "metadata": {},
          "output_type": "display_data"
        },
        {
          "name": "stdout",
          "output_type": "stream",
          "text": [
            "Obtained a new best development accuracy of 0.610, saving model checkpoint to latent_model.pt...\n"
          ]
        },
        {
          "data": {
            "application/vnd.jupyter.widget-view+json": {
              "model_id": "64e7f9ecd09649e3aa9fb5b3b59ad0bf",
              "version_major": 2,
              "version_minor": 0
            },
            "text/plain": [
              "epoch 2:   0%|          | 0/133 [00:00<?, ?instance/s]"
            ]
          },
          "metadata": {},
          "output_type": "display_data"
        },
        {
          "data": {
            "application/vnd.jupyter.widget-view+json": {
              "model_id": "9c69dbe24a224526a3c22168d7d6d08e",
              "version_major": 2,
              "version_minor": 0
            },
            "text/plain": [
              "epoch 3:   0%|          | 0/133 [00:00<?, ?instance/s]"
            ]
          },
          "metadata": {},
          "output_type": "display_data"
        },
        {
          "data": {
            "application/vnd.jupyter.widget-view+json": {
              "model_id": "9e6aa9f4afa04039b51f393a14257970",
              "version_major": 2,
              "version_minor": 0
            },
            "text/plain": [
              "epoch 4:   0%|          | 0/133 [00:00<?, ?instance/s]"
            ]
          },
          "metadata": {},
          "output_type": "display_data"
        },
        {
          "name": "stdout",
          "output_type": "stream",
          "text": [
            "Obtained a new best development accuracy of 0.805, saving model checkpoint to latent_model.pt...\n"
          ]
        },
        {
          "data": {
            "application/vnd.jupyter.widget-view+json": {
              "model_id": "b759c64095994d7e916658a48f59be99",
              "version_major": 2,
              "version_minor": 0
            },
            "text/plain": [
              "epoch 5:   0%|          | 0/133 [00:00<?, ?instance/s]"
            ]
          },
          "metadata": {},
          "output_type": "display_data"
        },
        {
          "data": {
            "application/vnd.jupyter.widget-view+json": {
              "model_id": "ceb8aec545a0455a947eac5abc34c02f",
              "version_major": 2,
              "version_minor": 0
            },
            "text/plain": [
              "epoch 6:   0%|          | 0/133 [00:00<?, ?instance/s]"
            ]
          },
          "metadata": {},
          "output_type": "display_data"
        },
        {
          "name": "stdout",
          "output_type": "stream",
          "text": [
            "Obtained a new best development accuracy of 0.854, saving model checkpoint to latent_model.pt...\n"
          ]
        },
        {
          "data": {
            "application/vnd.jupyter.widget-view+json": {
              "model_id": "0561ba18ba0c4df58f62fe15aa53f015",
              "version_major": 2,
              "version_minor": 0
            },
            "text/plain": [
              "epoch 7:   0%|          | 0/133 [00:00<?, ?instance/s]"
            ]
          },
          "metadata": {},
          "output_type": "display_data"
        },
        {
          "data": {
            "application/vnd.jupyter.widget-view+json": {
              "model_id": "68e671f2e4ba4f27a85f86ac35b6352b",
              "version_major": 2,
              "version_minor": 0
            },
            "text/plain": [
              "epoch 8:   0%|          | 0/133 [00:00<?, ?instance/s]"
            ]
          },
          "metadata": {},
          "output_type": "display_data"
        },
        {
          "data": {
            "application/vnd.jupyter.widget-view+json": {
              "model_id": "c0bca38a705d4764a8615195ed871b55",
              "version_major": 2,
              "version_minor": 0
            },
            "text/plain": [
              "epoch 9:   0%|          | 0/133 [00:00<?, ?instance/s]"
            ]
          },
          "metadata": {},
          "output_type": "display_data"
        },
        {
          "data": {
            "application/vnd.jupyter.widget-view+json": {
              "model_id": "c165440d9e6f41e0aca862652dbf2a3e",
              "version_major": 2,
              "version_minor": 0
            },
            "text/plain": [
              "epoch 10:   0%|          | 0/133 [00:00<?, ?instance/s]"
            ]
          },
          "metadata": {},
          "output_type": "display_data"
        },
        {
          "name": "stdout",
          "output_type": "stream",
          "text": [
            "Maximal development accuracy of 0.854\n",
            "Reloading best model checkpoint from latent_model.pt...\n"
          ]
        }
      ],
      "source": [
        "train(latent_model, train_dataset, dev_dataset, 'latent_model.pt', \n",
        "     num_epochs=10, latent_logical_forms=True, \n",
        "     training_beam_size=100)"
      ]
    },
    {
      "cell_type": "markdown",
      "metadata": {
        "id": "mAhA-fKcL72O"
      },
      "source": [
        "You can run the following cell to see the model predictions:"
      ]
    },
    {
      "cell_type": "code",
      "execution_count": 212,
      "metadata": {
        "id": "szKxJV_AL63h",
        "colab": {
          "base_uri": "https://localhost:8080/"
        },
        "outputId": "42cf4508-3285-4ac1-af49-0dfd59cca5a3"
      },
      "outputs": [
        {
          "output_type": "stream",
          "name": "stdout",
          "text": [
            "dev example 1\n",
            "dev question: what states are there ?\n",
            "dev true LF: (lambda $w (and (state $w)))\n",
            "dev pred LF: (lambda $w (and (state $w)))\n",
            "dev true denotation: {'north_carolina', 'west_virginia', 'virginia'}\n",
            "dev pred denotation: {'north_carolina', 'west_virginia', 'virginia'}\n",
            "dev denotation match: True\n",
            "\n",
            "dev example 6\n",
            "dev question: what is the capital of virginia ?\n",
            "dev true LF: (lambda $w (exists $x (and (capital-rel $w $x) (kb-virginia $x))))\n",
            "dev pred LF: (lambda $x (exists $w (and (kb-virginia $w) (capital $x) (capital-rel $x $w))))\n",
            "dev true denotation: {'richmond'}\n",
            "dev pred denotation: set()\n",
            "dev denotation match: False\n",
            "\n",
            "dev example 11\n",
            "dev question: what cities in west virginia ?\n",
            "dev true LF: (lambda $w (exists $x (and (city $w) (in-rel $w $x) (kb-west_virginia $x))))\n",
            "dev pred LF: (lambda $x (exists $w (and (kb-west_virginia $w) (city $x) (in-rel $x $w))))\n",
            "dev true denotation: set()\n",
            "dev pred denotation: set()\n",
            "dev denotation match: True\n",
            "\n",
            "dev example 16\n",
            "dev question: what state is south of west virginia ?\n",
            "dev true LF: (lambda $w (exists $x (and (state $w) (south-rel $w $x) (kb-west_virginia $x))))\n",
            "dev pred LF: (lambda $x (exists $w (and (kb-west_virginia $w) (state $x) (south-rel $x $w))))\n",
            "dev true denotation: {'virginia'}\n",
            "dev pred denotation: {'virginia'}\n",
            "dev denotation match: True\n",
            "\n",
            "dev example 21\n",
            "dev question: what ocean borders virginia ?\n",
            "dev true LF: (lambda $w (exists $x (and (ocean $w) (border-rel $w $x) (kb-virginia $x))))\n",
            "dev pred LF: (lambda $x (exists $w (and (kb-virginia $w) (ocean $x) (border-rel $x $w))))\n",
            "dev true denotation: {'atlantic_ocean'}\n",
            "dev pred denotation: {'atlantic_ocean'}\n",
            "dev denotation match: True\n",
            "\n",
            "dev example 26\n",
            "dev question: is virginia beach inside of west virginia ?\n",
            "dev true LF: (lambda $w (exists $x (and (kb-virginia_beach $w) (inside-rel $w $x) (kb-west_virginia $x))))\n",
            "dev pred LF: (lambda $x (exists $w (and (kb-west_virginia $w) (kb-virginia $x) (inside-rel $x $w))))\n",
            "dev true denotation: set()\n",
            "dev pred denotation: set()\n",
            "dev denotation match: True\n",
            "\n",
            "dev example 31\n",
            "dev question: is the atlantic ocean in west virginia ?\n",
            "dev true LF: (lambda $w (exists $x (and (kb-atlantic_ocean $w) (in-rel $w $x) (kb-west_virginia $x))))\n",
            "dev pred LF: (lambda $x (exists $w (and (kb-west_virginia $w) (kb-atlantic_ocean $x) (in-rel $x $w))))\n",
            "dev true denotation: set()\n",
            "dev pred denotation: set()\n",
            "dev denotation match: True\n",
            "\n",
            "dev example 36\n",
            "dev question: what cities are in virginia ?\n",
            "dev true LF: (lambda $w (exists $x (and (city $w) (in-rel $w $x) (kb-virginia $x))))\n",
            "dev pred LF: (lambda $x (exists $w (and (kb-virginia $w) (city $x) (in-rel $x $w))))\n",
            "dev true denotation: {'richmond'}\n",
            "dev pred denotation: {'richmond'}\n",
            "dev denotation match: True\n",
            "\n",
            "dev example 41\n",
            "dev question: is virginia east of west virginia ?\n",
            "dev true LF: (lambda $w (exists $x (and (kb-virginia $w) (east-rel $w $x) (kb-west_virginia $x))))\n",
            "dev pred LF: (lambda $x (exists $w (and (kb-west_virginia $w) (kb-virginia $x) (east-rel $x $w))))\n",
            "dev true denotation: {'virginia'}\n",
            "dev pred denotation: {'virginia'}\n",
            "dev denotation match: True\n",
            "\n"
          ]
        },
        {
          "output_type": "execute_result",
          "data": {
            "text/plain": [
              "{'dev_denotation_acc': 0.8536585365853658}"
            ]
          },
          "metadata": {},
          "execution_count": 212
        }
      ],
      "source": [
        "evaluate_predictions(\n",
        "  dev_dataset, 'dev', execute,\n",
        "  prediction_function=make_beam_prediction_function(latent_model),\n",
        "  display_predictions_frequency=5\n",
        ")"
      ]
    },
    {
      "cell_type": "markdown",
      "metadata": {
        "id": "p4phpKIGu4MW"
      },
      "source": [
        "# Report: Qualitative Error Analysis and Comparison\n",
        "\n",
        "For this section, you will perform a qualitative error analysis on the parsers that you have trained. By analyzing the output of the `evaluate_predictions` method (lowering the `display_predictions_frequency` parameter may be of use here) on both your `supervised_model` and `latent_model`, please discuss the following: \n",
        "* What general trends do you observe? \n",
        "* What mistakes does each model make, what do they do well? \n",
        "* Are there any differences you observe between the two models' behavior? \n",
        "\n",
        "There are many possibilities for focusing the narrative of your analysis. For example, you could focus your narrative around analyzing the effects (if any) of relaxing the assumption of logical form supervision in the supervised model to denotation-only supervision in the latent variable model.\n",
        "\n",
        "For full credit, please support your analysis with: \n",
        "* Examples from the development set.\n",
        "* A discussion motivating why you believe you are observing the trends you noted. Appealing to the models' formulation will be useful for this. Although not necessary, we encourage you to refer to the papers cited in this notebook to help you formulate your thoughts for this discussion.  \n",
        "\n",
        "You should aim for no more than 1-page worth of text, but may use more pages to fit any figures and visualizations you deem appropriate. You may use any editor you like, but we recommend using LaTeX and working in an environment like Overleaf. \n",
        "\n",
        "When you submit the report, name it **report.pdf**. "
      ]
    },
    {
      "cell_type": "markdown",
      "metadata": {
        "id": "X5r-_Q-aBciM"
      },
      "source": [
        "## Submission"
      ]
    },
    {
      "cell_type": "code",
      "execution_count": 213,
      "metadata": {
        "id": "aBDmSM1-mpnn"
      },
      "outputs": [],
      "source": [
        "def dump_logical_form_actions(dataset, fname):\n",
        "  with open(fname, 'w') as f:\n",
        "    for i in range(len(dataset)):\n",
        "      parser_state = ParserState.from_logical_form(dataset[i]['logical_form'])\n",
        "      f.write('{}\\n'.format(' '.join(parser_state.actions())))"
      ]
    },
    {
      "cell_type": "code",
      "execution_count": 216,
      "metadata": {
        "id": "kxsS7TmEnE_Z"
      },
      "outputs": [],
      "source": [
        "# to test your ParserState.take_action() method, we'll also save \n",
        "# the actions for the true logical forms\n",
        "dump_logical_form_actions(dev_dataset, './dev_true_lf_actions.txt')\n",
        "dump_logical_form_actions(test_dataset, './test_true_lf_actions.txt')"
      ]
    },
    {
      "cell_type": "code",
      "execution_count": 218,
      "metadata": {
        "id": "xvANxD_gBdra",
        "colab": {
          "base_uri": "https://localhost:8080/"
        },
        "outputId": "3c8e2184-9022-45bb-b1a9-124de0c3f172"
      },
      "outputs": [
        {
          "output_type": "stream",
          "name": "stdout",
          "text": [
            "{'supervised_dev_denotation_acc': 0.7804878048780488}\n",
            "{'supervised_test_denotation_acc': 0.6274509803921569}\n",
            "{'latent_dev_denotation_acc': 0.7073170731707317}\n",
            "{'latent_test_denotation_acc': 0.6274509803921569}\n"
          ]
        }
      ],
      "source": [
        "# Uncomment this code to restore models from a checkpoint.\n",
        "#\n",
        " #supervised_model = Model(max_vars=4, no_repeated_literals=True)\n",
        " #supervised_model.load_state_dict(torch.load('supervised_model.pt'))\n",
        " #latent_model = Model(max_vars=4, no_repeated_literals=True)\n",
        " #latent_model.load_state_dict(torch.load('latent_model.pt'))\n",
        "\n",
        "pprint.pprint(evaluate_predictions(\n",
        "  dev_dataset, 'supervised_dev', execute,\n",
        "  prediction_function=make_beam_prediction_function(supervised_model, 5),\n",
        "  logical_form_output_file='./supervised_dev_lfs.txt'\n",
        "))\n",
        "pprint.pprint(evaluate_predictions(\n",
        "  test_dataset, 'supervised_test', execute,\n",
        "  prediction_function=make_beam_prediction_function(supervised_model, 5),\n",
        "  logical_form_output_file='./supervised_test_lfs.txt'\n",
        "))\n",
        "pprint.pprint(evaluate_predictions(\n",
        "  dev_dataset, 'latent_dev', execute,\n",
        "  prediction_function=make_beam_prediction_function(latent_model, 5),\n",
        "  logical_form_output_file='./latent_dev_lfs.txt'\n",
        "))\n",
        "pprint.pprint(evaluate_predictions(\n",
        "  test_dataset, 'latent_test', execute,\n",
        "  prediction_function=make_beam_prediction_function(latent_model, 5),\n",
        "  logical_form_output_file='./latent_test_lfs.txt'\n",
        "))"
      ]
    },
    {
      "cell_type": "markdown",
      "metadata": {
        "id": "b3tuEAhWBj1B"
      },
      "source": [
        "Your submission should consist of your code, the actions to generate true logical forms for the dev and test set (to test your ParserState.take_action() method), as well as the logical forms predicted by your model for both dev and test data in supervised and latent settings. Turn in the following files on Gradescope:\n",
        "\n",
        "- hw4.ipynb (this file; please rename to match)\n",
        "- report.pdf\n",
        "- dev_true_lf_actions.txt\n",
        "- test_true_lf_actions.txt\n",
        "- supervised_dev_lfs.txt\n",
        "- supervised_test_lfs.txt\n",
        "- latent_dev_lfs.txt\n",
        "- latent_test_lfs.txt\n",
        "\n",
        "Be sure to check the output of the autograder after it runs. It should confirm that no files are missing and that the output files have the correct format."
      ]
    }
  ],
  "metadata": {
    "colab": {
      "name": "hw4.ipynb",
      "provenance": []
    },
    "kernelspec": {
      "display_name": "Python 3",
      "language": "python",
      "name": "python3"
    },
    "language_info": {
      "codemirror_mode": {
        "name": "ipython",
        "version": 3
      },
      "file_extension": ".py",
      "mimetype": "text/x-python",
      "name": "python",
      "nbconvert_exporter": "python",
      "pygments_lexer": "ipython3",
      "version": "3.6.4"
    },
    "widgets": {
      "application/vnd.jupyter.widget-state+json": {
        "002cb1dc068b4798bfc7aae3e2e502d6": {
          "model_module": "@jupyter-widgets/base",
          "model_module_version": "1.2.0",
          "model_name": "LayoutModel",
          "state": {
            "_model_module": "@jupyter-widgets/base",
            "_model_module_version": "1.2.0",
            "_model_name": "LayoutModel",
            "_view_count": null,
            "_view_module": "@jupyter-widgets/base",
            "_view_module_version": "1.2.0",
            "_view_name": "LayoutView",
            "align_content": null,
            "align_items": null,
            "align_self": null,
            "border": null,
            "bottom": null,
            "display": null,
            "flex": null,
            "flex_flow": null,
            "grid_area": null,
            "grid_auto_columns": null,
            "grid_auto_flow": null,
            "grid_auto_rows": null,
            "grid_column": null,
            "grid_gap": null,
            "grid_row": null,
            "grid_template_areas": null,
            "grid_template_columns": null,
            "grid_template_rows": null,
            "height": null,
            "justify_content": null,
            "justify_items": null,
            "left": null,
            "margin": null,
            "max_height": null,
            "max_width": null,
            "min_height": null,
            "min_width": null,
            "object_fit": null,
            "object_position": null,
            "order": null,
            "overflow": null,
            "overflow_x": null,
            "overflow_y": null,
            "padding": null,
            "right": null,
            "top": null,
            "visibility": null,
            "width": null
          }
        },
        "0099cc18b7e743ecad3dbb656be49edf": {
          "model_module": "@jupyter-widgets/controls",
          "model_module_version": "1.5.0",
          "model_name": "DescriptionStyleModel",
          "state": {
            "_model_module": "@jupyter-widgets/controls",
            "_model_module_version": "1.5.0",
            "_model_name": "DescriptionStyleModel",
            "_view_count": null,
            "_view_module": "@jupyter-widgets/base",
            "_view_module_version": "1.2.0",
            "_view_name": "StyleView",
            "description_width": ""
          }
        },
        "0240962ea6004474aa0a2d18d03bb0ef": {
          "model_module": "@jupyter-widgets/controls",
          "model_module_version": "1.5.0",
          "model_name": "FloatProgressModel",
          "state": {
            "_dom_classes": [],
            "_model_module": "@jupyter-widgets/controls",
            "_model_module_version": "1.5.0",
            "_model_name": "FloatProgressModel",
            "_view_count": null,
            "_view_module": "@jupyter-widgets/controls",
            "_view_module_version": "1.5.0",
            "_view_name": "ProgressView",
            "bar_style": "success",
            "description": "",
            "description_tooltip": null,
            "layout": "IPY_MODEL_174958f3eace4946a375e48f04e6160a",
            "max": 133,
            "min": 0,
            "orientation": "horizontal",
            "style": "IPY_MODEL_44e7214a5f7447a585428e31ff99583e",
            "value": 133
          }
        },
        "05ce7383ba5e459895ad1bbf463429a9": {
          "model_module": "@jupyter-widgets/controls",
          "model_module_version": "1.5.0",
          "model_name": "HBoxModel",
          "state": {
            "_dom_classes": [],
            "_model_module": "@jupyter-widgets/controls",
            "_model_module_version": "1.5.0",
            "_model_name": "HBoxModel",
            "_view_count": null,
            "_view_module": "@jupyter-widgets/controls",
            "_view_module_version": "1.5.0",
            "_view_name": "HBoxView",
            "box_style": "",
            "children": [
              "IPY_MODEL_779a7f40a8bf48e5867b9cbd3a8e8681",
              "IPY_MODEL_57a3ee076c764195a556de40e61b9b41",
              "IPY_MODEL_e8fb38029b894e9d8dc7b03e8d5d0e37"
            ],
            "layout": "IPY_MODEL_3254174e17964cb7945574b5a2266131"
          }
        },
        "0618a95f170745639251160754113052": {
          "model_module": "@jupyter-widgets/controls",
          "model_module_version": "1.5.0",
          "model_name": "FloatProgressModel",
          "state": {
            "_dom_classes": [],
            "_model_module": "@jupyter-widgets/controls",
            "_model_module_version": "1.5.0",
            "_model_name": "FloatProgressModel",
            "_view_count": null,
            "_view_module": "@jupyter-widgets/controls",
            "_view_module_version": "1.5.0",
            "_view_name": "ProgressView",
            "bar_style": "success",
            "description": "",
            "description_tooltip": null,
            "layout": "IPY_MODEL_fc7bf029e7f94e9eaa9819d0c3579298",
            "max": 40,
            "min": 0,
            "orientation": "horizontal",
            "style": "IPY_MODEL_38f91490ca20441490fbe9dc882da8ad",
            "value": 40
          }
        },
        "06ab2df320934d3e86a772f877db9f7a": {
          "model_module": "@jupyter-widgets/base",
          "model_module_version": "1.2.0",
          "model_name": "LayoutModel",
          "state": {
            "_model_module": "@jupyter-widgets/base",
            "_model_module_version": "1.2.0",
            "_model_name": "LayoutModel",
            "_view_count": null,
            "_view_module": "@jupyter-widgets/base",
            "_view_module_version": "1.2.0",
            "_view_name": "LayoutView",
            "align_content": null,
            "align_items": null,
            "align_self": null,
            "border": null,
            "bottom": null,
            "display": null,
            "flex": null,
            "flex_flow": null,
            "grid_area": null,
            "grid_auto_columns": null,
            "grid_auto_flow": null,
            "grid_auto_rows": null,
            "grid_column": null,
            "grid_gap": null,
            "grid_row": null,
            "grid_template_areas": null,
            "grid_template_columns": null,
            "grid_template_rows": null,
            "height": null,
            "justify_content": null,
            "justify_items": null,
            "left": null,
            "margin": null,
            "max_height": null,
            "max_width": null,
            "min_height": null,
            "min_width": null,
            "object_fit": null,
            "object_position": null,
            "order": null,
            "overflow": null,
            "overflow_x": null,
            "overflow_y": null,
            "padding": null,
            "right": null,
            "top": null,
            "visibility": null,
            "width": null
          }
        },
        "0724c7c2ddee4db383672a92d36d8447": {
          "model_module": "@jupyter-widgets/controls",
          "model_module_version": "1.5.0",
          "model_name": "HTMLModel",
          "state": {
            "_dom_classes": [],
            "_model_module": "@jupyter-widgets/controls",
            "_model_module_version": "1.5.0",
            "_model_name": "HTMLModel",
            "_view_count": null,
            "_view_module": "@jupyter-widgets/controls",
            "_view_module_version": "1.5.0",
            "_view_name": "HTMLView",
            "description": "",
            "description_tooltip": null,
            "layout": "IPY_MODEL_4acd422a020c4384b90e5c4106256bd9",
            "placeholder": "​",
            "style": "IPY_MODEL_d4288fa314bc4b1cb908a513738e6c26",
            "value": " 133/133 [00:04&lt;00:00, 27.67instance/s]"
          }
        },
        "07d4f341dc4742b39917f45754cf7692": {
          "model_module": "@jupyter-widgets/base",
          "model_module_version": "1.2.0",
          "model_name": "LayoutModel",
          "state": {
            "_model_module": "@jupyter-widgets/base",
            "_model_module_version": "1.2.0",
            "_model_name": "LayoutModel",
            "_view_count": null,
            "_view_module": "@jupyter-widgets/base",
            "_view_module_version": "1.2.0",
            "_view_name": "LayoutView",
            "align_content": null,
            "align_items": null,
            "align_self": null,
            "border": null,
            "bottom": null,
            "display": null,
            "flex": null,
            "flex_flow": null,
            "grid_area": null,
            "grid_auto_columns": null,
            "grid_auto_flow": null,
            "grid_auto_rows": null,
            "grid_column": null,
            "grid_gap": null,
            "grid_row": null,
            "grid_template_areas": null,
            "grid_template_columns": null,
            "grid_template_rows": null,
            "height": null,
            "justify_content": null,
            "justify_items": null,
            "left": null,
            "margin": null,
            "max_height": null,
            "max_width": null,
            "min_height": null,
            "min_width": null,
            "object_fit": null,
            "object_position": null,
            "order": null,
            "overflow": null,
            "overflow_x": null,
            "overflow_y": null,
            "padding": null,
            "right": null,
            "top": null,
            "visibility": null,
            "width": null
          }
        },
        "0a70bdf578404b29aa528a877f4d6cbd": {
          "model_module": "@jupyter-widgets/base",
          "model_module_version": "1.2.0",
          "model_name": "LayoutModel",
          "state": {
            "_model_module": "@jupyter-widgets/base",
            "_model_module_version": "1.2.0",
            "_model_name": "LayoutModel",
            "_view_count": null,
            "_view_module": "@jupyter-widgets/base",
            "_view_module_version": "1.2.0",
            "_view_name": "LayoutView",
            "align_content": null,
            "align_items": null,
            "align_self": null,
            "border": null,
            "bottom": null,
            "display": null,
            "flex": null,
            "flex_flow": null,
            "grid_area": null,
            "grid_auto_columns": null,
            "grid_auto_flow": null,
            "grid_auto_rows": null,
            "grid_column": null,
            "grid_gap": null,
            "grid_row": null,
            "grid_template_areas": null,
            "grid_template_columns": null,
            "grid_template_rows": null,
            "height": null,
            "justify_content": null,
            "justify_items": null,
            "left": null,
            "margin": null,
            "max_height": null,
            "max_width": null,
            "min_height": null,
            "min_width": null,
            "object_fit": null,
            "object_position": null,
            "order": null,
            "overflow": null,
            "overflow_x": null,
            "overflow_y": null,
            "padding": null,
            "right": null,
            "top": null,
            "visibility": null,
            "width": null
          }
        },
        "0b0ece51fd224631b26a5c6e0095ce8b": {
          "model_module": "@jupyter-widgets/controls",
          "model_module_version": "1.5.0",
          "model_name": "DescriptionStyleModel",
          "state": {
            "_model_module": "@jupyter-widgets/controls",
            "_model_module_version": "1.5.0",
            "_model_name": "DescriptionStyleModel",
            "_view_count": null,
            "_view_module": "@jupyter-widgets/base",
            "_view_module_version": "1.2.0",
            "_view_name": "StyleView",
            "description_width": ""
          }
        },
        "0b923381c1234538bfc9e5d4a5d061a5": {
          "model_module": "@jupyter-widgets/controls",
          "model_module_version": "1.5.0",
          "model_name": "ProgressStyleModel",
          "state": {
            "_model_module": "@jupyter-widgets/controls",
            "_model_module_version": "1.5.0",
            "_model_name": "ProgressStyleModel",
            "_view_count": null,
            "_view_module": "@jupyter-widgets/base",
            "_view_module_version": "1.2.0",
            "_view_name": "StyleView",
            "bar_color": null,
            "description_width": ""
          }
        },
        "0e55fb4cb1274d56b8318893b60b41b6": {
          "model_module": "@jupyter-widgets/controls",
          "model_module_version": "1.5.0",
          "model_name": "DescriptionStyleModel",
          "state": {
            "_model_module": "@jupyter-widgets/controls",
            "_model_module_version": "1.5.0",
            "_model_name": "DescriptionStyleModel",
            "_view_count": null,
            "_view_module": "@jupyter-widgets/base",
            "_view_module_version": "1.2.0",
            "_view_name": "StyleView",
            "description_width": ""
          }
        },
        "0f4226c01cf541ea999f9e282d6f521b": {
          "model_module": "@jupyter-widgets/base",
          "model_module_version": "1.2.0",
          "model_name": "LayoutModel",
          "state": {
            "_model_module": "@jupyter-widgets/base",
            "_model_module_version": "1.2.0",
            "_model_name": "LayoutModel",
            "_view_count": null,
            "_view_module": "@jupyter-widgets/base",
            "_view_module_version": "1.2.0",
            "_view_name": "LayoutView",
            "align_content": null,
            "align_items": null,
            "align_self": null,
            "border": null,
            "bottom": null,
            "display": null,
            "flex": null,
            "flex_flow": null,
            "grid_area": null,
            "grid_auto_columns": null,
            "grid_auto_flow": null,
            "grid_auto_rows": null,
            "grid_column": null,
            "grid_gap": null,
            "grid_row": null,
            "grid_template_areas": null,
            "grid_template_columns": null,
            "grid_template_rows": null,
            "height": null,
            "justify_content": null,
            "justify_items": null,
            "left": null,
            "margin": null,
            "max_height": null,
            "max_width": null,
            "min_height": null,
            "min_width": null,
            "object_fit": null,
            "object_position": null,
            "order": null,
            "overflow": null,
            "overflow_x": null,
            "overflow_y": null,
            "padding": null,
            "right": null,
            "top": null,
            "visibility": null,
            "width": null
          }
        },
        "1027f1dae8764c8fa037fc68bd9455e6": {
          "model_module": "@jupyter-widgets/controls",
          "model_module_version": "1.5.0",
          "model_name": "DescriptionStyleModel",
          "state": {
            "_model_module": "@jupyter-widgets/controls",
            "_model_module_version": "1.5.0",
            "_model_name": "DescriptionStyleModel",
            "_view_count": null,
            "_view_module": "@jupyter-widgets/base",
            "_view_module_version": "1.2.0",
            "_view_name": "StyleView",
            "description_width": ""
          }
        },
        "1029b7b75b1943c994a57ba8beb4275a": {
          "model_module": "@jupyter-widgets/base",
          "model_module_version": "1.2.0",
          "model_name": "LayoutModel",
          "state": {
            "_model_module": "@jupyter-widgets/base",
            "_model_module_version": "1.2.0",
            "_model_name": "LayoutModel",
            "_view_count": null,
            "_view_module": "@jupyter-widgets/base",
            "_view_module_version": "1.2.0",
            "_view_name": "LayoutView",
            "align_content": null,
            "align_items": null,
            "align_self": null,
            "border": null,
            "bottom": null,
            "display": null,
            "flex": null,
            "flex_flow": null,
            "grid_area": null,
            "grid_auto_columns": null,
            "grid_auto_flow": null,
            "grid_auto_rows": null,
            "grid_column": null,
            "grid_gap": null,
            "grid_row": null,
            "grid_template_areas": null,
            "grid_template_columns": null,
            "grid_template_rows": null,
            "height": null,
            "justify_content": null,
            "justify_items": null,
            "left": null,
            "margin": null,
            "max_height": null,
            "max_width": null,
            "min_height": null,
            "min_width": null,
            "object_fit": null,
            "object_position": null,
            "order": null,
            "overflow": null,
            "overflow_x": null,
            "overflow_y": null,
            "padding": null,
            "right": null,
            "top": null,
            "visibility": null,
            "width": null
          }
        },
        "1312366de1d742cb84c1d0394f2fad43": {
          "model_module": "@jupyter-widgets/base",
          "model_module_version": "1.2.0",
          "model_name": "LayoutModel",
          "state": {
            "_model_module": "@jupyter-widgets/base",
            "_model_module_version": "1.2.0",
            "_model_name": "LayoutModel",
            "_view_count": null,
            "_view_module": "@jupyter-widgets/base",
            "_view_module_version": "1.2.0",
            "_view_name": "LayoutView",
            "align_content": null,
            "align_items": null,
            "align_self": null,
            "border": null,
            "bottom": null,
            "display": null,
            "flex": null,
            "flex_flow": null,
            "grid_area": null,
            "grid_auto_columns": null,
            "grid_auto_flow": null,
            "grid_auto_rows": null,
            "grid_column": null,
            "grid_gap": null,
            "grid_row": null,
            "grid_template_areas": null,
            "grid_template_columns": null,
            "grid_template_rows": null,
            "height": null,
            "justify_content": null,
            "justify_items": null,
            "left": null,
            "margin": null,
            "max_height": null,
            "max_width": null,
            "min_height": null,
            "min_width": null,
            "object_fit": null,
            "object_position": null,
            "order": null,
            "overflow": null,
            "overflow_x": null,
            "overflow_y": null,
            "padding": null,
            "right": null,
            "top": null,
            "visibility": null,
            "width": null
          }
        },
        "131fc0a78ff84924908890deb157df13": {
          "model_module": "@jupyter-widgets/controls",
          "model_module_version": "1.5.0",
          "model_name": "DescriptionStyleModel",
          "state": {
            "_model_module": "@jupyter-widgets/controls",
            "_model_module_version": "1.5.0",
            "_model_name": "DescriptionStyleModel",
            "_view_count": null,
            "_view_module": "@jupyter-widgets/base",
            "_view_module_version": "1.2.0",
            "_view_name": "StyleView",
            "description_width": ""
          }
        },
        "13a4e11fb00c445d91c7f4b2d6b931b4": {
          "model_module": "@jupyter-widgets/controls",
          "model_module_version": "1.5.0",
          "model_name": "DescriptionStyleModel",
          "state": {
            "_model_module": "@jupyter-widgets/controls",
            "_model_module_version": "1.5.0",
            "_model_name": "DescriptionStyleModel",
            "_view_count": null,
            "_view_module": "@jupyter-widgets/base",
            "_view_module_version": "1.2.0",
            "_view_name": "StyleView",
            "description_width": ""
          }
        },
        "13f9384c50694f96998482822b73da01": {
          "model_module": "@jupyter-widgets/controls",
          "model_module_version": "1.5.0",
          "model_name": "ProgressStyleModel",
          "state": {
            "_model_module": "@jupyter-widgets/controls",
            "_model_module_version": "1.5.0",
            "_model_name": "ProgressStyleModel",
            "_view_count": null,
            "_view_module": "@jupyter-widgets/base",
            "_view_module_version": "1.2.0",
            "_view_name": "StyleView",
            "bar_color": null,
            "description_width": ""
          }
        },
        "1552bcc7d89d487d91fb7bc85377d98f": {
          "model_module": "@jupyter-widgets/controls",
          "model_module_version": "1.5.0",
          "model_name": "HTMLModel",
          "state": {
            "_dom_classes": [],
            "_model_module": "@jupyter-widgets/controls",
            "_model_module_version": "1.5.0",
            "_model_name": "HTMLModel",
            "_view_count": null,
            "_view_module": "@jupyter-widgets/controls",
            "_view_module_version": "1.5.0",
            "_view_name": "HTMLView",
            "description": "",
            "description_tooltip": null,
            "layout": "IPY_MODEL_4979038561084923a06378938400bd98",
            "placeholder": "​",
            "style": "IPY_MODEL_5c39343fd6814bc0a67cf7a69b7f46f6",
            "value": "epoch 4:   6%"
          }
        },
        "1715d38b161c4b8399132634fc4f0d54": {
          "model_module": "@jupyter-widgets/controls",
          "model_module_version": "1.5.0",
          "model_name": "HTMLModel",
          "state": {
            "_dom_classes": [],
            "_model_module": "@jupyter-widgets/controls",
            "_model_module_version": "1.5.0",
            "_model_name": "HTMLModel",
            "_view_count": null,
            "_view_module": "@jupyter-widgets/controls",
            "_view_module_version": "1.5.0",
            "_view_name": "HTMLView",
            "description": "",
            "description_tooltip": null,
            "layout": "IPY_MODEL_b51f77a218a542c7b6779c83556f4dce",
            "placeholder": "​",
            "style": "IPY_MODEL_d0782a63483d4a06b1f663f26d094a42",
            "value": "epoch 7: 100%"
          }
        },
        "173f018f1d4f40f5b2ba2ae3aa296acd": {
          "model_module": "@jupyter-widgets/controls",
          "model_module_version": "1.5.0",
          "model_name": "HTMLModel",
          "state": {
            "_dom_classes": [],
            "_model_module": "@jupyter-widgets/controls",
            "_model_module_version": "1.5.0",
            "_model_name": "HTMLModel",
            "_view_count": null,
            "_view_module": "@jupyter-widgets/controls",
            "_view_module_version": "1.5.0",
            "_view_name": "HTMLView",
            "description": "",
            "description_tooltip": null,
            "layout": "IPY_MODEL_3efe64fbb4c2499b905a10be8702b8a5",
            "placeholder": "​",
            "style": "IPY_MODEL_cf2a71402ca547ab99e402f9be19f2cf",
            "value": " 133/133 [00:04&lt;00:00, 26.76instance/s]"
          }
        },
        "174958f3eace4946a375e48f04e6160a": {
          "model_module": "@jupyter-widgets/base",
          "model_module_version": "1.2.0",
          "model_name": "LayoutModel",
          "state": {
            "_model_module": "@jupyter-widgets/base",
            "_model_module_version": "1.2.0",
            "_model_name": "LayoutModel",
            "_view_count": null,
            "_view_module": "@jupyter-widgets/base",
            "_view_module_version": "1.2.0",
            "_view_name": "LayoutView",
            "align_content": null,
            "align_items": null,
            "align_self": null,
            "border": null,
            "bottom": null,
            "display": null,
            "flex": null,
            "flex_flow": null,
            "grid_area": null,
            "grid_auto_columns": null,
            "grid_auto_flow": null,
            "grid_auto_rows": null,
            "grid_column": null,
            "grid_gap": null,
            "grid_row": null,
            "grid_template_areas": null,
            "grid_template_columns": null,
            "grid_template_rows": null,
            "height": null,
            "justify_content": null,
            "justify_items": null,
            "left": null,
            "margin": null,
            "max_height": null,
            "max_width": null,
            "min_height": null,
            "min_width": null,
            "object_fit": null,
            "object_position": null,
            "order": null,
            "overflow": null,
            "overflow_x": null,
            "overflow_y": null,
            "padding": null,
            "right": null,
            "top": null,
            "visibility": null,
            "width": null
          }
        },
        "174bf446c1154261baa82a3db240107f": {
          "model_module": "@jupyter-widgets/controls",
          "model_module_version": "1.5.0",
          "model_name": "HBoxModel",
          "state": {
            "_dom_classes": [],
            "_model_module": "@jupyter-widgets/controls",
            "_model_module_version": "1.5.0",
            "_model_name": "HBoxModel",
            "_view_count": null,
            "_view_module": "@jupyter-widgets/controls",
            "_view_module_version": "1.5.0",
            "_view_name": "HBoxView",
            "box_style": "",
            "children": [
              "IPY_MODEL_849070f9372f422b90c53044c1e7ca61",
              "IPY_MODEL_7a4169f11fee4f4cb96272660b4ec606",
              "IPY_MODEL_741c8a93a3dc4681bbf05ceea4ed7db6"
            ],
            "layout": "IPY_MODEL_ac2c5a56b12848d0b251e328d3fc8cef"
          }
        },
        "18a04c945de94da7ae118bd9e30d865d": {
          "model_module": "@jupyter-widgets/controls",
          "model_module_version": "1.5.0",
          "model_name": "ProgressStyleModel",
          "state": {
            "_model_module": "@jupyter-widgets/controls",
            "_model_module_version": "1.5.0",
            "_model_name": "ProgressStyleModel",
            "_view_count": null,
            "_view_module": "@jupyter-widgets/base",
            "_view_module_version": "1.2.0",
            "_view_name": "StyleView",
            "bar_color": null,
            "description_width": ""
          }
        },
        "1bbfb6d08ac143989a77dd6ee8bf56da": {
          "model_module": "@jupyter-widgets/base",
          "model_module_version": "1.2.0",
          "model_name": "LayoutModel",
          "state": {
            "_model_module": "@jupyter-widgets/base",
            "_model_module_version": "1.2.0",
            "_model_name": "LayoutModel",
            "_view_count": null,
            "_view_module": "@jupyter-widgets/base",
            "_view_module_version": "1.2.0",
            "_view_name": "LayoutView",
            "align_content": null,
            "align_items": null,
            "align_self": null,
            "border": null,
            "bottom": null,
            "display": null,
            "flex": null,
            "flex_flow": null,
            "grid_area": null,
            "grid_auto_columns": null,
            "grid_auto_flow": null,
            "grid_auto_rows": null,
            "grid_column": null,
            "grid_gap": null,
            "grid_row": null,
            "grid_template_areas": null,
            "grid_template_columns": null,
            "grid_template_rows": null,
            "height": null,
            "justify_content": null,
            "justify_items": null,
            "left": null,
            "margin": null,
            "max_height": null,
            "max_width": null,
            "min_height": null,
            "min_width": null,
            "object_fit": null,
            "object_position": null,
            "order": null,
            "overflow": null,
            "overflow_x": null,
            "overflow_y": null,
            "padding": null,
            "right": null,
            "top": null,
            "visibility": null,
            "width": null
          }
        },
        "1bc60e7c71d24cf88759dbfc70b6365d": {
          "model_module": "@jupyter-widgets/controls",
          "model_module_version": "1.5.0",
          "model_name": "HBoxModel",
          "state": {
            "_dom_classes": [],
            "_model_module": "@jupyter-widgets/controls",
            "_model_module_version": "1.5.0",
            "_model_name": "HBoxModel",
            "_view_count": null,
            "_view_module": "@jupyter-widgets/controls",
            "_view_module_version": "1.5.0",
            "_view_name": "HBoxView",
            "box_style": "",
            "children": [
              "IPY_MODEL_49dd8ca57955475f8e57d0a0858ecc7d",
              "IPY_MODEL_22769abd6e9749e48ecbb6a1c6f9cceb",
              "IPY_MODEL_7dbf6deb43834a298d512375633bfbf5"
            ],
            "layout": "IPY_MODEL_06ab2df320934d3e86a772f877db9f7a"
          }
        },
        "1d3ae2a63b534e2eb13caf0e0afa8d2b": {
          "model_module": "@jupyter-widgets/base",
          "model_module_version": "1.2.0",
          "model_name": "LayoutModel",
          "state": {
            "_model_module": "@jupyter-widgets/base",
            "_model_module_version": "1.2.0",
            "_model_name": "LayoutModel",
            "_view_count": null,
            "_view_module": "@jupyter-widgets/base",
            "_view_module_version": "1.2.0",
            "_view_name": "LayoutView",
            "align_content": null,
            "align_items": null,
            "align_self": null,
            "border": null,
            "bottom": null,
            "display": null,
            "flex": null,
            "flex_flow": null,
            "grid_area": null,
            "grid_auto_columns": null,
            "grid_auto_flow": null,
            "grid_auto_rows": null,
            "grid_column": null,
            "grid_gap": null,
            "grid_row": null,
            "grid_template_areas": null,
            "grid_template_columns": null,
            "grid_template_rows": null,
            "height": null,
            "justify_content": null,
            "justify_items": null,
            "left": null,
            "margin": null,
            "max_height": null,
            "max_width": null,
            "min_height": null,
            "min_width": null,
            "object_fit": null,
            "object_position": null,
            "order": null,
            "overflow": null,
            "overflow_x": null,
            "overflow_y": null,
            "padding": null,
            "right": null,
            "top": null,
            "visibility": null,
            "width": null
          }
        },
        "1fef2dc554534e00bdc4a350d7dc4a88": {
          "model_module": "@jupyter-widgets/base",
          "model_module_version": "1.2.0",
          "model_name": "LayoutModel",
          "state": {
            "_model_module": "@jupyter-widgets/base",
            "_model_module_version": "1.2.0",
            "_model_name": "LayoutModel",
            "_view_count": null,
            "_view_module": "@jupyter-widgets/base",
            "_view_module_version": "1.2.0",
            "_view_name": "LayoutView",
            "align_content": null,
            "align_items": null,
            "align_self": null,
            "border": null,
            "bottom": null,
            "display": null,
            "flex": null,
            "flex_flow": null,
            "grid_area": null,
            "grid_auto_columns": null,
            "grid_auto_flow": null,
            "grid_auto_rows": null,
            "grid_column": null,
            "grid_gap": null,
            "grid_row": null,
            "grid_template_areas": null,
            "grid_template_columns": null,
            "grid_template_rows": null,
            "height": null,
            "justify_content": null,
            "justify_items": null,
            "left": null,
            "margin": null,
            "max_height": null,
            "max_width": null,
            "min_height": null,
            "min_width": null,
            "object_fit": null,
            "object_position": null,
            "order": null,
            "overflow": null,
            "overflow_x": null,
            "overflow_y": null,
            "padding": null,
            "right": null,
            "top": null,
            "visibility": null,
            "width": null
          }
        },
        "202c193d81af470094ae53bac133ea6f": {
          "model_module": "@jupyter-widgets/base",
          "model_module_version": "1.2.0",
          "model_name": "LayoutModel",
          "state": {
            "_model_module": "@jupyter-widgets/base",
            "_model_module_version": "1.2.0",
            "_model_name": "LayoutModel",
            "_view_count": null,
            "_view_module": "@jupyter-widgets/base",
            "_view_module_version": "1.2.0",
            "_view_name": "LayoutView",
            "align_content": null,
            "align_items": null,
            "align_self": null,
            "border": null,
            "bottom": null,
            "display": null,
            "flex": null,
            "flex_flow": null,
            "grid_area": null,
            "grid_auto_columns": null,
            "grid_auto_flow": null,
            "grid_auto_rows": null,
            "grid_column": null,
            "grid_gap": null,
            "grid_row": null,
            "grid_template_areas": null,
            "grid_template_columns": null,
            "grid_template_rows": null,
            "height": null,
            "justify_content": null,
            "justify_items": null,
            "left": null,
            "margin": null,
            "max_height": null,
            "max_width": null,
            "min_height": null,
            "min_width": null,
            "object_fit": null,
            "object_position": null,
            "order": null,
            "overflow": null,
            "overflow_x": null,
            "overflow_y": null,
            "padding": null,
            "right": null,
            "top": null,
            "visibility": null,
            "width": null
          }
        },
        "20bd07748e84497381ccdcddf2829303": {
          "model_module": "@jupyter-widgets/controls",
          "model_module_version": "1.5.0",
          "model_name": "DescriptionStyleModel",
          "state": {
            "_model_module": "@jupyter-widgets/controls",
            "_model_module_version": "1.5.0",
            "_model_name": "DescriptionStyleModel",
            "_view_count": null,
            "_view_module": "@jupyter-widgets/base",
            "_view_module_version": "1.2.0",
            "_view_name": "StyleView",
            "description_width": ""
          }
        },
        "20d3482087e14ddeae97925ec25b5178": {
          "model_module": "@jupyter-widgets/controls",
          "model_module_version": "1.5.0",
          "model_name": "HTMLModel",
          "state": {
            "_dom_classes": [],
            "_model_module": "@jupyter-widgets/controls",
            "_model_module_version": "1.5.0",
            "_model_name": "HTMLModel",
            "_view_count": null,
            "_view_module": "@jupyter-widgets/controls",
            "_view_module_version": "1.5.0",
            "_view_name": "HTMLView",
            "description": "",
            "description_tooltip": null,
            "layout": "IPY_MODEL_1312366de1d742cb84c1d0394f2fad43",
            "placeholder": "​",
            "style": "IPY_MODEL_dc28466a4eca4d3d893de4a220f0ebd4",
            "value": " 40/40 [00:06&lt;00:00,  3.94instance/s, train_correct_candidates_per_instance=15.1, train_loss=0.723]"
          }
        },
        "21602299247c4b7a83499b20b64d6a02": {
          "model_module": "@jupyter-widgets/base",
          "model_module_version": "1.2.0",
          "model_name": "LayoutModel",
          "state": {
            "_model_module": "@jupyter-widgets/base",
            "_model_module_version": "1.2.0",
            "_model_name": "LayoutModel",
            "_view_count": null,
            "_view_module": "@jupyter-widgets/base",
            "_view_module_version": "1.2.0",
            "_view_name": "LayoutView",
            "align_content": null,
            "align_items": null,
            "align_self": null,
            "border": null,
            "bottom": null,
            "display": null,
            "flex": null,
            "flex_flow": null,
            "grid_area": null,
            "grid_auto_columns": null,
            "grid_auto_flow": null,
            "grid_auto_rows": null,
            "grid_column": null,
            "grid_gap": null,
            "grid_row": null,
            "grid_template_areas": null,
            "grid_template_columns": null,
            "grid_template_rows": null,
            "height": null,
            "justify_content": null,
            "justify_items": null,
            "left": null,
            "margin": null,
            "max_height": null,
            "max_width": null,
            "min_height": null,
            "min_width": null,
            "object_fit": null,
            "object_position": null,
            "order": null,
            "overflow": null,
            "overflow_x": null,
            "overflow_y": null,
            "padding": null,
            "right": null,
            "top": null,
            "visibility": null,
            "width": null
          }
        },
        "216ced10c7ba47b98ee179875fbaaa57": {
          "model_module": "@jupyter-widgets/controls",
          "model_module_version": "1.5.0",
          "model_name": "HTMLModel",
          "state": {
            "_dom_classes": [],
            "_model_module": "@jupyter-widgets/controls",
            "_model_module_version": "1.5.0",
            "_model_name": "HTMLModel",
            "_view_count": null,
            "_view_module": "@jupyter-widgets/controls",
            "_view_module_version": "1.5.0",
            "_view_name": "HTMLView",
            "description": "",
            "description_tooltip": null,
            "layout": "IPY_MODEL_549efefeb711488689c8c68d54ae32bc",
            "placeholder": "​",
            "style": "IPY_MODEL_0e55fb4cb1274d56b8318893b60b41b6",
            "value": " 40/40 [00:06&lt;00:00,  4.93instance/s, train_correct_candidates_per_instance=15.3, train_loss=1.67]"
          }
        },
        "2177640af1924e98a349e90a7f60d4f7": {
          "model_module": "@jupyter-widgets/base",
          "model_module_version": "1.2.0",
          "model_name": "LayoutModel",
          "state": {
            "_model_module": "@jupyter-widgets/base",
            "_model_module_version": "1.2.0",
            "_model_name": "LayoutModel",
            "_view_count": null,
            "_view_module": "@jupyter-widgets/base",
            "_view_module_version": "1.2.0",
            "_view_name": "LayoutView",
            "align_content": null,
            "align_items": null,
            "align_self": null,
            "border": null,
            "bottom": null,
            "display": null,
            "flex": null,
            "flex_flow": null,
            "grid_area": null,
            "grid_auto_columns": null,
            "grid_auto_flow": null,
            "grid_auto_rows": null,
            "grid_column": null,
            "grid_gap": null,
            "grid_row": null,
            "grid_template_areas": null,
            "grid_template_columns": null,
            "grid_template_rows": null,
            "height": null,
            "justify_content": null,
            "justify_items": null,
            "left": null,
            "margin": null,
            "max_height": null,
            "max_width": null,
            "min_height": null,
            "min_width": null,
            "object_fit": null,
            "object_position": null,
            "order": null,
            "overflow": null,
            "overflow_x": null,
            "overflow_y": null,
            "padding": null,
            "right": null,
            "top": null,
            "visibility": null,
            "width": null
          }
        },
        "21dda0ebf5f549ff8e98adb849136d90": {
          "model_module": "@jupyter-widgets/base",
          "model_module_version": "1.2.0",
          "model_name": "LayoutModel",
          "state": {
            "_model_module": "@jupyter-widgets/base",
            "_model_module_version": "1.2.0",
            "_model_name": "LayoutModel",
            "_view_count": null,
            "_view_module": "@jupyter-widgets/base",
            "_view_module_version": "1.2.0",
            "_view_name": "LayoutView",
            "align_content": null,
            "align_items": null,
            "align_self": null,
            "border": null,
            "bottom": null,
            "display": null,
            "flex": null,
            "flex_flow": null,
            "grid_area": null,
            "grid_auto_columns": null,
            "grid_auto_flow": null,
            "grid_auto_rows": null,
            "grid_column": null,
            "grid_gap": null,
            "grid_row": null,
            "grid_template_areas": null,
            "grid_template_columns": null,
            "grid_template_rows": null,
            "height": null,
            "justify_content": null,
            "justify_items": null,
            "left": null,
            "margin": null,
            "max_height": null,
            "max_width": null,
            "min_height": null,
            "min_width": null,
            "object_fit": null,
            "object_position": null,
            "order": null,
            "overflow": null,
            "overflow_x": null,
            "overflow_y": null,
            "padding": null,
            "right": null,
            "top": null,
            "visibility": null,
            "width": null
          }
        },
        "22769abd6e9749e48ecbb6a1c6f9cceb": {
          "model_module": "@jupyter-widgets/controls",
          "model_module_version": "1.5.0",
          "model_name": "FloatProgressModel",
          "state": {
            "_dom_classes": [],
            "_model_module": "@jupyter-widgets/controls",
            "_model_module_version": "1.5.0",
            "_model_name": "FloatProgressModel",
            "_view_count": null,
            "_view_module": "@jupyter-widgets/controls",
            "_view_module_version": "1.5.0",
            "_view_name": "ProgressView",
            "bar_style": "success",
            "description": "",
            "description_tooltip": null,
            "layout": "IPY_MODEL_d22f856d15da4db9a0fc8dba6e7847e5",
            "max": 133,
            "min": 0,
            "orientation": "horizontal",
            "style": "IPY_MODEL_ec7a8e8e51324629a30b2a863c75e4b1",
            "value": 133
          }
        },
        "22a8b7cd6feb4bdca3a541b190e9a801": {
          "model_module": "@jupyter-widgets/controls",
          "model_module_version": "1.5.0",
          "model_name": "HTMLModel",
          "state": {
            "_dom_classes": [],
            "_model_module": "@jupyter-widgets/controls",
            "_model_module_version": "1.5.0",
            "_model_name": "HTMLModel",
            "_view_count": null,
            "_view_module": "@jupyter-widgets/controls",
            "_view_module_version": "1.5.0",
            "_view_name": "HTMLView",
            "description": "",
            "description_tooltip": null,
            "layout": "IPY_MODEL_b62b515aff334b889c266fef6e32672e",
            "placeholder": "​",
            "style": "IPY_MODEL_95b079d1d6784fe984ed650c8a9da7b4",
            "value": " 133/133 [02:15&lt;00:00,  1.19s/instance, train_correct_candidates_per_instance=13.9, train_loss=0.854]"
          }
        },
        "22d458b934c84e589380a6a45f543e08": {
          "model_module": "@jupyter-widgets/controls",
          "model_module_version": "1.5.0",
          "model_name": "HBoxModel",
          "state": {
            "_dom_classes": [],
            "_model_module": "@jupyter-widgets/controls",
            "_model_module_version": "1.5.0",
            "_model_name": "HBoxModel",
            "_view_count": null,
            "_view_module": "@jupyter-widgets/controls",
            "_view_module_version": "1.5.0",
            "_view_name": "HBoxView",
            "box_style": "",
            "children": [
              "IPY_MODEL_57793f23de534ca9a8c30aa106c827ff",
              "IPY_MODEL_8a82a8f5b88b458b8da633636d5c48a7",
              "IPY_MODEL_2fffdb29bd4f461fbcda18cbc8de109b"
            ],
            "layout": "IPY_MODEL_6f1c640d94fb463696f372abf745a1cd"
          }
        },
        "237508b1e25148299e251b5e1ae524bb": {
          "model_module": "@jupyter-widgets/controls",
          "model_module_version": "1.5.0",
          "model_name": "HTMLModel",
          "state": {
            "_dom_classes": [],
            "_model_module": "@jupyter-widgets/controls",
            "_model_module_version": "1.5.0",
            "_model_name": "HTMLModel",
            "_view_count": null,
            "_view_module": "@jupyter-widgets/controls",
            "_view_module_version": "1.5.0",
            "_view_name": "HTMLView",
            "description": "",
            "description_tooltip": null,
            "layout": "IPY_MODEL_6ef6ec26c77c4035856382a017e5259f",
            "placeholder": "​",
            "style": "IPY_MODEL_47bd82f2deb7465ab85ac87766a2c0eb",
            "value": "epoch 1: 100%"
          }
        },
        "23ed07f795c3446ab46b7f2681d2abcd": {
          "model_module": "@jupyter-widgets/controls",
          "model_module_version": "1.5.0",
          "model_name": "HTMLModel",
          "state": {
            "_dom_classes": [],
            "_model_module": "@jupyter-widgets/controls",
            "_model_module_version": "1.5.0",
            "_model_name": "HTMLModel",
            "_view_count": null,
            "_view_module": "@jupyter-widgets/controls",
            "_view_module_version": "1.5.0",
            "_view_name": "HTMLView",
            "description": "",
            "description_tooltip": null,
            "layout": "IPY_MODEL_574d3ad1421541cb99e238323070145e",
            "placeholder": "​",
            "style": "IPY_MODEL_7be4ece2840e47b7a41f8bb2457e1b6e",
            "value": "epoch 5: 100%"
          }
        },
        "24b813c9123c472e897bd770aad3128a": {
          "model_module": "@jupyter-widgets/base",
          "model_module_version": "1.2.0",
          "model_name": "LayoutModel",
          "state": {
            "_model_module": "@jupyter-widgets/base",
            "_model_module_version": "1.2.0",
            "_model_name": "LayoutModel",
            "_view_count": null,
            "_view_module": "@jupyter-widgets/base",
            "_view_module_version": "1.2.0",
            "_view_name": "LayoutView",
            "align_content": null,
            "align_items": null,
            "align_self": null,
            "border": null,
            "bottom": null,
            "display": null,
            "flex": null,
            "flex_flow": null,
            "grid_area": null,
            "grid_auto_columns": null,
            "grid_auto_flow": null,
            "grid_auto_rows": null,
            "grid_column": null,
            "grid_gap": null,
            "grid_row": null,
            "grid_template_areas": null,
            "grid_template_columns": null,
            "grid_template_rows": null,
            "height": null,
            "justify_content": null,
            "justify_items": null,
            "left": null,
            "margin": null,
            "max_height": null,
            "max_width": null,
            "min_height": null,
            "min_width": null,
            "object_fit": null,
            "object_position": null,
            "order": null,
            "overflow": null,
            "overflow_x": null,
            "overflow_y": null,
            "padding": null,
            "right": null,
            "top": null,
            "visibility": null,
            "width": null
          }
        },
        "2675ef16b1494488990296ba92067ee5": {
          "model_module": "@jupyter-widgets/controls",
          "model_module_version": "1.5.0",
          "model_name": "DescriptionStyleModel",
          "state": {
            "_model_module": "@jupyter-widgets/controls",
            "_model_module_version": "1.5.0",
            "_model_name": "DescriptionStyleModel",
            "_view_count": null,
            "_view_module": "@jupyter-widgets/base",
            "_view_module_version": "1.2.0",
            "_view_name": "StyleView",
            "description_width": ""
          }
        },
        "2b24a8f833e245f3bc40acfcfc03f640": {
          "model_module": "@jupyter-widgets/controls",
          "model_module_version": "1.5.0",
          "model_name": "HBoxModel",
          "state": {
            "_dom_classes": [],
            "_model_module": "@jupyter-widgets/controls",
            "_model_module_version": "1.5.0",
            "_model_name": "HBoxModel",
            "_view_count": null,
            "_view_module": "@jupyter-widgets/controls",
            "_view_module_version": "1.5.0",
            "_view_name": "HBoxView",
            "box_style": "",
            "children": [
              "IPY_MODEL_d2285abe43dc4fda87ed3bbc26d112ac",
              "IPY_MODEL_f941cbbde01e4f88bb5786953048d271",
              "IPY_MODEL_0724c7c2ddee4db383672a92d36d8447"
            ],
            "layout": "IPY_MODEL_3add89a52af7471b89a721d4c6c5e64e"
          }
        },
        "2bc4d5f398854c4db78f83278b8dc687": {
          "model_module": "@jupyter-widgets/controls",
          "model_module_version": "1.5.0",
          "model_name": "HTMLModel",
          "state": {
            "_dom_classes": [],
            "_model_module": "@jupyter-widgets/controls",
            "_model_module_version": "1.5.0",
            "_model_name": "HTMLModel",
            "_view_count": null,
            "_view_module": "@jupyter-widgets/controls",
            "_view_module_version": "1.5.0",
            "_view_name": "HTMLView",
            "description": "",
            "description_tooltip": null,
            "layout": "IPY_MODEL_df10263f6dff4b80b748ae5be992a2e4",
            "placeholder": "​",
            "style": "IPY_MODEL_f02e4ea2ceaf4ada9ffac238000cffdd",
            "value": " 40/40 [00:06&lt;00:00,  7.12instance/s, train_correct_candidates_per_instance=15.1, train_loss=0.886]"
          }
        },
        "2cc2268ecdcd40c8ba032ca2fa416f37": {
          "model_module": "@jupyter-widgets/base",
          "model_module_version": "1.2.0",
          "model_name": "LayoutModel",
          "state": {
            "_model_module": "@jupyter-widgets/base",
            "_model_module_version": "1.2.0",
            "_model_name": "LayoutModel",
            "_view_count": null,
            "_view_module": "@jupyter-widgets/base",
            "_view_module_version": "1.2.0",
            "_view_name": "LayoutView",
            "align_content": null,
            "align_items": null,
            "align_self": null,
            "border": null,
            "bottom": null,
            "display": null,
            "flex": null,
            "flex_flow": null,
            "grid_area": null,
            "grid_auto_columns": null,
            "grid_auto_flow": null,
            "grid_auto_rows": null,
            "grid_column": null,
            "grid_gap": null,
            "grid_row": null,
            "grid_template_areas": null,
            "grid_template_columns": null,
            "grid_template_rows": null,
            "height": null,
            "justify_content": null,
            "justify_items": null,
            "left": null,
            "margin": null,
            "max_height": null,
            "max_width": null,
            "min_height": null,
            "min_width": null,
            "object_fit": null,
            "object_position": null,
            "order": null,
            "overflow": null,
            "overflow_x": null,
            "overflow_y": null,
            "padding": null,
            "right": null,
            "top": null,
            "visibility": null,
            "width": null
          }
        },
        "2f85e23faeed415b9855e4340a887029": {
          "model_module": "@jupyter-widgets/controls",
          "model_module_version": "1.5.0",
          "model_name": "HTMLModel",
          "state": {
            "_dom_classes": [],
            "_model_module": "@jupyter-widgets/controls",
            "_model_module_version": "1.5.0",
            "_model_name": "HTMLModel",
            "_view_count": null,
            "_view_module": "@jupyter-widgets/controls",
            "_view_module_version": "1.5.0",
            "_view_name": "HTMLView",
            "description": "",
            "description_tooltip": null,
            "layout": "IPY_MODEL_7be815fe111e48f8a779008901af2ef2",
            "placeholder": "​",
            "style": "IPY_MODEL_cde380e14f2743bcba5ad2279e8c36ee",
            "value": "epoch 9: 100%"
          }
        },
        "2fffdb29bd4f461fbcda18cbc8de109b": {
          "model_module": "@jupyter-widgets/controls",
          "model_module_version": "1.5.0",
          "model_name": "HTMLModel",
          "state": {
            "_dom_classes": [],
            "_model_module": "@jupyter-widgets/controls",
            "_model_module_version": "1.5.0",
            "_model_name": "HTMLModel",
            "_view_count": null,
            "_view_module": "@jupyter-widgets/controls",
            "_view_module_version": "1.5.0",
            "_view_name": "HTMLView",
            "description": "",
            "description_tooltip": null,
            "layout": "IPY_MODEL_62251550521b4b7880cd1646ae3ad230",
            "placeholder": "​",
            "style": "IPY_MODEL_8e3ce0febb954ec08bbf785124e06e24",
            "value": " 133/133 [00:04&lt;00:00, 26.74instance/s]"
          }
        },
        "300c5ca123014b788520a219574b161b": {
          "model_module": "@jupyter-widgets/controls",
          "model_module_version": "1.5.0",
          "model_name": "HTMLModel",
          "state": {
            "_dom_classes": [],
            "_model_module": "@jupyter-widgets/controls",
            "_model_module_version": "1.5.0",
            "_model_name": "HTMLModel",
            "_view_count": null,
            "_view_module": "@jupyter-widgets/controls",
            "_view_module_version": "1.5.0",
            "_view_name": "HTMLView",
            "description": "",
            "description_tooltip": null,
            "layout": "IPY_MODEL_24b813c9123c472e897bd770aad3128a",
            "placeholder": "​",
            "style": "IPY_MODEL_955985fb5eb14234b6c35ce6c3d982d7",
            "value": "epoch 8: 100%"
          }
        },
        "30f23a36178f432aa7120e5e04ced64e": {
          "model_module": "@jupyter-widgets/base",
          "model_module_version": "1.2.0",
          "model_name": "LayoutModel",
          "state": {
            "_model_module": "@jupyter-widgets/base",
            "_model_module_version": "1.2.0",
            "_model_name": "LayoutModel",
            "_view_count": null,
            "_view_module": "@jupyter-widgets/base",
            "_view_module_version": "1.2.0",
            "_view_name": "LayoutView",
            "align_content": null,
            "align_items": null,
            "align_self": null,
            "border": null,
            "bottom": null,
            "display": null,
            "flex": null,
            "flex_flow": null,
            "grid_area": null,
            "grid_auto_columns": null,
            "grid_auto_flow": null,
            "grid_auto_rows": null,
            "grid_column": null,
            "grid_gap": null,
            "grid_row": null,
            "grid_template_areas": null,
            "grid_template_columns": null,
            "grid_template_rows": null,
            "height": null,
            "justify_content": null,
            "justify_items": null,
            "left": null,
            "margin": null,
            "max_height": null,
            "max_width": null,
            "min_height": null,
            "min_width": null,
            "object_fit": null,
            "object_position": null,
            "order": null,
            "overflow": null,
            "overflow_x": null,
            "overflow_y": null,
            "padding": null,
            "right": null,
            "top": null,
            "visibility": null,
            "width": null
          }
        },
        "3254174e17964cb7945574b5a2266131": {
          "model_module": "@jupyter-widgets/base",
          "model_module_version": "1.2.0",
          "model_name": "LayoutModel",
          "state": {
            "_model_module": "@jupyter-widgets/base",
            "_model_module_version": "1.2.0",
            "_model_name": "LayoutModel",
            "_view_count": null,
            "_view_module": "@jupyter-widgets/base",
            "_view_module_version": "1.2.0",
            "_view_name": "LayoutView",
            "align_content": null,
            "align_items": null,
            "align_self": null,
            "border": null,
            "bottom": null,
            "display": null,
            "flex": null,
            "flex_flow": null,
            "grid_area": null,
            "grid_auto_columns": null,
            "grid_auto_flow": null,
            "grid_auto_rows": null,
            "grid_column": null,
            "grid_gap": null,
            "grid_row": null,
            "grid_template_areas": null,
            "grid_template_columns": null,
            "grid_template_rows": null,
            "height": null,
            "justify_content": null,
            "justify_items": null,
            "left": null,
            "margin": null,
            "max_height": null,
            "max_width": null,
            "min_height": null,
            "min_width": null,
            "object_fit": null,
            "object_position": null,
            "order": null,
            "overflow": null,
            "overflow_x": null,
            "overflow_y": null,
            "padding": null,
            "right": null,
            "top": null,
            "visibility": null,
            "width": null
          }
        },
        "32d616abbd2b4388a43149b0985b7abd": {
          "model_module": "@jupyter-widgets/controls",
          "model_module_version": "1.5.0",
          "model_name": "HTMLModel",
          "state": {
            "_dom_classes": [],
            "_model_module": "@jupyter-widgets/controls",
            "_model_module_version": "1.5.0",
            "_model_name": "HTMLModel",
            "_view_count": null,
            "_view_module": "@jupyter-widgets/controls",
            "_view_module_version": "1.5.0",
            "_view_name": "HTMLView",
            "description": "",
            "description_tooltip": null,
            "layout": "IPY_MODEL_aa9eddce6e4a4a06a52976829a274c7d",
            "placeholder": "​",
            "style": "IPY_MODEL_62392cba441c44319b964445ddffdeaf",
            "value": " 133/133 [00:04&lt;00:00, 33.47instance/s]"
          }
        },
        "3577ea7b34b3411589ce07d84a6604de": {
          "model_module": "@jupyter-widgets/controls",
          "model_module_version": "1.5.0",
          "model_name": "HBoxModel",
          "state": {
            "_dom_classes": [],
            "_model_module": "@jupyter-widgets/controls",
            "_model_module_version": "1.5.0",
            "_model_name": "HBoxModel",
            "_view_count": null,
            "_view_module": "@jupyter-widgets/controls",
            "_view_module_version": "1.5.0",
            "_view_name": "HBoxView",
            "box_style": "",
            "children": [
              "IPY_MODEL_cf0a63329ac04b8f921522e39d9c1eb7",
              "IPY_MODEL_53b0b7cb0ed542c196cd181fcf50bb6c",
              "IPY_MODEL_32d616abbd2b4388a43149b0985b7abd"
            ],
            "layout": "IPY_MODEL_99baa1316f2749f19d2c6d72774e6ade"
          }
        },
        "37a4cb99c95e4a0ab5266915f1d0fbec": {
          "model_module": "@jupyter-widgets/controls",
          "model_module_version": "1.5.0",
          "model_name": "HBoxModel",
          "state": {
            "_dom_classes": [],
            "_model_module": "@jupyter-widgets/controls",
            "_model_module_version": "1.5.0",
            "_model_name": "HBoxModel",
            "_view_count": null,
            "_view_module": "@jupyter-widgets/controls",
            "_view_module_version": "1.5.0",
            "_view_name": "HBoxView",
            "box_style": "",
            "children": [
              "IPY_MODEL_61868c3159f74c15aab30259f2062c3b",
              "IPY_MODEL_99f94a94be2c40e0996d511723f08f6c",
              "IPY_MODEL_9d0c61d639a74ebc975a02ceb7f761bf"
            ],
            "layout": "IPY_MODEL_ecc1dc6ce2504dfabab087baf8c4ccc4"
          }
        },
        "38f91490ca20441490fbe9dc882da8ad": {
          "model_module": "@jupyter-widgets/controls",
          "model_module_version": "1.5.0",
          "model_name": "ProgressStyleModel",
          "state": {
            "_model_module": "@jupyter-widgets/controls",
            "_model_module_version": "1.5.0",
            "_model_name": "ProgressStyleModel",
            "_view_count": null,
            "_view_module": "@jupyter-widgets/base",
            "_view_module_version": "1.2.0",
            "_view_name": "StyleView",
            "bar_color": null,
            "description_width": ""
          }
        },
        "39052b54bc954270806ff3cd5725efcf": {
          "model_module": "@jupyter-widgets/controls",
          "model_module_version": "1.5.0",
          "model_name": "FloatProgressModel",
          "state": {
            "_dom_classes": [],
            "_model_module": "@jupyter-widgets/controls",
            "_model_module_version": "1.5.0",
            "_model_name": "FloatProgressModel",
            "_view_count": null,
            "_view_module": "@jupyter-widgets/controls",
            "_view_module_version": "1.5.0",
            "_view_name": "ProgressView",
            "bar_style": "success",
            "description": "",
            "description_tooltip": null,
            "layout": "IPY_MODEL_bb9064f798954235afaa7638577f332a",
            "max": 133,
            "min": 0,
            "orientation": "horizontal",
            "style": "IPY_MODEL_e35b0132c4d241c68f7c704779c37aed",
            "value": 133
          }
        },
        "3add89a52af7471b89a721d4c6c5e64e": {
          "model_module": "@jupyter-widgets/base",
          "model_module_version": "1.2.0",
          "model_name": "LayoutModel",
          "state": {
            "_model_module": "@jupyter-widgets/base",
            "_model_module_version": "1.2.0",
            "_model_name": "LayoutModel",
            "_view_count": null,
            "_view_module": "@jupyter-widgets/base",
            "_view_module_version": "1.2.0",
            "_view_name": "LayoutView",
            "align_content": null,
            "align_items": null,
            "align_self": null,
            "border": null,
            "bottom": null,
            "display": null,
            "flex": null,
            "flex_flow": null,
            "grid_area": null,
            "grid_auto_columns": null,
            "grid_auto_flow": null,
            "grid_auto_rows": null,
            "grid_column": null,
            "grid_gap": null,
            "grid_row": null,
            "grid_template_areas": null,
            "grid_template_columns": null,
            "grid_template_rows": null,
            "height": null,
            "justify_content": null,
            "justify_items": null,
            "left": null,
            "margin": null,
            "max_height": null,
            "max_width": null,
            "min_height": null,
            "min_width": null,
            "object_fit": null,
            "object_position": null,
            "order": null,
            "overflow": null,
            "overflow_x": null,
            "overflow_y": null,
            "padding": null,
            "right": null,
            "top": null,
            "visibility": null,
            "width": null
          }
        },
        "3aeba45fcbd04719959f950d213340fc": {
          "model_module": "@jupyter-widgets/controls",
          "model_module_version": "1.5.0",
          "model_name": "DescriptionStyleModel",
          "state": {
            "_model_module": "@jupyter-widgets/controls",
            "_model_module_version": "1.5.0",
            "_model_name": "DescriptionStyleModel",
            "_view_count": null,
            "_view_module": "@jupyter-widgets/base",
            "_view_module_version": "1.2.0",
            "_view_name": "StyleView",
            "description_width": ""
          }
        },
        "3b2a9f13c5524f2195a5af978b07a9c3": {
          "model_module": "@jupyter-widgets/base",
          "model_module_version": "1.2.0",
          "model_name": "LayoutModel",
          "state": {
            "_model_module": "@jupyter-widgets/base",
            "_model_module_version": "1.2.0",
            "_model_name": "LayoutModel",
            "_view_count": null,
            "_view_module": "@jupyter-widgets/base",
            "_view_module_version": "1.2.0",
            "_view_name": "LayoutView",
            "align_content": null,
            "align_items": null,
            "align_self": null,
            "border": null,
            "bottom": null,
            "display": null,
            "flex": null,
            "flex_flow": null,
            "grid_area": null,
            "grid_auto_columns": null,
            "grid_auto_flow": null,
            "grid_auto_rows": null,
            "grid_column": null,
            "grid_gap": null,
            "grid_row": null,
            "grid_template_areas": null,
            "grid_template_columns": null,
            "grid_template_rows": null,
            "height": null,
            "justify_content": null,
            "justify_items": null,
            "left": null,
            "margin": null,
            "max_height": null,
            "max_width": null,
            "min_height": null,
            "min_width": null,
            "object_fit": null,
            "object_position": null,
            "order": null,
            "overflow": null,
            "overflow_x": null,
            "overflow_y": null,
            "padding": null,
            "right": null,
            "top": null,
            "visibility": null,
            "width": null
          }
        },
        "3dc791464a8e46d19f7a189c5b5c3cfb": {
          "model_module": "@jupyter-widgets/controls",
          "model_module_version": "1.5.0",
          "model_name": "HTMLModel",
          "state": {
            "_dom_classes": [],
            "_model_module": "@jupyter-widgets/controls",
            "_model_module_version": "1.5.0",
            "_model_name": "HTMLModel",
            "_view_count": null,
            "_view_module": "@jupyter-widgets/controls",
            "_view_module_version": "1.5.0",
            "_view_name": "HTMLView",
            "description": "",
            "description_tooltip": null,
            "layout": "IPY_MODEL_d4b6e036f594408fa0c448d4b7b14e76",
            "placeholder": "​",
            "style": "IPY_MODEL_d214ea47bc8e41d9a0e7f59416aadbd0",
            "value": " 40/40 [00:06&lt;00:00,  6.13instance/s, train_correct_candidates_per_instance=15.1, train_loss=0.474]"
          }
        },
        "3e50186bbbff4bcf9d88c14511f9c7c9": {
          "model_module": "@jupyter-widgets/controls",
          "model_module_version": "1.5.0",
          "model_name": "ProgressStyleModel",
          "state": {
            "_model_module": "@jupyter-widgets/controls",
            "_model_module_version": "1.5.0",
            "_model_name": "ProgressStyleModel",
            "_view_count": null,
            "_view_module": "@jupyter-widgets/base",
            "_view_module_version": "1.2.0",
            "_view_name": "StyleView",
            "bar_color": null,
            "description_width": ""
          }
        },
        "3ecfc059285f4e8a98507897f77c3e39": {
          "model_module": "@jupyter-widgets/base",
          "model_module_version": "1.2.0",
          "model_name": "LayoutModel",
          "state": {
            "_model_module": "@jupyter-widgets/base",
            "_model_module_version": "1.2.0",
            "_model_name": "LayoutModel",
            "_view_count": null,
            "_view_module": "@jupyter-widgets/base",
            "_view_module_version": "1.2.0",
            "_view_name": "LayoutView",
            "align_content": null,
            "align_items": null,
            "align_self": null,
            "border": null,
            "bottom": null,
            "display": null,
            "flex": null,
            "flex_flow": null,
            "grid_area": null,
            "grid_auto_columns": null,
            "grid_auto_flow": null,
            "grid_auto_rows": null,
            "grid_column": null,
            "grid_gap": null,
            "grid_row": null,
            "grid_template_areas": null,
            "grid_template_columns": null,
            "grid_template_rows": null,
            "height": null,
            "justify_content": null,
            "justify_items": null,
            "left": null,
            "margin": null,
            "max_height": null,
            "max_width": null,
            "min_height": null,
            "min_width": null,
            "object_fit": null,
            "object_position": null,
            "order": null,
            "overflow": null,
            "overflow_x": null,
            "overflow_y": null,
            "padding": null,
            "right": null,
            "top": null,
            "visibility": null,
            "width": null
          }
        },
        "3efe64fbb4c2499b905a10be8702b8a5": {
          "model_module": "@jupyter-widgets/base",
          "model_module_version": "1.2.0",
          "model_name": "LayoutModel",
          "state": {
            "_model_module": "@jupyter-widgets/base",
            "_model_module_version": "1.2.0",
            "_model_name": "LayoutModel",
            "_view_count": null,
            "_view_module": "@jupyter-widgets/base",
            "_view_module_version": "1.2.0",
            "_view_name": "LayoutView",
            "align_content": null,
            "align_items": null,
            "align_self": null,
            "border": null,
            "bottom": null,
            "display": null,
            "flex": null,
            "flex_flow": null,
            "grid_area": null,
            "grid_auto_columns": null,
            "grid_auto_flow": null,
            "grid_auto_rows": null,
            "grid_column": null,
            "grid_gap": null,
            "grid_row": null,
            "grid_template_areas": null,
            "grid_template_columns": null,
            "grid_template_rows": null,
            "height": null,
            "justify_content": null,
            "justify_items": null,
            "left": null,
            "margin": null,
            "max_height": null,
            "max_width": null,
            "min_height": null,
            "min_width": null,
            "object_fit": null,
            "object_position": null,
            "order": null,
            "overflow": null,
            "overflow_x": null,
            "overflow_y": null,
            "padding": null,
            "right": null,
            "top": null,
            "visibility": null,
            "width": null
          }
        },
        "403976df56ca41c0913179be80a976c7": {
          "model_module": "@jupyter-widgets/controls",
          "model_module_version": "1.5.0",
          "model_name": "HBoxModel",
          "state": {
            "_dom_classes": [],
            "_model_module": "@jupyter-widgets/controls",
            "_model_module_version": "1.5.0",
            "_model_name": "HBoxModel",
            "_view_count": null,
            "_view_module": "@jupyter-widgets/controls",
            "_view_module_version": "1.5.0",
            "_view_name": "HBoxView",
            "box_style": "",
            "children": [
              "IPY_MODEL_a05db27eaef3407b89ec959beea37a61",
              "IPY_MODEL_5a4010c349e642f1a76a70ef4b7a37fd",
              "IPY_MODEL_8f9179ca25fc47de883be72febaac11d"
            ],
            "layout": "IPY_MODEL_1029b7b75b1943c994a57ba8beb4275a"
          }
        },
        "40837a8134784e63b82be52a6ac2478f": {
          "model_module": "@jupyter-widgets/controls",
          "model_module_version": "1.5.0",
          "model_name": "FloatProgressModel",
          "state": {
            "_dom_classes": [],
            "_model_module": "@jupyter-widgets/controls",
            "_model_module_version": "1.5.0",
            "_model_name": "FloatProgressModel",
            "_view_count": null,
            "_view_module": "@jupyter-widgets/controls",
            "_view_module_version": "1.5.0",
            "_view_name": "ProgressView",
            "bar_style": "success",
            "description": "",
            "description_tooltip": null,
            "layout": "IPY_MODEL_4ffc45d4094a4e8d9d57fac59c0a11bf",
            "max": 40,
            "min": 0,
            "orientation": "horizontal",
            "style": "IPY_MODEL_b779f74397834ee6add5053bcd34bffa",
            "value": 40
          }
        },
        "40975f6f55264d438d894523c5deb362": {
          "model_module": "@jupyter-widgets/base",
          "model_module_version": "1.2.0",
          "model_name": "LayoutModel",
          "state": {
            "_model_module": "@jupyter-widgets/base",
            "_model_module_version": "1.2.0",
            "_model_name": "LayoutModel",
            "_view_count": null,
            "_view_module": "@jupyter-widgets/base",
            "_view_module_version": "1.2.0",
            "_view_name": "LayoutView",
            "align_content": null,
            "align_items": null,
            "align_self": null,
            "border": null,
            "bottom": null,
            "display": null,
            "flex": null,
            "flex_flow": null,
            "grid_area": null,
            "grid_auto_columns": null,
            "grid_auto_flow": null,
            "grid_auto_rows": null,
            "grid_column": null,
            "grid_gap": null,
            "grid_row": null,
            "grid_template_areas": null,
            "grid_template_columns": null,
            "grid_template_rows": null,
            "height": null,
            "justify_content": null,
            "justify_items": null,
            "left": null,
            "margin": null,
            "max_height": null,
            "max_width": null,
            "min_height": null,
            "min_width": null,
            "object_fit": null,
            "object_position": null,
            "order": null,
            "overflow": null,
            "overflow_x": null,
            "overflow_y": null,
            "padding": null,
            "right": null,
            "top": null,
            "visibility": null,
            "width": null
          }
        },
        "4293f45fb56f4798b1cbbab8b1d64dd5": {
          "model_module": "@jupyter-widgets/controls",
          "model_module_version": "1.5.0",
          "model_name": "HBoxModel",
          "state": {
            "_dom_classes": [],
            "_model_module": "@jupyter-widgets/controls",
            "_model_module_version": "1.5.0",
            "_model_name": "HBoxModel",
            "_view_count": null,
            "_view_module": "@jupyter-widgets/controls",
            "_view_module_version": "1.5.0",
            "_view_name": "HBoxView",
            "box_style": "",
            "children": [
              "IPY_MODEL_300c5ca123014b788520a219574b161b",
              "IPY_MODEL_6cddf62a37894e7a9c0569306de111c1",
              "IPY_MODEL_3dc791464a8e46d19f7a189c5b5c3cfb"
            ],
            "layout": "IPY_MODEL_5b249a101bf64e1faec0a98989683928"
          }
        },
        "42e7431feff84e9ca6e34b429803a7c5": {
          "model_module": "@jupyter-widgets/controls",
          "model_module_version": "1.5.0",
          "model_name": "DescriptionStyleModel",
          "state": {
            "_model_module": "@jupyter-widgets/controls",
            "_model_module_version": "1.5.0",
            "_model_name": "DescriptionStyleModel",
            "_view_count": null,
            "_view_module": "@jupyter-widgets/base",
            "_view_module_version": "1.2.0",
            "_view_name": "StyleView",
            "description_width": ""
          }
        },
        "441c2015501e483281431df11fd1f0f8": {
          "model_module": "@jupyter-widgets/controls",
          "model_module_version": "1.5.0",
          "model_name": "DescriptionStyleModel",
          "state": {
            "_model_module": "@jupyter-widgets/controls",
            "_model_module_version": "1.5.0",
            "_model_name": "DescriptionStyleModel",
            "_view_count": null,
            "_view_module": "@jupyter-widgets/base",
            "_view_module_version": "1.2.0",
            "_view_name": "StyleView",
            "description_width": ""
          }
        },
        "443c287e5a08403e802e42b9956344b7": {
          "model_module": "@jupyter-widgets/controls",
          "model_module_version": "1.5.0",
          "model_name": "HTMLModel",
          "state": {
            "_dom_classes": [],
            "_model_module": "@jupyter-widgets/controls",
            "_model_module_version": "1.5.0",
            "_model_name": "HTMLModel",
            "_view_count": null,
            "_view_module": "@jupyter-widgets/controls",
            "_view_module_version": "1.5.0",
            "_view_name": "HTMLView",
            "description": "",
            "description_tooltip": null,
            "layout": "IPY_MODEL_da4af5975281409da5a1df76b1f6a0a2",
            "placeholder": "​",
            "style": "IPY_MODEL_cfe3e0f975f24218b081f473d0ce7ca7",
            "value": "epoch 10: 100%"
          }
        },
        "44e7214a5f7447a585428e31ff99583e": {
          "model_module": "@jupyter-widgets/controls",
          "model_module_version": "1.5.0",
          "model_name": "ProgressStyleModel",
          "state": {
            "_model_module": "@jupyter-widgets/controls",
            "_model_module_version": "1.5.0",
            "_model_name": "ProgressStyleModel",
            "_view_count": null,
            "_view_module": "@jupyter-widgets/base",
            "_view_module_version": "1.2.0",
            "_view_name": "StyleView",
            "bar_color": null,
            "description_width": ""
          }
        },
        "466e4025239247b0a7c8a1e6d3860cfe": {
          "model_module": "@jupyter-widgets/controls",
          "model_module_version": "1.5.0",
          "model_name": "DescriptionStyleModel",
          "state": {
            "_model_module": "@jupyter-widgets/controls",
            "_model_module_version": "1.5.0",
            "_model_name": "DescriptionStyleModel",
            "_view_count": null,
            "_view_module": "@jupyter-widgets/base",
            "_view_module_version": "1.2.0",
            "_view_name": "StyleView",
            "description_width": ""
          }
        },
        "468ec60ad6834c54b5bebf4f00cd3d8b": {
          "model_module": "@jupyter-widgets/base",
          "model_module_version": "1.2.0",
          "model_name": "LayoutModel",
          "state": {
            "_model_module": "@jupyter-widgets/base",
            "_model_module_version": "1.2.0",
            "_model_name": "LayoutModel",
            "_view_count": null,
            "_view_module": "@jupyter-widgets/base",
            "_view_module_version": "1.2.0",
            "_view_name": "LayoutView",
            "align_content": null,
            "align_items": null,
            "align_self": null,
            "border": null,
            "bottom": null,
            "display": null,
            "flex": null,
            "flex_flow": null,
            "grid_area": null,
            "grid_auto_columns": null,
            "grid_auto_flow": null,
            "grid_auto_rows": null,
            "grid_column": null,
            "grid_gap": null,
            "grid_row": null,
            "grid_template_areas": null,
            "grid_template_columns": null,
            "grid_template_rows": null,
            "height": null,
            "justify_content": null,
            "justify_items": null,
            "left": null,
            "margin": null,
            "max_height": null,
            "max_width": null,
            "min_height": null,
            "min_width": null,
            "object_fit": null,
            "object_position": null,
            "order": null,
            "overflow": null,
            "overflow_x": null,
            "overflow_y": null,
            "padding": null,
            "right": null,
            "top": null,
            "visibility": null,
            "width": null
          }
        },
        "47bd82f2deb7465ab85ac87766a2c0eb": {
          "model_module": "@jupyter-widgets/controls",
          "model_module_version": "1.5.0",
          "model_name": "DescriptionStyleModel",
          "state": {
            "_model_module": "@jupyter-widgets/controls",
            "_model_module_version": "1.5.0",
            "_model_name": "DescriptionStyleModel",
            "_view_count": null,
            "_view_module": "@jupyter-widgets/base",
            "_view_module_version": "1.2.0",
            "_view_name": "StyleView",
            "description_width": ""
          }
        },
        "4857adf30ed744dabb811e7dc5cd67df": {
          "model_module": "@jupyter-widgets/base",
          "model_module_version": "1.2.0",
          "model_name": "LayoutModel",
          "state": {
            "_model_module": "@jupyter-widgets/base",
            "_model_module_version": "1.2.0",
            "_model_name": "LayoutModel",
            "_view_count": null,
            "_view_module": "@jupyter-widgets/base",
            "_view_module_version": "1.2.0",
            "_view_name": "LayoutView",
            "align_content": null,
            "align_items": null,
            "align_self": null,
            "border": null,
            "bottom": null,
            "display": null,
            "flex": null,
            "flex_flow": null,
            "grid_area": null,
            "grid_auto_columns": null,
            "grid_auto_flow": null,
            "grid_auto_rows": null,
            "grid_column": null,
            "grid_gap": null,
            "grid_row": null,
            "grid_template_areas": null,
            "grid_template_columns": null,
            "grid_template_rows": null,
            "height": null,
            "justify_content": null,
            "justify_items": null,
            "left": null,
            "margin": null,
            "max_height": null,
            "max_width": null,
            "min_height": null,
            "min_width": null,
            "object_fit": null,
            "object_position": null,
            "order": null,
            "overflow": null,
            "overflow_x": null,
            "overflow_y": null,
            "padding": null,
            "right": null,
            "top": null,
            "visibility": null,
            "width": null
          }
        },
        "4979038561084923a06378938400bd98": {
          "model_module": "@jupyter-widgets/base",
          "model_module_version": "1.2.0",
          "model_name": "LayoutModel",
          "state": {
            "_model_module": "@jupyter-widgets/base",
            "_model_module_version": "1.2.0",
            "_model_name": "LayoutModel",
            "_view_count": null,
            "_view_module": "@jupyter-widgets/base",
            "_view_module_version": "1.2.0",
            "_view_name": "LayoutView",
            "align_content": null,
            "align_items": null,
            "align_self": null,
            "border": null,
            "bottom": null,
            "display": null,
            "flex": null,
            "flex_flow": null,
            "grid_area": null,
            "grid_auto_columns": null,
            "grid_auto_flow": null,
            "grid_auto_rows": null,
            "grid_column": null,
            "grid_gap": null,
            "grid_row": null,
            "grid_template_areas": null,
            "grid_template_columns": null,
            "grid_template_rows": null,
            "height": null,
            "justify_content": null,
            "justify_items": null,
            "left": null,
            "margin": null,
            "max_height": null,
            "max_width": null,
            "min_height": null,
            "min_width": null,
            "object_fit": null,
            "object_position": null,
            "order": null,
            "overflow": null,
            "overflow_x": null,
            "overflow_y": null,
            "padding": null,
            "right": null,
            "top": null,
            "visibility": null,
            "width": null
          }
        },
        "49832e68a13144b793435170da0d70e8": {
          "model_module": "@jupyter-widgets/controls",
          "model_module_version": "1.5.0",
          "model_name": "FloatProgressModel",
          "state": {
            "_dom_classes": [],
            "_model_module": "@jupyter-widgets/controls",
            "_model_module_version": "1.5.0",
            "_model_name": "FloatProgressModel",
            "_view_count": null,
            "_view_module": "@jupyter-widgets/controls",
            "_view_module_version": "1.5.0",
            "_view_name": "ProgressView",
            "bar_style": "success",
            "description": "",
            "description_tooltip": null,
            "layout": "IPY_MODEL_07d4f341dc4742b39917f45754cf7692",
            "max": 133,
            "min": 0,
            "orientation": "horizontal",
            "style": "IPY_MODEL_18a04c945de94da7ae118bd9e30d865d",
            "value": 133
          }
        },
        "49dd8ca57955475f8e57d0a0858ecc7d": {
          "model_module": "@jupyter-widgets/controls",
          "model_module_version": "1.5.0",
          "model_name": "HTMLModel",
          "state": {
            "_dom_classes": [],
            "_model_module": "@jupyter-widgets/controls",
            "_model_module_version": "1.5.0",
            "_model_name": "HTMLModel",
            "_view_count": null,
            "_view_module": "@jupyter-widgets/controls",
            "_view_module_version": "1.5.0",
            "_view_name": "HTMLView",
            "description": "",
            "description_tooltip": null,
            "layout": "IPY_MODEL_e98947e955fb410db25a4b5138b10744",
            "placeholder": "​",
            "style": "IPY_MODEL_13a4e11fb00c445d91c7f4b2d6b931b4",
            "value": "epoch 1: 100%"
          }
        },
        "4a046f8e54e04434b1ba633fd068c4a4": {
          "model_module": "@jupyter-widgets/controls",
          "model_module_version": "1.5.0",
          "model_name": "HBoxModel",
          "state": {
            "_dom_classes": [],
            "_model_module": "@jupyter-widgets/controls",
            "_model_module_version": "1.5.0",
            "_model_name": "HBoxModel",
            "_view_count": null,
            "_view_module": "@jupyter-widgets/controls",
            "_view_module_version": "1.5.0",
            "_view_name": "HBoxView",
            "box_style": "",
            "children": [
              "IPY_MODEL_fb787f1a17db4cd08f968ad7c03aa6d0",
              "IPY_MODEL_9b6454b760bc41ea9d759a4e56acd793",
              "IPY_MODEL_f2965b6c79354d6eaabcfb8f9da32e5e"
            ],
            "layout": "IPY_MODEL_846022f379a4473ca5a2c404c88badbd"
          }
        },
        "4acd422a020c4384b90e5c4106256bd9": {
          "model_module": "@jupyter-widgets/base",
          "model_module_version": "1.2.0",
          "model_name": "LayoutModel",
          "state": {
            "_model_module": "@jupyter-widgets/base",
            "_model_module_version": "1.2.0",
            "_model_name": "LayoutModel",
            "_view_count": null,
            "_view_module": "@jupyter-widgets/base",
            "_view_module_version": "1.2.0",
            "_view_name": "LayoutView",
            "align_content": null,
            "align_items": null,
            "align_self": null,
            "border": null,
            "bottom": null,
            "display": null,
            "flex": null,
            "flex_flow": null,
            "grid_area": null,
            "grid_auto_columns": null,
            "grid_auto_flow": null,
            "grid_auto_rows": null,
            "grid_column": null,
            "grid_gap": null,
            "grid_row": null,
            "grid_template_areas": null,
            "grid_template_columns": null,
            "grid_template_rows": null,
            "height": null,
            "justify_content": null,
            "justify_items": null,
            "left": null,
            "margin": null,
            "max_height": null,
            "max_width": null,
            "min_height": null,
            "min_width": null,
            "object_fit": null,
            "object_position": null,
            "order": null,
            "overflow": null,
            "overflow_x": null,
            "overflow_y": null,
            "padding": null,
            "right": null,
            "top": null,
            "visibility": null,
            "width": null
          }
        },
        "4c60dca5d3ff4c53a05c5b4bdc15c156": {
          "model_module": "@jupyter-widgets/base",
          "model_module_version": "1.2.0",
          "model_name": "LayoutModel",
          "state": {
            "_model_module": "@jupyter-widgets/base",
            "_model_module_version": "1.2.0",
            "_model_name": "LayoutModel",
            "_view_count": null,
            "_view_module": "@jupyter-widgets/base",
            "_view_module_version": "1.2.0",
            "_view_name": "LayoutView",
            "align_content": null,
            "align_items": null,
            "align_self": null,
            "border": null,
            "bottom": null,
            "display": null,
            "flex": null,
            "flex_flow": null,
            "grid_area": null,
            "grid_auto_columns": null,
            "grid_auto_flow": null,
            "grid_auto_rows": null,
            "grid_column": null,
            "grid_gap": null,
            "grid_row": null,
            "grid_template_areas": null,
            "grid_template_columns": null,
            "grid_template_rows": null,
            "height": null,
            "justify_content": null,
            "justify_items": null,
            "left": null,
            "margin": null,
            "max_height": null,
            "max_width": null,
            "min_height": null,
            "min_width": null,
            "object_fit": null,
            "object_position": null,
            "order": null,
            "overflow": null,
            "overflow_x": null,
            "overflow_y": null,
            "padding": null,
            "right": null,
            "top": null,
            "visibility": null,
            "width": null
          }
        },
        "4d4d626a57104f2aba15226fe5f3c672": {
          "model_module": "@jupyter-widgets/base",
          "model_module_version": "1.2.0",
          "model_name": "LayoutModel",
          "state": {
            "_model_module": "@jupyter-widgets/base",
            "_model_module_version": "1.2.0",
            "_model_name": "LayoutModel",
            "_view_count": null,
            "_view_module": "@jupyter-widgets/base",
            "_view_module_version": "1.2.0",
            "_view_name": "LayoutView",
            "align_content": null,
            "align_items": null,
            "align_self": null,
            "border": null,
            "bottom": null,
            "display": null,
            "flex": null,
            "flex_flow": null,
            "grid_area": null,
            "grid_auto_columns": null,
            "grid_auto_flow": null,
            "grid_auto_rows": null,
            "grid_column": null,
            "grid_gap": null,
            "grid_row": null,
            "grid_template_areas": null,
            "grid_template_columns": null,
            "grid_template_rows": null,
            "height": null,
            "justify_content": null,
            "justify_items": null,
            "left": null,
            "margin": null,
            "max_height": null,
            "max_width": null,
            "min_height": null,
            "min_width": null,
            "object_fit": null,
            "object_position": null,
            "order": null,
            "overflow": null,
            "overflow_x": null,
            "overflow_y": null,
            "padding": null,
            "right": null,
            "top": null,
            "visibility": null,
            "width": null
          }
        },
        "4f74a893b9e54e919214aae570352f21": {
          "model_module": "@jupyter-widgets/base",
          "model_module_version": "1.2.0",
          "model_name": "LayoutModel",
          "state": {
            "_model_module": "@jupyter-widgets/base",
            "_model_module_version": "1.2.0",
            "_model_name": "LayoutModel",
            "_view_count": null,
            "_view_module": "@jupyter-widgets/base",
            "_view_module_version": "1.2.0",
            "_view_name": "LayoutView",
            "align_content": null,
            "align_items": null,
            "align_self": null,
            "border": null,
            "bottom": null,
            "display": null,
            "flex": null,
            "flex_flow": null,
            "grid_area": null,
            "grid_auto_columns": null,
            "grid_auto_flow": null,
            "grid_auto_rows": null,
            "grid_column": null,
            "grid_gap": null,
            "grid_row": null,
            "grid_template_areas": null,
            "grid_template_columns": null,
            "grid_template_rows": null,
            "height": null,
            "justify_content": null,
            "justify_items": null,
            "left": null,
            "margin": null,
            "max_height": null,
            "max_width": null,
            "min_height": null,
            "min_width": null,
            "object_fit": null,
            "object_position": null,
            "order": null,
            "overflow": null,
            "overflow_x": null,
            "overflow_y": null,
            "padding": null,
            "right": null,
            "top": null,
            "visibility": null,
            "width": null
          }
        },
        "4fe3a4f63d264c6f921ee7c6bd6a73eb": {
          "model_module": "@jupyter-widgets/controls",
          "model_module_version": "1.5.0",
          "model_name": "ProgressStyleModel",
          "state": {
            "_model_module": "@jupyter-widgets/controls",
            "_model_module_version": "1.5.0",
            "_model_name": "ProgressStyleModel",
            "_view_count": null,
            "_view_module": "@jupyter-widgets/base",
            "_view_module_version": "1.2.0",
            "_view_name": "StyleView",
            "bar_color": null,
            "description_width": ""
          }
        },
        "4ffc45d4094a4e8d9d57fac59c0a11bf": {
          "model_module": "@jupyter-widgets/base",
          "model_module_version": "1.2.0",
          "model_name": "LayoutModel",
          "state": {
            "_model_module": "@jupyter-widgets/base",
            "_model_module_version": "1.2.0",
            "_model_name": "LayoutModel",
            "_view_count": null,
            "_view_module": "@jupyter-widgets/base",
            "_view_module_version": "1.2.0",
            "_view_name": "LayoutView",
            "align_content": null,
            "align_items": null,
            "align_self": null,
            "border": null,
            "bottom": null,
            "display": null,
            "flex": null,
            "flex_flow": null,
            "grid_area": null,
            "grid_auto_columns": null,
            "grid_auto_flow": null,
            "grid_auto_rows": null,
            "grid_column": null,
            "grid_gap": null,
            "grid_row": null,
            "grid_template_areas": null,
            "grid_template_columns": null,
            "grid_template_rows": null,
            "height": null,
            "justify_content": null,
            "justify_items": null,
            "left": null,
            "margin": null,
            "max_height": null,
            "max_width": null,
            "min_height": null,
            "min_width": null,
            "object_fit": null,
            "object_position": null,
            "order": null,
            "overflow": null,
            "overflow_x": null,
            "overflow_y": null,
            "padding": null,
            "right": null,
            "top": null,
            "visibility": null,
            "width": null
          }
        },
        "503c1aff248f45199f55f9afb503a3d0": {
          "model_module": "@jupyter-widgets/base",
          "model_module_version": "1.2.0",
          "model_name": "LayoutModel",
          "state": {
            "_model_module": "@jupyter-widgets/base",
            "_model_module_version": "1.2.0",
            "_model_name": "LayoutModel",
            "_view_count": null,
            "_view_module": "@jupyter-widgets/base",
            "_view_module_version": "1.2.0",
            "_view_name": "LayoutView",
            "align_content": null,
            "align_items": null,
            "align_self": null,
            "border": null,
            "bottom": null,
            "display": null,
            "flex": null,
            "flex_flow": null,
            "grid_area": null,
            "grid_auto_columns": null,
            "grid_auto_flow": null,
            "grid_auto_rows": null,
            "grid_column": null,
            "grid_gap": null,
            "grid_row": null,
            "grid_template_areas": null,
            "grid_template_columns": null,
            "grid_template_rows": null,
            "height": null,
            "justify_content": null,
            "justify_items": null,
            "left": null,
            "margin": null,
            "max_height": null,
            "max_width": null,
            "min_height": null,
            "min_width": null,
            "object_fit": null,
            "object_position": null,
            "order": null,
            "overflow": null,
            "overflow_x": null,
            "overflow_y": null,
            "padding": null,
            "right": null,
            "top": null,
            "visibility": null,
            "width": null
          }
        },
        "50db594e40b34774a322137c47b278a6": {
          "model_module": "@jupyter-widgets/controls",
          "model_module_version": "1.5.0",
          "model_name": "FloatProgressModel",
          "state": {
            "_dom_classes": [],
            "_model_module": "@jupyter-widgets/controls",
            "_model_module_version": "1.5.0",
            "_model_name": "FloatProgressModel",
            "_view_count": null,
            "_view_module": "@jupyter-widgets/controls",
            "_view_module_version": "1.5.0",
            "_view_name": "ProgressView",
            "bar_style": "success",
            "description": "",
            "description_tooltip": null,
            "layout": "IPY_MODEL_6faf160409ef4cec99453fa7be7ba7a7",
            "max": 40,
            "min": 0,
            "orientation": "horizontal",
            "style": "IPY_MODEL_9843661c30704b7fb5396a797093f2b7",
            "value": 40
          }
        },
        "50f16ba1a4d341d0b9c5346317b3928a": {
          "model_module": "@jupyter-widgets/base",
          "model_module_version": "1.2.0",
          "model_name": "LayoutModel",
          "state": {
            "_model_module": "@jupyter-widgets/base",
            "_model_module_version": "1.2.0",
            "_model_name": "LayoutModel",
            "_view_count": null,
            "_view_module": "@jupyter-widgets/base",
            "_view_module_version": "1.2.0",
            "_view_name": "LayoutView",
            "align_content": null,
            "align_items": null,
            "align_self": null,
            "border": null,
            "bottom": null,
            "display": null,
            "flex": null,
            "flex_flow": null,
            "grid_area": null,
            "grid_auto_columns": null,
            "grid_auto_flow": null,
            "grid_auto_rows": null,
            "grid_column": null,
            "grid_gap": null,
            "grid_row": null,
            "grid_template_areas": null,
            "grid_template_columns": null,
            "grid_template_rows": null,
            "height": null,
            "justify_content": null,
            "justify_items": null,
            "left": null,
            "margin": null,
            "max_height": null,
            "max_width": null,
            "min_height": null,
            "min_width": null,
            "object_fit": null,
            "object_position": null,
            "order": null,
            "overflow": null,
            "overflow_x": null,
            "overflow_y": null,
            "padding": null,
            "right": null,
            "top": null,
            "visibility": null,
            "width": null
          }
        },
        "5171524b199f4251b155336b7ef5cbc7": {
          "model_module": "@jupyter-widgets/controls",
          "model_module_version": "1.5.0",
          "model_name": "DescriptionStyleModel",
          "state": {
            "_model_module": "@jupyter-widgets/controls",
            "_model_module_version": "1.5.0",
            "_model_name": "DescriptionStyleModel",
            "_view_count": null,
            "_view_module": "@jupyter-widgets/base",
            "_view_module_version": "1.2.0",
            "_view_name": "StyleView",
            "description_width": ""
          }
        },
        "52d3dcca83204af880abd7876da2c8db": {
          "model_module": "@jupyter-widgets/base",
          "model_module_version": "1.2.0",
          "model_name": "LayoutModel",
          "state": {
            "_model_module": "@jupyter-widgets/base",
            "_model_module_version": "1.2.0",
            "_model_name": "LayoutModel",
            "_view_count": null,
            "_view_module": "@jupyter-widgets/base",
            "_view_module_version": "1.2.0",
            "_view_name": "LayoutView",
            "align_content": null,
            "align_items": null,
            "align_self": null,
            "border": null,
            "bottom": null,
            "display": null,
            "flex": null,
            "flex_flow": null,
            "grid_area": null,
            "grid_auto_columns": null,
            "grid_auto_flow": null,
            "grid_auto_rows": null,
            "grid_column": null,
            "grid_gap": null,
            "grid_row": null,
            "grid_template_areas": null,
            "grid_template_columns": null,
            "grid_template_rows": null,
            "height": null,
            "justify_content": null,
            "justify_items": null,
            "left": null,
            "margin": null,
            "max_height": null,
            "max_width": null,
            "min_height": null,
            "min_width": null,
            "object_fit": null,
            "object_position": null,
            "order": null,
            "overflow": null,
            "overflow_x": null,
            "overflow_y": null,
            "padding": null,
            "right": null,
            "top": null,
            "visibility": null,
            "width": null
          }
        },
        "53b0b7cb0ed542c196cd181fcf50bb6c": {
          "model_module": "@jupyter-widgets/controls",
          "model_module_version": "1.5.0",
          "model_name": "FloatProgressModel",
          "state": {
            "_dom_classes": [],
            "_model_module": "@jupyter-widgets/controls",
            "_model_module_version": "1.5.0",
            "_model_name": "FloatProgressModel",
            "_view_count": null,
            "_view_module": "@jupyter-widgets/controls",
            "_view_module_version": "1.5.0",
            "_view_name": "ProgressView",
            "bar_style": "success",
            "description": "",
            "description_tooltip": null,
            "layout": "IPY_MODEL_4f74a893b9e54e919214aae570352f21",
            "max": 133,
            "min": 0,
            "orientation": "horizontal",
            "style": "IPY_MODEL_7efd82631c8444cfb0d41cd9b41732fa",
            "value": 133
          }
        },
        "549efefeb711488689c8c68d54ae32bc": {
          "model_module": "@jupyter-widgets/base",
          "model_module_version": "1.2.0",
          "model_name": "LayoutModel",
          "state": {
            "_model_module": "@jupyter-widgets/base",
            "_model_module_version": "1.2.0",
            "_model_name": "LayoutModel",
            "_view_count": null,
            "_view_module": "@jupyter-widgets/base",
            "_view_module_version": "1.2.0",
            "_view_name": "LayoutView",
            "align_content": null,
            "align_items": null,
            "align_self": null,
            "border": null,
            "bottom": null,
            "display": null,
            "flex": null,
            "flex_flow": null,
            "grid_area": null,
            "grid_auto_columns": null,
            "grid_auto_flow": null,
            "grid_auto_rows": null,
            "grid_column": null,
            "grid_gap": null,
            "grid_row": null,
            "grid_template_areas": null,
            "grid_template_columns": null,
            "grid_template_rows": null,
            "height": null,
            "justify_content": null,
            "justify_items": null,
            "left": null,
            "margin": null,
            "max_height": null,
            "max_width": null,
            "min_height": null,
            "min_width": null,
            "object_fit": null,
            "object_position": null,
            "order": null,
            "overflow": null,
            "overflow_x": null,
            "overflow_y": null,
            "padding": null,
            "right": null,
            "top": null,
            "visibility": null,
            "width": null
          }
        },
        "54c31c79c81841298de8c049d02d0122": {
          "model_module": "@jupyter-widgets/base",
          "model_module_version": "1.2.0",
          "model_name": "LayoutModel",
          "state": {
            "_model_module": "@jupyter-widgets/base",
            "_model_module_version": "1.2.0",
            "_model_name": "LayoutModel",
            "_view_count": null,
            "_view_module": "@jupyter-widgets/base",
            "_view_module_version": "1.2.0",
            "_view_name": "LayoutView",
            "align_content": null,
            "align_items": null,
            "align_self": null,
            "border": null,
            "bottom": null,
            "display": null,
            "flex": null,
            "flex_flow": null,
            "grid_area": null,
            "grid_auto_columns": null,
            "grid_auto_flow": null,
            "grid_auto_rows": null,
            "grid_column": null,
            "grid_gap": null,
            "grid_row": null,
            "grid_template_areas": null,
            "grid_template_columns": null,
            "grid_template_rows": null,
            "height": null,
            "justify_content": null,
            "justify_items": null,
            "left": null,
            "margin": null,
            "max_height": null,
            "max_width": null,
            "min_height": null,
            "min_width": null,
            "object_fit": null,
            "object_position": null,
            "order": null,
            "overflow": null,
            "overflow_x": null,
            "overflow_y": null,
            "padding": null,
            "right": null,
            "top": null,
            "visibility": null,
            "width": null
          }
        },
        "56e539282544499bab8cc478278d44e4": {
          "model_module": "@jupyter-widgets/base",
          "model_module_version": "1.2.0",
          "model_name": "LayoutModel",
          "state": {
            "_model_module": "@jupyter-widgets/base",
            "_model_module_version": "1.2.0",
            "_model_name": "LayoutModel",
            "_view_count": null,
            "_view_module": "@jupyter-widgets/base",
            "_view_module_version": "1.2.0",
            "_view_name": "LayoutView",
            "align_content": null,
            "align_items": null,
            "align_self": null,
            "border": null,
            "bottom": null,
            "display": null,
            "flex": null,
            "flex_flow": null,
            "grid_area": null,
            "grid_auto_columns": null,
            "grid_auto_flow": null,
            "grid_auto_rows": null,
            "grid_column": null,
            "grid_gap": null,
            "grid_row": null,
            "grid_template_areas": null,
            "grid_template_columns": null,
            "grid_template_rows": null,
            "height": null,
            "justify_content": null,
            "justify_items": null,
            "left": null,
            "margin": null,
            "max_height": null,
            "max_width": null,
            "min_height": null,
            "min_width": null,
            "object_fit": null,
            "object_position": null,
            "order": null,
            "overflow": null,
            "overflow_x": null,
            "overflow_y": null,
            "padding": null,
            "right": null,
            "top": null,
            "visibility": null,
            "width": null
          }
        },
        "574d3ad1421541cb99e238323070145e": {
          "model_module": "@jupyter-widgets/base",
          "model_module_version": "1.2.0",
          "model_name": "LayoutModel",
          "state": {
            "_model_module": "@jupyter-widgets/base",
            "_model_module_version": "1.2.0",
            "_model_name": "LayoutModel",
            "_view_count": null,
            "_view_module": "@jupyter-widgets/base",
            "_view_module_version": "1.2.0",
            "_view_name": "LayoutView",
            "align_content": null,
            "align_items": null,
            "align_self": null,
            "border": null,
            "bottom": null,
            "display": null,
            "flex": null,
            "flex_flow": null,
            "grid_area": null,
            "grid_auto_columns": null,
            "grid_auto_flow": null,
            "grid_auto_rows": null,
            "grid_column": null,
            "grid_gap": null,
            "grid_row": null,
            "grid_template_areas": null,
            "grid_template_columns": null,
            "grid_template_rows": null,
            "height": null,
            "justify_content": null,
            "justify_items": null,
            "left": null,
            "margin": null,
            "max_height": null,
            "max_width": null,
            "min_height": null,
            "min_width": null,
            "object_fit": null,
            "object_position": null,
            "order": null,
            "overflow": null,
            "overflow_x": null,
            "overflow_y": null,
            "padding": null,
            "right": null,
            "top": null,
            "visibility": null,
            "width": null
          }
        },
        "57793f23de534ca9a8c30aa106c827ff": {
          "model_module": "@jupyter-widgets/controls",
          "model_module_version": "1.5.0",
          "model_name": "HTMLModel",
          "state": {
            "_dom_classes": [],
            "_model_module": "@jupyter-widgets/controls",
            "_model_module_version": "1.5.0",
            "_model_name": "HTMLModel",
            "_view_count": null,
            "_view_module": "@jupyter-widgets/controls",
            "_view_module_version": "1.5.0",
            "_view_name": "HTMLView",
            "description": "",
            "description_tooltip": null,
            "layout": "IPY_MODEL_848594acd8e64a378017bc23d93ced5e",
            "placeholder": "​",
            "style": "IPY_MODEL_b60063384479485c9e7ed3861412aa87",
            "value": "epoch 4: 100%"
          }
        },
        "57a3ee076c764195a556de40e61b9b41": {
          "model_module": "@jupyter-widgets/controls",
          "model_module_version": "1.5.0",
          "model_name": "FloatProgressModel",
          "state": {
            "_dom_classes": [],
            "_model_module": "@jupyter-widgets/controls",
            "_model_module_version": "1.5.0",
            "_model_name": "FloatProgressModel",
            "_view_count": null,
            "_view_module": "@jupyter-widgets/controls",
            "_view_module_version": "1.5.0",
            "_view_name": "ProgressView",
            "bar_style": "success",
            "description": "",
            "description_tooltip": null,
            "layout": "IPY_MODEL_e3fe0d437b4a432abf892a13cea63477",
            "max": 40,
            "min": 0,
            "orientation": "horizontal",
            "style": "IPY_MODEL_80ae397fce5648f88b4763afe192e100",
            "value": 40
          }
        },
        "58464b4896ff4d0db9fa25b1aa3c48d5": {
          "model_module": "@jupyter-widgets/controls",
          "model_module_version": "1.5.0",
          "model_name": "DescriptionStyleModel",
          "state": {
            "_model_module": "@jupyter-widgets/controls",
            "_model_module_version": "1.5.0",
            "_model_name": "DescriptionStyleModel",
            "_view_count": null,
            "_view_module": "@jupyter-widgets/base",
            "_view_module_version": "1.2.0",
            "_view_name": "StyleView",
            "description_width": ""
          }
        },
        "589ff8da4fda44d7b8e8fbdb637df351": {
          "model_module": "@jupyter-widgets/controls",
          "model_module_version": "1.5.0",
          "model_name": "HBoxModel",
          "state": {
            "_dom_classes": [],
            "_model_module": "@jupyter-widgets/controls",
            "_model_module_version": "1.5.0",
            "_model_name": "HBoxModel",
            "_view_count": null,
            "_view_module": "@jupyter-widgets/controls",
            "_view_module_version": "1.5.0",
            "_view_name": "HBoxView",
            "box_style": "",
            "children": [
              "IPY_MODEL_237508b1e25148299e251b5e1ae524bb",
              "IPY_MODEL_0618a95f170745639251160754113052",
              "IPY_MODEL_216ced10c7ba47b98ee179875fbaaa57"
            ],
            "layout": "IPY_MODEL_f32542d821664fc0a4334628dcbf7a8c"
          }
        },
        "591290b1dba34180bc385fc9a761f48e": {
          "model_module": "@jupyter-widgets/controls",
          "model_module_version": "1.5.0",
          "model_name": "HBoxModel",
          "state": {
            "_dom_classes": [],
            "_model_module": "@jupyter-widgets/controls",
            "_model_module_version": "1.5.0",
            "_model_name": "HBoxModel",
            "_view_count": null,
            "_view_module": "@jupyter-widgets/controls",
            "_view_module_version": "1.5.0",
            "_view_name": "HBoxView",
            "box_style": "",
            "children": [
              "IPY_MODEL_942dbdc94bb04c069ef6384af1f630b7",
              "IPY_MODEL_49832e68a13144b793435170da0d70e8",
              "IPY_MODEL_fd82940a34c54d49a042ba874b190cfb"
            ],
            "layout": "IPY_MODEL_30f23a36178f432aa7120e5e04ced64e"
          }
        },
        "59fb05cebca54601bcc16e3843d26197": {
          "model_module": "@jupyter-widgets/controls",
          "model_module_version": "1.5.0",
          "model_name": "ProgressStyleModel",
          "state": {
            "_model_module": "@jupyter-widgets/controls",
            "_model_module_version": "1.5.0",
            "_model_name": "ProgressStyleModel",
            "_view_count": null,
            "_view_module": "@jupyter-widgets/base",
            "_view_module_version": "1.2.0",
            "_view_name": "StyleView",
            "bar_color": null,
            "description_width": ""
          }
        },
        "5a35c25d91df421ba36ae904b449d99b": {
          "model_module": "@jupyter-widgets/controls",
          "model_module_version": "1.5.0",
          "model_name": "HTMLModel",
          "state": {
            "_dom_classes": [],
            "_model_module": "@jupyter-widgets/controls",
            "_model_module_version": "1.5.0",
            "_model_name": "HTMLModel",
            "_view_count": null,
            "_view_module": "@jupyter-widgets/controls",
            "_view_module_version": "1.5.0",
            "_view_name": "HTMLView",
            "description": "",
            "description_tooltip": null,
            "layout": "IPY_MODEL_0f4226c01cf541ea999f9e282d6f521b",
            "placeholder": "​",
            "style": "IPY_MODEL_973671cc86204cb3bc29f72a7d49af79",
            "value": " 3/10 [07:11&lt;16:45, 143.58s/epoch]"
          }
        },
        "5a4010c349e642f1a76a70ef4b7a37fd": {
          "model_module": "@jupyter-widgets/controls",
          "model_module_version": "1.5.0",
          "model_name": "FloatProgressModel",
          "state": {
            "_dom_classes": [],
            "_model_module": "@jupyter-widgets/controls",
            "_model_module_version": "1.5.0",
            "_model_name": "FloatProgressModel",
            "_view_count": null,
            "_view_module": "@jupyter-widgets/controls",
            "_view_module_version": "1.5.0",
            "_view_name": "ProgressView",
            "bar_style": "success",
            "description": "",
            "description_tooltip": null,
            "layout": "IPY_MODEL_e7438f622d3c462e9b68c0ae93bf12bb",
            "max": 40,
            "min": 0,
            "orientation": "horizontal",
            "style": "IPY_MODEL_6f2dd6604176421abb7f8930d4fb2d8f",
            "value": 40
          }
        },
        "5b249a101bf64e1faec0a98989683928": {
          "model_module": "@jupyter-widgets/base",
          "model_module_version": "1.2.0",
          "model_name": "LayoutModel",
          "state": {
            "_model_module": "@jupyter-widgets/base",
            "_model_module_version": "1.2.0",
            "_model_name": "LayoutModel",
            "_view_count": null,
            "_view_module": "@jupyter-widgets/base",
            "_view_module_version": "1.2.0",
            "_view_name": "LayoutView",
            "align_content": null,
            "align_items": null,
            "align_self": null,
            "border": null,
            "bottom": null,
            "display": null,
            "flex": null,
            "flex_flow": null,
            "grid_area": null,
            "grid_auto_columns": null,
            "grid_auto_flow": null,
            "grid_auto_rows": null,
            "grid_column": null,
            "grid_gap": null,
            "grid_row": null,
            "grid_template_areas": null,
            "grid_template_columns": null,
            "grid_template_rows": null,
            "height": null,
            "justify_content": null,
            "justify_items": null,
            "left": null,
            "margin": null,
            "max_height": null,
            "max_width": null,
            "min_height": null,
            "min_width": null,
            "object_fit": null,
            "object_position": null,
            "order": null,
            "overflow": null,
            "overflow_x": null,
            "overflow_y": null,
            "padding": null,
            "right": null,
            "top": null,
            "visibility": null,
            "width": null
          }
        },
        "5c105e07045541b3b632a3e6528842c7": {
          "model_module": "@jupyter-widgets/base",
          "model_module_version": "1.2.0",
          "model_name": "LayoutModel",
          "state": {
            "_model_module": "@jupyter-widgets/base",
            "_model_module_version": "1.2.0",
            "_model_name": "LayoutModel",
            "_view_count": null,
            "_view_module": "@jupyter-widgets/base",
            "_view_module_version": "1.2.0",
            "_view_name": "LayoutView",
            "align_content": null,
            "align_items": null,
            "align_self": null,
            "border": null,
            "bottom": null,
            "display": null,
            "flex": null,
            "flex_flow": null,
            "grid_area": null,
            "grid_auto_columns": null,
            "grid_auto_flow": null,
            "grid_auto_rows": null,
            "grid_column": null,
            "grid_gap": null,
            "grid_row": null,
            "grid_template_areas": null,
            "grid_template_columns": null,
            "grid_template_rows": null,
            "height": null,
            "justify_content": null,
            "justify_items": null,
            "left": null,
            "margin": null,
            "max_height": null,
            "max_width": null,
            "min_height": null,
            "min_width": null,
            "object_fit": null,
            "object_position": null,
            "order": null,
            "overflow": null,
            "overflow_x": null,
            "overflow_y": null,
            "padding": null,
            "right": null,
            "top": null,
            "visibility": null,
            "width": null
          }
        },
        "5c3769223d274fc4b32f451949277aa3": {
          "model_module": "@jupyter-widgets/controls",
          "model_module_version": "1.5.0",
          "model_name": "HTMLModel",
          "state": {
            "_dom_classes": [],
            "_model_module": "@jupyter-widgets/controls",
            "_model_module_version": "1.5.0",
            "_model_name": "HTMLModel",
            "_view_count": null,
            "_view_module": "@jupyter-widgets/controls",
            "_view_module_version": "1.5.0",
            "_view_name": "HTMLView",
            "description": "",
            "description_tooltip": null,
            "layout": "IPY_MODEL_e5aa5f94c9eb4c63b014028e246f75da",
            "placeholder": "​",
            "style": "IPY_MODEL_9af001ed3047438282feef782ba0c9b0",
            "value": "epoch 3: 100%"
          }
        },
        "5c39343fd6814bc0a67cf7a69b7f46f6": {
          "model_module": "@jupyter-widgets/controls",
          "model_module_version": "1.5.0",
          "model_name": "DescriptionStyleModel",
          "state": {
            "_model_module": "@jupyter-widgets/controls",
            "_model_module_version": "1.5.0",
            "_model_name": "DescriptionStyleModel",
            "_view_count": null,
            "_view_module": "@jupyter-widgets/base",
            "_view_module_version": "1.2.0",
            "_view_name": "StyleView",
            "description_width": ""
          }
        },
        "5cf1742ef3894a5b9687fea40b8fb86b": {
          "model_module": "@jupyter-widgets/base",
          "model_module_version": "1.2.0",
          "model_name": "LayoutModel",
          "state": {
            "_model_module": "@jupyter-widgets/base",
            "_model_module_version": "1.2.0",
            "_model_name": "LayoutModel",
            "_view_count": null,
            "_view_module": "@jupyter-widgets/base",
            "_view_module_version": "1.2.0",
            "_view_name": "LayoutView",
            "align_content": null,
            "align_items": null,
            "align_self": null,
            "border": null,
            "bottom": null,
            "display": null,
            "flex": null,
            "flex_flow": null,
            "grid_area": null,
            "grid_auto_columns": null,
            "grid_auto_flow": null,
            "grid_auto_rows": null,
            "grid_column": null,
            "grid_gap": null,
            "grid_row": null,
            "grid_template_areas": null,
            "grid_template_columns": null,
            "grid_template_rows": null,
            "height": null,
            "justify_content": null,
            "justify_items": null,
            "left": null,
            "margin": null,
            "max_height": null,
            "max_width": null,
            "min_height": null,
            "min_width": null,
            "object_fit": null,
            "object_position": null,
            "order": null,
            "overflow": null,
            "overflow_x": null,
            "overflow_y": null,
            "padding": null,
            "right": null,
            "top": null,
            "visibility": null,
            "width": null
          }
        },
        "5d87c721a5dc4f50972ab4e67447f62f": {
          "model_module": "@jupyter-widgets/base",
          "model_module_version": "1.2.0",
          "model_name": "LayoutModel",
          "state": {
            "_model_module": "@jupyter-widgets/base",
            "_model_module_version": "1.2.0",
            "_model_name": "LayoutModel",
            "_view_count": null,
            "_view_module": "@jupyter-widgets/base",
            "_view_module_version": "1.2.0",
            "_view_name": "LayoutView",
            "align_content": null,
            "align_items": null,
            "align_self": null,
            "border": null,
            "bottom": null,
            "display": null,
            "flex": null,
            "flex_flow": null,
            "grid_area": null,
            "grid_auto_columns": null,
            "grid_auto_flow": null,
            "grid_auto_rows": null,
            "grid_column": null,
            "grid_gap": null,
            "grid_row": null,
            "grid_template_areas": null,
            "grid_template_columns": null,
            "grid_template_rows": null,
            "height": null,
            "justify_content": null,
            "justify_items": null,
            "left": null,
            "margin": null,
            "max_height": null,
            "max_width": null,
            "min_height": null,
            "min_width": null,
            "object_fit": null,
            "object_position": null,
            "order": null,
            "overflow": null,
            "overflow_x": null,
            "overflow_y": null,
            "padding": null,
            "right": null,
            "top": null,
            "visibility": null,
            "width": null
          }
        },
        "5dc1d63e099b4166bd4e6184e4c47047": {
          "model_module": "@jupyter-widgets/base",
          "model_module_version": "1.2.0",
          "model_name": "LayoutModel",
          "state": {
            "_model_module": "@jupyter-widgets/base",
            "_model_module_version": "1.2.0",
            "_model_name": "LayoutModel",
            "_view_count": null,
            "_view_module": "@jupyter-widgets/base",
            "_view_module_version": "1.2.0",
            "_view_name": "LayoutView",
            "align_content": null,
            "align_items": null,
            "align_self": null,
            "border": null,
            "bottom": null,
            "display": null,
            "flex": null,
            "flex_flow": null,
            "grid_area": null,
            "grid_auto_columns": null,
            "grid_auto_flow": null,
            "grid_auto_rows": null,
            "grid_column": null,
            "grid_gap": null,
            "grid_row": null,
            "grid_template_areas": null,
            "grid_template_columns": null,
            "grid_template_rows": null,
            "height": null,
            "justify_content": null,
            "justify_items": null,
            "left": null,
            "margin": null,
            "max_height": null,
            "max_width": null,
            "min_height": null,
            "min_width": null,
            "object_fit": null,
            "object_position": null,
            "order": null,
            "overflow": null,
            "overflow_x": null,
            "overflow_y": null,
            "padding": null,
            "right": null,
            "top": null,
            "visibility": null,
            "width": null
          }
        },
        "5f8307f0e0e84887a5d71a038cbed9fd": {
          "model_module": "@jupyter-widgets/base",
          "model_module_version": "1.2.0",
          "model_name": "LayoutModel",
          "state": {
            "_model_module": "@jupyter-widgets/base",
            "_model_module_version": "1.2.0",
            "_model_name": "LayoutModel",
            "_view_count": null,
            "_view_module": "@jupyter-widgets/base",
            "_view_module_version": "1.2.0",
            "_view_name": "LayoutView",
            "align_content": null,
            "align_items": null,
            "align_self": null,
            "border": null,
            "bottom": null,
            "display": null,
            "flex": null,
            "flex_flow": null,
            "grid_area": null,
            "grid_auto_columns": null,
            "grid_auto_flow": null,
            "grid_auto_rows": null,
            "grid_column": null,
            "grid_gap": null,
            "grid_row": null,
            "grid_template_areas": null,
            "grid_template_columns": null,
            "grid_template_rows": null,
            "height": null,
            "justify_content": null,
            "justify_items": null,
            "left": null,
            "margin": null,
            "max_height": null,
            "max_width": null,
            "min_height": null,
            "min_width": null,
            "object_fit": null,
            "object_position": null,
            "order": null,
            "overflow": null,
            "overflow_x": null,
            "overflow_y": null,
            "padding": null,
            "right": null,
            "top": null,
            "visibility": null,
            "width": null
          }
        },
        "6039e958e1b948db89583bc828f140f8": {
          "model_module": "@jupyter-widgets/controls",
          "model_module_version": "1.5.0",
          "model_name": "DescriptionStyleModel",
          "state": {
            "_model_module": "@jupyter-widgets/controls",
            "_model_module_version": "1.5.0",
            "_model_name": "DescriptionStyleModel",
            "_view_count": null,
            "_view_module": "@jupyter-widgets/base",
            "_view_module_version": "1.2.0",
            "_view_name": "StyleView",
            "description_width": ""
          }
        },
        "60b205fe011143208752313c5c542924": {
          "model_module": "@jupyter-widgets/controls",
          "model_module_version": "1.5.0",
          "model_name": "HBoxModel",
          "state": {
            "_dom_classes": [],
            "_model_module": "@jupyter-widgets/controls",
            "_model_module_version": "1.5.0",
            "_model_name": "HBoxModel",
            "_view_count": null,
            "_view_module": "@jupyter-widgets/controls",
            "_view_module_version": "1.5.0",
            "_view_name": "HBoxView",
            "box_style": "",
            "children": [
              "IPY_MODEL_6c381ef4c3ca433ab25228c5d9b732b9",
              "IPY_MODEL_ef38a6b50601421d845efdb4c7145cb6",
              "IPY_MODEL_fb52fd63c5964edf8ea3297eaaf80159"
            ],
            "layout": "IPY_MODEL_73adaddbbb534f2a88812ed2b7f24da8"
          }
        },
        "61868c3159f74c15aab30259f2062c3b": {
          "model_module": "@jupyter-widgets/controls",
          "model_module_version": "1.5.0",
          "model_name": "HTMLModel",
          "state": {
            "_dom_classes": [],
            "_model_module": "@jupyter-widgets/controls",
            "_model_module_version": "1.5.0",
            "_model_name": "HTMLModel",
            "_view_count": null,
            "_view_module": "@jupyter-widgets/controls",
            "_view_module_version": "1.5.0",
            "_view_name": "HTMLView",
            "description": "",
            "description_tooltip": null,
            "layout": "IPY_MODEL_9ddbe41899ae47d0b2f773c523708771",
            "placeholder": "​",
            "style": "IPY_MODEL_cac52b509b5c47778022dee60705066f",
            "value": "epoch 3: 100%"
          }
        },
        "62251550521b4b7880cd1646ae3ad230": {
          "model_module": "@jupyter-widgets/base",
          "model_module_version": "1.2.0",
          "model_name": "LayoutModel",
          "state": {
            "_model_module": "@jupyter-widgets/base",
            "_model_module_version": "1.2.0",
            "_model_name": "LayoutModel",
            "_view_count": null,
            "_view_module": "@jupyter-widgets/base",
            "_view_module_version": "1.2.0",
            "_view_name": "LayoutView",
            "align_content": null,
            "align_items": null,
            "align_self": null,
            "border": null,
            "bottom": null,
            "display": null,
            "flex": null,
            "flex_flow": null,
            "grid_area": null,
            "grid_auto_columns": null,
            "grid_auto_flow": null,
            "grid_auto_rows": null,
            "grid_column": null,
            "grid_gap": null,
            "grid_row": null,
            "grid_template_areas": null,
            "grid_template_columns": null,
            "grid_template_rows": null,
            "height": null,
            "justify_content": null,
            "justify_items": null,
            "left": null,
            "margin": null,
            "max_height": null,
            "max_width": null,
            "min_height": null,
            "min_width": null,
            "object_fit": null,
            "object_position": null,
            "order": null,
            "overflow": null,
            "overflow_x": null,
            "overflow_y": null,
            "padding": null,
            "right": null,
            "top": null,
            "visibility": null,
            "width": null
          }
        },
        "62392cba441c44319b964445ddffdeaf": {
          "model_module": "@jupyter-widgets/controls",
          "model_module_version": "1.5.0",
          "model_name": "DescriptionStyleModel",
          "state": {
            "_model_module": "@jupyter-widgets/controls",
            "_model_module_version": "1.5.0",
            "_model_name": "DescriptionStyleModel",
            "_view_count": null,
            "_view_module": "@jupyter-widgets/base",
            "_view_module_version": "1.2.0",
            "_view_name": "StyleView",
            "description_width": ""
          }
        },
        "6300e41fbdff4b5a83d5de0946c75560": {
          "model_module": "@jupyter-widgets/base",
          "model_module_version": "1.2.0",
          "model_name": "LayoutModel",
          "state": {
            "_model_module": "@jupyter-widgets/base",
            "_model_module_version": "1.2.0",
            "_model_name": "LayoutModel",
            "_view_count": null,
            "_view_module": "@jupyter-widgets/base",
            "_view_module_version": "1.2.0",
            "_view_name": "LayoutView",
            "align_content": null,
            "align_items": null,
            "align_self": null,
            "border": null,
            "bottom": null,
            "display": null,
            "flex": null,
            "flex_flow": null,
            "grid_area": null,
            "grid_auto_columns": null,
            "grid_auto_flow": null,
            "grid_auto_rows": null,
            "grid_column": null,
            "grid_gap": null,
            "grid_row": null,
            "grid_template_areas": null,
            "grid_template_columns": null,
            "grid_template_rows": null,
            "height": null,
            "justify_content": null,
            "justify_items": null,
            "left": null,
            "margin": null,
            "max_height": null,
            "max_width": null,
            "min_height": null,
            "min_width": null,
            "object_fit": null,
            "object_position": null,
            "order": null,
            "overflow": null,
            "overflow_x": null,
            "overflow_y": null,
            "padding": null,
            "right": null,
            "top": null,
            "visibility": null,
            "width": null
          }
        },
        "64e7f9ecd09649e3aa9fb5b3b59ad0bf": {
          "model_module": "@jupyter-widgets/controls",
          "model_module_version": "1.5.0",
          "model_name": "HBoxModel",
          "state": {
            "_dom_classes": [],
            "_model_module": "@jupyter-widgets/controls",
            "_model_module_version": "1.5.0",
            "_model_name": "HBoxModel",
            "_view_count": null,
            "_view_module": "@jupyter-widgets/controls",
            "_view_module_version": "1.5.0",
            "_view_name": "HBoxView",
            "box_style": "",
            "children": [
              "IPY_MODEL_f4e40d6a3b3044499557181dfd6f5262",
              "IPY_MODEL_e1a4bdc124484069b790445ac8334505",
              "IPY_MODEL_fb6bb7d88e40443c93c3f565e2e63a13"
            ],
            "layout": "IPY_MODEL_5d87c721a5dc4f50972ab4e67447f62f"
          }
        },
        "65a2787405274a488e71b52a1138fa21": {
          "model_module": "@jupyter-widgets/controls",
          "model_module_version": "1.5.0",
          "model_name": "FloatProgressModel",
          "state": {
            "_dom_classes": [],
            "_model_module": "@jupyter-widgets/controls",
            "_model_module_version": "1.5.0",
            "_model_name": "FloatProgressModel",
            "_view_count": null,
            "_view_module": "@jupyter-widgets/controls",
            "_view_module_version": "1.5.0",
            "_view_name": "ProgressView",
            "bar_style": "success",
            "description": "",
            "description_tooltip": null,
            "layout": "IPY_MODEL_cbb9d0b335bb4b2091e77ddc75ceb5e8",
            "max": 133,
            "min": 0,
            "orientation": "horizontal",
            "style": "IPY_MODEL_59fb05cebca54601bcc16e3843d26197",
            "value": 133
          }
        },
        "66c640d60fca4ee8acf9bcbeb4558e41": {
          "model_module": "@jupyter-widgets/controls",
          "model_module_version": "1.5.0",
          "model_name": "DescriptionStyleModel",
          "state": {
            "_model_module": "@jupyter-widgets/controls",
            "_model_module_version": "1.5.0",
            "_model_name": "DescriptionStyleModel",
            "_view_count": null,
            "_view_module": "@jupyter-widgets/base",
            "_view_module_version": "1.2.0",
            "_view_name": "StyleView",
            "description_width": ""
          }
        },
        "67849c3f1c4a45d39f4642a9ba5df584": {
          "model_module": "@jupyter-widgets/controls",
          "model_module_version": "1.5.0",
          "model_name": "DescriptionStyleModel",
          "state": {
            "_model_module": "@jupyter-widgets/controls",
            "_model_module_version": "1.5.0",
            "_model_name": "DescriptionStyleModel",
            "_view_count": null,
            "_view_module": "@jupyter-widgets/base",
            "_view_module_version": "1.2.0",
            "_view_name": "StyleView",
            "description_width": ""
          }
        },
        "6bc3235027a648eda36540ebd92feb21": {
          "model_module": "@jupyter-widgets/controls",
          "model_module_version": "1.5.0",
          "model_name": "FloatProgressModel",
          "state": {
            "_dom_classes": [],
            "_model_module": "@jupyter-widgets/controls",
            "_model_module_version": "1.5.0",
            "_model_name": "FloatProgressModel",
            "_view_count": null,
            "_view_module": "@jupyter-widgets/controls",
            "_view_module_version": "1.5.0",
            "_view_name": "ProgressView",
            "bar_style": "success",
            "description": "",
            "description_tooltip": null,
            "layout": "IPY_MODEL_4c60dca5d3ff4c53a05c5b4bdc15c156",
            "max": 133,
            "min": 0,
            "orientation": "horizontal",
            "style": "IPY_MODEL_a294fc11f4a6409793ad7d7245c94736",
            "value": 133
          }
        },
        "6c381ef4c3ca433ab25228c5d9b732b9": {
          "model_module": "@jupyter-widgets/controls",
          "model_module_version": "1.5.0",
          "model_name": "HTMLModel",
          "state": {
            "_dom_classes": [],
            "_model_module": "@jupyter-widgets/controls",
            "_model_module_version": "1.5.0",
            "_model_name": "HTMLModel",
            "_view_count": null,
            "_view_module": "@jupyter-widgets/controls",
            "_view_module_version": "1.5.0",
            "_view_name": "HTMLView",
            "description": "",
            "description_tooltip": null,
            "layout": "IPY_MODEL_91ab1cda54094f798a8b4f2ac1926141",
            "placeholder": "​",
            "style": "IPY_MODEL_2675ef16b1494488990296ba92067ee5",
            "value": "epoch 6: 100%"
          }
        },
        "6cddf62a37894e7a9c0569306de111c1": {
          "model_module": "@jupyter-widgets/controls",
          "model_module_version": "1.5.0",
          "model_name": "FloatProgressModel",
          "state": {
            "_dom_classes": [],
            "_model_module": "@jupyter-widgets/controls",
            "_model_module_version": "1.5.0",
            "_model_name": "FloatProgressModel",
            "_view_count": null,
            "_view_module": "@jupyter-widgets/controls",
            "_view_module_version": "1.5.0",
            "_view_name": "ProgressView",
            "bar_style": "success",
            "description": "",
            "description_tooltip": null,
            "layout": "IPY_MODEL_4857adf30ed744dabb811e7dc5cd67df",
            "max": 40,
            "min": 0,
            "orientation": "horizontal",
            "style": "IPY_MODEL_d10955be4c5846beb72a278359f28202",
            "value": 40
          }
        },
        "6e2afd7c4bbf4930a67027948d8ff514": {
          "model_module": "@jupyter-widgets/base",
          "model_module_version": "1.2.0",
          "model_name": "LayoutModel",
          "state": {
            "_model_module": "@jupyter-widgets/base",
            "_model_module_version": "1.2.0",
            "_model_name": "LayoutModel",
            "_view_count": null,
            "_view_module": "@jupyter-widgets/base",
            "_view_module_version": "1.2.0",
            "_view_name": "LayoutView",
            "align_content": null,
            "align_items": null,
            "align_self": null,
            "border": null,
            "bottom": null,
            "display": null,
            "flex": null,
            "flex_flow": null,
            "grid_area": null,
            "grid_auto_columns": null,
            "grid_auto_flow": null,
            "grid_auto_rows": null,
            "grid_column": null,
            "grid_gap": null,
            "grid_row": null,
            "grid_template_areas": null,
            "grid_template_columns": null,
            "grid_template_rows": null,
            "height": null,
            "justify_content": null,
            "justify_items": null,
            "left": null,
            "margin": null,
            "max_height": null,
            "max_width": null,
            "min_height": null,
            "min_width": null,
            "object_fit": null,
            "object_position": null,
            "order": null,
            "overflow": null,
            "overflow_x": null,
            "overflow_y": null,
            "padding": null,
            "right": null,
            "top": null,
            "visibility": null,
            "width": null
          }
        },
        "6e7a69d59ad1491abef9ddcf8608daf8": {
          "model_module": "@jupyter-widgets/base",
          "model_module_version": "1.2.0",
          "model_name": "LayoutModel",
          "state": {
            "_model_module": "@jupyter-widgets/base",
            "_model_module_version": "1.2.0",
            "_model_name": "LayoutModel",
            "_view_count": null,
            "_view_module": "@jupyter-widgets/base",
            "_view_module_version": "1.2.0",
            "_view_name": "LayoutView",
            "align_content": null,
            "align_items": null,
            "align_self": null,
            "border": null,
            "bottom": null,
            "display": null,
            "flex": null,
            "flex_flow": null,
            "grid_area": null,
            "grid_auto_columns": null,
            "grid_auto_flow": null,
            "grid_auto_rows": null,
            "grid_column": null,
            "grid_gap": null,
            "grid_row": null,
            "grid_template_areas": null,
            "grid_template_columns": null,
            "grid_template_rows": null,
            "height": null,
            "justify_content": null,
            "justify_items": null,
            "left": null,
            "margin": null,
            "max_height": null,
            "max_width": null,
            "min_height": null,
            "min_width": null,
            "object_fit": null,
            "object_position": null,
            "order": null,
            "overflow": null,
            "overflow_x": null,
            "overflow_y": null,
            "padding": null,
            "right": null,
            "top": null,
            "visibility": null,
            "width": null
          }
        },
        "6ef6ec26c77c4035856382a017e5259f": {
          "model_module": "@jupyter-widgets/base",
          "model_module_version": "1.2.0",
          "model_name": "LayoutModel",
          "state": {
            "_model_module": "@jupyter-widgets/base",
            "_model_module_version": "1.2.0",
            "_model_name": "LayoutModel",
            "_view_count": null,
            "_view_module": "@jupyter-widgets/base",
            "_view_module_version": "1.2.0",
            "_view_name": "LayoutView",
            "align_content": null,
            "align_items": null,
            "align_self": null,
            "border": null,
            "bottom": null,
            "display": null,
            "flex": null,
            "flex_flow": null,
            "grid_area": null,
            "grid_auto_columns": null,
            "grid_auto_flow": null,
            "grid_auto_rows": null,
            "grid_column": null,
            "grid_gap": null,
            "grid_row": null,
            "grid_template_areas": null,
            "grid_template_columns": null,
            "grid_template_rows": null,
            "height": null,
            "justify_content": null,
            "justify_items": null,
            "left": null,
            "margin": null,
            "max_height": null,
            "max_width": null,
            "min_height": null,
            "min_width": null,
            "object_fit": null,
            "object_position": null,
            "order": null,
            "overflow": null,
            "overflow_x": null,
            "overflow_y": null,
            "padding": null,
            "right": null,
            "top": null,
            "visibility": null,
            "width": null
          }
        },
        "6f1c640d94fb463696f372abf745a1cd": {
          "model_module": "@jupyter-widgets/base",
          "model_module_version": "1.2.0",
          "model_name": "LayoutModel",
          "state": {
            "_model_module": "@jupyter-widgets/base",
            "_model_module_version": "1.2.0",
            "_model_name": "LayoutModel",
            "_view_count": null,
            "_view_module": "@jupyter-widgets/base",
            "_view_module_version": "1.2.0",
            "_view_name": "LayoutView",
            "align_content": null,
            "align_items": null,
            "align_self": null,
            "border": null,
            "bottom": null,
            "display": null,
            "flex": null,
            "flex_flow": null,
            "grid_area": null,
            "grid_auto_columns": null,
            "grid_auto_flow": null,
            "grid_auto_rows": null,
            "grid_column": null,
            "grid_gap": null,
            "grid_row": null,
            "grid_template_areas": null,
            "grid_template_columns": null,
            "grid_template_rows": null,
            "height": null,
            "justify_content": null,
            "justify_items": null,
            "left": null,
            "margin": null,
            "max_height": null,
            "max_width": null,
            "min_height": null,
            "min_width": null,
            "object_fit": null,
            "object_position": null,
            "order": null,
            "overflow": null,
            "overflow_x": null,
            "overflow_y": null,
            "padding": null,
            "right": null,
            "top": null,
            "visibility": null,
            "width": null
          }
        },
        "6f2dd6604176421abb7f8930d4fb2d8f": {
          "model_module": "@jupyter-widgets/controls",
          "model_module_version": "1.5.0",
          "model_name": "ProgressStyleModel",
          "state": {
            "_model_module": "@jupyter-widgets/controls",
            "_model_module_version": "1.5.0",
            "_model_name": "ProgressStyleModel",
            "_view_count": null,
            "_view_module": "@jupyter-widgets/base",
            "_view_module_version": "1.2.0",
            "_view_name": "StyleView",
            "bar_color": null,
            "description_width": ""
          }
        },
        "6faf160409ef4cec99453fa7be7ba7a7": {
          "model_module": "@jupyter-widgets/base",
          "model_module_version": "1.2.0",
          "model_name": "LayoutModel",
          "state": {
            "_model_module": "@jupyter-widgets/base",
            "_model_module_version": "1.2.0",
            "_model_name": "LayoutModel",
            "_view_count": null,
            "_view_module": "@jupyter-widgets/base",
            "_view_module_version": "1.2.0",
            "_view_name": "LayoutView",
            "align_content": null,
            "align_items": null,
            "align_self": null,
            "border": null,
            "bottom": null,
            "display": null,
            "flex": null,
            "flex_flow": null,
            "grid_area": null,
            "grid_auto_columns": null,
            "grid_auto_flow": null,
            "grid_auto_rows": null,
            "grid_column": null,
            "grid_gap": null,
            "grid_row": null,
            "grid_template_areas": null,
            "grid_template_columns": null,
            "grid_template_rows": null,
            "height": null,
            "justify_content": null,
            "justify_items": null,
            "left": null,
            "margin": null,
            "max_height": null,
            "max_width": null,
            "min_height": null,
            "min_width": null,
            "object_fit": null,
            "object_position": null,
            "order": null,
            "overflow": null,
            "overflow_x": null,
            "overflow_y": null,
            "padding": null,
            "right": null,
            "top": null,
            "visibility": null,
            "width": null
          }
        },
        "733855e13ae84725babcd259858d0360": {
          "model_module": "@jupyter-widgets/controls",
          "model_module_version": "1.5.0",
          "model_name": "HTMLModel",
          "state": {
            "_dom_classes": [],
            "_model_module": "@jupyter-widgets/controls",
            "_model_module_version": "1.5.0",
            "_model_name": "HTMLModel",
            "_view_count": null,
            "_view_module": "@jupyter-widgets/controls",
            "_view_module_version": "1.5.0",
            "_view_name": "HTMLView",
            "description": "",
            "description_tooltip": null,
            "layout": "IPY_MODEL_f88b676abca14e84956b11fcb6f813b2",
            "placeholder": "​",
            "style": "IPY_MODEL_3aeba45fcbd04719959f950d213340fc",
            "value": "epoch 7: 100%"
          }
        },
        "73adaddbbb534f2a88812ed2b7f24da8": {
          "model_module": "@jupyter-widgets/base",
          "model_module_version": "1.2.0",
          "model_name": "LayoutModel",
          "state": {
            "_model_module": "@jupyter-widgets/base",
            "_model_module_version": "1.2.0",
            "_model_name": "LayoutModel",
            "_view_count": null,
            "_view_module": "@jupyter-widgets/base",
            "_view_module_version": "1.2.0",
            "_view_name": "LayoutView",
            "align_content": null,
            "align_items": null,
            "align_self": null,
            "border": null,
            "bottom": null,
            "display": null,
            "flex": null,
            "flex_flow": null,
            "grid_area": null,
            "grid_auto_columns": null,
            "grid_auto_flow": null,
            "grid_auto_rows": null,
            "grid_column": null,
            "grid_gap": null,
            "grid_row": null,
            "grid_template_areas": null,
            "grid_template_columns": null,
            "grid_template_rows": null,
            "height": null,
            "justify_content": null,
            "justify_items": null,
            "left": null,
            "margin": null,
            "max_height": null,
            "max_width": null,
            "min_height": null,
            "min_width": null,
            "object_fit": null,
            "object_position": null,
            "order": null,
            "overflow": null,
            "overflow_x": null,
            "overflow_y": null,
            "padding": null,
            "right": null,
            "top": null,
            "visibility": null,
            "width": null
          }
        },
        "74070015107945068aa8b08a278a83e0": {
          "model_module": "@jupyter-widgets/base",
          "model_module_version": "1.2.0",
          "model_name": "LayoutModel",
          "state": {
            "_model_module": "@jupyter-widgets/base",
            "_model_module_version": "1.2.0",
            "_model_name": "LayoutModel",
            "_view_count": null,
            "_view_module": "@jupyter-widgets/base",
            "_view_module_version": "1.2.0",
            "_view_name": "LayoutView",
            "align_content": null,
            "align_items": null,
            "align_self": null,
            "border": null,
            "bottom": null,
            "display": null,
            "flex": null,
            "flex_flow": null,
            "grid_area": null,
            "grid_auto_columns": null,
            "grid_auto_flow": null,
            "grid_auto_rows": null,
            "grid_column": null,
            "grid_gap": null,
            "grid_row": null,
            "grid_template_areas": null,
            "grid_template_columns": null,
            "grid_template_rows": null,
            "height": null,
            "justify_content": null,
            "justify_items": null,
            "left": null,
            "margin": null,
            "max_height": null,
            "max_width": null,
            "min_height": null,
            "min_width": null,
            "object_fit": null,
            "object_position": null,
            "order": null,
            "overflow": null,
            "overflow_x": null,
            "overflow_y": null,
            "padding": null,
            "right": null,
            "top": null,
            "visibility": null,
            "width": null
          }
        },
        "741c8a93a3dc4681bbf05ceea4ed7db6": {
          "model_module": "@jupyter-widgets/controls",
          "model_module_version": "1.5.0",
          "model_name": "HTMLModel",
          "state": {
            "_dom_classes": [],
            "_model_module": "@jupyter-widgets/controls",
            "_model_module_version": "1.5.0",
            "_model_name": "HTMLModel",
            "_view_count": null,
            "_view_module": "@jupyter-widgets/controls",
            "_view_module_version": "1.5.0",
            "_view_name": "HTMLView",
            "description": "",
            "description_tooltip": null,
            "layout": "IPY_MODEL_87d1572c57444695ac87f6ecffeb72fc",
            "placeholder": "​",
            "style": "IPY_MODEL_bbd16c605e46416cb3e05a057d86b864",
            "value": " 10/10 [02:53&lt;00:00, 18.03s/epoch]"
          }
        },
        "747e405ec02e40a5b1fdbe43a9db2844": {
          "model_module": "@jupyter-widgets/base",
          "model_module_version": "1.2.0",
          "model_name": "LayoutModel",
          "state": {
            "_model_module": "@jupyter-widgets/base",
            "_model_module_version": "1.2.0",
            "_model_name": "LayoutModel",
            "_view_count": null,
            "_view_module": "@jupyter-widgets/base",
            "_view_module_version": "1.2.0",
            "_view_name": "LayoutView",
            "align_content": null,
            "align_items": null,
            "align_self": null,
            "border": null,
            "bottom": null,
            "display": null,
            "flex": null,
            "flex_flow": null,
            "grid_area": null,
            "grid_auto_columns": null,
            "grid_auto_flow": null,
            "grid_auto_rows": null,
            "grid_column": null,
            "grid_gap": null,
            "grid_row": null,
            "grid_template_areas": null,
            "grid_template_columns": null,
            "grid_template_rows": null,
            "height": null,
            "justify_content": null,
            "justify_items": null,
            "left": null,
            "margin": null,
            "max_height": null,
            "max_width": null,
            "min_height": null,
            "min_width": null,
            "object_fit": null,
            "object_position": null,
            "order": null,
            "overflow": null,
            "overflow_x": null,
            "overflow_y": null,
            "padding": null,
            "right": null,
            "top": null,
            "visibility": null,
            "width": null
          }
        },
        "769baa613d89494b981aa5e8a005345c": {
          "model_module": "@jupyter-widgets/controls",
          "model_module_version": "1.5.0",
          "model_name": "HTMLModel",
          "state": {
            "_dom_classes": [],
            "_model_module": "@jupyter-widgets/controls",
            "_model_module_version": "1.5.0",
            "_model_name": "HTMLModel",
            "_view_count": null,
            "_view_module": "@jupyter-widgets/controls",
            "_view_module_version": "1.5.0",
            "_view_name": "HTMLView",
            "description": "",
            "description_tooltip": null,
            "layout": "IPY_MODEL_9ec11c97b1024cc898ec2671da6f3756",
            "placeholder": "​",
            "style": "IPY_MODEL_20bd07748e84497381ccdcddf2829303",
            "value": " 133/133 [00:04&lt;00:00, 28.31instance/s]"
          }
        },
        "779a7f40a8bf48e5867b9cbd3a8e8681": {
          "model_module": "@jupyter-widgets/controls",
          "model_module_version": "1.5.0",
          "model_name": "HTMLModel",
          "state": {
            "_dom_classes": [],
            "_model_module": "@jupyter-widgets/controls",
            "_model_module_version": "1.5.0",
            "_model_name": "HTMLModel",
            "_view_count": null,
            "_view_module": "@jupyter-widgets/controls",
            "_view_module_version": "1.5.0",
            "_view_name": "HTMLView",
            "description": "",
            "description_tooltip": null,
            "layout": "IPY_MODEL_5dc1d63e099b4166bd4e6184e4c47047",
            "placeholder": "​",
            "style": "IPY_MODEL_cd2949116f554a8caf16de803f5bb45f",
            "value": "epoch 10: 100%"
          }
        },
        "7a4169f11fee4f4cb96272660b4ec606": {
          "model_module": "@jupyter-widgets/controls",
          "model_module_version": "1.5.0",
          "model_name": "FloatProgressModel",
          "state": {
            "_dom_classes": [],
            "_model_module": "@jupyter-widgets/controls",
            "_model_module_version": "1.5.0",
            "_model_name": "FloatProgressModel",
            "_view_count": null,
            "_view_module": "@jupyter-widgets/controls",
            "_view_module_version": "1.5.0",
            "_view_name": "ProgressView",
            "bar_style": "success",
            "description": "",
            "description_tooltip": null,
            "layout": "IPY_MODEL_933caa78b70c417d8e2dbf60d39f0ac2",
            "max": 10,
            "min": 0,
            "orientation": "horizontal",
            "style": "IPY_MODEL_4fe3a4f63d264c6f921ee7c6bd6a73eb",
            "value": 10
          }
        },
        "7ba27083940948929573384aec35f200": {
          "model_module": "@jupyter-widgets/controls",
          "model_module_version": "1.5.0",
          "model_name": "DescriptionStyleModel",
          "state": {
            "_model_module": "@jupyter-widgets/controls",
            "_model_module_version": "1.5.0",
            "_model_name": "DescriptionStyleModel",
            "_view_count": null,
            "_view_module": "@jupyter-widgets/base",
            "_view_module_version": "1.2.0",
            "_view_name": "StyleView",
            "description_width": ""
          }
        },
        "7be4ece2840e47b7a41f8bb2457e1b6e": {
          "model_module": "@jupyter-widgets/controls",
          "model_module_version": "1.5.0",
          "model_name": "DescriptionStyleModel",
          "state": {
            "_model_module": "@jupyter-widgets/controls",
            "_model_module_version": "1.5.0",
            "_model_name": "DescriptionStyleModel",
            "_view_count": null,
            "_view_module": "@jupyter-widgets/base",
            "_view_module_version": "1.2.0",
            "_view_name": "StyleView",
            "description_width": ""
          }
        },
        "7be815fe111e48f8a779008901af2ef2": {
          "model_module": "@jupyter-widgets/base",
          "model_module_version": "1.2.0",
          "model_name": "LayoutModel",
          "state": {
            "_model_module": "@jupyter-widgets/base",
            "_model_module_version": "1.2.0",
            "_model_name": "LayoutModel",
            "_view_count": null,
            "_view_module": "@jupyter-widgets/base",
            "_view_module_version": "1.2.0",
            "_view_name": "LayoutView",
            "align_content": null,
            "align_items": null,
            "align_self": null,
            "border": null,
            "bottom": null,
            "display": null,
            "flex": null,
            "flex_flow": null,
            "grid_area": null,
            "grid_auto_columns": null,
            "grid_auto_flow": null,
            "grid_auto_rows": null,
            "grid_column": null,
            "grid_gap": null,
            "grid_row": null,
            "grid_template_areas": null,
            "grid_template_columns": null,
            "grid_template_rows": null,
            "height": null,
            "justify_content": null,
            "justify_items": null,
            "left": null,
            "margin": null,
            "max_height": null,
            "max_width": null,
            "min_height": null,
            "min_width": null,
            "object_fit": null,
            "object_position": null,
            "order": null,
            "overflow": null,
            "overflow_x": null,
            "overflow_y": null,
            "padding": null,
            "right": null,
            "top": null,
            "visibility": null,
            "width": null
          }
        },
        "7dbf6deb43834a298d512375633bfbf5": {
          "model_module": "@jupyter-widgets/controls",
          "model_module_version": "1.5.0",
          "model_name": "HTMLModel",
          "state": {
            "_dom_classes": [],
            "_model_module": "@jupyter-widgets/controls",
            "_model_module_version": "1.5.0",
            "_model_name": "HTMLModel",
            "_view_count": null,
            "_view_module": "@jupyter-widgets/controls",
            "_view_module_version": "1.5.0",
            "_view_name": "HTMLView",
            "description": "",
            "description_tooltip": null,
            "layout": "IPY_MODEL_74070015107945068aa8b08a278a83e0",
            "placeholder": "​",
            "style": "IPY_MODEL_66c640d60fca4ee8acf9bcbeb4558e41",
            "value": " 133/133 [00:04&lt;00:00, 31.80instance/s]"
          }
        },
        "7ee16cb2359248db810c4072c48d7b2c": {
          "model_module": "@jupyter-widgets/base",
          "model_module_version": "1.2.0",
          "model_name": "LayoutModel",
          "state": {
            "_model_module": "@jupyter-widgets/base",
            "_model_module_version": "1.2.0",
            "_model_name": "LayoutModel",
            "_view_count": null,
            "_view_module": "@jupyter-widgets/base",
            "_view_module_version": "1.2.0",
            "_view_name": "LayoutView",
            "align_content": null,
            "align_items": null,
            "align_self": null,
            "border": null,
            "bottom": null,
            "display": null,
            "flex": null,
            "flex_flow": null,
            "grid_area": null,
            "grid_auto_columns": null,
            "grid_auto_flow": null,
            "grid_auto_rows": null,
            "grid_column": null,
            "grid_gap": null,
            "grid_row": null,
            "grid_template_areas": null,
            "grid_template_columns": null,
            "grid_template_rows": null,
            "height": null,
            "justify_content": null,
            "justify_items": null,
            "left": null,
            "margin": null,
            "max_height": null,
            "max_width": null,
            "min_height": null,
            "min_width": null,
            "object_fit": null,
            "object_position": null,
            "order": null,
            "overflow": null,
            "overflow_x": null,
            "overflow_y": null,
            "padding": null,
            "right": null,
            "top": null,
            "visibility": null,
            "width": null
          }
        },
        "7efd82631c8444cfb0d41cd9b41732fa": {
          "model_module": "@jupyter-widgets/controls",
          "model_module_version": "1.5.0",
          "model_name": "ProgressStyleModel",
          "state": {
            "_model_module": "@jupyter-widgets/controls",
            "_model_module_version": "1.5.0",
            "_model_name": "ProgressStyleModel",
            "_view_count": null,
            "_view_module": "@jupyter-widgets/base",
            "_view_module_version": "1.2.0",
            "_view_name": "StyleView",
            "bar_color": null,
            "description_width": ""
          }
        },
        "7f9482d8c272458db21ddd8187257e0d": {
          "model_module": "@jupyter-widgets/controls",
          "model_module_version": "1.5.0",
          "model_name": "HTMLModel",
          "state": {
            "_dom_classes": [],
            "_model_module": "@jupyter-widgets/controls",
            "_model_module_version": "1.5.0",
            "_model_name": "HTMLModel",
            "_view_count": null,
            "_view_module": "@jupyter-widgets/controls",
            "_view_module_version": "1.5.0",
            "_view_name": "HTMLView",
            "description": "",
            "description_tooltip": null,
            "layout": "IPY_MODEL_c470706fee684a21a7c9ee66cd60f5b4",
            "placeholder": "​",
            "style": "IPY_MODEL_fe82730844bd4c8bbfa9b0025d272122",
            "value": " 133/133 [00:04&lt;00:00, 30.42instance/s]"
          }
        },
        "7fd64e230d1040928f09ac9dc43a4118": {
          "model_module": "@jupyter-widgets/base",
          "model_module_version": "1.2.0",
          "model_name": "LayoutModel",
          "state": {
            "_model_module": "@jupyter-widgets/base",
            "_model_module_version": "1.2.0",
            "_model_name": "LayoutModel",
            "_view_count": null,
            "_view_module": "@jupyter-widgets/base",
            "_view_module_version": "1.2.0",
            "_view_name": "LayoutView",
            "align_content": null,
            "align_items": null,
            "align_self": null,
            "border": null,
            "bottom": null,
            "display": null,
            "flex": null,
            "flex_flow": null,
            "grid_area": null,
            "grid_auto_columns": null,
            "grid_auto_flow": null,
            "grid_auto_rows": null,
            "grid_column": null,
            "grid_gap": null,
            "grid_row": null,
            "grid_template_areas": null,
            "grid_template_columns": null,
            "grid_template_rows": null,
            "height": null,
            "justify_content": null,
            "justify_items": null,
            "left": null,
            "margin": null,
            "max_height": null,
            "max_width": null,
            "min_height": null,
            "min_width": null,
            "object_fit": null,
            "object_position": null,
            "order": null,
            "overflow": null,
            "overflow_x": null,
            "overflow_y": null,
            "padding": null,
            "right": null,
            "top": null,
            "visibility": null,
            "width": null
          }
        },
        "80ae397fce5648f88b4763afe192e100": {
          "model_module": "@jupyter-widgets/controls",
          "model_module_version": "1.5.0",
          "model_name": "ProgressStyleModel",
          "state": {
            "_model_module": "@jupyter-widgets/controls",
            "_model_module_version": "1.5.0",
            "_model_name": "ProgressStyleModel",
            "_view_count": null,
            "_view_module": "@jupyter-widgets/base",
            "_view_module_version": "1.2.0",
            "_view_name": "StyleView",
            "bar_color": null,
            "description_width": ""
          }
        },
        "82132fed560643d0b1aa2198adce2d8f": {
          "model_module": "@jupyter-widgets/controls",
          "model_module_version": "1.5.0",
          "model_name": "DescriptionStyleModel",
          "state": {
            "_model_module": "@jupyter-widgets/controls",
            "_model_module_version": "1.5.0",
            "_model_name": "DescriptionStyleModel",
            "_view_count": null,
            "_view_module": "@jupyter-widgets/base",
            "_view_module_version": "1.2.0",
            "_view_name": "StyleView",
            "description_width": ""
          }
        },
        "83fcd66edd4b4fd2bdfff081a07ee5d7": {
          "model_module": "@jupyter-widgets/controls",
          "model_module_version": "1.5.0",
          "model_name": "HTMLModel",
          "state": {
            "_dom_classes": [],
            "_model_module": "@jupyter-widgets/controls",
            "_model_module_version": "1.5.0",
            "_model_name": "HTMLModel",
            "_view_count": null,
            "_view_module": "@jupyter-widgets/controls",
            "_view_module_version": "1.5.0",
            "_view_name": "HTMLView",
            "description": "",
            "description_tooltip": null,
            "layout": "IPY_MODEL_7fd64e230d1040928f09ac9dc43a4118",
            "placeholder": "​",
            "style": "IPY_MODEL_58464b4896ff4d0db9fa25b1aa3c48d5",
            "value": " 133/133 [00:04&lt;00:00, 31.68instance/s]"
          }
        },
        "8452a9c1dace4d14bc2e5c66231788ad": {
          "model_module": "@jupyter-widgets/controls",
          "model_module_version": "1.5.0",
          "model_name": "DescriptionStyleModel",
          "state": {
            "_model_module": "@jupyter-widgets/controls",
            "_model_module_version": "1.5.0",
            "_model_name": "DescriptionStyleModel",
            "_view_count": null,
            "_view_module": "@jupyter-widgets/base",
            "_view_module_version": "1.2.0",
            "_view_name": "StyleView",
            "description_width": ""
          }
        },
        "846022f379a4473ca5a2c404c88badbd": {
          "model_module": "@jupyter-widgets/base",
          "model_module_version": "1.2.0",
          "model_name": "LayoutModel",
          "state": {
            "_model_module": "@jupyter-widgets/base",
            "_model_module_version": "1.2.0",
            "_model_name": "LayoutModel",
            "_view_count": null,
            "_view_module": "@jupyter-widgets/base",
            "_view_module_version": "1.2.0",
            "_view_name": "LayoutView",
            "align_content": null,
            "align_items": null,
            "align_self": null,
            "border": null,
            "bottom": null,
            "display": null,
            "flex": null,
            "flex_flow": null,
            "grid_area": null,
            "grid_auto_columns": null,
            "grid_auto_flow": null,
            "grid_auto_rows": null,
            "grid_column": null,
            "grid_gap": null,
            "grid_row": null,
            "grid_template_areas": null,
            "grid_template_columns": null,
            "grid_template_rows": null,
            "height": null,
            "justify_content": null,
            "justify_items": null,
            "left": null,
            "margin": null,
            "max_height": null,
            "max_width": null,
            "min_height": null,
            "min_width": null,
            "object_fit": null,
            "object_position": null,
            "order": null,
            "overflow": null,
            "overflow_x": null,
            "overflow_y": null,
            "padding": null,
            "right": null,
            "top": null,
            "visibility": null,
            "width": null
          }
        },
        "848594acd8e64a378017bc23d93ced5e": {
          "model_module": "@jupyter-widgets/base",
          "model_module_version": "1.2.0",
          "model_name": "LayoutModel",
          "state": {
            "_model_module": "@jupyter-widgets/base",
            "_model_module_version": "1.2.0",
            "_model_name": "LayoutModel",
            "_view_count": null,
            "_view_module": "@jupyter-widgets/base",
            "_view_module_version": "1.2.0",
            "_view_name": "LayoutView",
            "align_content": null,
            "align_items": null,
            "align_self": null,
            "border": null,
            "bottom": null,
            "display": null,
            "flex": null,
            "flex_flow": null,
            "grid_area": null,
            "grid_auto_columns": null,
            "grid_auto_flow": null,
            "grid_auto_rows": null,
            "grid_column": null,
            "grid_gap": null,
            "grid_row": null,
            "grid_template_areas": null,
            "grid_template_columns": null,
            "grid_template_rows": null,
            "height": null,
            "justify_content": null,
            "justify_items": null,
            "left": null,
            "margin": null,
            "max_height": null,
            "max_width": null,
            "min_height": null,
            "min_width": null,
            "object_fit": null,
            "object_position": null,
            "order": null,
            "overflow": null,
            "overflow_x": null,
            "overflow_y": null,
            "padding": null,
            "right": null,
            "top": null,
            "visibility": null,
            "width": null
          }
        },
        "849070f9372f422b90c53044c1e7ca61": {
          "model_module": "@jupyter-widgets/controls",
          "model_module_version": "1.5.0",
          "model_name": "HTMLModel",
          "state": {
            "_dom_classes": [],
            "_model_module": "@jupyter-widgets/controls",
            "_model_module_version": "1.5.0",
            "_model_name": "HTMLModel",
            "_view_count": null,
            "_view_module": "@jupyter-widgets/controls",
            "_view_module_version": "1.5.0",
            "_view_name": "HTMLView",
            "description": "",
            "description_tooltip": null,
            "layout": "IPY_MODEL_9cd065e41e3e4aeb8600f238d2347397",
            "placeholder": "​",
            "style": "IPY_MODEL_f2ad6be66f58493884b12e384d6f8958",
            "value": "training: 100%"
          }
        },
        "87d1572c57444695ac87f6ecffeb72fc": {
          "model_module": "@jupyter-widgets/base",
          "model_module_version": "1.2.0",
          "model_name": "LayoutModel",
          "state": {
            "_model_module": "@jupyter-widgets/base",
            "_model_module_version": "1.2.0",
            "_model_name": "LayoutModel",
            "_view_count": null,
            "_view_module": "@jupyter-widgets/base",
            "_view_module_version": "1.2.0",
            "_view_name": "LayoutView",
            "align_content": null,
            "align_items": null,
            "align_self": null,
            "border": null,
            "bottom": null,
            "display": null,
            "flex": null,
            "flex_flow": null,
            "grid_area": null,
            "grid_auto_columns": null,
            "grid_auto_flow": null,
            "grid_auto_rows": null,
            "grid_column": null,
            "grid_gap": null,
            "grid_row": null,
            "grid_template_areas": null,
            "grid_template_columns": null,
            "grid_template_rows": null,
            "height": null,
            "justify_content": null,
            "justify_items": null,
            "left": null,
            "margin": null,
            "max_height": null,
            "max_width": null,
            "min_height": null,
            "min_width": null,
            "object_fit": null,
            "object_position": null,
            "order": null,
            "overflow": null,
            "overflow_x": null,
            "overflow_y": null,
            "padding": null,
            "right": null,
            "top": null,
            "visibility": null,
            "width": null
          }
        },
        "87ef2e57934d42bfb825dc622eea2d2b": {
          "model_module": "@jupyter-widgets/base",
          "model_module_version": "1.2.0",
          "model_name": "LayoutModel",
          "state": {
            "_model_module": "@jupyter-widgets/base",
            "_model_module_version": "1.2.0",
            "_model_name": "LayoutModel",
            "_view_count": null,
            "_view_module": "@jupyter-widgets/base",
            "_view_module_version": "1.2.0",
            "_view_name": "LayoutView",
            "align_content": null,
            "align_items": null,
            "align_self": null,
            "border": null,
            "bottom": null,
            "display": null,
            "flex": null,
            "flex_flow": null,
            "grid_area": null,
            "grid_auto_columns": null,
            "grid_auto_flow": null,
            "grid_auto_rows": null,
            "grid_column": null,
            "grid_gap": null,
            "grid_row": null,
            "grid_template_areas": null,
            "grid_template_columns": null,
            "grid_template_rows": null,
            "height": null,
            "justify_content": null,
            "justify_items": null,
            "left": null,
            "margin": null,
            "max_height": null,
            "max_width": null,
            "min_height": null,
            "min_width": null,
            "object_fit": null,
            "object_position": null,
            "order": null,
            "overflow": null,
            "overflow_x": null,
            "overflow_y": null,
            "padding": null,
            "right": null,
            "top": null,
            "visibility": null,
            "width": null
          }
        },
        "89cb3682329f4b0583f94a9e1eb11aec": {
          "model_module": "@jupyter-widgets/controls",
          "model_module_version": "1.5.0",
          "model_name": "HBoxModel",
          "state": {
            "_dom_classes": [],
            "_model_module": "@jupyter-widgets/controls",
            "_model_module_version": "1.5.0",
            "_model_name": "HBoxModel",
            "_view_count": null,
            "_view_module": "@jupyter-widgets/controls",
            "_view_module_version": "1.5.0",
            "_view_name": "HBoxView",
            "box_style": "",
            "children": [
              "IPY_MODEL_733855e13ae84725babcd259858d0360",
              "IPY_MODEL_bc57f57f158845b9aee429d0e4bc6c2e",
              "IPY_MODEL_a5e61e18bf874cf48aefca95fca8c5fa"
            ],
            "layout": "IPY_MODEL_5f8307f0e0e84887a5d71a038cbed9fd"
          }
        },
        "8a82a8f5b88b458b8da633636d5c48a7": {
          "model_module": "@jupyter-widgets/controls",
          "model_module_version": "1.5.0",
          "model_name": "FloatProgressModel",
          "state": {
            "_dom_classes": [],
            "_model_module": "@jupyter-widgets/controls",
            "_model_module_version": "1.5.0",
            "_model_name": "FloatProgressModel",
            "_view_count": null,
            "_view_module": "@jupyter-widgets/controls",
            "_view_module_version": "1.5.0",
            "_view_name": "ProgressView",
            "bar_style": "success",
            "description": "",
            "description_tooltip": null,
            "layout": "IPY_MODEL_21dda0ebf5f549ff8e98adb849136d90",
            "max": 133,
            "min": 0,
            "orientation": "horizontal",
            "style": "IPY_MODEL_13f9384c50694f96998482822b73da01",
            "value": 133
          }
        },
        "8b417b85fb6e40718a09b987064b2fd9": {
          "model_module": "@jupyter-widgets/controls",
          "model_module_version": "1.5.0",
          "model_name": "DescriptionStyleModel",
          "state": {
            "_model_module": "@jupyter-widgets/controls",
            "_model_module_version": "1.5.0",
            "_model_name": "DescriptionStyleModel",
            "_view_count": null,
            "_view_module": "@jupyter-widgets/base",
            "_view_module_version": "1.2.0",
            "_view_name": "StyleView",
            "description_width": ""
          }
        },
        "8b98849f3de142608bfc01fa782d0f35": {
          "model_module": "@jupyter-widgets/controls",
          "model_module_version": "1.5.0",
          "model_name": "HTMLModel",
          "state": {
            "_dom_classes": [],
            "_model_module": "@jupyter-widgets/controls",
            "_model_module_version": "1.5.0",
            "_model_name": "HTMLModel",
            "_view_count": null,
            "_view_module": "@jupyter-widgets/controls",
            "_view_module_version": "1.5.0",
            "_view_name": "HTMLView",
            "description": "",
            "description_tooltip": null,
            "layout": "IPY_MODEL_1bbfb6d08ac143989a77dd6ee8bf56da",
            "placeholder": "​",
            "style": "IPY_MODEL_b5e1e9984ec041ec8e952831fae8a8d7",
            "value": " 8/133 [00:08&lt;01:38,  1.27instance/s, train_correct_candidates_per_instance=10.8, train_loss=0.529]"
          }
        },
        "8dbdd18b010a4035ba7265989040ba6e": {
          "model_module": "@jupyter-widgets/base",
          "model_module_version": "1.2.0",
          "model_name": "LayoutModel",
          "state": {
            "_model_module": "@jupyter-widgets/base",
            "_model_module_version": "1.2.0",
            "_model_name": "LayoutModel",
            "_view_count": null,
            "_view_module": "@jupyter-widgets/base",
            "_view_module_version": "1.2.0",
            "_view_name": "LayoutView",
            "align_content": null,
            "align_items": null,
            "align_self": null,
            "border": null,
            "bottom": null,
            "display": null,
            "flex": null,
            "flex_flow": null,
            "grid_area": null,
            "grid_auto_columns": null,
            "grid_auto_flow": null,
            "grid_auto_rows": null,
            "grid_column": null,
            "grid_gap": null,
            "grid_row": null,
            "grid_template_areas": null,
            "grid_template_columns": null,
            "grid_template_rows": null,
            "height": null,
            "justify_content": null,
            "justify_items": null,
            "left": null,
            "margin": null,
            "max_height": null,
            "max_width": null,
            "min_height": null,
            "min_width": null,
            "object_fit": null,
            "object_position": null,
            "order": null,
            "overflow": null,
            "overflow_x": null,
            "overflow_y": null,
            "padding": null,
            "right": null,
            "top": null,
            "visibility": null,
            "width": null
          }
        },
        "8e04641c145c4b3188a8a170993c10b6": {
          "model_module": "@jupyter-widgets/base",
          "model_module_version": "1.2.0",
          "model_name": "LayoutModel",
          "state": {
            "_model_module": "@jupyter-widgets/base",
            "_model_module_version": "1.2.0",
            "_model_name": "LayoutModel",
            "_view_count": null,
            "_view_module": "@jupyter-widgets/base",
            "_view_module_version": "1.2.0",
            "_view_name": "LayoutView",
            "align_content": null,
            "align_items": null,
            "align_self": null,
            "border": null,
            "bottom": null,
            "display": null,
            "flex": null,
            "flex_flow": null,
            "grid_area": null,
            "grid_auto_columns": null,
            "grid_auto_flow": null,
            "grid_auto_rows": null,
            "grid_column": null,
            "grid_gap": null,
            "grid_row": null,
            "grid_template_areas": null,
            "grid_template_columns": null,
            "grid_template_rows": null,
            "height": null,
            "justify_content": null,
            "justify_items": null,
            "left": null,
            "margin": null,
            "max_height": null,
            "max_width": null,
            "min_height": null,
            "min_width": null,
            "object_fit": null,
            "object_position": null,
            "order": null,
            "overflow": null,
            "overflow_x": null,
            "overflow_y": null,
            "padding": null,
            "right": null,
            "top": null,
            "visibility": null,
            "width": null
          }
        },
        "8e3ce0febb954ec08bbf785124e06e24": {
          "model_module": "@jupyter-widgets/controls",
          "model_module_version": "1.5.0",
          "model_name": "DescriptionStyleModel",
          "state": {
            "_model_module": "@jupyter-widgets/controls",
            "_model_module_version": "1.5.0",
            "_model_name": "DescriptionStyleModel",
            "_view_count": null,
            "_view_module": "@jupyter-widgets/base",
            "_view_module_version": "1.2.0",
            "_view_name": "StyleView",
            "description_width": ""
          }
        },
        "8e5da701f38c476496343f5f6f7b4f50": {
          "model_module": "@jupyter-widgets/controls",
          "model_module_version": "1.5.0",
          "model_name": "HTMLModel",
          "state": {
            "_dom_classes": [],
            "_model_module": "@jupyter-widgets/controls",
            "_model_module_version": "1.5.0",
            "_model_name": "HTMLModel",
            "_view_count": null,
            "_view_module": "@jupyter-widgets/controls",
            "_view_module_version": "1.5.0",
            "_view_name": "HTMLView",
            "description": "",
            "description_tooltip": null,
            "layout": "IPY_MODEL_1d3ae2a63b534e2eb13caf0e0afa8d2b",
            "placeholder": "​",
            "style": "IPY_MODEL_0099cc18b7e743ecad3dbb656be49edf",
            "value": " 133/133 [00:04&lt;00:00, 32.68instance/s]"
          }
        },
        "8f86b8d0807c456099910e574b365ee9": {
          "model_module": "@jupyter-widgets/base",
          "model_module_version": "1.2.0",
          "model_name": "LayoutModel",
          "state": {
            "_model_module": "@jupyter-widgets/base",
            "_model_module_version": "1.2.0",
            "_model_name": "LayoutModel",
            "_view_count": null,
            "_view_module": "@jupyter-widgets/base",
            "_view_module_version": "1.2.0",
            "_view_name": "LayoutView",
            "align_content": null,
            "align_items": null,
            "align_self": null,
            "border": null,
            "bottom": null,
            "display": null,
            "flex": null,
            "flex_flow": null,
            "grid_area": null,
            "grid_auto_columns": null,
            "grid_auto_flow": null,
            "grid_auto_rows": null,
            "grid_column": null,
            "grid_gap": null,
            "grid_row": null,
            "grid_template_areas": null,
            "grid_template_columns": null,
            "grid_template_rows": null,
            "height": null,
            "justify_content": null,
            "justify_items": null,
            "left": null,
            "margin": null,
            "max_height": null,
            "max_width": null,
            "min_height": null,
            "min_width": null,
            "object_fit": null,
            "object_position": null,
            "order": null,
            "overflow": null,
            "overflow_x": null,
            "overflow_y": null,
            "padding": null,
            "right": null,
            "top": null,
            "visibility": null,
            "width": null
          }
        },
        "8f9179ca25fc47de883be72febaac11d": {
          "model_module": "@jupyter-widgets/controls",
          "model_module_version": "1.5.0",
          "model_name": "HTMLModel",
          "state": {
            "_dom_classes": [],
            "_model_module": "@jupyter-widgets/controls",
            "_model_module_version": "1.5.0",
            "_model_name": "HTMLModel",
            "_view_count": null,
            "_view_module": "@jupyter-widgets/controls",
            "_view_module_version": "1.5.0",
            "_view_name": "HTMLView",
            "description": "",
            "description_tooltip": null,
            "layout": "IPY_MODEL_5c105e07045541b3b632a3e6528842c7",
            "placeholder": "​",
            "style": "IPY_MODEL_466e4025239247b0a7c8a1e6d3860cfe",
            "value": " 40/40 [00:06&lt;00:00,  5.63instance/s, train_correct_candidates_per_instance=15.1, train_loss=1.34]"
          }
        },
        "9048bc6d92744c71b9f0873a5048e393": {
          "model_module": "@jupyter-widgets/controls",
          "model_module_version": "1.5.0",
          "model_name": "FloatProgressModel",
          "state": {
            "_dom_classes": [],
            "_model_module": "@jupyter-widgets/controls",
            "_model_module_version": "1.5.0",
            "_model_name": "FloatProgressModel",
            "_view_count": null,
            "_view_module": "@jupyter-widgets/controls",
            "_view_module_version": "1.5.0",
            "_view_name": "ProgressView",
            "bar_style": "success",
            "description": "",
            "description_tooltip": null,
            "layout": "IPY_MODEL_1fef2dc554534e00bdc4a350d7dc4a88",
            "max": 40,
            "min": 0,
            "orientation": "horizontal",
            "style": "IPY_MODEL_b5d6c8d692b64b6899437304f9622211",
            "value": 40
          }
        },
        "91ab1cda54094f798a8b4f2ac1926141": {
          "model_module": "@jupyter-widgets/base",
          "model_module_version": "1.2.0",
          "model_name": "LayoutModel",
          "state": {
            "_model_module": "@jupyter-widgets/base",
            "_model_module_version": "1.2.0",
            "_model_name": "LayoutModel",
            "_view_count": null,
            "_view_module": "@jupyter-widgets/base",
            "_view_module_version": "1.2.0",
            "_view_name": "LayoutView",
            "align_content": null,
            "align_items": null,
            "align_self": null,
            "border": null,
            "bottom": null,
            "display": null,
            "flex": null,
            "flex_flow": null,
            "grid_area": null,
            "grid_auto_columns": null,
            "grid_auto_flow": null,
            "grid_auto_rows": null,
            "grid_column": null,
            "grid_gap": null,
            "grid_row": null,
            "grid_template_areas": null,
            "grid_template_columns": null,
            "grid_template_rows": null,
            "height": null,
            "justify_content": null,
            "justify_items": null,
            "left": null,
            "margin": null,
            "max_height": null,
            "max_width": null,
            "min_height": null,
            "min_width": null,
            "object_fit": null,
            "object_position": null,
            "order": null,
            "overflow": null,
            "overflow_x": null,
            "overflow_y": null,
            "padding": null,
            "right": null,
            "top": null,
            "visibility": null,
            "width": null
          }
        },
        "9212a04619e3417a9ca80c51ba7fe76a": {
          "model_module": "@jupyter-widgets/base",
          "model_module_version": "1.2.0",
          "model_name": "LayoutModel",
          "state": {
            "_model_module": "@jupyter-widgets/base",
            "_model_module_version": "1.2.0",
            "_model_name": "LayoutModel",
            "_view_count": null,
            "_view_module": "@jupyter-widgets/base",
            "_view_module_version": "1.2.0",
            "_view_name": "LayoutView",
            "align_content": null,
            "align_items": null,
            "align_self": null,
            "border": null,
            "bottom": null,
            "display": null,
            "flex": null,
            "flex_flow": null,
            "grid_area": null,
            "grid_auto_columns": null,
            "grid_auto_flow": null,
            "grid_auto_rows": null,
            "grid_column": null,
            "grid_gap": null,
            "grid_row": null,
            "grid_template_areas": null,
            "grid_template_columns": null,
            "grid_template_rows": null,
            "height": null,
            "justify_content": null,
            "justify_items": null,
            "left": null,
            "margin": null,
            "max_height": null,
            "max_width": null,
            "min_height": null,
            "min_width": null,
            "object_fit": null,
            "object_position": null,
            "order": null,
            "overflow": null,
            "overflow_x": null,
            "overflow_y": null,
            "padding": null,
            "right": null,
            "top": null,
            "visibility": null,
            "width": null
          }
        },
        "9277ee7942f74419b823f5dc81b1272a": {
          "model_module": "@jupyter-widgets/controls",
          "model_module_version": "1.5.0",
          "model_name": "DescriptionStyleModel",
          "state": {
            "_model_module": "@jupyter-widgets/controls",
            "_model_module_version": "1.5.0",
            "_model_name": "DescriptionStyleModel",
            "_view_count": null,
            "_view_module": "@jupyter-widgets/base",
            "_view_module_version": "1.2.0",
            "_view_name": "StyleView",
            "description_width": ""
          }
        },
        "933caa78b70c417d8e2dbf60d39f0ac2": {
          "model_module": "@jupyter-widgets/base",
          "model_module_version": "1.2.0",
          "model_name": "LayoutModel",
          "state": {
            "_model_module": "@jupyter-widgets/base",
            "_model_module_version": "1.2.0",
            "_model_name": "LayoutModel",
            "_view_count": null,
            "_view_module": "@jupyter-widgets/base",
            "_view_module_version": "1.2.0",
            "_view_name": "LayoutView",
            "align_content": null,
            "align_items": null,
            "align_self": null,
            "border": null,
            "bottom": null,
            "display": null,
            "flex": null,
            "flex_flow": null,
            "grid_area": null,
            "grid_auto_columns": null,
            "grid_auto_flow": null,
            "grid_auto_rows": null,
            "grid_column": null,
            "grid_gap": null,
            "grid_row": null,
            "grid_template_areas": null,
            "grid_template_columns": null,
            "grid_template_rows": null,
            "height": null,
            "justify_content": null,
            "justify_items": null,
            "left": null,
            "margin": null,
            "max_height": null,
            "max_width": null,
            "min_height": null,
            "min_width": null,
            "object_fit": null,
            "object_position": null,
            "order": null,
            "overflow": null,
            "overflow_x": null,
            "overflow_y": null,
            "padding": null,
            "right": null,
            "top": null,
            "visibility": null,
            "width": null
          }
        },
        "942dbdc94bb04c069ef6384af1f630b7": {
          "model_module": "@jupyter-widgets/controls",
          "model_module_version": "1.5.0",
          "model_name": "HTMLModel",
          "state": {
            "_dom_classes": [],
            "_model_module": "@jupyter-widgets/controls",
            "_model_module_version": "1.5.0",
            "_model_name": "HTMLModel",
            "_view_count": null,
            "_view_module": "@jupyter-widgets/controls",
            "_view_module_version": "1.5.0",
            "_view_name": "HTMLView",
            "description": "",
            "description_tooltip": null,
            "layout": "IPY_MODEL_dbc042f5808d4d0490f96028691831fc",
            "placeholder": "​",
            "style": "IPY_MODEL_1027f1dae8764c8fa037fc68bd9455e6",
            "value": "epoch 1: 100%"
          }
        },
        "95446228bd844e9aa9695f2e879e3464": {
          "model_module": "@jupyter-widgets/controls",
          "model_module_version": "1.5.0",
          "model_name": "DescriptionStyleModel",
          "state": {
            "_model_module": "@jupyter-widgets/controls",
            "_model_module_version": "1.5.0",
            "_model_name": "DescriptionStyleModel",
            "_view_count": null,
            "_view_module": "@jupyter-widgets/base",
            "_view_module_version": "1.2.0",
            "_view_name": "StyleView",
            "description_width": ""
          }
        },
        "955985fb5eb14234b6c35ce6c3d982d7": {
          "model_module": "@jupyter-widgets/controls",
          "model_module_version": "1.5.0",
          "model_name": "DescriptionStyleModel",
          "state": {
            "_model_module": "@jupyter-widgets/controls",
            "_model_module_version": "1.5.0",
            "_model_name": "DescriptionStyleModel",
            "_view_count": null,
            "_view_module": "@jupyter-widgets/base",
            "_view_module_version": "1.2.0",
            "_view_name": "StyleView",
            "description_width": ""
          }
        },
        "957ae8c788764ebfb6bb11aab473eac8": {
          "model_module": "@jupyter-widgets/controls",
          "model_module_version": "1.5.0",
          "model_name": "HBoxModel",
          "state": {
            "_dom_classes": [],
            "_model_module": "@jupyter-widgets/controls",
            "_model_module_version": "1.5.0",
            "_model_name": "HBoxModel",
            "_view_count": null,
            "_view_module": "@jupyter-widgets/controls",
            "_view_module_version": "1.5.0",
            "_view_name": "HBoxView",
            "box_style": "",
            "children": [
              "IPY_MODEL_23ed07f795c3446ab46b7f2681d2abcd",
              "IPY_MODEL_9048bc6d92744c71b9f0873a5048e393",
              "IPY_MODEL_20d3482087e14ddeae97925ec25b5178"
            ],
            "layout": "IPY_MODEL_503c1aff248f45199f55f9afb503a3d0"
          }
        },
        "95b079d1d6784fe984ed650c8a9da7b4": {
          "model_module": "@jupyter-widgets/controls",
          "model_module_version": "1.5.0",
          "model_name": "DescriptionStyleModel",
          "state": {
            "_model_module": "@jupyter-widgets/controls",
            "_model_module_version": "1.5.0",
            "_model_name": "DescriptionStyleModel",
            "_view_count": null,
            "_view_module": "@jupyter-widgets/base",
            "_view_module_version": "1.2.0",
            "_view_name": "StyleView",
            "description_width": ""
          }
        },
        "9682657d798f4aa9b183685196a13161": {
          "model_module": "@jupyter-widgets/base",
          "model_module_version": "1.2.0",
          "model_name": "LayoutModel",
          "state": {
            "_model_module": "@jupyter-widgets/base",
            "_model_module_version": "1.2.0",
            "_model_name": "LayoutModel",
            "_view_count": null,
            "_view_module": "@jupyter-widgets/base",
            "_view_module_version": "1.2.0",
            "_view_name": "LayoutView",
            "align_content": null,
            "align_items": null,
            "align_self": null,
            "border": null,
            "bottom": null,
            "display": null,
            "flex": null,
            "flex_flow": null,
            "grid_area": null,
            "grid_auto_columns": null,
            "grid_auto_flow": null,
            "grid_auto_rows": null,
            "grid_column": null,
            "grid_gap": null,
            "grid_row": null,
            "grid_template_areas": null,
            "grid_template_columns": null,
            "grid_template_rows": null,
            "height": null,
            "justify_content": null,
            "justify_items": null,
            "left": null,
            "margin": null,
            "max_height": null,
            "max_width": null,
            "min_height": null,
            "min_width": null,
            "object_fit": null,
            "object_position": null,
            "order": null,
            "overflow": null,
            "overflow_x": null,
            "overflow_y": null,
            "padding": null,
            "right": null,
            "top": null,
            "visibility": null,
            "width": null
          }
        },
        "973671cc86204cb3bc29f72a7d49af79": {
          "model_module": "@jupyter-widgets/controls",
          "model_module_version": "1.5.0",
          "model_name": "DescriptionStyleModel",
          "state": {
            "_model_module": "@jupyter-widgets/controls",
            "_model_module_version": "1.5.0",
            "_model_name": "DescriptionStyleModel",
            "_view_count": null,
            "_view_module": "@jupyter-widgets/base",
            "_view_module_version": "1.2.0",
            "_view_name": "StyleView",
            "description_width": ""
          }
        },
        "9843661c30704b7fb5396a797093f2b7": {
          "model_module": "@jupyter-widgets/controls",
          "model_module_version": "1.5.0",
          "model_name": "ProgressStyleModel",
          "state": {
            "_model_module": "@jupyter-widgets/controls",
            "_model_module_version": "1.5.0",
            "_model_name": "ProgressStyleModel",
            "_view_count": null,
            "_view_module": "@jupyter-widgets/base",
            "_view_module_version": "1.2.0",
            "_view_name": "StyleView",
            "bar_color": null,
            "description_width": ""
          }
        },
        "99baa1316f2749f19d2c6d72774e6ade": {
          "model_module": "@jupyter-widgets/base",
          "model_module_version": "1.2.0",
          "model_name": "LayoutModel",
          "state": {
            "_model_module": "@jupyter-widgets/base",
            "_model_module_version": "1.2.0",
            "_model_name": "LayoutModel",
            "_view_count": null,
            "_view_module": "@jupyter-widgets/base",
            "_view_module_version": "1.2.0",
            "_view_name": "LayoutView",
            "align_content": null,
            "align_items": null,
            "align_self": null,
            "border": null,
            "bottom": null,
            "display": null,
            "flex": null,
            "flex_flow": null,
            "grid_area": null,
            "grid_auto_columns": null,
            "grid_auto_flow": null,
            "grid_auto_rows": null,
            "grid_column": null,
            "grid_gap": null,
            "grid_row": null,
            "grid_template_areas": null,
            "grid_template_columns": null,
            "grid_template_rows": null,
            "height": null,
            "justify_content": null,
            "justify_items": null,
            "left": null,
            "margin": null,
            "max_height": null,
            "max_width": null,
            "min_height": null,
            "min_width": null,
            "object_fit": null,
            "object_position": null,
            "order": null,
            "overflow": null,
            "overflow_x": null,
            "overflow_y": null,
            "padding": null,
            "right": null,
            "top": null,
            "visibility": null,
            "width": null
          }
        },
        "99f94a94be2c40e0996d511723f08f6c": {
          "model_module": "@jupyter-widgets/controls",
          "model_module_version": "1.5.0",
          "model_name": "FloatProgressModel",
          "state": {
            "_dom_classes": [],
            "_model_module": "@jupyter-widgets/controls",
            "_model_module_version": "1.5.0",
            "_model_name": "FloatProgressModel",
            "_view_count": null,
            "_view_module": "@jupyter-widgets/controls",
            "_view_module_version": "1.5.0",
            "_view_name": "ProgressView",
            "bar_style": "success",
            "description": "",
            "description_tooltip": null,
            "layout": "IPY_MODEL_d3cfe98ddbc4489e9ef35da5b21e3a21",
            "max": 40,
            "min": 0,
            "orientation": "horizontal",
            "style": "IPY_MODEL_f9c8c3a83609431692aae0695b53f404",
            "value": 40
          }
        },
        "9a942f65a0a145b79471db8a6ba99bd0": {
          "model_module": "@jupyter-widgets/controls",
          "model_module_version": "1.5.0",
          "model_name": "FloatProgressModel",
          "state": {
            "_dom_classes": [],
            "_model_module": "@jupyter-widgets/controls",
            "_model_module_version": "1.5.0",
            "_model_name": "FloatProgressModel",
            "_view_count": null,
            "_view_module": "@jupyter-widgets/controls",
            "_view_module_version": "1.5.0",
            "_view_name": "ProgressView",
            "bar_style": "success",
            "description": "",
            "description_tooltip": null,
            "layout": "IPY_MODEL_87ef2e57934d42bfb825dc622eea2d2b",
            "max": 133,
            "min": 0,
            "orientation": "horizontal",
            "style": "IPY_MODEL_db484f74525f4212bf2a9daf908e45d2",
            "value": 133
          }
        },
        "9acb90e0e9034e6394d39a90afad3476": {
          "model_module": "@jupyter-widgets/controls",
          "model_module_version": "1.5.0",
          "model_name": "HBoxModel",
          "state": {
            "_dom_classes": [],
            "_model_module": "@jupyter-widgets/controls",
            "_model_module_version": "1.5.0",
            "_model_name": "HBoxModel",
            "_view_count": null,
            "_view_module": "@jupyter-widgets/controls",
            "_view_module_version": "1.5.0",
            "_view_name": "HBoxView",
            "box_style": "",
            "children": [
              "IPY_MODEL_ded5a194f33b46b780bf31725f010f8a",
              "IPY_MODEL_d3c2211851694b99b42e5bf1aef18683",
              "IPY_MODEL_c8022bd0be9c4cb592ace372ca224738"
            ],
            "layout": "IPY_MODEL_dbb06d6e0d6f48128f7436ef54079620"
          }
        },
        "9af001ed3047438282feef782ba0c9b0": {
          "model_module": "@jupyter-widgets/controls",
          "model_module_version": "1.5.0",
          "model_name": "DescriptionStyleModel",
          "state": {
            "_model_module": "@jupyter-widgets/controls",
            "_model_module_version": "1.5.0",
            "_model_name": "DescriptionStyleModel",
            "_view_count": null,
            "_view_module": "@jupyter-widgets/base",
            "_view_module_version": "1.2.0",
            "_view_name": "StyleView",
            "description_width": ""
          }
        },
        "9b6454b760bc41ea9d759a4e56acd793": {
          "model_module": "@jupyter-widgets/controls",
          "model_module_version": "1.5.0",
          "model_name": "FloatProgressModel",
          "state": {
            "_dom_classes": [],
            "_model_module": "@jupyter-widgets/controls",
            "_model_module_version": "1.5.0",
            "_model_name": "FloatProgressModel",
            "_view_count": null,
            "_view_module": "@jupyter-widgets/controls",
            "_view_module_version": "1.5.0",
            "_view_name": "ProgressView",
            "bar_style": "success",
            "description": "",
            "description_tooltip": null,
            "layout": "IPY_MODEL_56e539282544499bab8cc478278d44e4",
            "max": 40,
            "min": 0,
            "orientation": "horizontal",
            "style": "IPY_MODEL_ff79510f594543bba5ff5d146397f435",
            "value": 40
          }
        },
        "9c69dbe24a224526a3c22168d7d6d08e": {
          "model_module": "@jupyter-widgets/controls",
          "model_module_version": "1.5.0",
          "model_name": "HBoxModel",
          "state": {
            "_dom_classes": [],
            "_model_module": "@jupyter-widgets/controls",
            "_model_module_version": "1.5.0",
            "_model_name": "HBoxModel",
            "_view_count": null,
            "_view_module": "@jupyter-widgets/controls",
            "_view_module_version": "1.5.0",
            "_view_name": "HBoxView",
            "box_style": "",
            "children": [
              "IPY_MODEL_5c3769223d274fc4b32f451949277aa3",
              "IPY_MODEL_39052b54bc954270806ff3cd5725efcf",
              "IPY_MODEL_22a8b7cd6feb4bdca3a541b190e9a801"
            ],
            "layout": "IPY_MODEL_9212a04619e3417a9ca80c51ba7fe76a"
          }
        },
        "9cd065e41e3e4aeb8600f238d2347397": {
          "model_module": "@jupyter-widgets/base",
          "model_module_version": "1.2.0",
          "model_name": "LayoutModel",
          "state": {
            "_model_module": "@jupyter-widgets/base",
            "_model_module_version": "1.2.0",
            "_model_name": "LayoutModel",
            "_view_count": null,
            "_view_module": "@jupyter-widgets/base",
            "_view_module_version": "1.2.0",
            "_view_name": "LayoutView",
            "align_content": null,
            "align_items": null,
            "align_self": null,
            "border": null,
            "bottom": null,
            "display": null,
            "flex": null,
            "flex_flow": null,
            "grid_area": null,
            "grid_auto_columns": null,
            "grid_auto_flow": null,
            "grid_auto_rows": null,
            "grid_column": null,
            "grid_gap": null,
            "grid_row": null,
            "grid_template_areas": null,
            "grid_template_columns": null,
            "grid_template_rows": null,
            "height": null,
            "justify_content": null,
            "justify_items": null,
            "left": null,
            "margin": null,
            "max_height": null,
            "max_width": null,
            "min_height": null,
            "min_width": null,
            "object_fit": null,
            "object_position": null,
            "order": null,
            "overflow": null,
            "overflow_x": null,
            "overflow_y": null,
            "padding": null,
            "right": null,
            "top": null,
            "visibility": null,
            "width": null
          }
        },
        "9d0c61d639a74ebc975a02ceb7f761bf": {
          "model_module": "@jupyter-widgets/controls",
          "model_module_version": "1.5.0",
          "model_name": "HTMLModel",
          "state": {
            "_dom_classes": [],
            "_model_module": "@jupyter-widgets/controls",
            "_model_module_version": "1.5.0",
            "_model_name": "HTMLModel",
            "_view_count": null,
            "_view_module": "@jupyter-widgets/controls",
            "_view_module_version": "1.5.0",
            "_view_name": "HTMLView",
            "description": "",
            "description_tooltip": null,
            "layout": "IPY_MODEL_52d3dcca83204af880abd7876da2c8db",
            "placeholder": "​",
            "style": "IPY_MODEL_42e7431feff84e9ca6e34b429803a7c5",
            "value": " 40/40 [00:06&lt;00:00,  5.44instance/s, train_correct_candidates_per_instance=15.1, train_loss=1.03]"
          }
        },
        "9ddbe41899ae47d0b2f773c523708771": {
          "model_module": "@jupyter-widgets/base",
          "model_module_version": "1.2.0",
          "model_name": "LayoutModel",
          "state": {
            "_model_module": "@jupyter-widgets/base",
            "_model_module_version": "1.2.0",
            "_model_name": "LayoutModel",
            "_view_count": null,
            "_view_module": "@jupyter-widgets/base",
            "_view_module_version": "1.2.0",
            "_view_name": "LayoutView",
            "align_content": null,
            "align_items": null,
            "align_self": null,
            "border": null,
            "bottom": null,
            "display": null,
            "flex": null,
            "flex_flow": null,
            "grid_area": null,
            "grid_auto_columns": null,
            "grid_auto_flow": null,
            "grid_auto_rows": null,
            "grid_column": null,
            "grid_gap": null,
            "grid_row": null,
            "grid_template_areas": null,
            "grid_template_columns": null,
            "grid_template_rows": null,
            "height": null,
            "justify_content": null,
            "justify_items": null,
            "left": null,
            "margin": null,
            "max_height": null,
            "max_width": null,
            "min_height": null,
            "min_width": null,
            "object_fit": null,
            "object_position": null,
            "order": null,
            "overflow": null,
            "overflow_x": null,
            "overflow_y": null,
            "padding": null,
            "right": null,
            "top": null,
            "visibility": null,
            "width": null
          }
        },
        "9e6aa9f4afa04039b51f393a14257970": {
          "model_module": "@jupyter-widgets/controls",
          "model_module_version": "1.5.0",
          "model_name": "HBoxModel",
          "state": {
            "_dom_classes": [],
            "_model_module": "@jupyter-widgets/controls",
            "_model_module_version": "1.5.0",
            "_model_name": "HBoxModel",
            "_view_count": null,
            "_view_module": "@jupyter-widgets/controls",
            "_view_module_version": "1.5.0",
            "_view_name": "HBoxView",
            "box_style": "",
            "children": [
              "IPY_MODEL_1552bcc7d89d487d91fb7bc85377d98f",
              "IPY_MODEL_e7e0db15d18346348876c1bc3653abe2",
              "IPY_MODEL_8b98849f3de142608bfc01fa782d0f35"
            ],
            "layout": "IPY_MODEL_468ec60ad6834c54b5bebf4f00cd3d8b"
          }
        },
        "9ec11c97b1024cc898ec2671da6f3756": {
          "model_module": "@jupyter-widgets/base",
          "model_module_version": "1.2.0",
          "model_name": "LayoutModel",
          "state": {
            "_model_module": "@jupyter-widgets/base",
            "_model_module_version": "1.2.0",
            "_model_name": "LayoutModel",
            "_view_count": null,
            "_view_module": "@jupyter-widgets/base",
            "_view_module_version": "1.2.0",
            "_view_name": "LayoutView",
            "align_content": null,
            "align_items": null,
            "align_self": null,
            "border": null,
            "bottom": null,
            "display": null,
            "flex": null,
            "flex_flow": null,
            "grid_area": null,
            "grid_auto_columns": null,
            "grid_auto_flow": null,
            "grid_auto_rows": null,
            "grid_column": null,
            "grid_gap": null,
            "grid_row": null,
            "grid_template_areas": null,
            "grid_template_columns": null,
            "grid_template_rows": null,
            "height": null,
            "justify_content": null,
            "justify_items": null,
            "left": null,
            "margin": null,
            "max_height": null,
            "max_width": null,
            "min_height": null,
            "min_width": null,
            "object_fit": null,
            "object_position": null,
            "order": null,
            "overflow": null,
            "overflow_x": null,
            "overflow_y": null,
            "padding": null,
            "right": null,
            "top": null,
            "visibility": null,
            "width": null
          }
        },
        "a04af31d0c2c47e281b1ce3d416b0aae": {
          "model_module": "@jupyter-widgets/controls",
          "model_module_version": "1.5.0",
          "model_name": "HTMLModel",
          "state": {
            "_dom_classes": [],
            "_model_module": "@jupyter-widgets/controls",
            "_model_module_version": "1.5.0",
            "_model_name": "HTMLModel",
            "_view_count": null,
            "_view_module": "@jupyter-widgets/controls",
            "_view_module_version": "1.5.0",
            "_view_name": "HTMLView",
            "description": "",
            "description_tooltip": null,
            "layout": "IPY_MODEL_9682657d798f4aa9b183685196a13161",
            "placeholder": "​",
            "style": "IPY_MODEL_95446228bd844e9aa9695f2e879e3464",
            "value": "epoch 4: 100%"
          }
        },
        "a05db27eaef3407b89ec959beea37a61": {
          "model_module": "@jupyter-widgets/controls",
          "model_module_version": "1.5.0",
          "model_name": "HTMLModel",
          "state": {
            "_dom_classes": [],
            "_model_module": "@jupyter-widgets/controls",
            "_model_module_version": "1.5.0",
            "_model_name": "HTMLModel",
            "_view_count": null,
            "_view_module": "@jupyter-widgets/controls",
            "_view_module_version": "1.5.0",
            "_view_name": "HTMLView",
            "description": "",
            "description_tooltip": null,
            "layout": "IPY_MODEL_3ecfc059285f4e8a98507897f77c3e39",
            "placeholder": "​",
            "style": "IPY_MODEL_0b0ece51fd224631b26a5c6e0095ce8b",
            "value": "epoch 2: 100%"
          }
        },
        "a294fc11f4a6409793ad7d7245c94736": {
          "model_module": "@jupyter-widgets/controls",
          "model_module_version": "1.5.0",
          "model_name": "ProgressStyleModel",
          "state": {
            "_model_module": "@jupyter-widgets/controls",
            "_model_module_version": "1.5.0",
            "_model_name": "ProgressStyleModel",
            "_view_count": null,
            "_view_module": "@jupyter-widgets/base",
            "_view_module_version": "1.2.0",
            "_view_name": "StyleView",
            "bar_color": null,
            "description_width": ""
          }
        },
        "a2d93ee2bb5149ddac08a3089a0bc22c": {
          "model_module": "@jupyter-widgets/controls",
          "model_module_version": "1.5.0",
          "model_name": "ProgressStyleModel",
          "state": {
            "_model_module": "@jupyter-widgets/controls",
            "_model_module_version": "1.5.0",
            "_model_name": "ProgressStyleModel",
            "_view_count": null,
            "_view_module": "@jupyter-widgets/base",
            "_view_module_version": "1.2.0",
            "_view_name": "StyleView",
            "bar_color": null,
            "description_width": ""
          }
        },
        "a3492984e6af439db82cda81ead5fd41": {
          "model_module": "@jupyter-widgets/controls",
          "model_module_version": "1.5.0",
          "model_name": "DescriptionStyleModel",
          "state": {
            "_model_module": "@jupyter-widgets/controls",
            "_model_module_version": "1.5.0",
            "_model_name": "DescriptionStyleModel",
            "_view_count": null,
            "_view_module": "@jupyter-widgets/base",
            "_view_module_version": "1.2.0",
            "_view_name": "StyleView",
            "description_width": ""
          }
        },
        "a3b859db444542fc814cab33b63d9cd8": {
          "model_module": "@jupyter-widgets/controls",
          "model_module_version": "1.5.0",
          "model_name": "HTMLModel",
          "state": {
            "_dom_classes": [],
            "_model_module": "@jupyter-widgets/controls",
            "_model_module_version": "1.5.0",
            "_model_name": "HTMLModel",
            "_view_count": null,
            "_view_module": "@jupyter-widgets/controls",
            "_view_module_version": "1.5.0",
            "_view_name": "HTMLView",
            "description": "",
            "description_tooltip": null,
            "layout": "IPY_MODEL_002cb1dc068b4798bfc7aae3e2e502d6",
            "placeholder": "​",
            "style": "IPY_MODEL_8b417b85fb6e40718a09b987064b2fd9",
            "value": "epoch 9: 100%"
          }
        },
        "a4dd03d3080e4edcad95dab455f86689": {
          "model_module": "@jupyter-widgets/controls",
          "model_module_version": "1.5.0",
          "model_name": "DescriptionStyleModel",
          "state": {
            "_model_module": "@jupyter-widgets/controls",
            "_model_module_version": "1.5.0",
            "_model_name": "DescriptionStyleModel",
            "_view_count": null,
            "_view_module": "@jupyter-widgets/base",
            "_view_module_version": "1.2.0",
            "_view_name": "StyleView",
            "description_width": ""
          }
        },
        "a5e61e18bf874cf48aefca95fca8c5fa": {
          "model_module": "@jupyter-widgets/controls",
          "model_module_version": "1.5.0",
          "model_name": "HTMLModel",
          "state": {
            "_dom_classes": [],
            "_model_module": "@jupyter-widgets/controls",
            "_model_module_version": "1.5.0",
            "_model_name": "HTMLModel",
            "_view_count": null,
            "_view_module": "@jupyter-widgets/controls",
            "_view_module_version": "1.5.0",
            "_view_name": "HTMLView",
            "description": "",
            "description_tooltip": null,
            "layout": "IPY_MODEL_fe30f1fc7e4d4f63b210580b58cfbf11",
            "placeholder": "​",
            "style": "IPY_MODEL_6039e958e1b948db89583bc828f140f8",
            "value": " 40/40 [00:06&lt;00:00,  6.54instance/s, train_correct_candidates_per_instance=15.1, train_loss=0.543]"
          }
        },
        "a8b96e93640e42fc817dafd46375e9b3": {
          "model_module": "@jupyter-widgets/base",
          "model_module_version": "1.2.0",
          "model_name": "LayoutModel",
          "state": {
            "_model_module": "@jupyter-widgets/base",
            "_model_module_version": "1.2.0",
            "_model_name": "LayoutModel",
            "_view_count": null,
            "_view_module": "@jupyter-widgets/base",
            "_view_module_version": "1.2.0",
            "_view_name": "LayoutView",
            "align_content": null,
            "align_items": null,
            "align_self": null,
            "border": null,
            "bottom": null,
            "display": null,
            "flex": null,
            "flex_flow": null,
            "grid_area": null,
            "grid_auto_columns": null,
            "grid_auto_flow": null,
            "grid_auto_rows": null,
            "grid_column": null,
            "grid_gap": null,
            "grid_row": null,
            "grid_template_areas": null,
            "grid_template_columns": null,
            "grid_template_rows": null,
            "height": null,
            "justify_content": null,
            "justify_items": null,
            "left": null,
            "margin": null,
            "max_height": null,
            "max_width": null,
            "min_height": null,
            "min_width": null,
            "object_fit": null,
            "object_position": null,
            "order": null,
            "overflow": null,
            "overflow_x": null,
            "overflow_y": null,
            "padding": null,
            "right": null,
            "top": null,
            "visibility": null,
            "width": null
          }
        },
        "a9aa8cc44a554e3ba32cef1958edfb96": {
          "model_module": "@jupyter-widgets/base",
          "model_module_version": "1.2.0",
          "model_name": "LayoutModel",
          "state": {
            "_model_module": "@jupyter-widgets/base",
            "_model_module_version": "1.2.0",
            "_model_name": "LayoutModel",
            "_view_count": null,
            "_view_module": "@jupyter-widgets/base",
            "_view_module_version": "1.2.0",
            "_view_name": "LayoutView",
            "align_content": null,
            "align_items": null,
            "align_self": null,
            "border": null,
            "bottom": null,
            "display": null,
            "flex": null,
            "flex_flow": null,
            "grid_area": null,
            "grid_auto_columns": null,
            "grid_auto_flow": null,
            "grid_auto_rows": null,
            "grid_column": null,
            "grid_gap": null,
            "grid_row": null,
            "grid_template_areas": null,
            "grid_template_columns": null,
            "grid_template_rows": null,
            "height": null,
            "justify_content": null,
            "justify_items": null,
            "left": null,
            "margin": null,
            "max_height": null,
            "max_width": null,
            "min_height": null,
            "min_width": null,
            "object_fit": null,
            "object_position": null,
            "order": null,
            "overflow": null,
            "overflow_x": null,
            "overflow_y": null,
            "padding": null,
            "right": null,
            "top": null,
            "visibility": null,
            "width": null
          }
        },
        "aa9eddce6e4a4a06a52976829a274c7d": {
          "model_module": "@jupyter-widgets/base",
          "model_module_version": "1.2.0",
          "model_name": "LayoutModel",
          "state": {
            "_model_module": "@jupyter-widgets/base",
            "_model_module_version": "1.2.0",
            "_model_name": "LayoutModel",
            "_view_count": null,
            "_view_module": "@jupyter-widgets/base",
            "_view_module_version": "1.2.0",
            "_view_name": "LayoutView",
            "align_content": null,
            "align_items": null,
            "align_self": null,
            "border": null,
            "bottom": null,
            "display": null,
            "flex": null,
            "flex_flow": null,
            "grid_area": null,
            "grid_auto_columns": null,
            "grid_auto_flow": null,
            "grid_auto_rows": null,
            "grid_column": null,
            "grid_gap": null,
            "grid_row": null,
            "grid_template_areas": null,
            "grid_template_columns": null,
            "grid_template_rows": null,
            "height": null,
            "justify_content": null,
            "justify_items": null,
            "left": null,
            "margin": null,
            "max_height": null,
            "max_width": null,
            "min_height": null,
            "min_width": null,
            "object_fit": null,
            "object_position": null,
            "order": null,
            "overflow": null,
            "overflow_x": null,
            "overflow_y": null,
            "padding": null,
            "right": null,
            "top": null,
            "visibility": null,
            "width": null
          }
        },
        "ac2c5a56b12848d0b251e328d3fc8cef": {
          "model_module": "@jupyter-widgets/base",
          "model_module_version": "1.2.0",
          "model_name": "LayoutModel",
          "state": {
            "_model_module": "@jupyter-widgets/base",
            "_model_module_version": "1.2.0",
            "_model_name": "LayoutModel",
            "_view_count": null,
            "_view_module": "@jupyter-widgets/base",
            "_view_module_version": "1.2.0",
            "_view_name": "LayoutView",
            "align_content": null,
            "align_items": null,
            "align_self": null,
            "border": null,
            "bottom": null,
            "display": null,
            "flex": null,
            "flex_flow": null,
            "grid_area": null,
            "grid_auto_columns": null,
            "grid_auto_flow": null,
            "grid_auto_rows": null,
            "grid_column": null,
            "grid_gap": null,
            "grid_row": null,
            "grid_template_areas": null,
            "grid_template_columns": null,
            "grid_template_rows": null,
            "height": null,
            "justify_content": null,
            "justify_items": null,
            "left": null,
            "margin": null,
            "max_height": null,
            "max_width": null,
            "min_height": null,
            "min_width": null,
            "object_fit": null,
            "object_position": null,
            "order": null,
            "overflow": null,
            "overflow_x": null,
            "overflow_y": null,
            "padding": null,
            "right": null,
            "top": null,
            "visibility": null,
            "width": null
          }
        },
        "acb767bc5d3f4a0eabb919e4e736d12d": {
          "model_module": "@jupyter-widgets/controls",
          "model_module_version": "1.5.0",
          "model_name": "HBoxModel",
          "state": {
            "_dom_classes": [],
            "_model_module": "@jupyter-widgets/controls",
            "_model_module_version": "1.5.0",
            "_model_name": "HBoxModel",
            "_view_count": null,
            "_view_module": "@jupyter-widgets/controls",
            "_view_module_version": "1.5.0",
            "_view_name": "HBoxView",
            "box_style": "",
            "children": [
              "IPY_MODEL_c9942d00e8474a9084102fcc622609f4",
              "IPY_MODEL_d851a47dfd75411ba3291e331f361701",
              "IPY_MODEL_5a35c25d91df421ba36ae904b449d99b"
            ],
            "layout": "IPY_MODEL_ef2c3e2377414dcd94f3de9ac612f45b"
          }
        },
        "ad10931b81a344268fc13972713e16f0": {
          "model_module": "@jupyter-widgets/controls",
          "model_module_version": "1.5.0",
          "model_name": "HBoxModel",
          "state": {
            "_dom_classes": [],
            "_model_module": "@jupyter-widgets/controls",
            "_model_module_version": "1.5.0",
            "_model_name": "HBoxModel",
            "_view_count": null,
            "_view_module": "@jupyter-widgets/controls",
            "_view_module_version": "1.5.0",
            "_view_name": "HBoxView",
            "box_style": "",
            "children": [
              "IPY_MODEL_443c287e5a08403e802e42b9956344b7",
              "IPY_MODEL_e78981d281fd47f69a75c57b9098c119",
              "IPY_MODEL_769baa613d89494b981aa5e8a005345c"
            ],
            "layout": "IPY_MODEL_202c193d81af470094ae53bac133ea6f"
          }
        },
        "affcd00d3f134c00b188c6ec670c4d17": {
          "model_module": "@jupyter-widgets/base",
          "model_module_version": "1.2.0",
          "model_name": "LayoutModel",
          "state": {
            "_model_module": "@jupyter-widgets/base",
            "_model_module_version": "1.2.0",
            "_model_name": "LayoutModel",
            "_view_count": null,
            "_view_module": "@jupyter-widgets/base",
            "_view_module_version": "1.2.0",
            "_view_name": "LayoutView",
            "align_content": null,
            "align_items": null,
            "align_self": null,
            "border": null,
            "bottom": null,
            "display": null,
            "flex": null,
            "flex_flow": null,
            "grid_area": null,
            "grid_auto_columns": null,
            "grid_auto_flow": null,
            "grid_auto_rows": null,
            "grid_column": null,
            "grid_gap": null,
            "grid_row": null,
            "grid_template_areas": null,
            "grid_template_columns": null,
            "grid_template_rows": null,
            "height": null,
            "justify_content": null,
            "justify_items": null,
            "left": null,
            "margin": null,
            "max_height": null,
            "max_width": null,
            "min_height": null,
            "min_width": null,
            "object_fit": null,
            "object_position": null,
            "order": null,
            "overflow": null,
            "overflow_x": null,
            "overflow_y": null,
            "padding": null,
            "right": null,
            "top": null,
            "visibility": null,
            "width": null
          }
        },
        "b034984f74404cd3828440fed3eb882d": {
          "model_module": "@jupyter-widgets/controls",
          "model_module_version": "1.5.0",
          "model_name": "DescriptionStyleModel",
          "state": {
            "_model_module": "@jupyter-widgets/controls",
            "_model_module_version": "1.5.0",
            "_model_name": "DescriptionStyleModel",
            "_view_count": null,
            "_view_module": "@jupyter-widgets/base",
            "_view_module_version": "1.2.0",
            "_view_name": "StyleView",
            "description_width": ""
          }
        },
        "b0b9d8a66faf4afaa3cdb6a3174b9945": {
          "model_module": "@jupyter-widgets/controls",
          "model_module_version": "1.5.0",
          "model_name": "HTMLModel",
          "state": {
            "_dom_classes": [],
            "_model_module": "@jupyter-widgets/controls",
            "_model_module_version": "1.5.0",
            "_model_name": "HTMLModel",
            "_view_count": null,
            "_view_module": "@jupyter-widgets/controls",
            "_view_module_version": "1.5.0",
            "_view_name": "HTMLView",
            "description": "",
            "description_tooltip": null,
            "layout": "IPY_MODEL_2cc2268ecdcd40c8ba032ca2fa416f37",
            "placeholder": "​",
            "style": "IPY_MODEL_5171524b199f4251b155336b7ef5cbc7",
            "value": "epoch 5: 100%"
          }
        },
        "b0e6a2bafb824e9183cfe739332457ee": {
          "model_module": "@jupyter-widgets/base",
          "model_module_version": "1.2.0",
          "model_name": "LayoutModel",
          "state": {
            "_model_module": "@jupyter-widgets/base",
            "_model_module_version": "1.2.0",
            "_model_name": "LayoutModel",
            "_view_count": null,
            "_view_module": "@jupyter-widgets/base",
            "_view_module_version": "1.2.0",
            "_view_name": "LayoutView",
            "align_content": null,
            "align_items": null,
            "align_self": null,
            "border": null,
            "bottom": null,
            "display": null,
            "flex": null,
            "flex_flow": null,
            "grid_area": null,
            "grid_auto_columns": null,
            "grid_auto_flow": null,
            "grid_auto_rows": null,
            "grid_column": null,
            "grid_gap": null,
            "grid_row": null,
            "grid_template_areas": null,
            "grid_template_columns": null,
            "grid_template_rows": null,
            "height": null,
            "justify_content": null,
            "justify_items": null,
            "left": null,
            "margin": null,
            "max_height": null,
            "max_width": null,
            "min_height": null,
            "min_width": null,
            "object_fit": null,
            "object_position": null,
            "order": null,
            "overflow": null,
            "overflow_x": null,
            "overflow_y": null,
            "padding": null,
            "right": null,
            "top": null,
            "visibility": null,
            "width": null
          }
        },
        "b51f77a218a542c7b6779c83556f4dce": {
          "model_module": "@jupyter-widgets/base",
          "model_module_version": "1.2.0",
          "model_name": "LayoutModel",
          "state": {
            "_model_module": "@jupyter-widgets/base",
            "_model_module_version": "1.2.0",
            "_model_name": "LayoutModel",
            "_view_count": null,
            "_view_module": "@jupyter-widgets/base",
            "_view_module_version": "1.2.0",
            "_view_name": "LayoutView",
            "align_content": null,
            "align_items": null,
            "align_self": null,
            "border": null,
            "bottom": null,
            "display": null,
            "flex": null,
            "flex_flow": null,
            "grid_area": null,
            "grid_auto_columns": null,
            "grid_auto_flow": null,
            "grid_auto_rows": null,
            "grid_column": null,
            "grid_gap": null,
            "grid_row": null,
            "grid_template_areas": null,
            "grid_template_columns": null,
            "grid_template_rows": null,
            "height": null,
            "justify_content": null,
            "justify_items": null,
            "left": null,
            "margin": null,
            "max_height": null,
            "max_width": null,
            "min_height": null,
            "min_width": null,
            "object_fit": null,
            "object_position": null,
            "order": null,
            "overflow": null,
            "overflow_x": null,
            "overflow_y": null,
            "padding": null,
            "right": null,
            "top": null,
            "visibility": null,
            "width": null
          }
        },
        "b5d6c8d692b64b6899437304f9622211": {
          "model_module": "@jupyter-widgets/controls",
          "model_module_version": "1.5.0",
          "model_name": "ProgressStyleModel",
          "state": {
            "_model_module": "@jupyter-widgets/controls",
            "_model_module_version": "1.5.0",
            "_model_name": "ProgressStyleModel",
            "_view_count": null,
            "_view_module": "@jupyter-widgets/base",
            "_view_module_version": "1.2.0",
            "_view_name": "StyleView",
            "bar_color": null,
            "description_width": ""
          }
        },
        "b5e1e9984ec041ec8e952831fae8a8d7": {
          "model_module": "@jupyter-widgets/controls",
          "model_module_version": "1.5.0",
          "model_name": "DescriptionStyleModel",
          "state": {
            "_model_module": "@jupyter-widgets/controls",
            "_model_module_version": "1.5.0",
            "_model_name": "DescriptionStyleModel",
            "_view_count": null,
            "_view_module": "@jupyter-widgets/base",
            "_view_module_version": "1.2.0",
            "_view_name": "StyleView",
            "description_width": ""
          }
        },
        "b60063384479485c9e7ed3861412aa87": {
          "model_module": "@jupyter-widgets/controls",
          "model_module_version": "1.5.0",
          "model_name": "DescriptionStyleModel",
          "state": {
            "_model_module": "@jupyter-widgets/controls",
            "_model_module_version": "1.5.0",
            "_model_name": "DescriptionStyleModel",
            "_view_count": null,
            "_view_module": "@jupyter-widgets/base",
            "_view_module_version": "1.2.0",
            "_view_name": "StyleView",
            "description_width": ""
          }
        },
        "b62b515aff334b889c266fef6e32672e": {
          "model_module": "@jupyter-widgets/base",
          "model_module_version": "1.2.0",
          "model_name": "LayoutModel",
          "state": {
            "_model_module": "@jupyter-widgets/base",
            "_model_module_version": "1.2.0",
            "_model_name": "LayoutModel",
            "_view_count": null,
            "_view_module": "@jupyter-widgets/base",
            "_view_module_version": "1.2.0",
            "_view_name": "LayoutView",
            "align_content": null,
            "align_items": null,
            "align_self": null,
            "border": null,
            "bottom": null,
            "display": null,
            "flex": null,
            "flex_flow": null,
            "grid_area": null,
            "grid_auto_columns": null,
            "grid_auto_flow": null,
            "grid_auto_rows": null,
            "grid_column": null,
            "grid_gap": null,
            "grid_row": null,
            "grid_template_areas": null,
            "grid_template_columns": null,
            "grid_template_rows": null,
            "height": null,
            "justify_content": null,
            "justify_items": null,
            "left": null,
            "margin": null,
            "max_height": null,
            "max_width": null,
            "min_height": null,
            "min_width": null,
            "object_fit": null,
            "object_position": null,
            "order": null,
            "overflow": null,
            "overflow_x": null,
            "overflow_y": null,
            "padding": null,
            "right": null,
            "top": null,
            "visibility": null,
            "width": null
          }
        },
        "b6a50d3cecd845779863dc7eaed7f0e5": {
          "model_module": "@jupyter-widgets/base",
          "model_module_version": "1.2.0",
          "model_name": "LayoutModel",
          "state": {
            "_model_module": "@jupyter-widgets/base",
            "_model_module_version": "1.2.0",
            "_model_name": "LayoutModel",
            "_view_count": null,
            "_view_module": "@jupyter-widgets/base",
            "_view_module_version": "1.2.0",
            "_view_name": "LayoutView",
            "align_content": null,
            "align_items": null,
            "align_self": null,
            "border": null,
            "bottom": null,
            "display": null,
            "flex": null,
            "flex_flow": null,
            "grid_area": null,
            "grid_auto_columns": null,
            "grid_auto_flow": null,
            "grid_auto_rows": null,
            "grid_column": null,
            "grid_gap": null,
            "grid_row": null,
            "grid_template_areas": null,
            "grid_template_columns": null,
            "grid_template_rows": null,
            "height": null,
            "justify_content": null,
            "justify_items": null,
            "left": null,
            "margin": null,
            "max_height": null,
            "max_width": null,
            "min_height": null,
            "min_width": null,
            "object_fit": null,
            "object_position": null,
            "order": null,
            "overflow": null,
            "overflow_x": null,
            "overflow_y": null,
            "padding": null,
            "right": null,
            "top": null,
            "visibility": null,
            "width": null
          }
        },
        "b779f74397834ee6add5053bcd34bffa": {
          "model_module": "@jupyter-widgets/controls",
          "model_module_version": "1.5.0",
          "model_name": "ProgressStyleModel",
          "state": {
            "_model_module": "@jupyter-widgets/controls",
            "_model_module_version": "1.5.0",
            "_model_name": "ProgressStyleModel",
            "_view_count": null,
            "_view_module": "@jupyter-widgets/base",
            "_view_module_version": "1.2.0",
            "_view_name": "StyleView",
            "bar_color": null,
            "description_width": ""
          }
        },
        "bb9064f798954235afaa7638577f332a": {
          "model_module": "@jupyter-widgets/base",
          "model_module_version": "1.2.0",
          "model_name": "LayoutModel",
          "state": {
            "_model_module": "@jupyter-widgets/base",
            "_model_module_version": "1.2.0",
            "_model_name": "LayoutModel",
            "_view_count": null,
            "_view_module": "@jupyter-widgets/base",
            "_view_module_version": "1.2.0",
            "_view_name": "LayoutView",
            "align_content": null,
            "align_items": null,
            "align_self": null,
            "border": null,
            "bottom": null,
            "display": null,
            "flex": null,
            "flex_flow": null,
            "grid_area": null,
            "grid_auto_columns": null,
            "grid_auto_flow": null,
            "grid_auto_rows": null,
            "grid_column": null,
            "grid_gap": null,
            "grid_row": null,
            "grid_template_areas": null,
            "grid_template_columns": null,
            "grid_template_rows": null,
            "height": null,
            "justify_content": null,
            "justify_items": null,
            "left": null,
            "margin": null,
            "max_height": null,
            "max_width": null,
            "min_height": null,
            "min_width": null,
            "object_fit": null,
            "object_position": null,
            "order": null,
            "overflow": null,
            "overflow_x": null,
            "overflow_y": null,
            "padding": null,
            "right": null,
            "top": null,
            "visibility": null,
            "width": null
          }
        },
        "bbd16c605e46416cb3e05a057d86b864": {
          "model_module": "@jupyter-widgets/controls",
          "model_module_version": "1.5.0",
          "model_name": "DescriptionStyleModel",
          "state": {
            "_model_module": "@jupyter-widgets/controls",
            "_model_module_version": "1.5.0",
            "_model_name": "DescriptionStyleModel",
            "_view_count": null,
            "_view_module": "@jupyter-widgets/base",
            "_view_module_version": "1.2.0",
            "_view_name": "StyleView",
            "description_width": ""
          }
        },
        "bc57f57f158845b9aee429d0e4bc6c2e": {
          "model_module": "@jupyter-widgets/controls",
          "model_module_version": "1.5.0",
          "model_name": "FloatProgressModel",
          "state": {
            "_dom_classes": [],
            "_model_module": "@jupyter-widgets/controls",
            "_model_module_version": "1.5.0",
            "_model_name": "FloatProgressModel",
            "_view_count": null,
            "_view_module": "@jupyter-widgets/controls",
            "_view_module_version": "1.5.0",
            "_view_name": "ProgressView",
            "bar_style": "success",
            "description": "",
            "description_tooltip": null,
            "layout": "IPY_MODEL_0a70bdf578404b29aa528a877f4d6cbd",
            "max": 40,
            "min": 0,
            "orientation": "horizontal",
            "style": "IPY_MODEL_a2d93ee2bb5149ddac08a3089a0bc22c",
            "value": 40
          }
        },
        "beb12a5ed1864591aebb020e0ac55059": {
          "model_module": "@jupyter-widgets/controls",
          "model_module_version": "1.5.0",
          "model_name": "DescriptionStyleModel",
          "state": {
            "_model_module": "@jupyter-widgets/controls",
            "_model_module_version": "1.5.0",
            "_model_name": "DescriptionStyleModel",
            "_view_count": null,
            "_view_module": "@jupyter-widgets/base",
            "_view_module_version": "1.2.0",
            "_view_name": "StyleView",
            "description_width": ""
          }
        },
        "c470706fee684a21a7c9ee66cd60f5b4": {
          "model_module": "@jupyter-widgets/base",
          "model_module_version": "1.2.0",
          "model_name": "LayoutModel",
          "state": {
            "_model_module": "@jupyter-widgets/base",
            "_model_module_version": "1.2.0",
            "_model_name": "LayoutModel",
            "_view_count": null,
            "_view_module": "@jupyter-widgets/base",
            "_view_module_version": "1.2.0",
            "_view_name": "LayoutView",
            "align_content": null,
            "align_items": null,
            "align_self": null,
            "border": null,
            "bottom": null,
            "display": null,
            "flex": null,
            "flex_flow": null,
            "grid_area": null,
            "grid_auto_columns": null,
            "grid_auto_flow": null,
            "grid_auto_rows": null,
            "grid_column": null,
            "grid_gap": null,
            "grid_row": null,
            "grid_template_areas": null,
            "grid_template_columns": null,
            "grid_template_rows": null,
            "height": null,
            "justify_content": null,
            "justify_items": null,
            "left": null,
            "margin": null,
            "max_height": null,
            "max_width": null,
            "min_height": null,
            "min_width": null,
            "object_fit": null,
            "object_position": null,
            "order": null,
            "overflow": null,
            "overflow_x": null,
            "overflow_y": null,
            "padding": null,
            "right": null,
            "top": null,
            "visibility": null,
            "width": null
          }
        },
        "c6273dcbf9f44dde96cf6557379f0f76": {
          "model_module": "@jupyter-widgets/base",
          "model_module_version": "1.2.0",
          "model_name": "LayoutModel",
          "state": {
            "_model_module": "@jupyter-widgets/base",
            "_model_module_version": "1.2.0",
            "_model_name": "LayoutModel",
            "_view_count": null,
            "_view_module": "@jupyter-widgets/base",
            "_view_module_version": "1.2.0",
            "_view_name": "LayoutView",
            "align_content": null,
            "align_items": null,
            "align_self": null,
            "border": null,
            "bottom": null,
            "display": null,
            "flex": null,
            "flex_flow": null,
            "grid_area": null,
            "grid_auto_columns": null,
            "grid_auto_flow": null,
            "grid_auto_rows": null,
            "grid_column": null,
            "grid_gap": null,
            "grid_row": null,
            "grid_template_areas": null,
            "grid_template_columns": null,
            "grid_template_rows": null,
            "height": null,
            "justify_content": null,
            "justify_items": null,
            "left": null,
            "margin": null,
            "max_height": null,
            "max_width": null,
            "min_height": null,
            "min_width": null,
            "object_fit": null,
            "object_position": null,
            "order": null,
            "overflow": null,
            "overflow_x": null,
            "overflow_y": null,
            "padding": null,
            "right": null,
            "top": null,
            "visibility": null,
            "width": null
          }
        },
        "c673d72216ef4089a1c43f51fdba8599": {
          "model_module": "@jupyter-widgets/controls",
          "model_module_version": "1.5.0",
          "model_name": "HBoxModel",
          "state": {
            "_dom_classes": [],
            "_model_module": "@jupyter-widgets/controls",
            "_model_module_version": "1.5.0",
            "_model_name": "HBoxModel",
            "_view_count": null,
            "_view_module": "@jupyter-widgets/controls",
            "_view_module_version": "1.5.0",
            "_view_name": "HBoxView",
            "box_style": "",
            "children": [
              "IPY_MODEL_2f85e23faeed415b9855e4340a887029",
              "IPY_MODEL_40837a8134784e63b82be52a6ac2478f",
              "IPY_MODEL_c7b25de889e245cc95cd8be96d6ba524"
            ],
            "layout": "IPY_MODEL_c6273dcbf9f44dde96cf6557379f0f76"
          }
        },
        "c7b25de889e245cc95cd8be96d6ba524": {
          "model_module": "@jupyter-widgets/controls",
          "model_module_version": "1.5.0",
          "model_name": "HTMLModel",
          "state": {
            "_dom_classes": [],
            "_model_module": "@jupyter-widgets/controls",
            "_model_module_version": "1.5.0",
            "_model_name": "HTMLModel",
            "_view_count": null,
            "_view_module": "@jupyter-widgets/controls",
            "_view_module_version": "1.5.0",
            "_view_name": "HTMLView",
            "description": "",
            "description_tooltip": null,
            "layout": "IPY_MODEL_54c31c79c81841298de8c049d02d0122",
            "placeholder": "​",
            "style": "IPY_MODEL_a4dd03d3080e4edcad95dab455f86689",
            "value": " 40/40 [00:06&lt;00:00, 10.63instance/s, train_correct_candidates_per_instance=15.1, train_loss=0.37]"
          }
        },
        "c8022bd0be9c4cb592ace372ca224738": {
          "model_module": "@jupyter-widgets/controls",
          "model_module_version": "1.5.0",
          "model_name": "HTMLModel",
          "state": {
            "_dom_classes": [],
            "_model_module": "@jupyter-widgets/controls",
            "_model_module_version": "1.5.0",
            "_model_name": "HTMLModel",
            "_view_count": null,
            "_view_module": "@jupyter-widgets/controls",
            "_view_module_version": "1.5.0",
            "_view_name": "HTMLView",
            "description": "",
            "description_tooltip": null,
            "layout": "IPY_MODEL_c8d94b4445d3476a8aa7ddca360903cc",
            "placeholder": "​",
            "style": "IPY_MODEL_cd68a02ee25940f781cb77395b2ae149",
            "value": " 10/10 [01:18&lt;00:00,  7.91s/epoch]"
          }
        },
        "c8d94b4445d3476a8aa7ddca360903cc": {
          "model_module": "@jupyter-widgets/base",
          "model_module_version": "1.2.0",
          "model_name": "LayoutModel",
          "state": {
            "_model_module": "@jupyter-widgets/base",
            "_model_module_version": "1.2.0",
            "_model_name": "LayoutModel",
            "_view_count": null,
            "_view_module": "@jupyter-widgets/base",
            "_view_module_version": "1.2.0",
            "_view_name": "LayoutView",
            "align_content": null,
            "align_items": null,
            "align_self": null,
            "border": null,
            "bottom": null,
            "display": null,
            "flex": null,
            "flex_flow": null,
            "grid_area": null,
            "grid_auto_columns": null,
            "grid_auto_flow": null,
            "grid_auto_rows": null,
            "grid_column": null,
            "grid_gap": null,
            "grid_row": null,
            "grid_template_areas": null,
            "grid_template_columns": null,
            "grid_template_rows": null,
            "height": null,
            "justify_content": null,
            "justify_items": null,
            "left": null,
            "margin": null,
            "max_height": null,
            "max_width": null,
            "min_height": null,
            "min_width": null,
            "object_fit": null,
            "object_position": null,
            "order": null,
            "overflow": null,
            "overflow_x": null,
            "overflow_y": null,
            "padding": null,
            "right": null,
            "top": null,
            "visibility": null,
            "width": null
          }
        },
        "c9942d00e8474a9084102fcc622609f4": {
          "model_module": "@jupyter-widgets/controls",
          "model_module_version": "1.5.0",
          "model_name": "HTMLModel",
          "state": {
            "_dom_classes": [],
            "_model_module": "@jupyter-widgets/controls",
            "_model_module_version": "1.5.0",
            "_model_name": "HTMLModel",
            "_view_count": null,
            "_view_module": "@jupyter-widgets/controls",
            "_view_module_version": "1.5.0",
            "_view_name": "HTMLView",
            "description": "",
            "description_tooltip": null,
            "layout": "IPY_MODEL_b6a50d3cecd845779863dc7eaed7f0e5",
            "placeholder": "​",
            "style": "IPY_MODEL_cfc096f79fd849f2a649765ba447a27c",
            "value": "training:  30%"
          }
        },
        "c9d25ddbf6424d7580cf3ad82f6ceacf": {
          "model_module": "@jupyter-widgets/controls",
          "model_module_version": "1.5.0",
          "model_name": "ProgressStyleModel",
          "state": {
            "_model_module": "@jupyter-widgets/controls",
            "_model_module_version": "1.5.0",
            "_model_name": "ProgressStyleModel",
            "_view_count": null,
            "_view_module": "@jupyter-widgets/base",
            "_view_module_version": "1.2.0",
            "_view_name": "StyleView",
            "bar_color": null,
            "description_width": ""
          }
        },
        "c9d685a0b255462bb12c5800d0e9ce36": {
          "model_module": "@jupyter-widgets/base",
          "model_module_version": "1.2.0",
          "model_name": "LayoutModel",
          "state": {
            "_model_module": "@jupyter-widgets/base",
            "_model_module_version": "1.2.0",
            "_model_name": "LayoutModel",
            "_view_count": null,
            "_view_module": "@jupyter-widgets/base",
            "_view_module_version": "1.2.0",
            "_view_name": "LayoutView",
            "align_content": null,
            "align_items": null,
            "align_self": null,
            "border": null,
            "bottom": null,
            "display": null,
            "flex": null,
            "flex_flow": null,
            "grid_area": null,
            "grid_auto_columns": null,
            "grid_auto_flow": null,
            "grid_auto_rows": null,
            "grid_column": null,
            "grid_gap": null,
            "grid_row": null,
            "grid_template_areas": null,
            "grid_template_columns": null,
            "grid_template_rows": null,
            "height": null,
            "justify_content": null,
            "justify_items": null,
            "left": null,
            "margin": null,
            "max_height": null,
            "max_width": null,
            "min_height": null,
            "min_width": null,
            "object_fit": null,
            "object_position": null,
            "order": null,
            "overflow": null,
            "overflow_x": null,
            "overflow_y": null,
            "padding": null,
            "right": null,
            "top": null,
            "visibility": null,
            "width": null
          }
        },
        "ca3addaa8beb4b17aa1ee00df2dc9638": {
          "model_module": "@jupyter-widgets/base",
          "model_module_version": "1.2.0",
          "model_name": "LayoutModel",
          "state": {
            "_model_module": "@jupyter-widgets/base",
            "_model_module_version": "1.2.0",
            "_model_name": "LayoutModel",
            "_view_count": null,
            "_view_module": "@jupyter-widgets/base",
            "_view_module_version": "1.2.0",
            "_view_name": "LayoutView",
            "align_content": null,
            "align_items": null,
            "align_self": null,
            "border": null,
            "bottom": null,
            "display": null,
            "flex": null,
            "flex_flow": null,
            "grid_area": null,
            "grid_auto_columns": null,
            "grid_auto_flow": null,
            "grid_auto_rows": null,
            "grid_column": null,
            "grid_gap": null,
            "grid_row": null,
            "grid_template_areas": null,
            "grid_template_columns": null,
            "grid_template_rows": null,
            "height": null,
            "justify_content": null,
            "justify_items": null,
            "left": null,
            "margin": null,
            "max_height": null,
            "max_width": null,
            "min_height": null,
            "min_width": null,
            "object_fit": null,
            "object_position": null,
            "order": null,
            "overflow": null,
            "overflow_x": null,
            "overflow_y": null,
            "padding": null,
            "right": null,
            "top": null,
            "visibility": null,
            "width": null
          }
        },
        "cac52b509b5c47778022dee60705066f": {
          "model_module": "@jupyter-widgets/controls",
          "model_module_version": "1.5.0",
          "model_name": "DescriptionStyleModel",
          "state": {
            "_model_module": "@jupyter-widgets/controls",
            "_model_module_version": "1.5.0",
            "_model_name": "DescriptionStyleModel",
            "_view_count": null,
            "_view_module": "@jupyter-widgets/base",
            "_view_module_version": "1.2.0",
            "_view_name": "StyleView",
            "description_width": ""
          }
        },
        "cbb9d0b335bb4b2091e77ddc75ceb5e8": {
          "model_module": "@jupyter-widgets/base",
          "model_module_version": "1.2.0",
          "model_name": "LayoutModel",
          "state": {
            "_model_module": "@jupyter-widgets/base",
            "_model_module_version": "1.2.0",
            "_model_name": "LayoutModel",
            "_view_count": null,
            "_view_module": "@jupyter-widgets/base",
            "_view_module_version": "1.2.0",
            "_view_name": "LayoutView",
            "align_content": null,
            "align_items": null,
            "align_self": null,
            "border": null,
            "bottom": null,
            "display": null,
            "flex": null,
            "flex_flow": null,
            "grid_area": null,
            "grid_auto_columns": null,
            "grid_auto_flow": null,
            "grid_auto_rows": null,
            "grid_column": null,
            "grid_gap": null,
            "grid_row": null,
            "grid_template_areas": null,
            "grid_template_columns": null,
            "grid_template_rows": null,
            "height": null,
            "justify_content": null,
            "justify_items": null,
            "left": null,
            "margin": null,
            "max_height": null,
            "max_width": null,
            "min_height": null,
            "min_width": null,
            "object_fit": null,
            "object_position": null,
            "order": null,
            "overflow": null,
            "overflow_x": null,
            "overflow_y": null,
            "padding": null,
            "right": null,
            "top": null,
            "visibility": null,
            "width": null
          }
        },
        "cd2949116f554a8caf16de803f5bb45f": {
          "model_module": "@jupyter-widgets/controls",
          "model_module_version": "1.5.0",
          "model_name": "DescriptionStyleModel",
          "state": {
            "_model_module": "@jupyter-widgets/controls",
            "_model_module_version": "1.5.0",
            "_model_name": "DescriptionStyleModel",
            "_view_count": null,
            "_view_module": "@jupyter-widgets/base",
            "_view_module_version": "1.2.0",
            "_view_name": "StyleView",
            "description_width": ""
          }
        },
        "cd68a02ee25940f781cb77395b2ae149": {
          "model_module": "@jupyter-widgets/controls",
          "model_module_version": "1.5.0",
          "model_name": "DescriptionStyleModel",
          "state": {
            "_model_module": "@jupyter-widgets/controls",
            "_model_module_version": "1.5.0",
            "_model_name": "DescriptionStyleModel",
            "_view_count": null,
            "_view_module": "@jupyter-widgets/base",
            "_view_module_version": "1.2.0",
            "_view_name": "StyleView",
            "description_width": ""
          }
        },
        "cde380e14f2743bcba5ad2279e8c36ee": {
          "model_module": "@jupyter-widgets/controls",
          "model_module_version": "1.5.0",
          "model_name": "DescriptionStyleModel",
          "state": {
            "_model_module": "@jupyter-widgets/controls",
            "_model_module_version": "1.5.0",
            "_model_name": "DescriptionStyleModel",
            "_view_count": null,
            "_view_module": "@jupyter-widgets/base",
            "_view_module_version": "1.2.0",
            "_view_name": "StyleView",
            "description_width": ""
          }
        },
        "cf0a63329ac04b8f921522e39d9c1eb7": {
          "model_module": "@jupyter-widgets/controls",
          "model_module_version": "1.5.0",
          "model_name": "HTMLModel",
          "state": {
            "_dom_classes": [],
            "_model_module": "@jupyter-widgets/controls",
            "_model_module_version": "1.5.0",
            "_model_name": "HTMLModel",
            "_view_count": null,
            "_view_module": "@jupyter-widgets/controls",
            "_view_module_version": "1.5.0",
            "_view_name": "HTMLView",
            "description": "",
            "description_tooltip": null,
            "layout": "IPY_MODEL_8dbdd18b010a4035ba7265989040ba6e",
            "placeholder": "​",
            "style": "IPY_MODEL_131fc0a78ff84924908890deb157df13",
            "value": "epoch 8: 100%"
          }
        },
        "cf2a71402ca547ab99e402f9be19f2cf": {
          "model_module": "@jupyter-widgets/controls",
          "model_module_version": "1.5.0",
          "model_name": "DescriptionStyleModel",
          "state": {
            "_model_module": "@jupyter-widgets/controls",
            "_model_module_version": "1.5.0",
            "_model_name": "DescriptionStyleModel",
            "_view_count": null,
            "_view_module": "@jupyter-widgets/base",
            "_view_module_version": "1.2.0",
            "_view_name": "StyleView",
            "description_width": ""
          }
        },
        "cfc096f79fd849f2a649765ba447a27c": {
          "model_module": "@jupyter-widgets/controls",
          "model_module_version": "1.5.0",
          "model_name": "DescriptionStyleModel",
          "state": {
            "_model_module": "@jupyter-widgets/controls",
            "_model_module_version": "1.5.0",
            "_model_name": "DescriptionStyleModel",
            "_view_count": null,
            "_view_module": "@jupyter-widgets/base",
            "_view_module_version": "1.2.0",
            "_view_name": "StyleView",
            "description_width": ""
          }
        },
        "cfe3e0f975f24218b081f473d0ce7ca7": {
          "model_module": "@jupyter-widgets/controls",
          "model_module_version": "1.5.0",
          "model_name": "DescriptionStyleModel",
          "state": {
            "_model_module": "@jupyter-widgets/controls",
            "_model_module_version": "1.5.0",
            "_model_name": "DescriptionStyleModel",
            "_view_count": null,
            "_view_module": "@jupyter-widgets/base",
            "_view_module_version": "1.2.0",
            "_view_name": "StyleView",
            "description_width": ""
          }
        },
        "d0782a63483d4a06b1f663f26d094a42": {
          "model_module": "@jupyter-widgets/controls",
          "model_module_version": "1.5.0",
          "model_name": "DescriptionStyleModel",
          "state": {
            "_model_module": "@jupyter-widgets/controls",
            "_model_module_version": "1.5.0",
            "_model_name": "DescriptionStyleModel",
            "_view_count": null,
            "_view_module": "@jupyter-widgets/base",
            "_view_module_version": "1.2.0",
            "_view_name": "StyleView",
            "description_width": ""
          }
        },
        "d0b03b3ec7394aa8b2a5d0f31fe9e1e3": {
          "model_module": "@jupyter-widgets/controls",
          "model_module_version": "1.5.0",
          "model_name": "HBoxModel",
          "state": {
            "_dom_classes": [],
            "_model_module": "@jupyter-widgets/controls",
            "_model_module_version": "1.5.0",
            "_model_name": "HBoxModel",
            "_view_count": null,
            "_view_module": "@jupyter-widgets/controls",
            "_view_module_version": "1.5.0",
            "_view_name": "HBoxView",
            "box_style": "",
            "children": [
              "IPY_MODEL_a04af31d0c2c47e281b1ce3d416b0aae",
              "IPY_MODEL_50db594e40b34774a322137c47b278a6",
              "IPY_MODEL_2bc4d5f398854c4db78f83278b8dc687"
            ],
            "layout": "IPY_MODEL_8f86b8d0807c456099910e574b365ee9"
          }
        },
        "d10955be4c5846beb72a278359f28202": {
          "model_module": "@jupyter-widgets/controls",
          "model_module_version": "1.5.0",
          "model_name": "ProgressStyleModel",
          "state": {
            "_model_module": "@jupyter-widgets/controls",
            "_model_module_version": "1.5.0",
            "_model_name": "ProgressStyleModel",
            "_view_count": null,
            "_view_module": "@jupyter-widgets/base",
            "_view_module_version": "1.2.0",
            "_view_name": "StyleView",
            "bar_color": null,
            "description_width": ""
          }
        },
        "d214ea47bc8e41d9a0e7f59416aadbd0": {
          "model_module": "@jupyter-widgets/controls",
          "model_module_version": "1.5.0",
          "model_name": "DescriptionStyleModel",
          "state": {
            "_model_module": "@jupyter-widgets/controls",
            "_model_module_version": "1.5.0",
            "_model_name": "DescriptionStyleModel",
            "_view_count": null,
            "_view_module": "@jupyter-widgets/base",
            "_view_module_version": "1.2.0",
            "_view_name": "StyleView",
            "description_width": ""
          }
        },
        "d2285abe43dc4fda87ed3bbc26d112ac": {
          "model_module": "@jupyter-widgets/controls",
          "model_module_version": "1.5.0",
          "model_name": "HTMLModel",
          "state": {
            "_dom_classes": [],
            "_model_module": "@jupyter-widgets/controls",
            "_model_module_version": "1.5.0",
            "_model_name": "HTMLModel",
            "_view_count": null,
            "_view_module": "@jupyter-widgets/controls",
            "_view_module_version": "1.5.0",
            "_view_name": "HTMLView",
            "description": "",
            "description_tooltip": null,
            "layout": "IPY_MODEL_3b2a9f13c5524f2195a5af978b07a9c3",
            "placeholder": "​",
            "style": "IPY_MODEL_441c2015501e483281431df11fd1f0f8",
            "value": "epoch 2: 100%"
          }
        },
        "d22f856d15da4db9a0fc8dba6e7847e5": {
          "model_module": "@jupyter-widgets/base",
          "model_module_version": "1.2.0",
          "model_name": "LayoutModel",
          "state": {
            "_model_module": "@jupyter-widgets/base",
            "_model_module_version": "1.2.0",
            "_model_name": "LayoutModel",
            "_view_count": null,
            "_view_module": "@jupyter-widgets/base",
            "_view_module_version": "1.2.0",
            "_view_name": "LayoutView",
            "align_content": null,
            "align_items": null,
            "align_self": null,
            "border": null,
            "bottom": null,
            "display": null,
            "flex": null,
            "flex_flow": null,
            "grid_area": null,
            "grid_auto_columns": null,
            "grid_auto_flow": null,
            "grid_auto_rows": null,
            "grid_column": null,
            "grid_gap": null,
            "grid_row": null,
            "grid_template_areas": null,
            "grid_template_columns": null,
            "grid_template_rows": null,
            "height": null,
            "justify_content": null,
            "justify_items": null,
            "left": null,
            "margin": null,
            "max_height": null,
            "max_width": null,
            "min_height": null,
            "min_width": null,
            "object_fit": null,
            "object_position": null,
            "order": null,
            "overflow": null,
            "overflow_x": null,
            "overflow_y": null,
            "padding": null,
            "right": null,
            "top": null,
            "visibility": null,
            "width": null
          }
        },
        "d3c2211851694b99b42e5bf1aef18683": {
          "model_module": "@jupyter-widgets/controls",
          "model_module_version": "1.5.0",
          "model_name": "FloatProgressModel",
          "state": {
            "_dom_classes": [],
            "_model_module": "@jupyter-widgets/controls",
            "_model_module_version": "1.5.0",
            "_model_name": "FloatProgressModel",
            "_view_count": null,
            "_view_module": "@jupyter-widgets/controls",
            "_view_module_version": "1.5.0",
            "_view_name": "ProgressView",
            "bar_style": "success",
            "description": "",
            "description_tooltip": null,
            "layout": "IPY_MODEL_a9aa8cc44a554e3ba32cef1958edfb96",
            "max": 10,
            "min": 0,
            "orientation": "horizontal",
            "style": "IPY_MODEL_e57ecd969e8c4edca67d36d058b5d9d6",
            "value": 10
          }
        },
        "d3cfe98ddbc4489e9ef35da5b21e3a21": {
          "model_module": "@jupyter-widgets/base",
          "model_module_version": "1.2.0",
          "model_name": "LayoutModel",
          "state": {
            "_model_module": "@jupyter-widgets/base",
            "_model_module_version": "1.2.0",
            "_model_name": "LayoutModel",
            "_view_count": null,
            "_view_module": "@jupyter-widgets/base",
            "_view_module_version": "1.2.0",
            "_view_name": "LayoutView",
            "align_content": null,
            "align_items": null,
            "align_self": null,
            "border": null,
            "bottom": null,
            "display": null,
            "flex": null,
            "flex_flow": null,
            "grid_area": null,
            "grid_auto_columns": null,
            "grid_auto_flow": null,
            "grid_auto_rows": null,
            "grid_column": null,
            "grid_gap": null,
            "grid_row": null,
            "grid_template_areas": null,
            "grid_template_columns": null,
            "grid_template_rows": null,
            "height": null,
            "justify_content": null,
            "justify_items": null,
            "left": null,
            "margin": null,
            "max_height": null,
            "max_width": null,
            "min_height": null,
            "min_width": null,
            "object_fit": null,
            "object_position": null,
            "order": null,
            "overflow": null,
            "overflow_x": null,
            "overflow_y": null,
            "padding": null,
            "right": null,
            "top": null,
            "visibility": null,
            "width": null
          }
        },
        "d4288fa314bc4b1cb908a513738e6c26": {
          "model_module": "@jupyter-widgets/controls",
          "model_module_version": "1.5.0",
          "model_name": "DescriptionStyleModel",
          "state": {
            "_model_module": "@jupyter-widgets/controls",
            "_model_module_version": "1.5.0",
            "_model_name": "DescriptionStyleModel",
            "_view_count": null,
            "_view_module": "@jupyter-widgets/base",
            "_view_module_version": "1.2.0",
            "_view_name": "StyleView",
            "description_width": ""
          }
        },
        "d4b6e036f594408fa0c448d4b7b14e76": {
          "model_module": "@jupyter-widgets/base",
          "model_module_version": "1.2.0",
          "model_name": "LayoutModel",
          "state": {
            "_model_module": "@jupyter-widgets/base",
            "_model_module_version": "1.2.0",
            "_model_name": "LayoutModel",
            "_view_count": null,
            "_view_module": "@jupyter-widgets/base",
            "_view_module_version": "1.2.0",
            "_view_name": "LayoutView",
            "align_content": null,
            "align_items": null,
            "align_self": null,
            "border": null,
            "bottom": null,
            "display": null,
            "flex": null,
            "flex_flow": null,
            "grid_area": null,
            "grid_auto_columns": null,
            "grid_auto_flow": null,
            "grid_auto_rows": null,
            "grid_column": null,
            "grid_gap": null,
            "grid_row": null,
            "grid_template_areas": null,
            "grid_template_columns": null,
            "grid_template_rows": null,
            "height": null,
            "justify_content": null,
            "justify_items": null,
            "left": null,
            "margin": null,
            "max_height": null,
            "max_width": null,
            "min_height": null,
            "min_width": null,
            "object_fit": null,
            "object_position": null,
            "order": null,
            "overflow": null,
            "overflow_x": null,
            "overflow_y": null,
            "padding": null,
            "right": null,
            "top": null,
            "visibility": null,
            "width": null
          }
        },
        "d7c4054cdf1b4dc7b2f7bbe3f36f6e6b": {
          "model_module": "@jupyter-widgets/controls",
          "model_module_version": "1.5.0",
          "model_name": "HBoxModel",
          "state": {
            "_dom_classes": [],
            "_model_module": "@jupyter-widgets/controls",
            "_model_module_version": "1.5.0",
            "_model_name": "HBoxModel",
            "_view_count": null,
            "_view_module": "@jupyter-widgets/controls",
            "_view_module_version": "1.5.0",
            "_view_name": "HBoxView",
            "box_style": "",
            "children": [
              "IPY_MODEL_1715d38b161c4b8399132634fc4f0d54",
              "IPY_MODEL_0240962ea6004474aa0a2d18d03bb0ef",
              "IPY_MODEL_7f9482d8c272458db21ddd8187257e0d"
            ],
            "layout": "IPY_MODEL_8e04641c145c4b3188a8a170993c10b6"
          }
        },
        "d851a47dfd75411ba3291e331f361701": {
          "model_module": "@jupyter-widgets/controls",
          "model_module_version": "1.5.0",
          "model_name": "FloatProgressModel",
          "state": {
            "_dom_classes": [],
            "_model_module": "@jupyter-widgets/controls",
            "_model_module_version": "1.5.0",
            "_model_name": "FloatProgressModel",
            "_view_count": null,
            "_view_module": "@jupyter-widgets/controls",
            "_view_module_version": "1.5.0",
            "_view_name": "ProgressView",
            "bar_style": "",
            "description": "",
            "description_tooltip": null,
            "layout": "IPY_MODEL_a8b96e93640e42fc817dafd46375e9b3",
            "max": 10,
            "min": 0,
            "orientation": "horizontal",
            "style": "IPY_MODEL_ddea3949a229411496044e660df1654d",
            "value": 3
          }
        },
        "da4af5975281409da5a1df76b1f6a0a2": {
          "model_module": "@jupyter-widgets/base",
          "model_module_version": "1.2.0",
          "model_name": "LayoutModel",
          "state": {
            "_model_module": "@jupyter-widgets/base",
            "_model_module_version": "1.2.0",
            "_model_name": "LayoutModel",
            "_view_count": null,
            "_view_module": "@jupyter-widgets/base",
            "_view_module_version": "1.2.0",
            "_view_name": "LayoutView",
            "align_content": null,
            "align_items": null,
            "align_self": null,
            "border": null,
            "bottom": null,
            "display": null,
            "flex": null,
            "flex_flow": null,
            "grid_area": null,
            "grid_auto_columns": null,
            "grid_auto_flow": null,
            "grid_auto_rows": null,
            "grid_column": null,
            "grid_gap": null,
            "grid_row": null,
            "grid_template_areas": null,
            "grid_template_columns": null,
            "grid_template_rows": null,
            "height": null,
            "justify_content": null,
            "justify_items": null,
            "left": null,
            "margin": null,
            "max_height": null,
            "max_width": null,
            "min_height": null,
            "min_width": null,
            "object_fit": null,
            "object_position": null,
            "order": null,
            "overflow": null,
            "overflow_x": null,
            "overflow_y": null,
            "padding": null,
            "right": null,
            "top": null,
            "visibility": null,
            "width": null
          }
        },
        "db484f74525f4212bf2a9daf908e45d2": {
          "model_module": "@jupyter-widgets/controls",
          "model_module_version": "1.5.0",
          "model_name": "ProgressStyleModel",
          "state": {
            "_model_module": "@jupyter-widgets/controls",
            "_model_module_version": "1.5.0",
            "_model_name": "ProgressStyleModel",
            "_view_count": null,
            "_view_module": "@jupyter-widgets/base",
            "_view_module_version": "1.2.0",
            "_view_name": "StyleView",
            "bar_color": null,
            "description_width": ""
          }
        },
        "dbb06d6e0d6f48128f7436ef54079620": {
          "model_module": "@jupyter-widgets/base",
          "model_module_version": "1.2.0",
          "model_name": "LayoutModel",
          "state": {
            "_model_module": "@jupyter-widgets/base",
            "_model_module_version": "1.2.0",
            "_model_name": "LayoutModel",
            "_view_count": null,
            "_view_module": "@jupyter-widgets/base",
            "_view_module_version": "1.2.0",
            "_view_name": "LayoutView",
            "align_content": null,
            "align_items": null,
            "align_self": null,
            "border": null,
            "bottom": null,
            "display": null,
            "flex": null,
            "flex_flow": null,
            "grid_area": null,
            "grid_auto_columns": null,
            "grid_auto_flow": null,
            "grid_auto_rows": null,
            "grid_column": null,
            "grid_gap": null,
            "grid_row": null,
            "grid_template_areas": null,
            "grid_template_columns": null,
            "grid_template_rows": null,
            "height": null,
            "justify_content": null,
            "justify_items": null,
            "left": null,
            "margin": null,
            "max_height": null,
            "max_width": null,
            "min_height": null,
            "min_width": null,
            "object_fit": null,
            "object_position": null,
            "order": null,
            "overflow": null,
            "overflow_x": null,
            "overflow_y": null,
            "padding": null,
            "right": null,
            "top": null,
            "visibility": null,
            "width": null
          }
        },
        "dbc042f5808d4d0490f96028691831fc": {
          "model_module": "@jupyter-widgets/base",
          "model_module_version": "1.2.0",
          "model_name": "LayoutModel",
          "state": {
            "_model_module": "@jupyter-widgets/base",
            "_model_module_version": "1.2.0",
            "_model_name": "LayoutModel",
            "_view_count": null,
            "_view_module": "@jupyter-widgets/base",
            "_view_module_version": "1.2.0",
            "_view_name": "LayoutView",
            "align_content": null,
            "align_items": null,
            "align_self": null,
            "border": null,
            "bottom": null,
            "display": null,
            "flex": null,
            "flex_flow": null,
            "grid_area": null,
            "grid_auto_columns": null,
            "grid_auto_flow": null,
            "grid_auto_rows": null,
            "grid_column": null,
            "grid_gap": null,
            "grid_row": null,
            "grid_template_areas": null,
            "grid_template_columns": null,
            "grid_template_rows": null,
            "height": null,
            "justify_content": null,
            "justify_items": null,
            "left": null,
            "margin": null,
            "max_height": null,
            "max_width": null,
            "min_height": null,
            "min_width": null,
            "object_fit": null,
            "object_position": null,
            "order": null,
            "overflow": null,
            "overflow_x": null,
            "overflow_y": null,
            "padding": null,
            "right": null,
            "top": null,
            "visibility": null,
            "width": null
          }
        },
        "dc28466a4eca4d3d893de4a220f0ebd4": {
          "model_module": "@jupyter-widgets/controls",
          "model_module_version": "1.5.0",
          "model_name": "DescriptionStyleModel",
          "state": {
            "_model_module": "@jupyter-widgets/controls",
            "_model_module_version": "1.5.0",
            "_model_name": "DescriptionStyleModel",
            "_view_count": null,
            "_view_module": "@jupyter-widgets/base",
            "_view_module_version": "1.2.0",
            "_view_name": "StyleView",
            "description_width": ""
          }
        },
        "ddea3949a229411496044e660df1654d": {
          "model_module": "@jupyter-widgets/controls",
          "model_module_version": "1.5.0",
          "model_name": "ProgressStyleModel",
          "state": {
            "_model_module": "@jupyter-widgets/controls",
            "_model_module_version": "1.5.0",
            "_model_name": "ProgressStyleModel",
            "_view_count": null,
            "_view_module": "@jupyter-widgets/base",
            "_view_module_version": "1.2.0",
            "_view_name": "StyleView",
            "bar_color": null,
            "description_width": ""
          }
        },
        "de04fd35c4d24304b3d1b489bdd516b4": {
          "model_module": "@jupyter-widgets/base",
          "model_module_version": "1.2.0",
          "model_name": "LayoutModel",
          "state": {
            "_model_module": "@jupyter-widgets/base",
            "_model_module_version": "1.2.0",
            "_model_name": "LayoutModel",
            "_view_count": null,
            "_view_module": "@jupyter-widgets/base",
            "_view_module_version": "1.2.0",
            "_view_name": "LayoutView",
            "align_content": null,
            "align_items": null,
            "align_self": null,
            "border": null,
            "bottom": null,
            "display": null,
            "flex": null,
            "flex_flow": null,
            "grid_area": null,
            "grid_auto_columns": null,
            "grid_auto_flow": null,
            "grid_auto_rows": null,
            "grid_column": null,
            "grid_gap": null,
            "grid_row": null,
            "grid_template_areas": null,
            "grid_template_columns": null,
            "grid_template_rows": null,
            "height": null,
            "justify_content": null,
            "justify_items": null,
            "left": null,
            "margin": null,
            "max_height": null,
            "max_width": null,
            "min_height": null,
            "min_width": null,
            "object_fit": null,
            "object_position": null,
            "order": null,
            "overflow": null,
            "overflow_x": null,
            "overflow_y": null,
            "padding": null,
            "right": null,
            "top": null,
            "visibility": null,
            "width": null
          }
        },
        "ded5a194f33b46b780bf31725f010f8a": {
          "model_module": "@jupyter-widgets/controls",
          "model_module_version": "1.5.0",
          "model_name": "HTMLModel",
          "state": {
            "_dom_classes": [],
            "_model_module": "@jupyter-widgets/controls",
            "_model_module_version": "1.5.0",
            "_model_name": "HTMLModel",
            "_view_count": null,
            "_view_module": "@jupyter-widgets/controls",
            "_view_module_version": "1.5.0",
            "_view_name": "HTMLView",
            "description": "",
            "description_tooltip": null,
            "layout": "IPY_MODEL_c9d685a0b255462bb12c5800d0e9ce36",
            "placeholder": "​",
            "style": "IPY_MODEL_7ba27083940948929573384aec35f200",
            "value": "training: 100%"
          }
        },
        "defa663259e24d439fbdbae3e1e7139d": {
          "model_module": "@jupyter-widgets/controls",
          "model_module_version": "1.5.0",
          "model_name": "HBoxModel",
          "state": {
            "_dom_classes": [],
            "_model_module": "@jupyter-widgets/controls",
            "_model_module_version": "1.5.0",
            "_model_name": "HBoxModel",
            "_view_count": null,
            "_view_module": "@jupyter-widgets/controls",
            "_view_module_version": "1.5.0",
            "_view_name": "HBoxView",
            "box_style": "",
            "children": [
              "IPY_MODEL_f9d59a4f82a84383aad0a373bcade025",
              "IPY_MODEL_6bc3235027a648eda36540ebd92feb21",
              "IPY_MODEL_8e5da701f38c476496343f5f6f7b4f50"
            ],
            "layout": "IPY_MODEL_7ee16cb2359248db810c4072c48d7b2c"
          }
        },
        "df10263f6dff4b80b748ae5be992a2e4": {
          "model_module": "@jupyter-widgets/base",
          "model_module_version": "1.2.0",
          "model_name": "LayoutModel",
          "state": {
            "_model_module": "@jupyter-widgets/base",
            "_model_module_version": "1.2.0",
            "_model_name": "LayoutModel",
            "_view_count": null,
            "_view_module": "@jupyter-widgets/base",
            "_view_module_version": "1.2.0",
            "_view_name": "LayoutView",
            "align_content": null,
            "align_items": null,
            "align_self": null,
            "border": null,
            "bottom": null,
            "display": null,
            "flex": null,
            "flex_flow": null,
            "grid_area": null,
            "grid_auto_columns": null,
            "grid_auto_flow": null,
            "grid_auto_rows": null,
            "grid_column": null,
            "grid_gap": null,
            "grid_row": null,
            "grid_template_areas": null,
            "grid_template_columns": null,
            "grid_template_rows": null,
            "height": null,
            "justify_content": null,
            "justify_items": null,
            "left": null,
            "margin": null,
            "max_height": null,
            "max_width": null,
            "min_height": null,
            "min_width": null,
            "object_fit": null,
            "object_position": null,
            "order": null,
            "overflow": null,
            "overflow_x": null,
            "overflow_y": null,
            "padding": null,
            "right": null,
            "top": null,
            "visibility": null,
            "width": null
          }
        },
        "e1a4bdc124484069b790445ac8334505": {
          "model_module": "@jupyter-widgets/controls",
          "model_module_version": "1.5.0",
          "model_name": "FloatProgressModel",
          "state": {
            "_dom_classes": [],
            "_model_module": "@jupyter-widgets/controls",
            "_model_module_version": "1.5.0",
            "_model_name": "FloatProgressModel",
            "_view_count": null,
            "_view_module": "@jupyter-widgets/controls",
            "_view_module_version": "1.5.0",
            "_view_name": "ProgressView",
            "bar_style": "success",
            "description": "",
            "description_tooltip": null,
            "layout": "IPY_MODEL_50f16ba1a4d341d0b9c5346317b3928a",
            "max": 133,
            "min": 0,
            "orientation": "horizontal",
            "style": "IPY_MODEL_e94530572b3647e4a01162041bcbb608",
            "value": 133
          }
        },
        "e35b0132c4d241c68f7c704779c37aed": {
          "model_module": "@jupyter-widgets/controls",
          "model_module_version": "1.5.0",
          "model_name": "ProgressStyleModel",
          "state": {
            "_model_module": "@jupyter-widgets/controls",
            "_model_module_version": "1.5.0",
            "_model_name": "ProgressStyleModel",
            "_view_count": null,
            "_view_module": "@jupyter-widgets/base",
            "_view_module_version": "1.2.0",
            "_view_name": "StyleView",
            "bar_color": null,
            "description_width": ""
          }
        },
        "e3fe0d437b4a432abf892a13cea63477": {
          "model_module": "@jupyter-widgets/base",
          "model_module_version": "1.2.0",
          "model_name": "LayoutModel",
          "state": {
            "_model_module": "@jupyter-widgets/base",
            "_model_module_version": "1.2.0",
            "_model_name": "LayoutModel",
            "_view_count": null,
            "_view_module": "@jupyter-widgets/base",
            "_view_module_version": "1.2.0",
            "_view_name": "LayoutView",
            "align_content": null,
            "align_items": null,
            "align_self": null,
            "border": null,
            "bottom": null,
            "display": null,
            "flex": null,
            "flex_flow": null,
            "grid_area": null,
            "grid_auto_columns": null,
            "grid_auto_flow": null,
            "grid_auto_rows": null,
            "grid_column": null,
            "grid_gap": null,
            "grid_row": null,
            "grid_template_areas": null,
            "grid_template_columns": null,
            "grid_template_rows": null,
            "height": null,
            "justify_content": null,
            "justify_items": null,
            "left": null,
            "margin": null,
            "max_height": null,
            "max_width": null,
            "min_height": null,
            "min_width": null,
            "object_fit": null,
            "object_position": null,
            "order": null,
            "overflow": null,
            "overflow_x": null,
            "overflow_y": null,
            "padding": null,
            "right": null,
            "top": null,
            "visibility": null,
            "width": null
          }
        },
        "e532a32434ef4c15b5f280879ea16e27": {
          "model_module": "@jupyter-widgets/controls",
          "model_module_version": "1.5.0",
          "model_name": "DescriptionStyleModel",
          "state": {
            "_model_module": "@jupyter-widgets/controls",
            "_model_module_version": "1.5.0",
            "_model_name": "DescriptionStyleModel",
            "_view_count": null,
            "_view_module": "@jupyter-widgets/base",
            "_view_module_version": "1.2.0",
            "_view_name": "StyleView",
            "description_width": ""
          }
        },
        "e57ecd969e8c4edca67d36d058b5d9d6": {
          "model_module": "@jupyter-widgets/controls",
          "model_module_version": "1.5.0",
          "model_name": "ProgressStyleModel",
          "state": {
            "_model_module": "@jupyter-widgets/controls",
            "_model_module_version": "1.5.0",
            "_model_name": "ProgressStyleModel",
            "_view_count": null,
            "_view_module": "@jupyter-widgets/base",
            "_view_module_version": "1.2.0",
            "_view_name": "StyleView",
            "bar_color": null,
            "description_width": ""
          }
        },
        "e5aa5f94c9eb4c63b014028e246f75da": {
          "model_module": "@jupyter-widgets/base",
          "model_module_version": "1.2.0",
          "model_name": "LayoutModel",
          "state": {
            "_model_module": "@jupyter-widgets/base",
            "_model_module_version": "1.2.0",
            "_model_name": "LayoutModel",
            "_view_count": null,
            "_view_module": "@jupyter-widgets/base",
            "_view_module_version": "1.2.0",
            "_view_name": "LayoutView",
            "align_content": null,
            "align_items": null,
            "align_self": null,
            "border": null,
            "bottom": null,
            "display": null,
            "flex": null,
            "flex_flow": null,
            "grid_area": null,
            "grid_auto_columns": null,
            "grid_auto_flow": null,
            "grid_auto_rows": null,
            "grid_column": null,
            "grid_gap": null,
            "grid_row": null,
            "grid_template_areas": null,
            "grid_template_columns": null,
            "grid_template_rows": null,
            "height": null,
            "justify_content": null,
            "justify_items": null,
            "left": null,
            "margin": null,
            "max_height": null,
            "max_width": null,
            "min_height": null,
            "min_width": null,
            "object_fit": null,
            "object_position": null,
            "order": null,
            "overflow": null,
            "overflow_x": null,
            "overflow_y": null,
            "padding": null,
            "right": null,
            "top": null,
            "visibility": null,
            "width": null
          }
        },
        "e7438f622d3c462e9b68c0ae93bf12bb": {
          "model_module": "@jupyter-widgets/base",
          "model_module_version": "1.2.0",
          "model_name": "LayoutModel",
          "state": {
            "_model_module": "@jupyter-widgets/base",
            "_model_module_version": "1.2.0",
            "_model_name": "LayoutModel",
            "_view_count": null,
            "_view_module": "@jupyter-widgets/base",
            "_view_module_version": "1.2.0",
            "_view_name": "LayoutView",
            "align_content": null,
            "align_items": null,
            "align_self": null,
            "border": null,
            "bottom": null,
            "display": null,
            "flex": null,
            "flex_flow": null,
            "grid_area": null,
            "grid_auto_columns": null,
            "grid_auto_flow": null,
            "grid_auto_rows": null,
            "grid_column": null,
            "grid_gap": null,
            "grid_row": null,
            "grid_template_areas": null,
            "grid_template_columns": null,
            "grid_template_rows": null,
            "height": null,
            "justify_content": null,
            "justify_items": null,
            "left": null,
            "margin": null,
            "max_height": null,
            "max_width": null,
            "min_height": null,
            "min_width": null,
            "object_fit": null,
            "object_position": null,
            "order": null,
            "overflow": null,
            "overflow_x": null,
            "overflow_y": null,
            "padding": null,
            "right": null,
            "top": null,
            "visibility": null,
            "width": null
          }
        },
        "e78981d281fd47f69a75c57b9098c119": {
          "model_module": "@jupyter-widgets/controls",
          "model_module_version": "1.5.0",
          "model_name": "FloatProgressModel",
          "state": {
            "_dom_classes": [],
            "_model_module": "@jupyter-widgets/controls",
            "_model_module_version": "1.5.0",
            "_model_name": "FloatProgressModel",
            "_view_count": null,
            "_view_module": "@jupyter-widgets/controls",
            "_view_module_version": "1.5.0",
            "_view_name": "ProgressView",
            "bar_style": "success",
            "description": "",
            "description_tooltip": null,
            "layout": "IPY_MODEL_40975f6f55264d438d894523c5deb362",
            "max": 133,
            "min": 0,
            "orientation": "horizontal",
            "style": "IPY_MODEL_c9d25ddbf6424d7580cf3ad82f6ceacf",
            "value": 133
          }
        },
        "e7e0db15d18346348876c1bc3653abe2": {
          "model_module": "@jupyter-widgets/controls",
          "model_module_version": "1.5.0",
          "model_name": "FloatProgressModel",
          "state": {
            "_dom_classes": [],
            "_model_module": "@jupyter-widgets/controls",
            "_model_module_version": "1.5.0",
            "_model_name": "FloatProgressModel",
            "_view_count": null,
            "_view_module": "@jupyter-widgets/controls",
            "_view_module_version": "1.5.0",
            "_view_name": "ProgressView",
            "bar_style": "",
            "description": "",
            "description_tooltip": null,
            "layout": "IPY_MODEL_6e7a69d59ad1491abef9ddcf8608daf8",
            "max": 133,
            "min": 0,
            "orientation": "horizontal",
            "style": "IPY_MODEL_0b923381c1234538bfc9e5d4a5d061a5",
            "value": 8
          }
        },
        "e8fb38029b894e9d8dc7b03e8d5d0e37": {
          "model_module": "@jupyter-widgets/controls",
          "model_module_version": "1.5.0",
          "model_name": "HTMLModel",
          "state": {
            "_dom_classes": [],
            "_model_module": "@jupyter-widgets/controls",
            "_model_module_version": "1.5.0",
            "_model_name": "HTMLModel",
            "_view_count": null,
            "_view_module": "@jupyter-widgets/controls",
            "_view_module_version": "1.5.0",
            "_view_name": "HTMLView",
            "description": "",
            "description_tooltip": null,
            "layout": "IPY_MODEL_21602299247c4b7a83499b20b64d6a02",
            "placeholder": "​",
            "style": "IPY_MODEL_e532a32434ef4c15b5f280879ea16e27",
            "value": " 40/40 [00:06&lt;00:00, 10.14instance/s, train_correct_candidates_per_instance=15.1, train_loss=0.406]"
          }
        },
        "e94530572b3647e4a01162041bcbb608": {
          "model_module": "@jupyter-widgets/controls",
          "model_module_version": "1.5.0",
          "model_name": "ProgressStyleModel",
          "state": {
            "_model_module": "@jupyter-widgets/controls",
            "_model_module_version": "1.5.0",
            "_model_name": "ProgressStyleModel",
            "_view_count": null,
            "_view_module": "@jupyter-widgets/base",
            "_view_module_version": "1.2.0",
            "_view_name": "StyleView",
            "bar_color": null,
            "description_width": ""
          }
        },
        "e98947e955fb410db25a4b5138b10744": {
          "model_module": "@jupyter-widgets/base",
          "model_module_version": "1.2.0",
          "model_name": "LayoutModel",
          "state": {
            "_model_module": "@jupyter-widgets/base",
            "_model_module_version": "1.2.0",
            "_model_name": "LayoutModel",
            "_view_count": null,
            "_view_module": "@jupyter-widgets/base",
            "_view_module_version": "1.2.0",
            "_view_name": "LayoutView",
            "align_content": null,
            "align_items": null,
            "align_self": null,
            "border": null,
            "bottom": null,
            "display": null,
            "flex": null,
            "flex_flow": null,
            "grid_area": null,
            "grid_auto_columns": null,
            "grid_auto_flow": null,
            "grid_auto_rows": null,
            "grid_column": null,
            "grid_gap": null,
            "grid_row": null,
            "grid_template_areas": null,
            "grid_template_columns": null,
            "grid_template_rows": null,
            "height": null,
            "justify_content": null,
            "justify_items": null,
            "left": null,
            "margin": null,
            "max_height": null,
            "max_width": null,
            "min_height": null,
            "min_width": null,
            "object_fit": null,
            "object_position": null,
            "order": null,
            "overflow": null,
            "overflow_x": null,
            "overflow_y": null,
            "padding": null,
            "right": null,
            "top": null,
            "visibility": null,
            "width": null
          }
        },
        "ec7a8e8e51324629a30b2a863c75e4b1": {
          "model_module": "@jupyter-widgets/controls",
          "model_module_version": "1.5.0",
          "model_name": "ProgressStyleModel",
          "state": {
            "_model_module": "@jupyter-widgets/controls",
            "_model_module_version": "1.5.0",
            "_model_name": "ProgressStyleModel",
            "_view_count": null,
            "_view_module": "@jupyter-widgets/base",
            "_view_module_version": "1.2.0",
            "_view_name": "StyleView",
            "bar_color": null,
            "description_width": ""
          }
        },
        "ecc1dc6ce2504dfabab087baf8c4ccc4": {
          "model_module": "@jupyter-widgets/base",
          "model_module_version": "1.2.0",
          "model_name": "LayoutModel",
          "state": {
            "_model_module": "@jupyter-widgets/base",
            "_model_module_version": "1.2.0",
            "_model_name": "LayoutModel",
            "_view_count": null,
            "_view_module": "@jupyter-widgets/base",
            "_view_module_version": "1.2.0",
            "_view_name": "LayoutView",
            "align_content": null,
            "align_items": null,
            "align_self": null,
            "border": null,
            "bottom": null,
            "display": null,
            "flex": null,
            "flex_flow": null,
            "grid_area": null,
            "grid_auto_columns": null,
            "grid_auto_flow": null,
            "grid_auto_rows": null,
            "grid_column": null,
            "grid_gap": null,
            "grid_row": null,
            "grid_template_areas": null,
            "grid_template_columns": null,
            "grid_template_rows": null,
            "height": null,
            "justify_content": null,
            "justify_items": null,
            "left": null,
            "margin": null,
            "max_height": null,
            "max_width": null,
            "min_height": null,
            "min_width": null,
            "object_fit": null,
            "object_position": null,
            "order": null,
            "overflow": null,
            "overflow_x": null,
            "overflow_y": null,
            "padding": null,
            "right": null,
            "top": null,
            "visibility": null,
            "width": null
          }
        },
        "ef2c3e2377414dcd94f3de9ac612f45b": {
          "model_module": "@jupyter-widgets/base",
          "model_module_version": "1.2.0",
          "model_name": "LayoutModel",
          "state": {
            "_model_module": "@jupyter-widgets/base",
            "_model_module_version": "1.2.0",
            "_model_name": "LayoutModel",
            "_view_count": null,
            "_view_module": "@jupyter-widgets/base",
            "_view_module_version": "1.2.0",
            "_view_name": "LayoutView",
            "align_content": null,
            "align_items": null,
            "align_self": null,
            "border": null,
            "bottom": null,
            "display": null,
            "flex": null,
            "flex_flow": null,
            "grid_area": null,
            "grid_auto_columns": null,
            "grid_auto_flow": null,
            "grid_auto_rows": null,
            "grid_column": null,
            "grid_gap": null,
            "grid_row": null,
            "grid_template_areas": null,
            "grid_template_columns": null,
            "grid_template_rows": null,
            "height": null,
            "justify_content": null,
            "justify_items": null,
            "left": null,
            "margin": null,
            "max_height": null,
            "max_width": null,
            "min_height": null,
            "min_width": null,
            "object_fit": null,
            "object_position": null,
            "order": null,
            "overflow": null,
            "overflow_x": null,
            "overflow_y": null,
            "padding": null,
            "right": null,
            "top": null,
            "visibility": null,
            "width": null
          }
        },
        "ef38a6b50601421d845efdb4c7145cb6": {
          "model_module": "@jupyter-widgets/controls",
          "model_module_version": "1.5.0",
          "model_name": "FloatProgressModel",
          "state": {
            "_dom_classes": [],
            "_model_module": "@jupyter-widgets/controls",
            "_model_module_version": "1.5.0",
            "_model_name": "FloatProgressModel",
            "_view_count": null,
            "_view_module": "@jupyter-widgets/controls",
            "_view_module_version": "1.5.0",
            "_view_name": "ProgressView",
            "bar_style": "success",
            "description": "",
            "description_tooltip": null,
            "layout": "IPY_MODEL_affcd00d3f134c00b188c6ec670c4d17",
            "max": 133,
            "min": 0,
            "orientation": "horizontal",
            "style": "IPY_MODEL_f423535cc24c4428b1274cac0cb02bd4",
            "value": 133
          }
        },
        "f02e4ea2ceaf4ada9ffac238000cffdd": {
          "model_module": "@jupyter-widgets/controls",
          "model_module_version": "1.5.0",
          "model_name": "DescriptionStyleModel",
          "state": {
            "_model_module": "@jupyter-widgets/controls",
            "_model_module_version": "1.5.0",
            "_model_name": "DescriptionStyleModel",
            "_view_count": null,
            "_view_module": "@jupyter-widgets/base",
            "_view_module_version": "1.2.0",
            "_view_name": "StyleView",
            "description_width": ""
          }
        },
        "f2965b6c79354d6eaabcfb8f9da32e5e": {
          "model_module": "@jupyter-widgets/controls",
          "model_module_version": "1.5.0",
          "model_name": "HTMLModel",
          "state": {
            "_dom_classes": [],
            "_model_module": "@jupyter-widgets/controls",
            "_model_module_version": "1.5.0",
            "_model_name": "HTMLModel",
            "_view_count": null,
            "_view_module": "@jupyter-widgets/controls",
            "_view_module_version": "1.5.0",
            "_view_name": "HTMLView",
            "description": "",
            "description_tooltip": null,
            "layout": "IPY_MODEL_ca3addaa8beb4b17aa1ee00df2dc9638",
            "placeholder": "​",
            "style": "IPY_MODEL_a3492984e6af439db82cda81ead5fd41",
            "value": " 40/40 [00:06&lt;00:00,  7.29instance/s, train_correct_candidates_per_instance=15.1, train_loss=0.662]"
          }
        },
        "f2ad6be66f58493884b12e384d6f8958": {
          "model_module": "@jupyter-widgets/controls",
          "model_module_version": "1.5.0",
          "model_name": "DescriptionStyleModel",
          "state": {
            "_model_module": "@jupyter-widgets/controls",
            "_model_module_version": "1.5.0",
            "_model_name": "DescriptionStyleModel",
            "_view_count": null,
            "_view_module": "@jupyter-widgets/base",
            "_view_module_version": "1.2.0",
            "_view_name": "StyleView",
            "description_width": ""
          }
        },
        "f32542d821664fc0a4334628dcbf7a8c": {
          "model_module": "@jupyter-widgets/base",
          "model_module_version": "1.2.0",
          "model_name": "LayoutModel",
          "state": {
            "_model_module": "@jupyter-widgets/base",
            "_model_module_version": "1.2.0",
            "_model_name": "LayoutModel",
            "_view_count": null,
            "_view_module": "@jupyter-widgets/base",
            "_view_module_version": "1.2.0",
            "_view_name": "LayoutView",
            "align_content": null,
            "align_items": null,
            "align_self": null,
            "border": null,
            "bottom": null,
            "display": null,
            "flex": null,
            "flex_flow": null,
            "grid_area": null,
            "grid_auto_columns": null,
            "grid_auto_flow": null,
            "grid_auto_rows": null,
            "grid_column": null,
            "grid_gap": null,
            "grid_row": null,
            "grid_template_areas": null,
            "grid_template_columns": null,
            "grid_template_rows": null,
            "height": null,
            "justify_content": null,
            "justify_items": null,
            "left": null,
            "margin": null,
            "max_height": null,
            "max_width": null,
            "min_height": null,
            "min_width": null,
            "object_fit": null,
            "object_position": null,
            "order": null,
            "overflow": null,
            "overflow_x": null,
            "overflow_y": null,
            "padding": null,
            "right": null,
            "top": null,
            "visibility": null,
            "width": null
          }
        },
        "f423535cc24c4428b1274cac0cb02bd4": {
          "model_module": "@jupyter-widgets/controls",
          "model_module_version": "1.5.0",
          "model_name": "ProgressStyleModel",
          "state": {
            "_model_module": "@jupyter-widgets/controls",
            "_model_module_version": "1.5.0",
            "_model_name": "ProgressStyleModel",
            "_view_count": null,
            "_view_module": "@jupyter-widgets/base",
            "_view_module_version": "1.2.0",
            "_view_name": "StyleView",
            "bar_color": null,
            "description_width": ""
          }
        },
        "f4e40d6a3b3044499557181dfd6f5262": {
          "model_module": "@jupyter-widgets/controls",
          "model_module_version": "1.5.0",
          "model_name": "HTMLModel",
          "state": {
            "_dom_classes": [],
            "_model_module": "@jupyter-widgets/controls",
            "_model_module_version": "1.5.0",
            "_model_name": "HTMLModel",
            "_view_count": null,
            "_view_module": "@jupyter-widgets/controls",
            "_view_module_version": "1.5.0",
            "_view_name": "HTMLView",
            "description": "",
            "description_tooltip": null,
            "layout": "IPY_MODEL_fbf46abd22384860b1c04472134c3732",
            "placeholder": "​",
            "style": "IPY_MODEL_b034984f74404cd3828440fed3eb882d",
            "value": "epoch 2: 100%"
          }
        },
        "f88b676abca14e84956b11fcb6f813b2": {
          "model_module": "@jupyter-widgets/base",
          "model_module_version": "1.2.0",
          "model_name": "LayoutModel",
          "state": {
            "_model_module": "@jupyter-widgets/base",
            "_model_module_version": "1.2.0",
            "_model_name": "LayoutModel",
            "_view_count": null,
            "_view_module": "@jupyter-widgets/base",
            "_view_module_version": "1.2.0",
            "_view_name": "LayoutView",
            "align_content": null,
            "align_items": null,
            "align_self": null,
            "border": null,
            "bottom": null,
            "display": null,
            "flex": null,
            "flex_flow": null,
            "grid_area": null,
            "grid_auto_columns": null,
            "grid_auto_flow": null,
            "grid_auto_rows": null,
            "grid_column": null,
            "grid_gap": null,
            "grid_row": null,
            "grid_template_areas": null,
            "grid_template_columns": null,
            "grid_template_rows": null,
            "height": null,
            "justify_content": null,
            "justify_items": null,
            "left": null,
            "margin": null,
            "max_height": null,
            "max_width": null,
            "min_height": null,
            "min_width": null,
            "object_fit": null,
            "object_position": null,
            "order": null,
            "overflow": null,
            "overflow_x": null,
            "overflow_y": null,
            "padding": null,
            "right": null,
            "top": null,
            "visibility": null,
            "width": null
          }
        },
        "f941cbbde01e4f88bb5786953048d271": {
          "model_module": "@jupyter-widgets/controls",
          "model_module_version": "1.5.0",
          "model_name": "FloatProgressModel",
          "state": {
            "_dom_classes": [],
            "_model_module": "@jupyter-widgets/controls",
            "_model_module_version": "1.5.0",
            "_model_name": "FloatProgressModel",
            "_view_count": null,
            "_view_module": "@jupyter-widgets/controls",
            "_view_module_version": "1.5.0",
            "_view_name": "ProgressView",
            "bar_style": "success",
            "description": "",
            "description_tooltip": null,
            "layout": "IPY_MODEL_4d4d626a57104f2aba15226fe5f3c672",
            "max": 133,
            "min": 0,
            "orientation": "horizontal",
            "style": "IPY_MODEL_3e50186bbbff4bcf9d88c14511f9c7c9",
            "value": 133
          }
        },
        "f99635665c4f434eb1df5a7d38b0957e": {
          "model_module": "@jupyter-widgets/controls",
          "model_module_version": "1.5.0",
          "model_name": "HBoxModel",
          "state": {
            "_dom_classes": [],
            "_model_module": "@jupyter-widgets/controls",
            "_model_module_version": "1.5.0",
            "_model_name": "HBoxModel",
            "_view_count": null,
            "_view_module": "@jupyter-widgets/controls",
            "_view_module_version": "1.5.0",
            "_view_name": "HBoxView",
            "box_style": "",
            "children": [
              "IPY_MODEL_a3b859db444542fc814cab33b63d9cd8",
              "IPY_MODEL_9a942f65a0a145b79471db8a6ba99bd0",
              "IPY_MODEL_173f018f1d4f40f5b2ba2ae3aa296acd"
            ],
            "layout": "IPY_MODEL_de04fd35c4d24304b3d1b489bdd516b4"
          }
        },
        "f9c8c3a83609431692aae0695b53f404": {
          "model_module": "@jupyter-widgets/controls",
          "model_module_version": "1.5.0",
          "model_name": "ProgressStyleModel",
          "state": {
            "_model_module": "@jupyter-widgets/controls",
            "_model_module_version": "1.5.0",
            "_model_name": "ProgressStyleModel",
            "_view_count": null,
            "_view_module": "@jupyter-widgets/base",
            "_view_module_version": "1.2.0",
            "_view_name": "StyleView",
            "bar_color": null,
            "description_width": ""
          }
        },
        "f9d59a4f82a84383aad0a373bcade025": {
          "model_module": "@jupyter-widgets/controls",
          "model_module_version": "1.5.0",
          "model_name": "HTMLModel",
          "state": {
            "_dom_classes": [],
            "_model_module": "@jupyter-widgets/controls",
            "_model_module_version": "1.5.0",
            "_model_name": "HTMLModel",
            "_view_count": null,
            "_view_module": "@jupyter-widgets/controls",
            "_view_module_version": "1.5.0",
            "_view_name": "HTMLView",
            "description": "",
            "description_tooltip": null,
            "layout": "IPY_MODEL_6e2afd7c4bbf4930a67027948d8ff514",
            "placeholder": "​",
            "style": "IPY_MODEL_9277ee7942f74419b823f5dc81b1272a",
            "value": "epoch 3: 100%"
          }
        },
        "fa030967b539424092ae63329a5d4ae5": {
          "model_module": "@jupyter-widgets/controls",
          "model_module_version": "1.5.0",
          "model_name": "HBoxModel",
          "state": {
            "_dom_classes": [],
            "_model_module": "@jupyter-widgets/controls",
            "_model_module_version": "1.5.0",
            "_model_name": "HBoxModel",
            "_view_count": null,
            "_view_module": "@jupyter-widgets/controls",
            "_view_module_version": "1.5.0",
            "_view_name": "HBoxView",
            "box_style": "",
            "children": [
              "IPY_MODEL_b0b9d8a66faf4afaa3cdb6a3174b9945",
              "IPY_MODEL_65a2787405274a488e71b52a1138fa21",
              "IPY_MODEL_83fcd66edd4b4fd2bdfff081a07ee5d7"
            ],
            "layout": "IPY_MODEL_5cf1742ef3894a5b9687fea40b8fb86b"
          }
        },
        "fb52fd63c5964edf8ea3297eaaf80159": {
          "model_module": "@jupyter-widgets/controls",
          "model_module_version": "1.5.0",
          "model_name": "HTMLModel",
          "state": {
            "_dom_classes": [],
            "_model_module": "@jupyter-widgets/controls",
            "_model_module_version": "1.5.0",
            "_model_name": "HTMLModel",
            "_view_count": null,
            "_view_module": "@jupyter-widgets/controls",
            "_view_module_version": "1.5.0",
            "_view_name": "HTMLView",
            "description": "",
            "description_tooltip": null,
            "layout": "IPY_MODEL_2177640af1924e98a349e90a7f60d4f7",
            "placeholder": "​",
            "style": "IPY_MODEL_67849c3f1c4a45d39f4642a9ba5df584",
            "value": " 133/133 [00:04&lt;00:00, 30.67instance/s]"
          }
        },
        "fb6bb7d88e40443c93c3f565e2e63a13": {
          "model_module": "@jupyter-widgets/controls",
          "model_module_version": "1.5.0",
          "model_name": "HTMLModel",
          "state": {
            "_dom_classes": [],
            "_model_module": "@jupyter-widgets/controls",
            "_model_module_version": "1.5.0",
            "_model_name": "HTMLModel",
            "_view_count": null,
            "_view_module": "@jupyter-widgets/controls",
            "_view_module_version": "1.5.0",
            "_view_name": "HTMLView",
            "description": "",
            "description_tooltip": null,
            "layout": "IPY_MODEL_747e405ec02e40a5b1fdbe43a9db2844",
            "placeholder": "​",
            "style": "IPY_MODEL_82132fed560643d0b1aa2198adce2d8f",
            "value": " 133/133 [02:12&lt;00:00,  1.13instance/s, train_correct_candidates_per_instance=14.1, train_loss=0.992]"
          }
        },
        "fb787f1a17db4cd08f968ad7c03aa6d0": {
          "model_module": "@jupyter-widgets/controls",
          "model_module_version": "1.5.0",
          "model_name": "HTMLModel",
          "state": {
            "_dom_classes": [],
            "_model_module": "@jupyter-widgets/controls",
            "_model_module_version": "1.5.0",
            "_model_name": "HTMLModel",
            "_view_count": null,
            "_view_module": "@jupyter-widgets/controls",
            "_view_module_version": "1.5.0",
            "_view_name": "HTMLView",
            "description": "",
            "description_tooltip": null,
            "layout": "IPY_MODEL_b0e6a2bafb824e9183cfe739332457ee",
            "placeholder": "​",
            "style": "IPY_MODEL_8452a9c1dace4d14bc2e5c66231788ad",
            "value": "epoch 6: 100%"
          }
        },
        "fbf46abd22384860b1c04472134c3732": {
          "model_module": "@jupyter-widgets/base",
          "model_module_version": "1.2.0",
          "model_name": "LayoutModel",
          "state": {
            "_model_module": "@jupyter-widgets/base",
            "_model_module_version": "1.2.0",
            "_model_name": "LayoutModel",
            "_view_count": null,
            "_view_module": "@jupyter-widgets/base",
            "_view_module_version": "1.2.0",
            "_view_name": "LayoutView",
            "align_content": null,
            "align_items": null,
            "align_self": null,
            "border": null,
            "bottom": null,
            "display": null,
            "flex": null,
            "flex_flow": null,
            "grid_area": null,
            "grid_auto_columns": null,
            "grid_auto_flow": null,
            "grid_auto_rows": null,
            "grid_column": null,
            "grid_gap": null,
            "grid_row": null,
            "grid_template_areas": null,
            "grid_template_columns": null,
            "grid_template_rows": null,
            "height": null,
            "justify_content": null,
            "justify_items": null,
            "left": null,
            "margin": null,
            "max_height": null,
            "max_width": null,
            "min_height": null,
            "min_width": null,
            "object_fit": null,
            "object_position": null,
            "order": null,
            "overflow": null,
            "overflow_x": null,
            "overflow_y": null,
            "padding": null,
            "right": null,
            "top": null,
            "visibility": null,
            "width": null
          }
        },
        "fc7bf029e7f94e9eaa9819d0c3579298": {
          "model_module": "@jupyter-widgets/base",
          "model_module_version": "1.2.0",
          "model_name": "LayoutModel",
          "state": {
            "_model_module": "@jupyter-widgets/base",
            "_model_module_version": "1.2.0",
            "_model_name": "LayoutModel",
            "_view_count": null,
            "_view_module": "@jupyter-widgets/base",
            "_view_module_version": "1.2.0",
            "_view_name": "LayoutView",
            "align_content": null,
            "align_items": null,
            "align_self": null,
            "border": null,
            "bottom": null,
            "display": null,
            "flex": null,
            "flex_flow": null,
            "grid_area": null,
            "grid_auto_columns": null,
            "grid_auto_flow": null,
            "grid_auto_rows": null,
            "grid_column": null,
            "grid_gap": null,
            "grid_row": null,
            "grid_template_areas": null,
            "grid_template_columns": null,
            "grid_template_rows": null,
            "height": null,
            "justify_content": null,
            "justify_items": null,
            "left": null,
            "margin": null,
            "max_height": null,
            "max_width": null,
            "min_height": null,
            "min_width": null,
            "object_fit": null,
            "object_position": null,
            "order": null,
            "overflow": null,
            "overflow_x": null,
            "overflow_y": null,
            "padding": null,
            "right": null,
            "top": null,
            "visibility": null,
            "width": null
          }
        },
        "fd82940a34c54d49a042ba874b190cfb": {
          "model_module": "@jupyter-widgets/controls",
          "model_module_version": "1.5.0",
          "model_name": "HTMLModel",
          "state": {
            "_dom_classes": [],
            "_model_module": "@jupyter-widgets/controls",
            "_model_module_version": "1.5.0",
            "_model_name": "HTMLModel",
            "_view_count": null,
            "_view_module": "@jupyter-widgets/controls",
            "_view_module_version": "1.5.0",
            "_view_name": "HTMLView",
            "description": "",
            "description_tooltip": null,
            "layout": "IPY_MODEL_6300e41fbdff4b5a83d5de0946c75560",
            "placeholder": "​",
            "style": "IPY_MODEL_beb12a5ed1864591aebb020e0ac55059",
            "value": " 133/133 [02:18&lt;00:00,  1.06instance/s, train_correct_candidates_per_instance=14.1, train_loss=1.21]"
          }
        },
        "fe30f1fc7e4d4f63b210580b58cfbf11": {
          "model_module": "@jupyter-widgets/base",
          "model_module_version": "1.2.0",
          "model_name": "LayoutModel",
          "state": {
            "_model_module": "@jupyter-widgets/base",
            "_model_module_version": "1.2.0",
            "_model_name": "LayoutModel",
            "_view_count": null,
            "_view_module": "@jupyter-widgets/base",
            "_view_module_version": "1.2.0",
            "_view_name": "LayoutView",
            "align_content": null,
            "align_items": null,
            "align_self": null,
            "border": null,
            "bottom": null,
            "display": null,
            "flex": null,
            "flex_flow": null,
            "grid_area": null,
            "grid_auto_columns": null,
            "grid_auto_flow": null,
            "grid_auto_rows": null,
            "grid_column": null,
            "grid_gap": null,
            "grid_row": null,
            "grid_template_areas": null,
            "grid_template_columns": null,
            "grid_template_rows": null,
            "height": null,
            "justify_content": null,
            "justify_items": null,
            "left": null,
            "margin": null,
            "max_height": null,
            "max_width": null,
            "min_height": null,
            "min_width": null,
            "object_fit": null,
            "object_position": null,
            "order": null,
            "overflow": null,
            "overflow_x": null,
            "overflow_y": null,
            "padding": null,
            "right": null,
            "top": null,
            "visibility": null,
            "width": null
          }
        },
        "fe82730844bd4c8bbfa9b0025d272122": {
          "model_module": "@jupyter-widgets/controls",
          "model_module_version": "1.5.0",
          "model_name": "DescriptionStyleModel",
          "state": {
            "_model_module": "@jupyter-widgets/controls",
            "_model_module_version": "1.5.0",
            "_model_name": "DescriptionStyleModel",
            "_view_count": null,
            "_view_module": "@jupyter-widgets/base",
            "_view_module_version": "1.2.0",
            "_view_name": "StyleView",
            "description_width": ""
          }
        },
        "ff79510f594543bba5ff5d146397f435": {
          "model_module": "@jupyter-widgets/controls",
          "model_module_version": "1.5.0",
          "model_name": "ProgressStyleModel",
          "state": {
            "_model_module": "@jupyter-widgets/controls",
            "_model_module_version": "1.5.0",
            "_model_name": "ProgressStyleModel",
            "_view_count": null,
            "_view_module": "@jupyter-widgets/base",
            "_view_module_version": "1.2.0",
            "_view_name": "StyleView",
            "bar_color": null,
            "description_width": ""
          }
        }
      }
    }
  },
  "nbformat": 4,
  "nbformat_minor": 0
}