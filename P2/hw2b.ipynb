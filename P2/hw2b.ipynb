{
  "cells": [
    {
      "cell_type": "markdown",
      "metadata": {
        "id": "CeUOYktpXtOz"
      },
      "source": [
        "# HW2B: Neural Machine Translation"
      ]
    },
    {
      "cell_type": "markdown",
      "metadata": {
        "id": "35m1Uv47jiNX"
      },
      "source": [
        "In this project, you will build a neural machine translation system using modern techniques for sequence-to-sequence modeling. You will first implement a baseline encoder-decoder architecture, then improve upon the baseline by adding an attention mechanism and implementing beam search. The end result will be a fully functional translation system capable of translating simple German sentences into English."
      ]
    },
    {
      "cell_type": "markdown",
      "metadata": {
        "id": "acPh_4GwYID0"
      },
      "source": [
        "## Setup"
      ]
    },
    {
      "cell_type": "markdown",
      "metadata": {
        "id": "c7cggO7mjZ5L"
      },
      "source": [
        "First we install and import the required dependencies. These include:\n",
        "* `torch` for modeling and training\n",
        "* `torchtext` for data collection\n",
        "* `sentencepiece` for subword tokenization\n",
        "* `sacrebleu` for BLEU score evaluation"
      ]
    },
    {
      "cell_type": "code",
      "execution_count": null,
      "metadata": {
        "id": "4LV8KY6_unfe"
      },
      "outputs": [],
      "source": [
        "%%capture\n",
        "!pip install --upgrade sacrebleu sentencepiece\n",
        "!pip install torchtext==0.8.1\n",
        "\n",
        "# Standard library imports\n",
        "import json\n",
        "import math\n",
        "import random\n",
        "import pdb\n",
        "\n",
        "# Third party imports\n",
        "import matplotlib.pyplot as plt\n",
        "import numpy as np\n",
        "import sacrebleu\n",
        "import sentencepiece\n",
        "import torch\n",
        "import torch.nn as nn\n",
        "import torch.nn.functional as F\n",
        "import torchtext\n",
        "import tqdm.notebook"
      ]
    },
    {
      "cell_type": "markdown",
      "metadata": {
        "id": "KNT_TURTwIlW"
      },
      "source": [
        "Before proceeding, let's verify that we're connected to a GPU runtime and that `torch` can detect the GPU.\n",
        "We'll define a variable `device` here to use throughout the code so that we can easily change to run on CPU for debugging."
      ]
    },
    {
      "cell_type": "code",
      "execution_count": null,
      "metadata": {
        "colab": {
          "base_uri": "https://localhost:8080/"
        },
        "id": "KYpIPtqtwVwh",
        "outputId": "4f38ddcb-886a-486f-f778-992f3f79fae1"
      },
      "outputs": [
        {
          "output_type": "stream",
          "name": "stdout",
          "text": [
            "Using device: cuda\n"
          ]
        }
      ],
      "source": [
        "assert torch.cuda.is_available()\n",
        "device = torch.device(\"cuda\")\n",
        "print(\"Using device:\", device)"
      ]
    },
    {
      "cell_type": "markdown",
      "metadata": {
        "id": "ANK-5cMtYSyH"
      },
      "source": [
        "## Data"
      ]
    },
    {
      "cell_type": "markdown",
      "metadata": {
        "id": "We4sTUA5j0Ab"
      },
      "source": [
        "The data for this assignment comes from the [Multi30K dataset](https://arxiv.org/abs/1605.00459), which contains English and German captions for images from Flickr. We can download and unpack it using `torchtext`. We use the Multi30K dataset because it is simpler than standard translation benchmark datasets and allows for models to be trained and evaluated in a matter of minutes rather than days.\n",
        "\n",
        "We will be translating from German to English in this assignment, but the same techniques apply equally well to any language pair.\n",
        "\n"
      ]
    },
    {
      "cell_type": "code",
      "execution_count": null,
      "metadata": {
        "colab": {
          "base_uri": "https://localhost:8080/"
        },
        "id": "Gr9PbArCvCT0",
        "outputId": "bfb9a7ea-02db-4d05-a45b-56613fb73044"
      },
      "outputs": [
        {
          "output_type": "stream",
          "name": "stderr",
          "text": [
            "/usr/local/lib/python3.7/dist-packages/torchtext/data/field.py:150: UserWarning: Field class will be retired soon and moved to torchtext.legacy. Please see the most recent release notes for further information.\n",
            "  warnings.warn('{} class will be retired soon and moved to torchtext.legacy. Please see the most recent release notes for further information.'.format(self.__class__.__name__), UserWarning)\n"
          ]
        },
        {
          "output_type": "stream",
          "name": "stdout",
          "text": [
            "downloading training.tar.gz\n"
          ]
        },
        {
          "output_type": "stream",
          "name": "stderr",
          "text": [
            "training.tar.gz: 100%|██████████| 1.21M/1.21M [00:01<00:00, 1.13MB/s]\n"
          ]
        },
        {
          "output_type": "stream",
          "name": "stdout",
          "text": [
            "downloading validation.tar.gz\n"
          ]
        },
        {
          "output_type": "stream",
          "name": "stderr",
          "text": [
            "validation.tar.gz: 100%|██████████| 46.3k/46.3k [00:00<00:00, 281kB/s]\n"
          ]
        },
        {
          "output_type": "stream",
          "name": "stdout",
          "text": [
            "downloading mmt_task1_test2016.tar.gz\n"
          ]
        },
        {
          "output_type": "stream",
          "name": "stderr",
          "text": [
            "mmt_task1_test2016.tar.gz: 100%|██████████| 66.2k/66.2k [00:00<00:00, 268kB/s]\n",
            "/usr/local/lib/python3.7/dist-packages/torchtext/data/example.py:78: UserWarning: Example class will be retired soon and moved to torchtext.legacy. Please see the most recent release notes for further information.\n",
            "  warnings.warn('Example class will be retired soon and moved to torchtext.legacy. Please see the most recent release notes for further information.', UserWarning)\n"
          ]
        }
      ],
      "source": [
        "extensions = [\".de\", \".en\"]\n",
        "source_field = torchtext.data.Field(tokenize=lambda x: x)\n",
        "target_field = torchtext.data.Field(tokenize=lambda x: x)\n",
        "training_data, validation_data, test_data = torchtext.datasets.Multi30k.splits(\n",
        "    extensions, [source_field, target_field], root=\".\")"
      ]
    },
    {
      "cell_type": "markdown",
      "metadata": {
        "id": "v4aSFr-hmKpw"
      },
      "source": [
        "Now that we have the data, let's see how large each split is and look at a few examples."
      ]
    },
    {
      "cell_type": "code",
      "execution_count": null,
      "metadata": {
        "colab": {
          "base_uri": "https://localhost:8080/"
        },
        "id": "W1owrfI1xjby",
        "outputId": "4133929d-ae34-434a-b024-3c05eebe99e4"
      },
      "outputs": [
        {
          "output_type": "stream",
          "name": "stdout",
          "text": [
            "Number of training examples: 29000\n",
            "Number of validation examples: 1014\n",
            "Number of test examples: 1000\n",
            "\n",
            "Zwei junge weiße Männer sind im Freien in der Nähe vieler Büsche.\n",
            "Two young, White males are outside near many bushes.\n",
            "\n",
            "Mehrere Männer mit Schutzhelmen bedienen ein Antriebsradsystem.\n",
            "Several men in hard hats are operating a giant pulley system.\n",
            "\n",
            "Ein kleines Mädchen klettert in ein Spielhaus aus Holz.\n",
            "A little girl climbing into a wooden playhouse.\n",
            "\n",
            "Ein Mann in einem blauen Hemd steht auf einer Leiter und putzt ein Fenster.\n",
            "A man in a blue shirt is standing on a ladder cleaning a window.\n",
            "\n",
            "Zwei Männer stehen am Herd und bereiten Essen zu.\n",
            "Two men are at the stove preparing food.\n",
            "\n",
            "Ein Mann in grün hält eine Gitarre, während der andere Mann sein Hemd ansieht.\n",
            "A man in green holds a guitar while the other man observes his shirt.\n",
            "\n",
            "Ein Mann lächelt einen ausgestopften Löwen an.\n",
            "A man is smiling at a stuffed lion\n",
            "\n",
            "Ein schickes Mädchen spricht mit dem Handy während sie langsam die Straße entlangschwebt.\n",
            "A trendy girl talking on her cellphone while gliding slowly down the street.\n",
            "\n",
            "Eine Frau mit einer großen Geldbörse geht an einem Tor vorbei.\n",
            "A woman with a large purse is walking by a gate.\n",
            "\n",
            "Jungen tanzen mitten in der Nacht auf Pfosten.\n",
            "Boys dancing on poles in the middle of the night.\n",
            "\n"
          ]
        }
      ],
      "source": [
        "print(\"Number of training examples:\", len(training_data))\n",
        "print(\"Number of validation examples:\", len(validation_data))\n",
        "print(\"Number of test examples:\", len(test_data))\n",
        "print()\n",
        "\n",
        "for example in training_data[:10]:\n",
        "  print(example.src)\n",
        "  print(example.trg)\n",
        "  print()"
      ]
    },
    {
      "cell_type": "markdown",
      "metadata": {
        "id": "k1aBbR3snOjV"
      },
      "source": [
        "## Vocabulary"
      ]
    },
    {
      "cell_type": "markdown",
      "metadata": {
        "id": "5Mo0tnIbnQz8"
      },
      "source": [
        "We can use `sentencepiece` to create a joint German-English subword vocabulary from the training corpus. Because the number of training examples is small, we choose a smaller vocabulary size than would be used for large-scale NMT."
      ]
    },
    {
      "cell_type": "code",
      "execution_count": null,
      "metadata": {
        "id": "8xSUaso9vo1V"
      },
      "outputs": [],
      "source": [
        "args = {\n",
        "    \"pad_id\": 0,\n",
        "    \"bos_id\": 1,\n",
        "    \"eos_id\": 2,\n",
        "    \"unk_id\": 3,\n",
        "    \"input\": \"multi30k/train.de,multi30k/train.en\",\n",
        "    \"vocab_size\": 8000,\n",
        "    \"model_prefix\": \"multi30k\",\n",
        "}\n",
        "combined_args = \" \".join(\n",
        "    \"--{}={}\".format(key, value) for key, value in args.items())\n",
        "sentencepiece.SentencePieceTrainer.Train(combined_args)"
      ]
    },
    {
      "cell_type": "markdown",
      "metadata": {
        "id": "ox_6NYWCoydJ"
      },
      "source": [
        "This creates two files: `multi30k.model` and `multi30k.vocab`. The first is a binary file containing the relevant data for the vocabulary. The second is a human-readable listing of each subword and its associated score."
      ]
    },
    {
      "cell_type": "markdown",
      "metadata": {
        "id": "HNQVI82Lpt9S"
      },
      "source": [
        "We can preview the contents of the vocabulary by looking at the first few rows from the human-readable file."
      ]
    },
    {
      "cell_type": "code",
      "execution_count": null,
      "metadata": {
        "colab": {
          "base_uri": "https://localhost:8080/"
        },
        "id": "Xj-OHYlppX4N",
        "outputId": "024504bf-dc41-4d4d-c74c-8510c883c3c4"
      },
      "outputs": [
        {
          "output_type": "stream",
          "name": "stdout",
          "text": [
            "<pad>\t0\n",
            "<s>\t0\n",
            "</s>\t0\n",
            "<unk>\t0\n",
            ".\t-2.72609\n",
            "▁a\t-3.21346\n",
            "▁in\t-3.43865\n",
            "m\t-3.79337\n",
            "▁eine\t-3.82216\n",
            "▁A\t-3.86943\n",
            "s\t-4.09557\n",
            "▁Ein\t-4.11305\n",
            ",\t-4.20296\n",
            "▁the\t-4.35109\n",
            "▁und\t-4.56932\n",
            "▁mit\t-4.57803\n",
            "▁auf\t-4.58033\n",
            "▁on\t-4.65582\n",
            "n\t-4.69437\n",
            "▁Mann\t-4.70412\n",
            "▁is\t-4.73883\n",
            "▁man\t-4.75221\n",
            "▁and\t-4.76296\n",
            "▁\t-4.78086\n",
            "ing\t-4.81203\n",
            "▁of\t-4.83235\n",
            "▁einer\t-4.86287\n",
            "▁with\t-4.93317\n",
            "▁Eine\t-4.98758\n",
            "▁ein\t-5.11922\n"
          ]
        }
      ],
      "source": [
        "!head -n 30 multi30k.vocab"
      ]
    },
    {
      "cell_type": "markdown",
      "metadata": {
        "id": "TBGuw-18qjsB"
      },
      "source": [
        "As we can see, the vocabulary consists of four special tokens (`<pad>` for padding, `<s>` for beginning of sentence (BOS), `</s>` for end of sentence (EOS), `<unk>` for unknown) and a mixture of German and English words and subwords. In order to ensure reversability, word boundaries are encoded with a special unicode character \"▁\" (U+2581)."
      ]
    },
    {
      "cell_type": "markdown",
      "metadata": {
        "id": "GlBIoN4aragA"
      },
      "source": [
        "To use the vocabulary, we first need to load it from the binary file produced above."
      ]
    },
    {
      "cell_type": "code",
      "execution_count": null,
      "metadata": {
        "colab": {
          "base_uri": "https://localhost:8080/"
        },
        "id": "SJYzMQxfvrr0",
        "outputId": "a1c88e14-fc98-425f-9332-fc211c98aa70"
      },
      "outputs": [
        {
          "output_type": "execute_result",
          "data": {
            "text/plain": [
              "True"
            ]
          },
          "metadata": {},
          "execution_count": 8
        }
      ],
      "source": [
        "vocab = sentencepiece.SentencePieceProcessor()\n",
        "vocab.Load(\"multi30k.model\")"
      ]
    },
    {
      "cell_type": "markdown",
      "metadata": {
        "id": "1sLfI6vDriWK"
      },
      "source": [
        "The vocabulary object includes a number of methods for working with full sequences or individual pieces. We explore the most relevant ones below. A complete interface can be found on [GitHub](https://github.com/google/sentencepiece/tree/master/python#usage) for reference."
      ]
    },
    {
      "cell_type": "code",
      "execution_count": null,
      "metadata": {
        "colab": {
          "base_uri": "https://localhost:8080/"
        },
        "id": "eC4S6WBCsjOW",
        "outputId": "22dc876a-174f-4d48-e061-008f5f9c18a8"
      },
      "outputs": [
        {
          "output_type": "stream",
          "name": "stdout",
          "text": [
            "Vocabulary size: 8000\n",
            "\n",
            "S:  Two young, White males are outside near many bushes.\n",
            "P:  ['▁Two', '▁young', ',', '▁White', '▁males', '▁are', '▁outside', '▁near', '▁many', '▁bushes', '.']\n",
            "D:  Two young, White males are outside near many bushes.\n",
            "I:  [42, 54, 12, 2897, 2218, 36, 127, 173, 818, 3524, 4]\n",
            "Two young, White males are outside near many bushes.\n",
            "\n",
            "S:  Several men in hard hats are operating a giant pulley system.\n",
            "P:  ['▁Se', 'veral', '▁men', '▁in', '▁hard', '▁hats', '▁are', '▁operating', '▁a', '▁g', 'iant', '▁pull', 'e', 'y', '▁s', 'y', 'ste', 'm', '.']\n",
            "D:  Several men in hard hats are operating a giant pulley system.\n",
            "I:  [297, 239, 73, 6, 710, 723, 36, 3116, 5, 668, 1681, 582, 32, 97, 524, 97, 1085, 7, 4]\n",
            "Several men in hard hats are operating a giant pulley system.\n",
            "\n",
            "S:  A little girl climbing into a wooden playhouse.\n",
            "P:  ['▁A', '▁little', '▁girl', '▁climbing', '▁in', 'to', '▁a', '▁wooden', '▁play', 'house', '.']\n",
            "D:  A little girl climbing into a wooden playhouse.\n",
            "I:  [9, 133, 66, 500, 6, 109, 5, 540, 244, 4639, 4]\n",
            "A little girl climbing into a wooden playhouse.\n",
            "\n",
            "▁the\n",
            "13\n",
            "▁the\n"
          ]
        }
      ],
      "source": [
        "print(\"Vocabulary size:\", vocab.GetPieceSize())\n",
        "print()\n",
        "\n",
        "for example in training_data[:3]:\n",
        "  sentence = example.trg\n",
        "  pieces = vocab.EncodeAsPieces(sentence)\n",
        "  indices = vocab.EncodeAsIds(sentence)\n",
        "  print(\"S: \",sentence)\n",
        "  print(\"P: \",pieces)\n",
        "  print(\"D: \",vocab.DecodePieces(pieces))\n",
        "  print(\"I: \",indices)\n",
        "  print(vocab.DecodeIds(indices))\n",
        "  print()\n",
        "\n",
        "piece = vocab.EncodeAsPieces(\"the\")[0]\n",
        "index = vocab.PieceToId(piece)\n",
        "print(piece)\n",
        "print(index)\n",
        "print(vocab.IdToPiece(index))\n"
      ]
    },
    {
      "cell_type": "markdown",
      "metadata": {
        "id": "qsxRb6TOVHn5"
      },
      "source": [
        "We define some constants here for the first three special tokens that you may find useful in the following sections."
      ]
    },
    {
      "cell_type": "code",
      "execution_count": null,
      "metadata": {
        "id": "xheKi30BVVJC"
      },
      "outputs": [],
      "source": [
        "pad_id = vocab.PieceToId(\"<pad>\")\n",
        "bos_id = vocab.PieceToId(\"<s>\")\n",
        "eos_id = vocab.PieceToId(\"</s>\")"
      ]
    },
    {
      "cell_type": "markdown",
      "metadata": {
        "id": "hI8olw4LapHZ"
      },
      "source": [
        "Note that these tokens will be stripped from the output when converting from word pieces to text. This may be helpful when implementing greedy search and beam search."
      ]
    },
    {
      "cell_type": "code",
      "execution_count": null,
      "metadata": {
        "colab": {
          "base_uri": "https://localhost:8080/"
        },
        "id": "mv6i28CVa0O9",
        "outputId": "cca6b59e-bb28-43a1-ce88-7ff6b98501ee"
      },
      "outputs": [
        {
          "output_type": "stream",
          "name": "stdout",
          "text": [
            "Two young, White males are outside near many bushes.\n",
            "Two young, White males are outside near many bushes.\n",
            "True\n"
          ]
        }
      ],
      "source": [
        "sentence = training_data[0].trg\n",
        "indices = vocab.EncodeAsIds(sentence)\n",
        "indices_augmented = [bos_id] + indices + [eos_id, pad_id, pad_id, pad_id]\n",
        "print(vocab.DecodeIds(indices))\n",
        "print(vocab.DecodeIds(indices_augmented))\n",
        "print(vocab.DecodeIds(indices) == vocab.DecodeIds(indices_augmented))"
      ]
    },
    {
      "cell_type": "markdown",
      "metadata": {
        "id": "KiSPP3tdyaid"
      },
      "source": [
        "## Baseline sequence-to-sequence model"
      ]
    },
    {
      "cell_type": "markdown",
      "metadata": {
        "id": "7g-Ncq5zxhvB"
      },
      "source": [
        "With our data and vocabulary loaded, we're now ready to build a baseline sequence-to-sequence model.  Later on we'll add an attention mechanism to the model."
      ]
    },
    {
      "cell_type": "markdown",
      "metadata": {
        "id": "7xIg5y_xynkU"
      },
      "source": [
        "Let's begin by defining a batch iterator for the training data. Given a dataset and a batch size, it will iterate over the dataset and yield pairs of tensors containing the subword indices for the source and target sentences in the batch, respectively.  Fill in `make_batch` below."
      ]
    },
    {
      "cell_type": "code",
      "execution_count": null,
      "metadata": {
        "colab": {
          "base_uri": "https://localhost:8080/"
        },
        "id": "Q-bI4Im30Ezp",
        "outputId": "165bb2d7-f4ba-44bc-dc57-7ea26bea22f6"
      },
      "outputs": [
        {
          "output_type": "stream",
          "name": "stdout",
          "text": [
            "Example batch tensor:\n",
            "tensor([[   1,    1],\n",
            "        [   5,    5],\n",
            "        [3980,  352],\n",
            "        [   6,   60],\n",
            "        [ 234,    6],\n",
            "        [ 760,  234],\n",
            "        [   2,  760],\n",
            "        [   0, 5335],\n",
            "        [   0,   13],\n",
            "        [   0, 3769],\n",
            "        [   0,    2]], device='cuda:0')\n"
          ]
        },
        {
          "output_type": "execute_result",
          "data": {
            "text/plain": [
              "torch.Size([11, 2])"
            ]
          },
          "metadata": {},
          "execution_count": 12
        }
      ],
      "source": [
        "def make_batch(sentences):\n",
        "  \"\"\"Convert a list of sentences into a batch of subword indices.\n",
        "\n",
        "  Args:\n",
        "    sentences: A list of sentences, each of which is a string.\n",
        "\n",
        "  Returns:\n",
        "    A LongTensor of size (max_sequence_length, batch_size) containing the\n",
        "    subword indices for the sentences, where max_sequence_length is the length\n",
        "    of the longest sentence as encoded by the subword vocabulary and batch_size\n",
        "    is the number of sentences in the batch. A beginning-of-sentence token\n",
        "    should be included before each sequence, and an end-of-sentence token should\n",
        "    be included after each sequence. Empty slots at the end of shorter sequences\n",
        "    should be filled with padding tokens. The tensor should be located on the\n",
        "    device defined at the beginning of the notebook.\n",
        "  \"\"\"\n",
        "\n",
        "  # Implementation tip: You can use the nn.utils.rnn.pad_sequence utility\n",
        "  # function to combine a list of variable-length sequences with padding.\n",
        "\n",
        "  # YOUR CODE HERE\n",
        "\n",
        "  # BEGIN SOLUTION\n",
        "  indices=[]\n",
        "  for sentence in sentences:\n",
        "    indices.append(torch.LongTensor([bos_id]+vocab.EncodeAsIds(sentence)+[eos_id]))\n",
        "  sentence_tensor = torch.nn.utils.rnn.pad_sequence(indices, batch_first=False, padding_value=pad_id).to(device=device)\n",
        "  return sentence_tensor\n",
        "  # END SOLUTION\n",
        "\n",
        "def make_batch_iterator(dataset, batch_size, shuffle=False):\n",
        "  \"\"\"Make a batch iterator that yields source-target pairs.\n",
        "\n",
        "  Args:\n",
        "    dataset: A torchtext dataset object.\n",
        "    batch_size: An integer batch size.\n",
        "    shuffle: A boolean indicating whether to shuffle the examples.\n",
        "\n",
        "  Yields:\n",
        "    Pairs of tensors constructed by calling the make_batch function on the\n",
        "    source and target sentences in the current group of examples. The max\n",
        "    sequence length can differ between the source and target tensor, but the\n",
        "    batch size will be the same. The final batch may be smaller than the given\n",
        "    batch size.\n",
        "  \"\"\"\n",
        "\n",
        "  examples = list(dataset)\n",
        "  if shuffle:\n",
        "    random.shuffle(examples)\n",
        "\n",
        "  for start_index in range(0, len(examples), batch_size):\n",
        "    example_batch = examples[start_index:start_index + batch_size]\n",
        "    source_sentences = [example.src for example in example_batch]\n",
        "    target_sentences = [example.trg for example in example_batch]\n",
        "    yield make_batch(source_sentences), make_batch(target_sentences)\n",
        "\n",
        "test_batch = make_batch([\"a test input\", \"a longer input than the first\"])\n",
        "print(\"Example batch tensor:\")\n",
        "print(test_batch)\n",
        "assert test_batch.shape[1] == 2\n",
        "assert test_batch[0, 0] == bos_id\n",
        "assert test_batch[0, 1] == bos_id\n",
        "assert test_batch[-1, 0] == pad_id\n",
        "assert test_batch[-1, 1] == eos_id\n",
        "test_batch.shape"
      ]
    },
    {
      "cell_type": "markdown",
      "metadata": {
        "id": "gGIIy0230Zdc"
      },
      "source": [
        "Now we will define the model itself. It should consist of a bidirectional LSTM encoder that encodes the input sentence into a fixed-size representation, and an LSTM decoder that uses this representation to produce the output sentence."
      ]
    },
    {
      "cell_type": "code",
      "execution_count": null,
      "metadata": {
        "id": "Dz3pUko2L8Fj"
      },
      "outputs": [],
      "source": [
        "class Seq2seqBaseline(nn.Module):\n",
        "  def __init__(self):\n",
        "    super().__init__()\n",
        "\n",
        "    # Initialize your model's parameters here. To get started, we suggest\n",
        "    # setting all embedding and hidden dimensions to 256, using encoder and\n",
        "    # decoder LSTMs with 2 layers, and using a dropout rate of 0.5.\n",
        "\n",
        "    # Implementation tip: To create a bidirectional LSTM, you don't need to\n",
        "    # create two LSTM networks. Instead use nn.LSTM(..., bidirectional=True).\n",
        "    \n",
        "    # YOUR CODE HERE\n",
        "    ...\n",
        "\n",
        "    # BEGIN SOLUTION\n",
        "    self.embedding1 = nn.Embedding(8000, 256)\n",
        "    self.embedding2 = nn.Embedding(8000, 256)\n",
        "    self.bilstm = nn.LSTM(256,256,num_layers=2,dropout=0.5,bidirectional=True)\n",
        "    self.lstm = nn.LSTM(256,256,num_layers=2,dropout=0.5)\n",
        "    self.final = nn.Linear(256,8000)\n",
        "    # END SOLUTION\n",
        "\n",
        "  def encode(self, source, state = None):\n",
        "    \"\"\"Encode the source batch using a bidirectional LSTM encoder.\n",
        "\n",
        "    Args:\n",
        "      source: An integer tensor with shape (max_source_sequence_length,\n",
        "        batch_size) containing subword indices for the source sentences.\n",
        "\n",
        "    Returns:\n",
        "      A tuple with three elements:\n",
        "        encoder_output: The output of the bidirectional LSTM with shape\n",
        "          (max_source_sequence_length, batch_size, 2 * hidden_size).\n",
        "        encoder_mask: A boolean tensor with shape (max_source_sequence_length,\n",
        "          batch_size) indicating which encoder outputs correspond to padding\n",
        "          tokens. Its elements should be True at positions corresponding to\n",
        "          padding tokens and False elsewhere.\n",
        "        encoder_hidden: The final hidden states of the bidirectional LSTM (after\n",
        "          a suitable projection) that will be used to initialize the decoder.\n",
        "          This should be a pair of tensors (h_n, c_n), each with shape\n",
        "          (num_layers, batch_size, hidden_size). Note that the hidden state\n",
        "          returned by the LSTM cannot be used directly. Its initial dimension is\n",
        "          twice the required size because it contains state from two directions.\n",
        "\n",
        "    The first two return values are not required for the baseline model and will\n",
        "    only be used later in the attention model. If desired, they can be replaced\n",
        "    with None for the initial implementation.\n",
        "    \"\"\"\n",
        "\n",
        "    # Implementation tip: consider using packed sequences to more easily work\n",
        "    # with the variable-length sequences represented by the source tensor.\n",
        "    # See https://pytorch.org/docs/stable/nn.html#torch.nn.utils.rnn.PackedSequence.\n",
        "\n",
        "    # Implementation tip: there are many simple ways to combine the forward\n",
        "    # and backward portions of the final hidden state, e.g. addition, averaging,\n",
        "    # or a linear transformation of the appropriate size. Any of these\n",
        "    # should let you reach the required performance.\n",
        "\n",
        "    # Compute a tensor containing the length of each source sequence.\n",
        "    lengths = torch.sum(source != pad_id, axis=0)\n",
        "    # YOUR CODE HERE\n",
        "    ...\n",
        "\n",
        "    # BEGIN SOLUTION\n",
        "    mask = torch.where(source==0,True,False)\n",
        "    embeddings=self.embedding1(source)\n",
        "    bilstm_out,(bilstm_h, bilstm_c)=self.bilstm(embeddings)\n",
        "    bilstm_h, bilstm_c = bilstm_h.split(2,dim=0)[0]+bilstm_h.split(2,dim=0)[1], bilstm_c.split(2,dim=0)[0]+bilstm_c.split(2,dim=0)[1]\n",
        "    return (bilstm_out, mask, (bilstm_h, bilstm_c))\n",
        "    # END SOLUTION\n",
        "\n",
        "  def decode(self, decoder_input, initial_hidden, encoder_output, encoder_mask):\n",
        "    \"\"\"Run the decoder LSTM starting from an initial hidden state.\n",
        "\n",
        "    The third and fourth arguments are not used in the baseline model, but are\n",
        "    included for compatibility with the attention model in the next section.\n",
        "\n",
        "    Args:\n",
        "      decoder_input: An integer tensor with shape (max_decoder_sequence_length,\n",
        "        batch_size) containing the subword indices for the decoder input. During\n",
        "        evaluation, where decoding proceeds one step at a time, the initial\n",
        "        dimension should be 1.\n",
        "      initial_hidden: A pair of tensors (h_0, c_0) representing the initial\n",
        "        state of the decoder, each with shape (num_layers, batch_size,\n",
        "        hidden_size).\n",
        "      encoder_output: The output of the encoder with shape\n",
        "        (max_source_sequence_length, batch_size, 2 * hidden_size).\n",
        "      encoder_mask: The output mask from the encoder with shape\n",
        "        (max_source_sequence_length, batch_size). Encoder outputs at positions\n",
        "        with a True value correspond to padding tokens and should be ignored.\n",
        "\n",
        "    Returns:\n",
        "      A tuple with three elements:\n",
        "        logits: A tensor with shape (max_decoder_sequence_length, batch_size,\n",
        "          vocab_size) containing unnormalized scores for the next-word\n",
        "          predictions at each position.\n",
        "        decoder_hidden: A pair of tensors (h_n, c_n) with the same shape as\n",
        "          initial_hidden representing the updated decoder state after processing\n",
        "          the decoder input.\n",
        "        attention_weights: This will be implemented later in the attention\n",
        "          model, but in order to maintain compatible type signatures, we also\n",
        "          include it here. This can be None or any other placeholder value.\n",
        "    \"\"\"\n",
        "\n",
        "    # These arguments are not used in the baseline model.\n",
        "    del encoder_output\n",
        "    del encoder_mask\n",
        "\n",
        "    # YOUR CODE HERE\n",
        "    ...\n",
        "\n",
        "    # BEGIN SOLUTION\n",
        "    embeddings=self.embedding2(decoder_input)\n",
        "    lstm_out,lstm_state=self.lstm(embeddings,initial_hidden)\n",
        "    final = self.final(lstm_out)\n",
        "    return (final,lstm_state,None)\n",
        "    # END SOLUTION\n",
        "\n",
        "  def compute_loss(self, source, target):\n",
        "    \"\"\"Run the model on the source and compute the loss on the target.\n",
        "\n",
        "    Args:\n",
        "      source: An integer tensor with shape (max_source_sequence_length,\n",
        "        batch_size) containing subword indices for the source sentences.\n",
        "      target: An integer tensor with shape (max_target_sequence_length,\n",
        "        batch_size) containing subword indices for the target sentences.\n",
        "\n",
        "    Returns:\n",
        "      A scalar float tensor representing cross-entropy loss on the current batch.\n",
        "    \"\"\"\n",
        "\n",
        "    # Implementation tip: don't feed the target tensor directly to the decoder.\n",
        "    # To see why, note that for a target sequence like <s> A B C </s>, you would\n",
        "    # want to run the decoder on the prefix <s> A B C and have it predict the\n",
        "    # suffix A B C </s>.\n",
        "\n",
        "    # YOUR CODE HERE\n",
        "    ...\n",
        "\n",
        "    # BEGIN SOLUTION\n",
        "    encoder_outputs = torch.zeros(source.shape[0], 256, device=device)\n",
        "    loss = 0.0\n",
        "    #for t in range(len(target)):\n",
        "      #decoder_output, decoder_hidden, decoder_attention = self.decode(\n",
        "          #decoder_input, initial_hidden, encoder_output, mask)\n",
        "      #loss += nn.CrossEntropyLoss(decoder_output, target[t])\n",
        "      #decoder_input = target[t]\n",
        "    #return torch.mean(loss)\n",
        "    encoder_output, encoder_mask, encoder_hidden = self.encode(source)\n",
        "    decoder_input, decoder_target = target[:-1], target[1:]\n",
        "    logits, decoder_hidden, attention_weights = self.decode(decoder_input, encoder_hidden, encoder_output, encoder_mask)\n",
        "    cross_entropy = F.cross_entropy(logits.permute(1, 2, 0), decoder_target.permute(1, 0),ignore_index=pad_id, reduction=\"sum\")\n",
        "    return cross_entropy\n",
        "    # END SOLUTION"
      ]
    },
    {
      "cell_type": "markdown",
      "metadata": {
        "id": "jx9jJQb58nUY"
      },
      "source": [
        "We define the following functions for training.  This code will run as provided, but you are welcome to modify the training loop to adjust the optimizer settings, add learning rate decay, etc."
      ]
    },
    {
      "cell_type": "code",
      "execution_count": null,
      "metadata": {
        "id": "VKc1pwaZzcUN"
      },
      "outputs": [],
      "source": [
        "def train(model, num_epochs, batch_size, model_file):\n",
        "  \"\"\"Train the model and save its best checkpoint.\n",
        "  \n",
        "  Model performance across epochs is evaluated using token-level accuracy on the\n",
        "  validation set. The best checkpoint obtained during training will be stored on\n",
        "  disk and loaded back into the model at the end of training.\n",
        "  \"\"\"\n",
        "  optimizer = torch.optim.Adam(model.parameters())\n",
        "  best_accuracy = 0.0\n",
        "  for epoch in tqdm.notebook.trange(num_epochs, desc=\"training\", unit=\"epoch\"):\n",
        "    with tqdm.notebook.tqdm(\n",
        "        make_batch_iterator(training_data, batch_size, shuffle=True),\n",
        "        desc=\"epoch {}\".format(epoch + 1),\n",
        "        unit=\"batch\",\n",
        "        total=math.ceil(len(training_data) / batch_size)) as batch_iterator:\n",
        "      model.train()\n",
        "      total_loss = 0.0\n",
        "      for i, (source, target) in enumerate(batch_iterator, start=1):\n",
        "        optimizer.zero_grad()\n",
        "        loss = model.compute_loss(source, target)\n",
        "        total_loss += loss.item()\n",
        "        loss.backward()\n",
        "        optimizer.step()\n",
        "        batch_iterator.set_postfix(mean_loss=total_loss / i)\n",
        "      validation_perplexity, validation_accuracy = evaluate_next_token(\n",
        "          model, validation_data)\n",
        "      batch_iterator.set_postfix(\n",
        "          mean_loss=total_loss / i,\n",
        "          validation_perplexity=validation_perplexity,\n",
        "          validation_token_accuracy=validation_accuracy)\n",
        "      if validation_accuracy > best_accuracy:\n",
        "        print(\n",
        "            \"Obtained a new best validation accuracy of {:.2f}, saving model \"\n",
        "            \"checkpoint to {}...\".format(validation_accuracy, model_file))\n",
        "        torch.save(model.state_dict(), model_file)\n",
        "        best_accuracy = validation_accuracy\n",
        "  print(\"Reloading best model checkpoint from {}...\".format(model_file))\n",
        "  model.load_state_dict(torch.load(model_file))\n",
        "\n",
        "def evaluate_next_token(model, dataset, batch_size=64):\n",
        "  \"\"\"Compute token-level perplexity and accuracy metrics.\n",
        "\n",
        "  Note that the perplexity here is over subwords, not words.\n",
        "  \n",
        "  This function is used for validation set evaluation at the end of each epoch\n",
        "  and should not be modified.\n",
        "  \"\"\"\n",
        "  model.eval()\n",
        "  total_cross_entropy = 0.0\n",
        "  total_predictions = 0\n",
        "  correct_predictions = 0\n",
        "  with torch.no_grad():\n",
        "    for source, target in make_batch_iterator(dataset, batch_size):\n",
        "      encoder_output, encoder_mask, encoder_hidden = model.encode(source)\n",
        "      decoder_input, decoder_target = target[:-1], target[1:]\n",
        "      decoder_hidden=encoder_hidden\n",
        "      logits, decoder_hidden, attention_weights = model.decode(\n",
        "          decoder_input, decoder_hidden, encoder_output, encoder_mask)\n",
        "      total_cross_entropy += F.cross_entropy(\n",
        "          logits.permute(1, 2, 0), decoder_target.permute(1, 0),\n",
        "          ignore_index=pad_id, reduction=\"sum\").item()\n",
        "      total_predictions += (decoder_target != pad_id).sum().item()\n",
        "      correct_predictions += (\n",
        "          (decoder_target != pad_id) &\n",
        "          (decoder_target == logits.argmax(2))).sum().item()\n",
        "  perplexity = math.exp(total_cross_entropy / total_predictions)\n",
        "  accuracy = 100 * correct_predictions / total_predictions\n",
        "  return perplexity, accuracy"
      ]
    },
    {
      "cell_type": "code",
      "execution_count": null,
      "metadata": {
        "id": "thNLsZ04Z0A-"
      },
      "outputs": [],
      "source": [
        "# You are welcome to adjust these parameters based on your model implementation.\n",
        "num_epochs = 1\n",
        "batch_size = 16\n",
        "\n",
        "baseline_model = Seq2seqBaseline().to(device)\n",
        "train(baseline_model, num_epochs, batch_size, \"baseline_model.pt\")\n",
        "\n"
      ]
    },
    {
      "cell_type": "markdown",
      "metadata": {
        "id": "GZYFBChe8-2F"
      },
      "source": [
        "We can now train the baseline model.\n",
        "\n",
        "Since we haven't yet defined a decoding method to output an entire string, we will measure performance for now by computing perplexity and the accuracy of predicting the next token given a gold prefix of the output. A correct implementation should get a validation token accuracy above 55%. The training code will automatically save the model with the highest validation accuracy and reload that checkpoint's parameters at the end of training."
      ]
    },
    {
      "cell_type": "markdown",
      "metadata": {
        "id": "wzRIg471LlFW"
      },
      "source": [
        "**Download your baseline model here.** Once you have a model you are happy with, you are encouraged to download it or save it to your Google Drive in case your session disconnects. The best baseline model has been saved to `baseline_model.pt` in the local filesystem. You will need a trained model while implementing inference below and to generate your final predictions. To download session files from Kaggle, please click the data tab on the right side of the screen and expand the `/kaggle/working` folder"
      ]
    },
    {
      "cell_type": "markdown",
      "metadata": {
        "id": "QO5Saz-KQ9Cg"
      },
      "source": [
        "For evaluation, we also need to be able to generate entire strings from the model. We'll first define a greedy inference procedure here. Later on, we'll implement beam search.\n",
        "\n",
        "A correct implementation of greedy decoding should get above 20 BLEU on the validation set."
      ]
    },
    {
      "cell_type": "code",
      "execution_count": 463,
      "metadata": {
        "colab": {
          "base_uri": "https://localhost:8080/"
        },
        "id": "dXG0VTLvRvzp",
        "outputId": "186fc8ca-17ca-4d49-e79e-34b7d6aeca0a"
      },
      "outputs": [
        {
          "output_type": "stream",
          "name": "stdout",
          "text": [
            "Baseline model validation BLEU using greedy search: 9.794524292470284\n"
          ]
        }
      ],
      "source": [
        "def predict_greedy(model, sentences, max_length=100):\n",
        "  \"\"\"Make predictions for the given inputs using greedy inference.\n",
        "  \n",
        "  Args:\n",
        "    model: A sequence-to-sequence model.\n",
        "    sentences: A list of input sentences, represented as strings.\n",
        "    max_length: The maximum length at which to truncate outputs in order to\n",
        "      avoid non-terminating inference.\n",
        "  \n",
        "  Returns:\n",
        "    A list of predicted translations, represented as strings.\n",
        "  \"\"\"\n",
        "\n",
        "  # Requirement: your implementation must be batched. This means that you should\n",
        "  # make only one call to model.encode() at the start of the function, and make\n",
        "  # only one call to model.decode() per inference step.\n",
        "\n",
        "  # Implementation tip: once an EOS token has been generated, force the output\n",
        "  # for that example to be padding tokens in all subsequent time steps by\n",
        "  # adding a large positive number like 1e9 to the appropriate logits.\n",
        "\n",
        "  # YOUR CODE HERE\n",
        "  ...\n",
        "\n",
        "  # BEGIN SOLUTION\n",
        "  batch_size = len(sentences)\n",
        "  decoded_batch = torch.zeros((batch_size, max_length))\n",
        "  result = []\n",
        "  decoder_input = torch.LongTensor([batch_size*[bos_id]]).cuda()\n",
        "  encoder_output, encoder_mask, encoder_hidden = model.encode(make_batch(sentences))\n",
        "  decoder_hidden = encoder_hidden\n",
        "  prediction = decoder_input.view(len(sentences),1)\n",
        "\n",
        "  for t in range(max_length):\n",
        "      #decoder_input = decoder_input.reshape(1,batch_size)\n",
        "      #print(decoder_input.shape)\n",
        "      decoder_output, decoder_hidden, attn_weights = model.decode(decoder_input, decoder_hidden, encoder_output, encoder_mask)\n",
        "      topv, topi = decoder_output.topk(1)\n",
        "      topi = topi.view(-1,batch_size)\n",
        "      decoder_input = torch.where(decoder_input == eos_id, decoder_input, topi)\n",
        "      #decoder_input =  decoder_input.view(len(sentences)\n",
        "      prediction = torch.cat((prediction, decoder_input.view(len(sentences), 1)), dim=-1)\n",
        "  \n",
        "  for each in prediction.tolist():\n",
        "    result.append(vocab.DecodeIds(each))\n",
        "  return result\n",
        "  # END SOLUTION\n",
        "\n",
        "def evaluate(model, dataset, batch_size=64, method=\"greedy\"):\n",
        "  assert method in {\"greedy\", \"beam\"}\n",
        "  source_sentences = [example.src for example in dataset]\n",
        "  target_sentences = [example.trg for example in dataset]\n",
        "  model.eval()\n",
        "  predictions = []\n",
        "  with torch.no_grad():\n",
        "    for start_index in range(0, len(source_sentences), batch_size):\n",
        "      if method == \"greedy\":\n",
        "        prediction_batch = predict_greedy(\n",
        "            model, source_sentences[start_index:start_index + batch_size])\n",
        "      else:\n",
        "        prediction_batch = predict_beam(\n",
        "            model, source_sentences[start_index:start_index + batch_size])\n",
        "        prediction_batch = [candidates[0] for candidates in prediction_batch]\n",
        "      predictions.extend(prediction_batch)\n",
        "  return sacrebleu.corpus_bleu(predictions, [target_sentences]).score\n",
        "\n",
        "print(\"Baseline model validation BLEU using greedy search:\",\n",
        "      evaluate(baseline_model, validation_data))"
      ]
    },
    {
      "cell_type": "code",
      "execution_count": null,
      "metadata": {
        "id": "BoevlyGGF8Bs",
        "colab": {
          "base_uri": "https://localhost:8080/"
        },
        "outputId": "23b6f2e9-5514-40d8-f062-a88ffda26f43"
      },
      "outputs": [
        {
          "output_type": "stream",
          "name": "stdout",
          "text": [
            "Baseline model sample predictions:\n",
            "\n",
            "Input:\n",
            "  Eine Gruppe von Männern lädt Baumwolle auf einen Lastwagen\n",
            "Target:\n",
            "  A group of men are loading cotton onto a truck\n",
            "Greedy prediction:\n",
            "  A group of men are walking in a m.\n",
            "\n",
            "Input:\n",
            "  Ein Mann schläft in einem grünen Raum auf einem Sofa.\n",
            "Target:\n",
            "  A man sleeping in a green room on a couch.\n",
            "Greedy prediction:\n",
            "  A man is in a red shirt is sitting on a bicycle.\n",
            "\n",
            "Input:\n",
            "  Ein Junge mit Kopfhörern sitzt auf den Schultern einer Frau.\n",
            "Target:\n",
            "  A boy wearing headphones sits on a woman's shoulders.\n",
            "Greedy prediction:\n",
            "  A young boy with a red hat is sitting on a microphone.\n",
            "\n",
            "Input:\n",
            "  Zwei Männer bauen eine blaue Eisfischerhütte auf einem zugefrorenen See auf\n",
            "Target:\n",
            "  Two men setting up a blue ice fishing hut on an iced over lake\n",
            "Greedy prediction:\n",
            "  Two men are walking as as as as as as as as.\n",
            "\n"
          ]
        }
      ],
      "source": [
        "def show_predictions(model, num_examples=4, include_beam=False):\n",
        "  for example in validation_data[:num_examples]:\n",
        "    print(\"Input:\")\n",
        "    print(\" \", example.src)\n",
        "    print(\"Target:\")\n",
        "    print(\" \", example.trg)\n",
        "    print(\"Greedy prediction:\")\n",
        "    print(\" \", predict_greedy(model, [example.src])[0])\n",
        "    if include_beam:\n",
        "      print(\"Beam predictions:\")\n",
        "      for candidate in predict_beam(model, [example.src])[0]:\n",
        "        print(\" \", candidate)\n",
        "    print()\n",
        "\n",
        "print(\"Baseline model sample predictions:\")\n",
        "print()\n",
        "show_predictions(baseline_model)"
      ]
    },
    {
      "cell_type": "markdown",
      "metadata": {
        "id": "vb7NfD4BD7I_"
      },
      "source": [
        "## Sequence-to-sequence model with attention"
      ]
    },
    {
      "cell_type": "markdown",
      "metadata": {
        "id": "9SNJwlAO9N0k"
      },
      "source": [
        "Next, we extend the baseline model to include an attention mechanism in the decoder. This circumvents the need to store all information about the source sentence in a fixed-size representation, and should substantially improve performance and convergence time.\n",
        "\n",
        "Your implementation should use bilinear attention, where the attention distribution over the encoder outputs $e_1, \\dots, e_n$ given a decoder LSTM output $d$ is obtained via a softmax of the dot products after a suitable projection to get them to the same size: $w_i \\propto \\exp ( d^\\top W e_i )$. The unnormalized attention logits for encoder outputs corresponding to padding tokens should be offset with a large negative value to ensure that the corresponding attention weights are $0$.\n",
        "\n",
        "After computing the attention distribution, take a weighted sum of the projected encoder outputs to obtain the attention context $c = \\sum_i w_i We_i$, and add this to the decoder output $d$ to obtain the final representation to be passed to the vocabulary projection layer."
      ]
    },
    {
      "cell_type": "code",
      "execution_count": 436,
      "metadata": {
        "id": "0uI8j0Sa-gNa"
      },
      "outputs": [],
      "source": [
        "class Seq2seqAttention(Seq2seqBaseline):\n",
        "  def __init__(self):\n",
        "    super().__init__()\n",
        "\n",
        "    # Initialize any additional parameters needed for this model that are not\n",
        "    # already included in the baseline model.\n",
        "    \n",
        "    # YOUR CODE HERE\n",
        "    ...\n",
        "\n",
        "    # BEGIN SOLUTION\n",
        "    self.attn = nn.Linear(512, 256)\n",
        "    # END SOLUTION\n",
        "\n",
        "  def decode(self, decoder_input, hidden, encoder_output, encoder_mask):\n",
        "    \"\"\"Run the decoder LSTM starting from an initial hidden state.\n",
        "\n",
        "    The third and fourth arguments are not used in the baseline model, but are\n",
        "    included for compatibility with the attention model in the next section.\n",
        "\n",
        "    Args:\n",
        "      decoder_input: An integer tensor with shape (max_decoder_sequence_length,\n",
        "        batch_size) containing the subword indices for the decoder input. During\n",
        "        evaluation, where decoding proceeds one step at a time, the initial\n",
        "        dimension should be 1.\n",
        "      initial_hidden: A pair of tensors (h_0, c_0) representing the initial\n",
        "        state of the decoder, each with shape (num_layers, batch_size,\n",
        "        hidden_size).\n",
        "      encoder_output: The output of the encoder with shape\n",
        "        (max_source_sequence_length, batch_size, 2 * hidden_size).\n",
        "      encoder_mask: The output mask from the encoder with shape\n",
        "        (max_source_sequence_length, batch_size). Encoder outputs at positions\n",
        "        with a True value correspond to padding tokens and should be ignored.\n",
        "\n",
        "    Returns:\n",
        "      A tuple with three elements:\n",
        "        logits: A tensor with shape (max_decoder_sequence_length, batch_size,\n",
        "          vocab_size) containing unnormalized scores for the next-word\n",
        "          predictions at each position.\n",
        "        decoder_hidden: A pair of tensors (h_n, c_n) with the same shape as\n",
        "          initial_hidden representing the updated decoder state after processing\n",
        "          the decoder input.\n",
        "        attention_weights: A tensor with shape (max_decoder_sequence_length,\n",
        "          batch_size, max_source_sequence_length) representing the normalized\n",
        "          attention weights. This should sum to 1 along the last dimension.\n",
        "    \"\"\"\n",
        "\n",
        "    # Implementation tip: use a large negative number like -1e9 instead of\n",
        "    # float(\"-inf\") when masking logits to avoid numerical issues.\n",
        "\n",
        "    # Implementation tip: the function torch.einsum may be useful here.\n",
        "    # See https://rockt.github.io/2018/04/30/einsum for a tutorial.\n",
        "\n",
        "    # YOUR CODE HERE\n",
        "    ...\n",
        "\n",
        "    # BEGIN SOLUTION\n",
        "    encoder_output = self.attn(encoder_output).transpose(0,1)\n",
        "    embeddings = self.embedding2(decoder_input)\n",
        "    lstm_out,lstm_state=self.lstm(embeddings,hidden)\n",
        "    weighted = torch.bmm(encoder_output,lstm_out.permute(1,2,0)).transpose(0,1)\n",
        "    masked = torch.where(encoder_mask.unsqueeze(-1)==1,weighted+-1e+9, weighted)\n",
        "    attn_distribution = F.softmax(masked, dim=0)\n",
        "    attention_context = torch.matmul(attn_distribution.permute(1,2,0),encoder_output).transpose(0,1)\n",
        "    logits = self.final(lstm_out+attention_context)\n",
        "    return logits, lstm_state, attn_distribution.permute(2,1,0)\n",
        "    \n",
        "                    # END SOLUTION"
      ]
    },
    {
      "cell_type": "markdown",
      "metadata": {
        "id": "wgHYmMDR9lAd"
      },
      "source": [
        "As before, we can train an attention model using the provided training code.\n",
        "\n",
        "A correct implementation should get a validation token accuracy above 64 and a validation BLEU above 36 with greedy search."
      ]
    },
    {
      "cell_type": "code",
      "execution_count": 438,
      "metadata": {
        "id": "0YvMnDHxJOZv",
        "colab": {
          "base_uri": "https://localhost:8080/",
          "height": 532,
          "referenced_widgets": [
            "a044246bfeee474b86857b322537c9c1",
            "c19b055c866a47a08cee4cc9935c28c7",
            "b34ad5f861d14f768d9de58dbccf6067",
            "02ad245778354450ad8c80b82a186fef",
            "85986629237a4959b670e755427aa6f0",
            "15b4d9e625524c859ddd1eb5ca414e78",
            "c48ce831585f463fb24688e94b64cf8a",
            "62748981890a4d82a7d7fe5a10104520",
            "7ec589d50d24483b9430758c0d45c54b",
            "2f7f0eb990c64df9b6b25c59fa522214",
            "87850a750e2b49d7b864ed9a64dce640",
            "2a6f4418eb304787b0293cbc5f8adb07",
            "10bd78d99bc543afb061bf7b5c7fe35b",
            "5c97ac74c6804517bc2a133854b9e50f",
            "ecfca524c62346c5a6c3a26d233a2dd2",
            "59ec8861eb6549dfbec5ad9145668591",
            "b3b2b667cbd64785addaa02122babf02",
            "113a101bab7d4fd5bc4e3029fdc91cb7",
            "8b9219b9939e4a6e82314910ed6da0c9",
            "c944a0a1d4434663b9a107d954beea33",
            "bca0f577a7134365b48b877ce22fd097",
            "55ed58b7417b4a59b7d2f4bc32b3be5e",
            "005e2f3738ae44dfa6967758241c6118",
            "f2ab72db204f4c8aaea4e4d0eb902b16",
            "4ec060dd5c3c4ba697ab3e4be161dcf9",
            "1e133912e62e4ed7b2726d1197654489",
            "f753779a781d43d8b3e924c6b766dd00",
            "8dc1cf3ed1514398abcefdf42c8e644f",
            "dda39b75daec49a4aa7c6bd743e3e5dc",
            "fd78f0665f7d4d45bb4ed77221fe0cae",
            "1ac1551343aa4079b4490fc5ccd239e0",
            "c956ee3ca8f34cbf8230a1f3fb04f37b",
            "297b0bbf046245979e77bb46b6d62723",
            "79a74baa58714aa79f472c93152f4967",
            "0b75d79435a34953b0fc22359a4b0f3a",
            "995a366a85a8473887e829af2118e5f6",
            "3ca13556381e4087939cf453eddb48f5",
            "9b3566e980644b4aac469e01c2d57b32",
            "d069c05670d64a2ebc1b7b19e282d9a4",
            "90ad14d0754d449b88e6aba6533933b8",
            "26022a00315745acad5499678692fb2a",
            "9b9e69d2d05441d58d776b3e3cea0235",
            "4ed10e25c33e4b31b1cce468269ac6d7",
            "7e316133ad604a7093ab868f0663cb19",
            "98f0cd76a40e4e90b3ef0e6793d53f5c",
            "43b13e4cf9864202b083c6d74acbad10",
            "a3083613bc3f42368677a329893fd825",
            "c34b4091ee164d609926ff566dfc2ddf",
            "935a46992d4447b7b47dfcd5086a26fc",
            "68797e9e42e045f0922d58a89d133d06",
            "3e6e819797844763ace04342590a3369",
            "96b6229b947540c1a92df0129bfe6a75",
            "1809e9ed8fde4de488948f395323dce8",
            "7e2669fd276a418894faa631591a1b29",
            "c2c6338e59944ff889d0f0396cded559",
            "a8d95b322e424ac9b54216080ee1cfd6",
            "56fd2016af084b6c9e55aa853eb394a6",
            "c73b99a776dc4152a610acdc0d330f1f",
            "7761aaf794774b07b8e68ca4a0b76052",
            "d1fe318a9a454848864f0aca07afdcc0",
            "90be067bf50b440dba3fa73433a5d812",
            "a9077be0f32d48f6b8672f3a6799a5bb",
            "607d5a95794b43e18bd7ac4187b76ede",
            "d0d9c3da24ac4affb8d642c5b907e2f9",
            "28d5cc9b43144f40aed75166a301641e",
            "cc508c90655f43d3b87032d18d7ddc28",
            "5ff674503eb34487b031e78fa52be702",
            "7915c356e6d1431b8706b1ed77be63a8",
            "2080cc8ac53a48598f377e59049c7231",
            "4dcdf61d3eda4302b47b025c7b4824be",
            "54c6a3545507483cb3e6a86eb97f5502",
            "0fda7a6b8aa247e3bbfd31560203ccf7",
            "2a412f8d50a8492e973f91149397c877",
            "6bfd339782b840d3b9f9105f6d8d6315",
            "25c709cd78f8429790a587ac9fb876d2",
            "a581c0cc82bf4336a8edc31bc802f061",
            "3c4bcc593df94e698b2933ad114ff8ee",
            "1fca2227a2fc4b85ab33cee799a953eb",
            "2867767305114bf7bc476207b11319d9",
            "97bec066eba242f29d8b881147166436",
            "0b1726265caa4dcca798b916e0e88f47",
            "ee4d2ad28fb44b998660d9fdbea32f54",
            "1dc41f58f4554f15bf91cf83e6f59d70",
            "8657ca3a40e6453fa215a1514a3c61de",
            "09df60da3e4f4646af226d522216d73d",
            "06a22abb4c56453f826a5d6a5d182f5a",
            "b758774942164e19ae070b708f6f9336",
            "d8ae6b5abc854601a2a0492a49291bdc",
            "5994e67565ce4d6f9e6388a703f92d5d",
            "43ac3f1de20d41d58d45aa62e3b1ce5d",
            "f40022fd5afc4cd198217602108764d5",
            "1482d0f31c814808bbe81c61d596b074",
            "40068118f416401194513632ae29731f",
            "0b0a8189773a4c93b91e411587ab37e9",
            "90bbdfc9c50a4fff88c3200c9d4d4863",
            "2378aa613be0452181b801537434e326",
            "76f1bac06c9e4c5190947eee8bbca9ca",
            "4af5b0c3ee2c473d85fc1430c34d9773",
            "f84c255d804c42ed9a8c9e56c9f27a53",
            "b99891e87e374242a625044798fcf2a1",
            "8e5f2a6ce08d4d08b964464f717b21d8",
            "0508440efb97470f82fd1140d9daf49b",
            "3d09cd274fea42fe852ffb61cd2d7ab6",
            "ee71c855b6d8477d91f20c0ca73db114",
            "0588528e900a4f70874345e415c879de",
            "f0771a37426b4b4485dc90f11af0f623",
            "556aa2e2723442bbb2f1346c4e75cd04",
            "e7d3580f779f4825a31c89c2320f0ef5",
            "025cdc49087a4650aaa473f2cd613857",
            "1ebba6e513994df2b6e41806b4ffbef9",
            "8090275babcc4b6dbe4940c9955efa48",
            "d546522c3814436b83b530ba238ff422",
            "0eff8e41eba54dcca649edf751cbd85f",
            "8589de18f1074f48addb9b02a97d330e",
            "ad60ee01ddf5415ab4fbf5bafb42e863",
            "4f62a5c3f6a048c084375463f68d0f59",
            "8a514160aa5e47e580f7674cad1fd9d8",
            "bd4f0bb43f8241f181c02208035ab217",
            "adb1b265ac3d4caa919646e4d31fd632",
            "aad8f4c844b44589a18092e70005ae0a",
            "5d57433d2b244812a1dc5699db3105e0"
          ]
        },
        "outputId": "adf457f3-12ad-4908-9ae5-9c7e8aed2b2c"
      },
      "outputs": [
        {
          "output_type": "display_data",
          "data": {
            "application/vnd.jupyter.widget-view+json": {
              "model_id": "a044246bfeee474b86857b322537c9c1",
              "version_minor": 0,
              "version_major": 2
            },
            "text/plain": [
              "training:   0%|          | 0/10 [00:00<?, ?epoch/s]"
            ]
          },
          "metadata": {}
        },
        {
          "output_type": "display_data",
          "data": {
            "application/vnd.jupyter.widget-view+json": {
              "model_id": "2a6f4418eb304787b0293cbc5f8adb07",
              "version_minor": 0,
              "version_major": 2
            },
            "text/plain": [
              "epoch 1:   0%|          | 0/1813 [00:00<?, ?batch/s]"
            ]
          },
          "metadata": {}
        },
        {
          "output_type": "stream",
          "name": "stdout",
          "text": [
            "Obtained a new best validation accuracy of 54.66, saving model checkpoint to attention_model.pt...\n"
          ]
        },
        {
          "output_type": "display_data",
          "data": {
            "application/vnd.jupyter.widget-view+json": {
              "model_id": "005e2f3738ae44dfa6967758241c6118",
              "version_minor": 0,
              "version_major": 2
            },
            "text/plain": [
              "epoch 2:   0%|          | 0/1813 [00:00<?, ?batch/s]"
            ]
          },
          "metadata": {}
        },
        {
          "output_type": "stream",
          "name": "stdout",
          "text": [
            "Obtained a new best validation accuracy of 59.81, saving model checkpoint to attention_model.pt...\n"
          ]
        },
        {
          "output_type": "display_data",
          "data": {
            "application/vnd.jupyter.widget-view+json": {
              "model_id": "79a74baa58714aa79f472c93152f4967",
              "version_minor": 0,
              "version_major": 2
            },
            "text/plain": [
              "epoch 3:   0%|          | 0/1813 [00:00<?, ?batch/s]"
            ]
          },
          "metadata": {}
        },
        {
          "output_type": "stream",
          "name": "stdout",
          "text": [
            "Obtained a new best validation accuracy of 62.16, saving model checkpoint to attention_model.pt...\n"
          ]
        },
        {
          "output_type": "display_data",
          "data": {
            "application/vnd.jupyter.widget-view+json": {
              "model_id": "98f0cd76a40e4e90b3ef0e6793d53f5c",
              "version_minor": 0,
              "version_major": 2
            },
            "text/plain": [
              "epoch 4:   0%|          | 0/1813 [00:00<?, ?batch/s]"
            ]
          },
          "metadata": {}
        },
        {
          "output_type": "stream",
          "name": "stdout",
          "text": [
            "Obtained a new best validation accuracy of 63.27, saving model checkpoint to attention_model.pt...\n"
          ]
        },
        {
          "output_type": "display_data",
          "data": {
            "application/vnd.jupyter.widget-view+json": {
              "model_id": "a8d95b322e424ac9b54216080ee1cfd6",
              "version_minor": 0,
              "version_major": 2
            },
            "text/plain": [
              "epoch 5:   0%|          | 0/1813 [00:00<?, ?batch/s]"
            ]
          },
          "metadata": {}
        },
        {
          "output_type": "stream",
          "name": "stdout",
          "text": [
            "Obtained a new best validation accuracy of 64.73, saving model checkpoint to attention_model.pt...\n"
          ]
        },
        {
          "output_type": "display_data",
          "data": {
            "application/vnd.jupyter.widget-view+json": {
              "model_id": "5ff674503eb34487b031e78fa52be702",
              "version_minor": 0,
              "version_major": 2
            },
            "text/plain": [
              "epoch 6:   0%|          | 0/1813 [00:00<?, ?batch/s]"
            ]
          },
          "metadata": {}
        },
        {
          "output_type": "stream",
          "name": "stdout",
          "text": [
            "Obtained a new best validation accuracy of 65.20, saving model checkpoint to attention_model.pt...\n"
          ]
        },
        {
          "output_type": "display_data",
          "data": {
            "application/vnd.jupyter.widget-view+json": {
              "model_id": "1fca2227a2fc4b85ab33cee799a953eb",
              "version_minor": 0,
              "version_major": 2
            },
            "text/plain": [
              "epoch 7:   0%|          | 0/1813 [00:00<?, ?batch/s]"
            ]
          },
          "metadata": {}
        },
        {
          "output_type": "stream",
          "name": "stdout",
          "text": [
            "Obtained a new best validation accuracy of 65.89, saving model checkpoint to attention_model.pt...\n"
          ]
        },
        {
          "output_type": "display_data",
          "data": {
            "application/vnd.jupyter.widget-view+json": {
              "model_id": "5994e67565ce4d6f9e6388a703f92d5d",
              "version_minor": 0,
              "version_major": 2
            },
            "text/plain": [
              "epoch 8:   0%|          | 0/1813 [00:00<?, ?batch/s]"
            ]
          },
          "metadata": {}
        },
        {
          "output_type": "display_data",
          "data": {
            "application/vnd.jupyter.widget-view+json": {
              "model_id": "b99891e87e374242a625044798fcf2a1",
              "version_minor": 0,
              "version_major": 2
            },
            "text/plain": [
              "epoch 9:   0%|          | 0/1813 [00:00<?, ?batch/s]"
            ]
          },
          "metadata": {}
        },
        {
          "output_type": "display_data",
          "data": {
            "application/vnd.jupyter.widget-view+json": {
              "model_id": "8090275babcc4b6dbe4940c9955efa48",
              "version_minor": 0,
              "version_major": 2
            },
            "text/plain": [
              "epoch 10:   0%|          | 0/1813 [00:00<?, ?batch/s]"
            ]
          },
          "metadata": {}
        },
        {
          "output_type": "stream",
          "name": "stdout",
          "text": [
            "Obtained a new best validation accuracy of 66.34, saving model checkpoint to attention_model.pt...\n",
            "Reloading best model checkpoint from attention_model.pt...\n",
            "Attention model validation BLEU using greedy search: 37.92862899624541\n"
          ]
        }
      ],
      "source": [
        "# You are welcome to adjust these parameters based on your model implementation.\n",
        "num_epochs = 10\n",
        "batch_size = 16\n",
        "\n",
        "attention_model = Seq2seqAttention().to(device)\n",
        "train(attention_model, num_epochs, batch_size, \"attention_model.pt\")\n",
        "print(\"Attention model validation BLEU using greedy search:\",\n",
        "      evaluate(attention_model, validation_data))"
      ]
    },
    {
      "cell_type": "markdown",
      "metadata": {
        "id": "Ey4qZ_U4bcFF"
      },
      "source": [
        "**Download your attention model here.** Once you have a model you are happy with, you are encouraged to download it or save it to your Google Drive in case your session disconnects. The best attention model has been saved to `attention_model.pt` in the local filesystem. You will need a trained model while implementing beam search below and to generate your final predictions."
      ]
    },
    {
      "cell_type": "code",
      "execution_count": 427,
      "metadata": {
        "id": "U2dWb-JrA2bR",
        "colab": {
          "base_uri": "https://localhost:8080/"
        },
        "outputId": "d16579db-2185-4afc-f9c6-5fd7b98388c2"
      },
      "outputs": [
        {
          "output_type": "stream",
          "name": "stdout",
          "text": [
            "Attention model validation BLEU using greedy search: 6.489235815063599e-06\n",
            "\n",
            "Attention model sample predictions:\n",
            "\n",
            "Input:\n",
            "  Eine Gruppe von Männern lädt Baumwolle auf einen Lastwagen\n",
            "Target:\n",
            "  A group of men are loading cotton onto a truck\n",
            "Greedy prediction:\n",
            "  \n",
            "\n",
            "Input:\n",
            "  Ein Mann schläft in einem grünen Raum auf einem Sofa.\n",
            "Target:\n",
            "  A man sleeping in a green room on a couch.\n",
            "Greedy prediction:\n",
            "  a a a a a a a a a a a a a a a a a a a a a a a a a a a a a a a a a a a a a a a a a a a a a a a a a a a a a a a a a a a a a a a a a a a a a a a a a a a a a a a a a a a a a a a a a a a a a a a a a a a a\n",
            "\n",
            "Input:\n",
            "  Ein Junge mit Kopfhörern sitzt auf den Schultern einer Frau.\n",
            "Target:\n",
            "  A boy wearing headphones sits on a woman's shoulders.\n",
            "Greedy prediction:\n",
            "  \n",
            "\n",
            "Input:\n",
            "  Zwei Männer bauen eine blaue Eisfischerhütte auf einem zugefrorenen See auf\n",
            "Target:\n",
            "  Two men setting up a blue ice fishing hut on an iced over lake\n",
            "Greedy prediction:\n",
            "  a a a a a a a a a a a a a a a a a a a a a a a a a a a a a a a a a a a a a a a a a a a a a a a a a a a a a a a a a a a a a a a a a a a a a a a a a a a a a a a a a a a a a a a a a a a a a a a a a a a a\n",
            "\n"
          ]
        }
      ],
      "source": [
        "print(\"Attention model validation BLEU using greedy search:\",\n",
        "      evaluate(attention_model, validation_data))\n",
        "print()\n",
        "print(\"Attention model sample predictions:\")\n",
        "print()\n",
        "show_predictions(attention_model)"
      ]
    },
    {
      "cell_type": "markdown",
      "metadata": {
        "id": "u15C5gGLMVSa"
      },
      "source": [
        "## Beam Search"
      ]
    },
    {
      "cell_type": "markdown",
      "metadata": {
        "id": "R7I01Tl1MYR9"
      },
      "source": [
        "Now it's time to implement beam search.\n",
        "\n",
        "Similar to greedy search, beam search generates one token at a time. However, rather than keeping only the single best hypothesis, we instead keep the top $k$ candidates at each time step. This is accomplished by computing the set of next-token extensions for each item on the beam and finding the top $k$ across all candidates according to total log-probability.\n",
        "\n",
        "Candidates that are finished should stay on the beam through the end of inference. The search process concludes once all $k$ items on the beam are complete.\n",
        "\n",
        "With beam search, you should get an improvement of at least 0.5 BLEU over greedy search, and should reach above 21 BLEU without attention and above 37 BLEU with attention.\n",
        "\n",
        "**Tips:**\n",
        "\n",
        "1) A good general strategy when doing complex code like this is to carefully annotate each line with a comment saying what each dimension represents. \n",
        "\n",
        "2) You should only need one call to topk per step. You do not need to have a topk just over vocabulary first, you can directly go from vocab_size*beam_size to beam_size items.\n",
        "\n",
        "3) Be sure you are correctly keeping track of which beam item a candidate is selected from and updating the beam states, such as LSTM hidden state, accordingly. A single state from the previous time step may need to be used for multiple new beam items or not at all. This includes all state associated with a beam, including all past tokens output by the beam and any extra tensors such as ones remembering when a beam is finished.\n",
        "\n",
        "4) Pay attention to how you interleave things when using a single dimension to represent multiple things.  It will make a difference when you start reshaping to separate them out.  It may be easier to start with everything separate, then temporarily combine as needed.\n",
        "\n",
        "5) For efficiency, we suggest that you implement all beam manipulations using batched PyTorch computations rather than Python for-loops.\n",
        "\n",
        "6) Once an EOS token has been generated, force the output for that candidate to be padding tokens in all subsequent time steps by adding a large positive number like 1e9 to the appropriate logits. This will ensure that the candidate stays on the beam, as its probability will be very close to 1 and its score will effectively remain the same as when it was first completed.  All other (invalid) token continuations will have extremely low log probability and will not make it onto the beam.\n",
        "\n",
        "7) While you are encouraged to keep your tensor dimensions constant for simplicity (aside from the sequence length), some special care will need to be taken on the first iteration to ensure that your beam doesn't fill up with k identical copies of the same candidate.\n"
      ]
    },
    {
      "cell_type": "code",
      "execution_count": null,
      "metadata": {
        "id": "-n3h47bJ8sz-"
      },
      "outputs": [],
      "source": [
        "def predict_beam(model, sentences, k=5, max_length=100):\n",
        "  \"\"\"Make predictions for the given inputs using beam search.\n",
        "  \n",
        "  Args:\n",
        "    model: A sequence-to-sequence model.\n",
        "    sentences: A list of input sentences, represented as strings.\n",
        "    k: The size of the beam.\n",
        "    max_length: The maximum length at which to truncate outputs in order to\n",
        "      avoid non-terminating inference.\n",
        "  \n",
        "  Returns:\n",
        "    A list of beam predictions. Each element in the list should be a list of k\n",
        "    strings corresponding to the top k predictions for the corresponding input,\n",
        "    sorted in descending order by score.\n",
        "  \"\"\"\n",
        "\n",
        "  # Requirement: your implementation must be batched. This means that you should\n",
        "  # make only one call to model.encode() at the start of the function, and make\n",
        "  # only one call to model.decode() per inference step.\n",
        "  \n",
        "  # Does top-k return relative ordering, if not how to return at end of method? \n",
        "  # EOS candidate getting knocked. \n",
        "\n",
        "  # YOUR CODE HERE\n",
        "  ...\n",
        "\n",
        "  # BEGIN SOLUTION\n",
        "  \n",
        "  # END SOLUTION\n",
        "\n",
        "print(\"Baseline model validation BLEU using beam search:\",\n",
        "      evaluate(baseline_model, validation_data, method=\"beam\"))\n",
        "print()\n",
        "print(\"Baseline model sample predictions:\")\n",
        "print()\n",
        "show_predictions(baseline_model, include_beam=True)"
      ]
    },
    {
      "cell_type": "code",
      "execution_count": null,
      "metadata": {
        "id": "XI76LuciROgh"
      },
      "outputs": [],
      "source": [
        "print(\"Attention model validation BLEU using beam search:\",\n",
        "      evaluate(attention_model, validation_data, method=\"beam\"))\n",
        "print()\n",
        "print(\"Attention model sample predictions:\")\n",
        "print()\n",
        "show_predictions(attention_model, include_beam=True)"
      ]
    },
    {
      "cell_type": "markdown",
      "metadata": {
        "id": "EEQlwh2qELmY"
      },
      "source": [
        "## Attention visualization: 1-Page Analysis"
      ]
    },
    {
      "cell_type": "markdown",
      "metadata": {
        "id": "edKLVL35EN7X"
      },
      "source": [
        "Once you have everything working in the sections above, add some code here to visualize the decoder attention learned by the attention model using `matplotlib`.\n",
        "\n",
        "You may visualize decoder attention on gold source-target pairs from the validation data. You do not need to run any inference.\n",
        "\n",
        "For this section, you will submit a write-up interpreting attention maps generated by your model. Your write-up should be 1-page maximum in length and should be submitted in PDF format. You may use any editor you like, but we recommend using LaTeX and working in an environment like Overleaf. For full credit, your write-up should include:\n",
        "\n",
        "* A figure with attention map plots for 4 sentence pairs from the validation set (the method `imshow`, or equivalent, will likely be useful here). We encourage you to look through more maps to aid your analysis, but please only include 4 representative plots in the figure. \n",
        "* A brief discussion over trends you discover in the plots. Do the maps line up with your intuition, are there any surprising alignments? Are there any many-to-one or many-to-many alignments, or mainly one-to-one? Using a tool like Google Translate on substrings may help give some insight into this.\n",
        "\n",
        "When you submit the file, please name it report.pdf."
      ]
    },
    {
      "cell_type": "code",
      "execution_count": 532,
      "metadata": {
        "id": "Ok-26cAK7vry",
        "colab": {
          "base_uri": "https://localhost:8080/",
          "height": 1000
        },
        "outputId": "67d9d13b-e314-4691-cca4-72c4589b529d"
      },
      "outputs": [
        {
          "output_type": "stream",
          "name": "stdout",
          "text": [
            "Input:\n",
            "  Ein kleines Mädchen klettert in ein Spielhaus aus Holz.\n",
            "Target:\n",
            "  A little girl climbing into a wooden playhouse.\n",
            "Predicted:\n",
            "  A little girl climbing a game of wood into a game of wood.\n"
          ]
        },
        {
          "output_type": "display_data",
          "data": {
            "image/png": "[encoded data removed]",
            "text/plain": [
              "<Figure size 720x720 with 2 Axes>"
            ]
          },
          "metadata": {
            "needs_background": "light"
          }
        },
        {
          "output_type": "stream",
          "name": "stdout",
          "text": [
            "Input:\n",
            "  Ein kleines Mädchen klettert in ein Spielhaus aus Holz.\n",
            "Target:\n",
            "  A little girl climbing into a wooden playhouse.\n",
            "Predicted:\n",
            "  A little girl climbing a game of wood into a game of wood.\n"
          ]
        },
        {
          "output_type": "display_data",
          "data": {
            "image/png": "[encoded data removed]",
            "text/plain": [
              "<Figure size 720x720 with 2 Axes>"
            ]
          },
          "metadata": {
            "needs_background": "light"
          }
        },
        {
          "output_type": "stream",
          "name": "stdout",
          "text": [
            "Input:\n",
            "  Ein kleines Mädchen klettert in ein Spielhaus aus Holz.\n",
            "Target:\n",
            "  A little girl climbing into a wooden playhouse.\n",
            "Predicted:\n",
            "  A little girl climbing a game of wood into a game of wood.\n"
          ]
        },
        {
          "output_type": "display_data",
          "data": {
            "image/png": "[encoded data removed]",
            "text/plain": [
              "<Figure size 720x720 with 2 Axes>"
            ]
          },
          "metadata": {
            "needs_background": "light"
          }
        },
        {
          "output_type": "stream",
          "name": "stdout",
          "text": [
            "Input:\n",
            "  Ein kleines Mädchen klettert in ein Spielhaus aus Holz.\n",
            "Target:\n",
            "  A little girl climbing into a wooden playhouse.\n",
            "Predicted:\n",
            "  A little girl climbing a game of wood into a game of wood.\n"
          ]
        },
        {
          "output_type": "display_data",
          "data": {
            "image/png": "[encoded data removed]",
            "text/plain": [
              "<Figure size 720x720 with 2 Axes>"
            ]
          },
          "metadata": {
            "needs_background": "light"
          }
        },
        {
          "output_type": "stream",
          "name": "stdout",
          "text": [
            "Input:\n",
            "  Ein kleines Mädchen klettert in ein Spielhaus aus Holz.\n",
            "Target:\n",
            "  A little girl climbing into a wooden playhouse.\n",
            "Predicted:\n",
            "  A little girl climbing a game of wood into a game of wood.\n"
          ]
        },
        {
          "output_type": "display_data",
          "data": {
            "image/png": "[encoded data removed]",
            "text/plain": [
              "<Figure size 720x720 with 2 Axes>"
            ]
          },
          "metadata": {
            "needs_background": "light"
          }
        }
      ],
      "source": [
        "\n",
        "# You may find the following annotated heatmap tutorial helpful:\n",
        "# https://matplotlib.org/3.1.3/gallery/images_contours_and_fields/image_annotated_heatmap.html.\n",
        "# From PyTorch tutorials - https://pytorch.org/tutorials/intermediate/seq2seq_translation_tutorial.html\n",
        "# YOUR CODE HERE\n",
        "...\n",
        "\n",
        "# BEGIN SOLUTION\n",
        "import matplotlib.ticker as ticker\n",
        "from matplotlib.pyplot import figure\n",
        "\n",
        "\n",
        "def predict(model,sentences):\n",
        "  batch_size = 1\n",
        "  max_length = len(sentence)+2\n",
        "  decoded_batch = torch.zeros((batch_size, max_length))\n",
        "  result = []\n",
        "  decoder_input = torch.LongTensor([batch_size*[bos_id]]).cuda()\n",
        "  sen=make_batch(sentences)\n",
        "  encoder_output, encoder_mask, encoder_hidden = model.encode(sen)\n",
        "  decoder_hidden = encoder_hidden\n",
        "  prediction = decoder_input.view(len(sentences),1)\n",
        "  decoder_attentions = torch.zeros(max_length, len(sen))\n",
        "\n",
        "  for t in range(max_length):\n",
        "      decoder_output, decoder_hidden, attn_weights = model.decode(decoder_input, decoder_hidden, encoder_output, encoder_mask)\n",
        "      decoder_attentions[t] = attn_weights.data\n",
        "      topv, topi = decoder_output.topk(1)\n",
        "      topi = topi.view(-1,batch_size)\n",
        "      decoder_input = torch.where(decoder_input == eos_id, decoder_input, topi)\n",
        "      prediction = torch.cat((prediction, decoder_input.view(len(sentences), 1)), dim=-1)\n",
        "  \n",
        "  for each in prediction.tolist():\n",
        "    result.append(vocab.DecodeIds(each))\n",
        "  return result,decoder_attentions[:t+1]\n",
        "\n",
        "def showAttention(input_sentence, output_words, attentions):\n",
        "    # Set up figure with colorbar\n",
        "    fig = plt.figure(figsize=(10, 10))\n",
        "    ax = fig.add_subplot(111)    \n",
        "    xaxis=input_sentence[0].split(' ')\n",
        "    attentions = attentions[:len(xaxis), :len(output_words[0].split(' '))]\n",
        "    cax = ax.matshow(attentions.numpy(), cmap='Blues',aspect='auto')\n",
        "    fig.colorbar(cax)\n",
        "    ax.set_xticklabels([''] + xaxis +\n",
        "                       ['<EOS>'], rotation=90)\n",
        "    ax.set_yticklabels([''] + output_words[0].split(' '))\n",
        "\n",
        "    ax.xaxis.set_major_locator(ticker.MultipleLocator(1))\n",
        "    ax.yaxis.set_major_locator(ticker.MultipleLocator(1))\n",
        "    plt.show()\n",
        "\n",
        "\n",
        "def evaluateAndShowAttention(input_sentence):\n",
        "    output_words, attentions = predict(attention_model, input_sentence)\n",
        "    attentions = attentions.cpu()\n",
        "    print(\"Predicted:\")\n",
        "    print(\" \", ' '.join(output_words))\n",
        "    showAttention(input_sentence, output_words, attentions)\n",
        "\n",
        "for each in validation_data[25:30]:\n",
        "    print(\"Input:\")\n",
        "    print(\" \", example.src)\n",
        "    print(\"Target:\")\n",
        "    print(\" \", example.trg)\n",
        "    evaluateAndShowAttention([example.src])\n",
        "# END SOLUTION"
      ]
    },
    {
      "cell_type": "markdown",
      "metadata": {
        "id": "0Y8xCIt_82WF"
      },
      "source": [
        "\\* Describe your findings in this text cell. \\*"
      ]
    },
    {
      "cell_type": "markdown",
      "metadata": {
        "id": "kotdLszxHWWJ"
      },
      "source": [
        "## Submission"
      ]
    },
    {
      "cell_type": "markdown",
      "metadata": {
        "id": "-onu93vgG2-U"
      },
      "source": [
        "Turn in the following files on Gradescope:\n",
        "* proj_2.ipynb (this file; please rename to match)\n",
        "* predictions.json (the predictions file generated by running the cell below)\n",
        "* report.pdf\n",
        "\n",
        "Be sure to check the output of the autograder after it runs.  It should confirm that no files are missing and that the output files have the correct format.\n",
        "\n",
        "The code below will generate the required predictions file.  **Note** that it is designed to create the file even if some required elements are missing so that you can submit for partial credit.  If you want full credit, you should check the output to make sure there are no warnings indicating missing portions."
      ]
    },
    {
      "cell_type": "code",
      "execution_count": 440,
      "metadata": {
        "id": "u46sp3zlG7Tg",
        "colab": {
          "base_uri": "https://localhost:8080/"
        },
        "outputId": "c31284be-7e7b-4b06-b774-9cd2fae6bc87"
      },
      "outputs": [
        {
          "output_type": "stream",
          "name": "stdout",
          "text": [
            "Getting predictions for baseline model on validation set using greedy search...\n",
            "Getting predictions for baseline model on validation set using beam search...\n",
            "!!! WARNING: An exception was raised, setting predictions to None !!!\n",
            "Getting predictions for baseline model on test set using greedy search...\n",
            "Getting predictions for baseline model on test set using beam search...\n",
            "!!! WARNING: An exception was raised, setting predictions to None !!!\n",
            "Getting predictions for attention model on validation set using greedy search...\n",
            "Getting predictions for attention model on validation set using beam search...\n",
            "!!! WARNING: An exception was raised, setting predictions to None !!!\n",
            "Getting predictions for attention model on test set using greedy search...\n",
            "Getting predictions for attention model on test set using beam search...\n",
            "!!! WARNING: An exception was raised, setting predictions to None !!!\n",
            "Writing predictions to predictions.json...\n",
            "Finished writing predictions to predictions.json.\n"
          ]
        }
      ],
      "source": [
        "# Run this cell to generate the predictions.json file required for submission.\n",
        "\n",
        "def get_raw_predictions(model, dataset, method, batch_size=64):\n",
        "  assert method in {\"greedy\", \"beam\"}\n",
        "  source_sentences = [example.src for example in dataset]\n",
        "  target_sentences = [example.trg for example in dataset]\n",
        "  model.eval()\n",
        "  predictions = []\n",
        "  with torch.no_grad():\n",
        "    for start_index in range(0, len(source_sentences), batch_size):\n",
        "      if method == \"greedy\":\n",
        "        prediction_batch = predict_greedy(\n",
        "            model, source_sentences[start_index:start_index + batch_size])\n",
        "      else:\n",
        "        prediction_batch = predict_beam(\n",
        "            model, source_sentences[start_index:start_index + batch_size])\n",
        "      predictions.extend(prediction_batch)\n",
        "  return predictions\n",
        "\n",
        "def generate_predictions_file_for_submission(filepath):\n",
        "  models = {\"baseline\": baseline_model, \"attention\": attention_model}\n",
        "  datasets = {\"validation\": validation_data, \"test\": test_data}\n",
        "  methods = [\"greedy\", \"beam\"]\n",
        "  predictions = {}\n",
        "  for model_name, model in models.items():\n",
        "    for dataset_name, dataset in datasets.items():\n",
        "      for method in methods:\n",
        "        print(\n",
        "            \"Getting predictions for {} model on {} set using {} \"\n",
        "            \"search...\".format(model_name, dataset_name, method))\n",
        "        if model_name not in predictions:\n",
        "          predictions[model_name] = {}\n",
        "        if dataset_name not in predictions[model_name]:\n",
        "          predictions[model_name][dataset_name] = {}\n",
        "        try:\n",
        "          predictions[model_name][dataset_name][method] = get_raw_predictions(\n",
        "              model, dataset, method)\n",
        "        except:\n",
        "          print(\"!!! WARNING: An exception was raised, setting predictions to None !!!\")\n",
        "          predictions[model_name][dataset_name][method] = None\n",
        "  print(\"Writing predictions to {}...\".format(filepath))\n",
        "  with open(filepath, \"w\") as outfile:\n",
        "    json.dump(predictions, outfile, indent=2)\n",
        "  print(\"Finished writing predictions to {}.\".format(filepath))\n",
        "\n",
        "generate_predictions_file_for_submission(\"predictions.json\")"
      ]
    },
    {
      "cell_type": "code",
      "source": [
        ""
      ],
      "metadata": {
        "id": "Qd43dGT4cOux"
      },
      "execution_count": null,
      "outputs": []
    }
  ],
  "metadata": {
    "accelerator": "GPU",
    "colab": {
      "collapsed_sections": [],
      "name": "HW2b",
      "provenance": []
    },
    "kernelspec": {
      "display_name": "Python 3",
      "language": "python",
      "name": "python3"
    },
    "language_info": {
      "codemirror_mode": {
        "name": "ipython",
        "version": 3
      },
      "file_extension": ".py",
      "mimetype": "text/x-python",
      "name": "python",
      "nbconvert_exporter": "python",
      "pygments_lexer": "ipython3",
      "version": "3.6.4"
    },
    "widgets": {
      "application/vnd.jupyter.widget-state+json": {
        "a044246bfeee474b86857b322537c9c1": {
          "model_module": "@jupyter-widgets/controls",
          "model_name": "HBoxModel",
          "model_module_version": "1.5.0",
          "state": {
            "_view_name": "HBoxView",
            "_dom_classes": [],
            "_model_name": "HBoxModel",
            "_view_module": "@jupyter-widgets/controls",
            "_model_module_version": "1.5.0",
            "_view_count": null,
            "_view_module_version": "1.5.0",
            "box_style": "",
            "layout": "IPY_MODEL_c19b055c866a47a08cee4cc9935c28c7",
            "_model_module": "@jupyter-widgets/controls",
            "children": [
              "IPY_MODEL_b34ad5f861d14f768d9de58dbccf6067",
              "IPY_MODEL_02ad245778354450ad8c80b82a186fef",
              "IPY_MODEL_85986629237a4959b670e755427aa6f0"
            ]
          }
        },
        "c19b055c866a47a08cee4cc9935c28c7": {
          "model_module": "@jupyter-widgets/base",
          "model_name": "LayoutModel",
          "model_module_version": "1.2.0",
          "state": {
            "_view_name": "LayoutView",
            "grid_template_rows": null,
            "right": null,
            "justify_content": null,
            "_view_module": "@jupyter-widgets/base",
            "overflow": null,
            "_model_module_version": "1.2.0",
            "_view_count": null,
            "flex_flow": null,
            "width": null,
            "min_width": null,
            "border": null,
            "align_items": null,
            "bottom": null,
            "_model_module": "@jupyter-widgets/base",
            "top": null,
            "grid_column": null,
            "overflow_y": null,
            "overflow_x": null,
            "grid_auto_flow": null,
            "grid_area": null,
            "grid_template_columns": null,
            "flex": null,
            "_model_name": "LayoutModel",
            "justify_items": null,
            "grid_row": null,
            "max_height": null,
            "align_content": null,
            "visibility": null,
            "align_self": null,
            "height": null,
            "min_height": null,
            "padding": null,
            "grid_auto_rows": null,
            "grid_gap": null,
            "max_width": null,
            "order": null,
            "_view_module_version": "1.2.0",
            "grid_template_areas": null,
            "object_position": null,
            "object_fit": null,
            "grid_auto_columns": null,
            "margin": null,
            "display": null,
            "left": null
          }
        },
        "b34ad5f861d14f768d9de58dbccf6067": {
          "model_module": "@jupyter-widgets/controls",
          "model_name": "HTMLModel",
          "model_module_version": "1.5.0",
          "state": {
            "_view_name": "HTMLView",
            "style": "IPY_MODEL_15b4d9e625524c859ddd1eb5ca414e78",
            "_dom_classes": [],
            "description": "",
            "_model_name": "HTMLModel",
            "placeholder": "​",
            "_view_module": "@jupyter-widgets/controls",
            "_model_module_version": "1.5.0",
            "value": "training: 100%",
            "_view_count": null,
            "_view_module_version": "1.5.0",
            "description_tooltip": null,
            "_model_module": "@jupyter-widgets/controls",
            "layout": "IPY_MODEL_c48ce831585f463fb24688e94b64cf8a"
          }
        },
        "02ad245778354450ad8c80b82a186fef": {
          "model_module": "@jupyter-widgets/controls",
          "model_name": "FloatProgressModel",
          "model_module_version": "1.5.0",
          "state": {
            "_view_name": "ProgressView",
            "style": "IPY_MODEL_62748981890a4d82a7d7fe5a10104520",
            "_dom_classes": [],
            "description": "",
            "_model_name": "FloatProgressModel",
            "bar_style": "success",
            "max": 10,
            "_view_module": "@jupyter-widgets/controls",
            "_model_module_version": "1.5.0",
            "value": 10,
            "_view_count": null,
            "_view_module_version": "1.5.0",
            "orientation": "horizontal",
            "min": 0,
            "description_tooltip": null,
            "_model_module": "@jupyter-widgets/controls",
            "layout": "IPY_MODEL_7ec589d50d24483b9430758c0d45c54b"
          }
        },
        "85986629237a4959b670e755427aa6f0": {
          "model_module": "@jupyter-widgets/controls",
          "model_name": "HTMLModel",
          "model_module_version": "1.5.0",
          "state": {
            "_view_name": "HTMLView",
            "style": "IPY_MODEL_2f7f0eb990c64df9b6b25c59fa522214",
            "_dom_classes": [],
            "description": "",
            "_model_name": "HTMLModel",
            "placeholder": "​",
            "_view_module": "@jupyter-widgets/controls",
            "_model_module_version": "1.5.0",
            "value": " 10/10 [06:09&lt;00:00, 36.88s/epoch]",
            "_view_count": null,
            "_view_module_version": "1.5.0",
            "description_tooltip": null,
            "_model_module": "@jupyter-widgets/controls",
            "layout": "IPY_MODEL_87850a750e2b49d7b864ed9a64dce640"
          }
        },
        "15b4d9e625524c859ddd1eb5ca414e78": {
          "model_module": "@jupyter-widgets/controls",
          "model_name": "DescriptionStyleModel",
          "model_module_version": "1.5.0",
          "state": {
            "_view_name": "StyleView",
            "_model_name": "DescriptionStyleModel",
            "description_width": "",
            "_view_module": "@jupyter-widgets/base",
            "_model_module_version": "1.5.0",
            "_view_count": null,
            "_view_module_version": "1.2.0",
            "_model_module": "@jupyter-widgets/controls"
          }
        },
        "c48ce831585f463fb24688e94b64cf8a": {
          "model_module": "@jupyter-widgets/base",
          "model_name": "LayoutModel",
          "model_module_version": "1.2.0",
          "state": {
            "_view_name": "LayoutView",
            "grid_template_rows": null,
            "right": null,
            "justify_content": null,
            "_view_module": "@jupyter-widgets/base",
            "overflow": null,
            "_model_module_version": "1.2.0",
            "_view_count": null,
            "flex_flow": null,
            "width": null,
            "min_width": null,
            "border": null,
            "align_items": null,
            "bottom": null,
            "_model_module": "@jupyter-widgets/base",
            "top": null,
            "grid_column": null,
            "overflow_y": null,
            "overflow_x": null,
            "grid_auto_flow": null,
            "grid_area": null,
            "grid_template_columns": null,
            "flex": null,
            "_model_name": "LayoutModel",
            "justify_items": null,
            "grid_row": null,
            "max_height": null,
            "align_content": null,
            "visibility": null,
            "align_self": null,
            "height": null,
            "min_height": null,
            "padding": null,
            "grid_auto_rows": null,
            "grid_gap": null,
            "max_width": null,
            "order": null,
            "_view_module_version": "1.2.0",
            "grid_template_areas": null,
            "object_position": null,
            "object_fit": null,
            "grid_auto_columns": null,
            "margin": null,
            "display": null,
            "left": null
          }
        },
        "62748981890a4d82a7d7fe5a10104520": {
          "model_module": "@jupyter-widgets/controls",
          "model_name": "ProgressStyleModel",
          "model_module_version": "1.5.0",
          "state": {
            "_view_name": "StyleView",
            "_model_name": "ProgressStyleModel",
            "description_width": "",
            "_view_module": "@jupyter-widgets/base",
            "_model_module_version": "1.5.0",
            "_view_count": null,
            "_view_module_version": "1.2.0",
            "bar_color": null,
            "_model_module": "@jupyter-widgets/controls"
          }
        },
        "7ec589d50d24483b9430758c0d45c54b": {
          "model_module": "@jupyter-widgets/base",
          "model_name": "LayoutModel",
          "model_module_version": "1.2.0",
          "state": {
            "_view_name": "LayoutView",
            "grid_template_rows": null,
            "right": null,
            "justify_content": null,
            "_view_module": "@jupyter-widgets/base",
            "overflow": null,
            "_model_module_version": "1.2.0",
            "_view_count": null,
            "flex_flow": null,
            "width": null,
            "min_width": null,
            "border": null,
            "align_items": null,
            "bottom": null,
            "_model_module": "@jupyter-widgets/base",
            "top": null,
            "grid_column": null,
            "overflow_y": null,
            "overflow_x": null,
            "grid_auto_flow": null,
            "grid_area": null,
            "grid_template_columns": null,
            "flex": null,
            "_model_name": "LayoutModel",
            "justify_items": null,
            "grid_row": null,
            "max_height": null,
            "align_content": null,
            "visibility": null,
            "align_self": null,
            "height": null,
            "min_height": null,
            "padding": null,
            "grid_auto_rows": null,
            "grid_gap": null,
            "max_width": null,
            "order": null,
            "_view_module_version": "1.2.0",
            "grid_template_areas": null,
            "object_position": null,
            "object_fit": null,
            "grid_auto_columns": null,
            "margin": null,
            "display": null,
            "left": null
          }
        },
        "2f7f0eb990c64df9b6b25c59fa522214": {
          "model_module": "@jupyter-widgets/controls",
          "model_name": "DescriptionStyleModel",
          "model_module_version": "1.5.0",
          "state": {
            "_view_name": "StyleView",
            "_model_name": "DescriptionStyleModel",
            "description_width": "",
            "_view_module": "@jupyter-widgets/base",
            "_model_module_version": "1.5.0",
            "_view_count": null,
            "_view_module_version": "1.2.0",
            "_model_module": "@jupyter-widgets/controls"
          }
        },
        "87850a750e2b49d7b864ed9a64dce640": {
          "model_module": "@jupyter-widgets/base",
          "model_name": "LayoutModel",
          "model_module_version": "1.2.0",
          "state": {
            "_view_name": "LayoutView",
            "grid_template_rows": null,
            "right": null,
            "justify_content": null,
            "_view_module": "@jupyter-widgets/base",
            "overflow": null,
            "_model_module_version": "1.2.0",
            "_view_count": null,
            "flex_flow": null,
            "width": null,
            "min_width": null,
            "border": null,
            "align_items": null,
            "bottom": null,
            "_model_module": "@jupyter-widgets/base",
            "top": null,
            "grid_column": null,
            "overflow_y": null,
            "overflow_x": null,
            "grid_auto_flow": null,
            "grid_area": null,
            "grid_template_columns": null,
            "flex": null,
            "_model_name": "LayoutModel",
            "justify_items": null,
            "grid_row": null,
            "max_height": null,
            "align_content": null,
            "visibility": null,
            "align_self": null,
            "height": null,
            "min_height": null,
            "padding": null,
            "grid_auto_rows": null,
            "grid_gap": null,
            "max_width": null,
            "order": null,
            "_view_module_version": "1.2.0",
            "grid_template_areas": null,
            "object_position": null,
            "object_fit": null,
            "grid_auto_columns": null,
            "margin": null,
            "display": null,
            "left": null
          }
        },
        "2a6f4418eb304787b0293cbc5f8adb07": {
          "model_module": "@jupyter-widgets/controls",
          "model_name": "HBoxModel",
          "model_module_version": "1.5.0",
          "state": {
            "_view_name": "HBoxView",
            "_dom_classes": [],
            "_model_name": "HBoxModel",
            "_view_module": "@jupyter-widgets/controls",
            "_model_module_version": "1.5.0",
            "_view_count": null,
            "_view_module_version": "1.5.0",
            "box_style": "",
            "layout": "IPY_MODEL_10bd78d99bc543afb061bf7b5c7fe35b",
            "_model_module": "@jupyter-widgets/controls",
            "children": [
              "IPY_MODEL_5c97ac74c6804517bc2a133854b9e50f",
              "IPY_MODEL_ecfca524c62346c5a6c3a26d233a2dd2",
              "IPY_MODEL_59ec8861eb6549dfbec5ad9145668591"
            ]
          }
        },
        "10bd78d99bc543afb061bf7b5c7fe35b": {
          "model_module": "@jupyter-widgets/base",
          "model_name": "LayoutModel",
          "model_module_version": "1.2.0",
          "state": {
            "_view_name": "LayoutView",
            "grid_template_rows": null,
            "right": null,
            "justify_content": null,
            "_view_module": "@jupyter-widgets/base",
            "overflow": null,
            "_model_module_version": "1.2.0",
            "_view_count": null,
            "flex_flow": null,
            "width": null,
            "min_width": null,
            "border": null,
            "align_items": null,
            "bottom": null,
            "_model_module": "@jupyter-widgets/base",
            "top": null,
            "grid_column": null,
            "overflow_y": null,
            "overflow_x": null,
            "grid_auto_flow": null,
            "grid_area": null,
            "grid_template_columns": null,
            "flex": null,
            "_model_name": "LayoutModel",
            "justify_items": null,
            "grid_row": null,
            "max_height": null,
            "align_content": null,
            "visibility": null,
            "align_self": null,
            "height": null,
            "min_height": null,
            "padding": null,
            "grid_auto_rows": null,
            "grid_gap": null,
            "max_width": null,
            "order": null,
            "_view_module_version": "1.2.0",
            "grid_template_areas": null,
            "object_position": null,
            "object_fit": null,
            "grid_auto_columns": null,
            "margin": null,
            "display": null,
            "left": null
          }
        },
        "5c97ac74c6804517bc2a133854b9e50f": {
          "model_module": "@jupyter-widgets/controls",
          "model_name": "HTMLModel",
          "model_module_version": "1.5.0",
          "state": {
            "_view_name": "HTMLView",
            "style": "IPY_MODEL_b3b2b667cbd64785addaa02122babf02",
            "_dom_classes": [],
            "description": "",
            "_model_name": "HTMLModel",
            "placeholder": "​",
            "_view_module": "@jupyter-widgets/controls",
            "_model_module_version": "1.5.0",
            "value": "epoch 1: 100%",
            "_view_count": null,
            "_view_module_version": "1.5.0",
            "description_tooltip": null,
            "_model_module": "@jupyter-widgets/controls",
            "layout": "IPY_MODEL_113a101bab7d4fd5bc4e3029fdc91cb7"
          }
        },
        "ecfca524c62346c5a6c3a26d233a2dd2": {
          "model_module": "@jupyter-widgets/controls",
          "model_name": "FloatProgressModel",
          "model_module_version": "1.5.0",
          "state": {
            "_view_name": "ProgressView",
            "style": "IPY_MODEL_8b9219b9939e4a6e82314910ed6da0c9",
            "_dom_classes": [],
            "description": "",
            "_model_name": "FloatProgressModel",
            "bar_style": "success",
            "max": 1813,
            "_view_module": "@jupyter-widgets/controls",
            "_model_module_version": "1.5.0",
            "value": 1813,
            "_view_count": null,
            "_view_module_version": "1.5.0",
            "orientation": "horizontal",
            "min": 0,
            "description_tooltip": null,
            "_model_module": "@jupyter-widgets/controls",
            "layout": "IPY_MODEL_c944a0a1d4434663b9a107d954beea33"
          }
        },
        "59ec8861eb6549dfbec5ad9145668591": {
          "model_module": "@jupyter-widgets/controls",
          "model_name": "HTMLModel",
          "model_module_version": "1.5.0",
          "state": {
            "_view_name": "HTMLView",
            "style": "IPY_MODEL_bca0f577a7134365b48b877ce22fd097",
            "_dom_classes": [],
            "description": "",
            "_model_name": "HTMLModel",
            "placeholder": "​",
            "_view_module": "@jupyter-widgets/controls",
            "_model_module_version": "1.5.0",
            "value": " 1813/1813 [00:36&lt;00:00, 48.50batch/s, mean_loss=862]",
            "_view_count": null,
            "_view_module_version": "1.5.0",
            "description_tooltip": null,
            "_model_module": "@jupyter-widgets/controls",
            "layout": "IPY_MODEL_55ed58b7417b4a59b7d2f4bc32b3be5e"
          }
        },
        "b3b2b667cbd64785addaa02122babf02": {
          "model_module": "@jupyter-widgets/controls",
          "model_name": "DescriptionStyleModel",
          "model_module_version": "1.5.0",
          "state": {
            "_view_name": "StyleView",
            "_model_name": "DescriptionStyleModel",
            "description_width": "",
            "_view_module": "@jupyter-widgets/base",
            "_model_module_version": "1.5.0",
            "_view_count": null,
            "_view_module_version": "1.2.0",
            "_model_module": "@jupyter-widgets/controls"
          }
        },
        "113a101bab7d4fd5bc4e3029fdc91cb7": {
          "model_module": "@jupyter-widgets/base",
          "model_name": "LayoutModel",
          "model_module_version": "1.2.0",
          "state": {
            "_view_name": "LayoutView",
            "grid_template_rows": null,
            "right": null,
            "justify_content": null,
            "_view_module": "@jupyter-widgets/base",
            "overflow": null,
            "_model_module_version": "1.2.0",
            "_view_count": null,
            "flex_flow": null,
            "width": null,
            "min_width": null,
            "border": null,
            "align_items": null,
            "bottom": null,
            "_model_module": "@jupyter-widgets/base",
            "top": null,
            "grid_column": null,
            "overflow_y": null,
            "overflow_x": null,
            "grid_auto_flow": null,
            "grid_area": null,
            "grid_template_columns": null,
            "flex": null,
            "_model_name": "LayoutModel",
            "justify_items": null,
            "grid_row": null,
            "max_height": null,
            "align_content": null,
            "visibility": null,
            "align_self": null,
            "height": null,
            "min_height": null,
            "padding": null,
            "grid_auto_rows": null,
            "grid_gap": null,
            "max_width": null,
            "order": null,
            "_view_module_version": "1.2.0",
            "grid_template_areas": null,
            "object_position": null,
            "object_fit": null,
            "grid_auto_columns": null,
            "margin": null,
            "display": null,
            "left": null
          }
        },
        "8b9219b9939e4a6e82314910ed6da0c9": {
          "model_module": "@jupyter-widgets/controls",
          "model_name": "ProgressStyleModel",
          "model_module_version": "1.5.0",
          "state": {
            "_view_name": "StyleView",
            "_model_name": "ProgressStyleModel",
            "description_width": "",
            "_view_module": "@jupyter-widgets/base",
            "_model_module_version": "1.5.0",
            "_view_count": null,
            "_view_module_version": "1.2.0",
            "bar_color": null,
            "_model_module": "@jupyter-widgets/controls"
          }
        },
        "c944a0a1d4434663b9a107d954beea33": {
          "model_module": "@jupyter-widgets/base",
          "model_name": "LayoutModel",
          "model_module_version": "1.2.0",
          "state": {
            "_view_name": "LayoutView",
            "grid_template_rows": null,
            "right": null,
            "justify_content": null,
            "_view_module": "@jupyter-widgets/base",
            "overflow": null,
            "_model_module_version": "1.2.0",
            "_view_count": null,
            "flex_flow": null,
            "width": null,
            "min_width": null,
            "border": null,
            "align_items": null,
            "bottom": null,
            "_model_module": "@jupyter-widgets/base",
            "top": null,
            "grid_column": null,
            "overflow_y": null,
            "overflow_x": null,
            "grid_auto_flow": null,
            "grid_area": null,
            "grid_template_columns": null,
            "flex": null,
            "_model_name": "LayoutModel",
            "justify_items": null,
            "grid_row": null,
            "max_height": null,
            "align_content": null,
            "visibility": null,
            "align_self": null,
            "height": null,
            "min_height": null,
            "padding": null,
            "grid_auto_rows": null,
            "grid_gap": null,
            "max_width": null,
            "order": null,
            "_view_module_version": "1.2.0",
            "grid_template_areas": null,
            "object_position": null,
            "object_fit": null,
            "grid_auto_columns": null,
            "margin": null,
            "display": null,
            "left": null
          }
        },
        "bca0f577a7134365b48b877ce22fd097": {
          "model_module": "@jupyter-widgets/controls",
          "model_name": "DescriptionStyleModel",
          "model_module_version": "1.5.0",
          "state": {
            "_view_name": "StyleView",
            "_model_name": "DescriptionStyleModel",
            "description_width": "",
            "_view_module": "@jupyter-widgets/base",
            "_model_module_version": "1.5.0",
            "_view_count": null,
            "_view_module_version": "1.2.0",
            "_model_module": "@jupyter-widgets/controls"
          }
        },
        "55ed58b7417b4a59b7d2f4bc32b3be5e": {
          "model_module": "@jupyter-widgets/base",
          "model_name": "LayoutModel",
          "model_module_version": "1.2.0",
          "state": {
            "_view_name": "LayoutView",
            "grid_template_rows": null,
            "right": null,
            "justify_content": null,
            "_view_module": "@jupyter-widgets/base",
            "overflow": null,
            "_model_module_version": "1.2.0",
            "_view_count": null,
            "flex_flow": null,
            "width": null,
            "min_width": null,
            "border": null,
            "align_items": null,
            "bottom": null,
            "_model_module": "@jupyter-widgets/base",
            "top": null,
            "grid_column": null,
            "overflow_y": null,
            "overflow_x": null,
            "grid_auto_flow": null,
            "grid_area": null,
            "grid_template_columns": null,
            "flex": null,
            "_model_name": "LayoutModel",
            "justify_items": null,
            "grid_row": null,
            "max_height": null,
            "align_content": null,
            "visibility": null,
            "align_self": null,
            "height": null,
            "min_height": null,
            "padding": null,
            "grid_auto_rows": null,
            "grid_gap": null,
            "max_width": null,
            "order": null,
            "_view_module_version": "1.2.0",
            "grid_template_areas": null,
            "object_position": null,
            "object_fit": null,
            "grid_auto_columns": null,
            "margin": null,
            "display": null,
            "left": null
          }
        },
        "005e2f3738ae44dfa6967758241c6118": {
          "model_module": "@jupyter-widgets/controls",
          "model_name": "HBoxModel",
          "model_module_version": "1.5.0",
          "state": {
            "_view_name": "HBoxView",
            "_dom_classes": [],
            "_model_name": "HBoxModel",
            "_view_module": "@jupyter-widgets/controls",
            "_model_module_version": "1.5.0",
            "_view_count": null,
            "_view_module_version": "1.5.0",
            "box_style": "",
            "layout": "IPY_MODEL_f2ab72db204f4c8aaea4e4d0eb902b16",
            "_model_module": "@jupyter-widgets/controls",
            "children": [
              "IPY_MODEL_4ec060dd5c3c4ba697ab3e4be161dcf9",
              "IPY_MODEL_1e133912e62e4ed7b2726d1197654489",
              "IPY_MODEL_f753779a781d43d8b3e924c6b766dd00"
            ]
          }
        },
        "f2ab72db204f4c8aaea4e4d0eb902b16": {
          "model_module": "@jupyter-widgets/base",
          "model_name": "LayoutModel",
          "model_module_version": "1.2.0",
          "state": {
            "_view_name": "LayoutView",
            "grid_template_rows": null,
            "right": null,
            "justify_content": null,
            "_view_module": "@jupyter-widgets/base",
            "overflow": null,
            "_model_module_version": "1.2.0",
            "_view_count": null,
            "flex_flow": null,
            "width": null,
            "min_width": null,
            "border": null,
            "align_items": null,
            "bottom": null,
            "_model_module": "@jupyter-widgets/base",
            "top": null,
            "grid_column": null,
            "overflow_y": null,
            "overflow_x": null,
            "grid_auto_flow": null,
            "grid_area": null,
            "grid_template_columns": null,
            "flex": null,
            "_model_name": "LayoutModel",
            "justify_items": null,
            "grid_row": null,
            "max_height": null,
            "align_content": null,
            "visibility": null,
            "align_self": null,
            "height": null,
            "min_height": null,
            "padding": null,
            "grid_auto_rows": null,
            "grid_gap": null,
            "max_width": null,
            "order": null,
            "_view_module_version": "1.2.0",
            "grid_template_areas": null,
            "object_position": null,
            "object_fit": null,
            "grid_auto_columns": null,
            "margin": null,
            "display": null,
            "left": null
          }
        },
        "4ec060dd5c3c4ba697ab3e4be161dcf9": {
          "model_module": "@jupyter-widgets/controls",
          "model_name": "HTMLModel",
          "model_module_version": "1.5.0",
          "state": {
            "_view_name": "HTMLView",
            "style": "IPY_MODEL_8dc1cf3ed1514398abcefdf42c8e644f",
            "_dom_classes": [],
            "description": "",
            "_model_name": "HTMLModel",
            "placeholder": "​",
            "_view_module": "@jupyter-widgets/controls",
            "_model_module_version": "1.5.0",
            "value": "epoch 2: 100%",
            "_view_count": null,
            "_view_module_version": "1.5.0",
            "description_tooltip": null,
            "_model_module": "@jupyter-widgets/controls",
            "layout": "IPY_MODEL_dda39b75daec49a4aa7c6bd743e3e5dc"
          }
        },
        "1e133912e62e4ed7b2726d1197654489": {
          "model_module": "@jupyter-widgets/controls",
          "model_name": "FloatProgressModel",
          "model_module_version": "1.5.0",
          "state": {
            "_view_name": "ProgressView",
            "style": "IPY_MODEL_fd78f0665f7d4d45bb4ed77221fe0cae",
            "_dom_classes": [],
            "description": "",
            "_model_name": "FloatProgressModel",
            "bar_style": "success",
            "max": 1813,
            "_view_module": "@jupyter-widgets/controls",
            "_model_module_version": "1.5.0",
            "value": 1813,
            "_view_count": null,
            "_view_module_version": "1.5.0",
            "orientation": "horizontal",
            "min": 0,
            "description_tooltip": null,
            "_model_module": "@jupyter-widgets/controls",
            "layout": "IPY_MODEL_1ac1551343aa4079b4490fc5ccd239e0"
          }
        },
        "f753779a781d43d8b3e924c6b766dd00": {
          "model_module": "@jupyter-widgets/controls",
          "model_name": "HTMLModel",
          "model_module_version": "1.5.0",
          "state": {
            "_view_name": "HTMLView",
            "style": "IPY_MODEL_c956ee3ca8f34cbf8230a1f3fb04f37b",
            "_dom_classes": [],
            "description": "",
            "_model_name": "HTMLModel",
            "placeholder": "​",
            "_view_module": "@jupyter-widgets/controls",
            "_model_module_version": "1.5.0",
            "value": " 1813/1813 [00:36&lt;00:00, 49.86batch/s, mean_loss=605]",
            "_view_count": null,
            "_view_module_version": "1.5.0",
            "description_tooltip": null,
            "_model_module": "@jupyter-widgets/controls",
            "layout": "IPY_MODEL_297b0bbf046245979e77bb46b6d62723"
          }
        },
        "8dc1cf3ed1514398abcefdf42c8e644f": {
          "model_module": "@jupyter-widgets/controls",
          "model_name": "DescriptionStyleModel",
          "model_module_version": "1.5.0",
          "state": {
            "_view_name": "StyleView",
            "_model_name": "DescriptionStyleModel",
            "description_width": "",
            "_view_module": "@jupyter-widgets/base",
            "_model_module_version": "1.5.0",
            "_view_count": null,
            "_view_module_version": "1.2.0",
            "_model_module": "@jupyter-widgets/controls"
          }
        },
        "dda39b75daec49a4aa7c6bd743e3e5dc": {
          "model_module": "@jupyter-widgets/base",
          "model_name": "LayoutModel",
          "model_module_version": "1.2.0",
          "state": {
            "_view_name": "LayoutView",
            "grid_template_rows": null,
            "right": null,
            "justify_content": null,
            "_view_module": "@jupyter-widgets/base",
            "overflow": null,
            "_model_module_version": "1.2.0",
            "_view_count": null,
            "flex_flow": null,
            "width": null,
            "min_width": null,
            "border": null,
            "align_items": null,
            "bottom": null,
            "_model_module": "@jupyter-widgets/base",
            "top": null,
            "grid_column": null,
            "overflow_y": null,
            "overflow_x": null,
            "grid_auto_flow": null,
            "grid_area": null,
            "grid_template_columns": null,
            "flex": null,
            "_model_name": "LayoutModel",
            "justify_items": null,
            "grid_row": null,
            "max_height": null,
            "align_content": null,
            "visibility": null,
            "align_self": null,
            "height": null,
            "min_height": null,
            "padding": null,
            "grid_auto_rows": null,
            "grid_gap": null,
            "max_width": null,
            "order": null,
            "_view_module_version": "1.2.0",
            "grid_template_areas": null,
            "object_position": null,
            "object_fit": null,
            "grid_auto_columns": null,
            "margin": null,
            "display": null,
            "left": null
          }
        },
        "fd78f0665f7d4d45bb4ed77221fe0cae": {
          "model_module": "@jupyter-widgets/controls",
          "model_name": "ProgressStyleModel",
          "model_module_version": "1.5.0",
          "state": {
            "_view_name": "StyleView",
            "_model_name": "ProgressStyleModel",
            "description_width": "",
            "_view_module": "@jupyter-widgets/base",
            "_model_module_version": "1.5.0",
            "_view_count": null,
            "_view_module_version": "1.2.0",
            "bar_color": null,
            "_model_module": "@jupyter-widgets/controls"
          }
        },
        "1ac1551343aa4079b4490fc5ccd239e0": {
          "model_module": "@jupyter-widgets/base",
          "model_name": "LayoutModel",
          "model_module_version": "1.2.0",
          "state": {
            "_view_name": "LayoutView",
            "grid_template_rows": null,
            "right": null,
            "justify_content": null,
            "_view_module": "@jupyter-widgets/base",
            "overflow": null,
            "_model_module_version": "1.2.0",
            "_view_count": null,
            "flex_flow": null,
            "width": null,
            "min_width": null,
            "border": null,
            "align_items": null,
            "bottom": null,
            "_model_module": "@jupyter-widgets/base",
            "top": null,
            "grid_column": null,
            "overflow_y": null,
            "overflow_x": null,
            "grid_auto_flow": null,
            "grid_area": null,
            "grid_template_columns": null,
            "flex": null,
            "_model_name": "LayoutModel",
            "justify_items": null,
            "grid_row": null,
            "max_height": null,
            "align_content": null,
            "visibility": null,
            "align_self": null,
            "height": null,
            "min_height": null,
            "padding": null,
            "grid_auto_rows": null,
            "grid_gap": null,
            "max_width": null,
            "order": null,
            "_view_module_version": "1.2.0",
            "grid_template_areas": null,
            "object_position": null,
            "object_fit": null,
            "grid_auto_columns": null,
            "margin": null,
            "display": null,
            "left": null
          }
        },
        "c956ee3ca8f34cbf8230a1f3fb04f37b": {
          "model_module": "@jupyter-widgets/controls",
          "model_name": "DescriptionStyleModel",
          "model_module_version": "1.5.0",
          "state": {
            "_view_name": "StyleView",
            "_model_name": "DescriptionStyleModel",
            "description_width": "",
            "_view_module": "@jupyter-widgets/base",
            "_model_module_version": "1.5.0",
            "_view_count": null,
            "_view_module_version": "1.2.0",
            "_model_module": "@jupyter-widgets/controls"
          }
        },
        "297b0bbf046245979e77bb46b6d62723": {
          "model_module": "@jupyter-widgets/base",
          "model_name": "LayoutModel",
          "model_module_version": "1.2.0",
          "state": {
            "_view_name": "LayoutView",
            "grid_template_rows": null,
            "right": null,
            "justify_content": null,
            "_view_module": "@jupyter-widgets/base",
            "overflow": null,
            "_model_module_version": "1.2.0",
            "_view_count": null,
            "flex_flow": null,
            "width": null,
            "min_width": null,
            "border": null,
            "align_items": null,
            "bottom": null,
            "_model_module": "@jupyter-widgets/base",
            "top": null,
            "grid_column": null,
            "overflow_y": null,
            "overflow_x": null,
            "grid_auto_flow": null,
            "grid_area": null,
            "grid_template_columns": null,
            "flex": null,
            "_model_name": "LayoutModel",
            "justify_items": null,
            "grid_row": null,
            "max_height": null,
            "align_content": null,
            "visibility": null,
            "align_self": null,
            "height": null,
            "min_height": null,
            "padding": null,
            "grid_auto_rows": null,
            "grid_gap": null,
            "max_width": null,
            "order": null,
            "_view_module_version": "1.2.0",
            "grid_template_areas": null,
            "object_position": null,
            "object_fit": null,
            "grid_auto_columns": null,
            "margin": null,
            "display": null,
            "left": null
          }
        },
        "79a74baa58714aa79f472c93152f4967": {
          "model_module": "@jupyter-widgets/controls",
          "model_name": "HBoxModel",
          "model_module_version": "1.5.0",
          "state": {
            "_view_name": "HBoxView",
            "_dom_classes": [],
            "_model_name": "HBoxModel",
            "_view_module": "@jupyter-widgets/controls",
            "_model_module_version": "1.5.0",
            "_view_count": null,
            "_view_module_version": "1.5.0",
            "box_style": "",
            "layout": "IPY_MODEL_0b75d79435a34953b0fc22359a4b0f3a",
            "_model_module": "@jupyter-widgets/controls",
            "children": [
              "IPY_MODEL_995a366a85a8473887e829af2118e5f6",
              "IPY_MODEL_3ca13556381e4087939cf453eddb48f5",
              "IPY_MODEL_9b3566e980644b4aac469e01c2d57b32"
            ]
          }
        },
        "0b75d79435a34953b0fc22359a4b0f3a": {
          "model_module": "@jupyter-widgets/base",
          "model_name": "LayoutModel",
          "model_module_version": "1.2.0",
          "state": {
            "_view_name": "LayoutView",
            "grid_template_rows": null,
            "right": null,
            "justify_content": null,
            "_view_module": "@jupyter-widgets/base",
            "overflow": null,
            "_model_module_version": "1.2.0",
            "_view_count": null,
            "flex_flow": null,
            "width": null,
            "min_width": null,
            "border": null,
            "align_items": null,
            "bottom": null,
            "_model_module": "@jupyter-widgets/base",
            "top": null,
            "grid_column": null,
            "overflow_y": null,
            "overflow_x": null,
            "grid_auto_flow": null,
            "grid_area": null,
            "grid_template_columns": null,
            "flex": null,
            "_model_name": "LayoutModel",
            "justify_items": null,
            "grid_row": null,
            "max_height": null,
            "align_content": null,
            "visibility": null,
            "align_self": null,
            "height": null,
            "min_height": null,
            "padding": null,
            "grid_auto_rows": null,
            "grid_gap": null,
            "max_width": null,
            "order": null,
            "_view_module_version": "1.2.0",
            "grid_template_areas": null,
            "object_position": null,
            "object_fit": null,
            "grid_auto_columns": null,
            "margin": null,
            "display": null,
            "left": null
          }
        },
        "995a366a85a8473887e829af2118e5f6": {
          "model_module": "@jupyter-widgets/controls",
          "model_name": "HTMLModel",
          "model_module_version": "1.5.0",
          "state": {
            "_view_name": "HTMLView",
            "style": "IPY_MODEL_d069c05670d64a2ebc1b7b19e282d9a4",
            "_dom_classes": [],
            "description": "",
            "_model_name": "HTMLModel",
            "placeholder": "​",
            "_view_module": "@jupyter-widgets/controls",
            "_model_module_version": "1.5.0",
            "value": "epoch 3: 100%",
            "_view_count": null,
            "_view_module_version": "1.5.0",
            "description_tooltip": null,
            "_model_module": "@jupyter-widgets/controls",
            "layout": "IPY_MODEL_90ad14d0754d449b88e6aba6533933b8"
          }
        },
        "3ca13556381e4087939cf453eddb48f5": {
          "model_module": "@jupyter-widgets/controls",
          "model_name": "FloatProgressModel",
          "model_module_version": "1.5.0",
          "state": {
            "_view_name": "ProgressView",
            "style": "IPY_MODEL_26022a00315745acad5499678692fb2a",
            "_dom_classes": [],
            "description": "",
            "_model_name": "FloatProgressModel",
            "bar_style": "success",
            "max": 1813,
            "_view_module": "@jupyter-widgets/controls",
            "_model_module_version": "1.5.0",
            "value": 1813,
            "_view_count": null,
            "_view_module_version": "1.5.0",
            "orientation": "horizontal",
            "min": 0,
            "description_tooltip": null,
            "_model_module": "@jupyter-widgets/controls",
            "layout": "IPY_MODEL_9b9e69d2d05441d58d776b3e3cea0235"
          }
        },
        "9b3566e980644b4aac469e01c2d57b32": {
          "model_module": "@jupyter-widgets/controls",
          "model_name": "HTMLModel",
          "model_module_version": "1.5.0",
          "state": {
            "_view_name": "HTMLView",
            "style": "IPY_MODEL_4ed10e25c33e4b31b1cce468269ac6d7",
            "_dom_classes": [],
            "description": "",
            "_model_name": "HTMLModel",
            "placeholder": "​",
            "_view_module": "@jupyter-widgets/controls",
            "_model_module_version": "1.5.0",
            "value": " 1813/1813 [00:36&lt;00:00, 47.45batch/s, mean_loss=516]",
            "_view_count": null,
            "_view_module_version": "1.5.0",
            "description_tooltip": null,
            "_model_module": "@jupyter-widgets/controls",
            "layout": "IPY_MODEL_7e316133ad604a7093ab868f0663cb19"
          }
        },
        "d069c05670d64a2ebc1b7b19e282d9a4": {
          "model_module": "@jupyter-widgets/controls",
          "model_name": "DescriptionStyleModel",
          "model_module_version": "1.5.0",
          "state": {
            "_view_name": "StyleView",
            "_model_name": "DescriptionStyleModel",
            "description_width": "",
            "_view_module": "@jupyter-widgets/base",
            "_model_module_version": "1.5.0",
            "_view_count": null,
            "_view_module_version": "1.2.0",
            "_model_module": "@jupyter-widgets/controls"
          }
        },
        "90ad14d0754d449b88e6aba6533933b8": {
          "model_module": "@jupyter-widgets/base",
          "model_name": "LayoutModel",
          "model_module_version": "1.2.0",
          "state": {
            "_view_name": "LayoutView",
            "grid_template_rows": null,
            "right": null,
            "justify_content": null,
            "_view_module": "@jupyter-widgets/base",
            "overflow": null,
            "_model_module_version": "1.2.0",
            "_view_count": null,
            "flex_flow": null,
            "width": null,
            "min_width": null,
            "border": null,
            "align_items": null,
            "bottom": null,
            "_model_module": "@jupyter-widgets/base",
            "top": null,
            "grid_column": null,
            "overflow_y": null,
            "overflow_x": null,
            "grid_auto_flow": null,
            "grid_area": null,
            "grid_template_columns": null,
            "flex": null,
            "_model_name": "LayoutModel",
            "justify_items": null,
            "grid_row": null,
            "max_height": null,
            "align_content": null,
            "visibility": null,
            "align_self": null,
            "height": null,
            "min_height": null,
            "padding": null,
            "grid_auto_rows": null,
            "grid_gap": null,
            "max_width": null,
            "order": null,
            "_view_module_version": "1.2.0",
            "grid_template_areas": null,
            "object_position": null,
            "object_fit": null,
            "grid_auto_columns": null,
            "margin": null,
            "display": null,
            "left": null
          }
        },
        "26022a00315745acad5499678692fb2a": {
          "model_module": "@jupyter-widgets/controls",
          "model_name": "ProgressStyleModel",
          "model_module_version": "1.5.0",
          "state": {
            "_view_name": "StyleView",
            "_model_name": "ProgressStyleModel",
            "description_width": "",
            "_view_module": "@jupyter-widgets/base",
            "_model_module_version": "1.5.0",
            "_view_count": null,
            "_view_module_version": "1.2.0",
            "bar_color": null,
            "_model_module": "@jupyter-widgets/controls"
          }
        },
        "9b9e69d2d05441d58d776b3e3cea0235": {
          "model_module": "@jupyter-widgets/base",
          "model_name": "LayoutModel",
          "model_module_version": "1.2.0",
          "state": {
            "_view_name": "LayoutView",
            "grid_template_rows": null,
            "right": null,
            "justify_content": null,
            "_view_module": "@jupyter-widgets/base",
            "overflow": null,
            "_model_module_version": "1.2.0",
            "_view_count": null,
            "flex_flow": null,
            "width": null,
            "min_width": null,
            "border": null,
            "align_items": null,
            "bottom": null,
            "_model_module": "@jupyter-widgets/base",
            "top": null,
            "grid_column": null,
            "overflow_y": null,
            "overflow_x": null,
            "grid_auto_flow": null,
            "grid_area": null,
            "grid_template_columns": null,
            "flex": null,
            "_model_name": "LayoutModel",
            "justify_items": null,
            "grid_row": null,
            "max_height": null,
            "align_content": null,
            "visibility": null,
            "align_self": null,
            "height": null,
            "min_height": null,
            "padding": null,
            "grid_auto_rows": null,
            "grid_gap": null,
            "max_width": null,
            "order": null,
            "_view_module_version": "1.2.0",
            "grid_template_areas": null,
            "object_position": null,
            "object_fit": null,
            "grid_auto_columns": null,
            "margin": null,
            "display": null,
            "left": null
          }
        },
        "4ed10e25c33e4b31b1cce468269ac6d7": {
          "model_module": "@jupyter-widgets/controls",
          "model_name": "DescriptionStyleModel",
          "model_module_version": "1.5.0",
          "state": {
            "_view_name": "StyleView",
            "_model_name": "DescriptionStyleModel",
            "description_width": "",
            "_view_module": "@jupyter-widgets/base",
            "_model_module_version": "1.5.0",
            "_view_count": null,
            "_view_module_version": "1.2.0",
            "_model_module": "@jupyter-widgets/controls"
          }
        },
        "7e316133ad604a7093ab868f0663cb19": {
          "model_module": "@jupyter-widgets/base",
          "model_name": "LayoutModel",
          "model_module_version": "1.2.0",
          "state": {
            "_view_name": "LayoutView",
            "grid_template_rows": null,
            "right": null,
            "justify_content": null,
            "_view_module": "@jupyter-widgets/base",
            "overflow": null,
            "_model_module_version": "1.2.0",
            "_view_count": null,
            "flex_flow": null,
            "width": null,
            "min_width": null,
            "border": null,
            "align_items": null,
            "bottom": null,
            "_model_module": "@jupyter-widgets/base",
            "top": null,
            "grid_column": null,
            "overflow_y": null,
            "overflow_x": null,
            "grid_auto_flow": null,
            "grid_area": null,
            "grid_template_columns": null,
            "flex": null,
            "_model_name": "LayoutModel",
            "justify_items": null,
            "grid_row": null,
            "max_height": null,
            "align_content": null,
            "visibility": null,
            "align_self": null,
            "height": null,
            "min_height": null,
            "padding": null,
            "grid_auto_rows": null,
            "grid_gap": null,
            "max_width": null,
            "order": null,
            "_view_module_version": "1.2.0",
            "grid_template_areas": null,
            "object_position": null,
            "object_fit": null,
            "grid_auto_columns": null,
            "margin": null,
            "display": null,
            "left": null
          }
        },
        "98f0cd76a40e4e90b3ef0e6793d53f5c": {
          "model_module": "@jupyter-widgets/controls",
          "model_name": "HBoxModel",
          "model_module_version": "1.5.0",
          "state": {
            "_view_name": "HBoxView",
            "_dom_classes": [],
            "_model_name": "HBoxModel",
            "_view_module": "@jupyter-widgets/controls",
            "_model_module_version": "1.5.0",
            "_view_count": null,
            "_view_module_version": "1.5.0",
            "box_style": "",
            "layout": "IPY_MODEL_43b13e4cf9864202b083c6d74acbad10",
            "_model_module": "@jupyter-widgets/controls",
            "children": [
              "IPY_MODEL_a3083613bc3f42368677a329893fd825",
              "IPY_MODEL_c34b4091ee164d609926ff566dfc2ddf",
              "IPY_MODEL_935a46992d4447b7b47dfcd5086a26fc"
            ]
          }
        },
        "43b13e4cf9864202b083c6d74acbad10": {
          "model_module": "@jupyter-widgets/base",
          "model_name": "LayoutModel",
          "model_module_version": "1.2.0",
          "state": {
            "_view_name": "LayoutView",
            "grid_template_rows": null,
            "right": null,
            "justify_content": null,
            "_view_module": "@jupyter-widgets/base",
            "overflow": null,
            "_model_module_version": "1.2.0",
            "_view_count": null,
            "flex_flow": null,
            "width": null,
            "min_width": null,
            "border": null,
            "align_items": null,
            "bottom": null,
            "_model_module": "@jupyter-widgets/base",
            "top": null,
            "grid_column": null,
            "overflow_y": null,
            "overflow_x": null,
            "grid_auto_flow": null,
            "grid_area": null,
            "grid_template_columns": null,
            "flex": null,
            "_model_name": "LayoutModel",
            "justify_items": null,
            "grid_row": null,
            "max_height": null,
            "align_content": null,
            "visibility": null,
            "align_self": null,
            "height": null,
            "min_height": null,
            "padding": null,
            "grid_auto_rows": null,
            "grid_gap": null,
            "max_width": null,
            "order": null,
            "_view_module_version": "1.2.0",
            "grid_template_areas": null,
            "object_position": null,
            "object_fit": null,
            "grid_auto_columns": null,
            "margin": null,
            "display": null,
            "left": null
          }
        },
        "a3083613bc3f42368677a329893fd825": {
          "model_module": "@jupyter-widgets/controls",
          "model_name": "HTMLModel",
          "model_module_version": "1.5.0",
          "state": {
            "_view_name": "HTMLView",
            "style": "IPY_MODEL_68797e9e42e045f0922d58a89d133d06",
            "_dom_classes": [],
            "description": "",
            "_model_name": "HTMLModel",
            "placeholder": "​",
            "_view_module": "@jupyter-widgets/controls",
            "_model_module_version": "1.5.0",
            "value": "epoch 4: 100%",
            "_view_count": null,
            "_view_module_version": "1.5.0",
            "description_tooltip": null,
            "_model_module": "@jupyter-widgets/controls",
            "layout": "IPY_MODEL_3e6e819797844763ace04342590a3369"
          }
        },
        "c34b4091ee164d609926ff566dfc2ddf": {
          "model_module": "@jupyter-widgets/controls",
          "model_name": "FloatProgressModel",
          "model_module_version": "1.5.0",
          "state": {
            "_view_name": "ProgressView",
            "style": "IPY_MODEL_96b6229b947540c1a92df0129bfe6a75",
            "_dom_classes": [],
            "description": "",
            "_model_name": "FloatProgressModel",
            "bar_style": "success",
            "max": 1813,
            "_view_module": "@jupyter-widgets/controls",
            "_model_module_version": "1.5.0",
            "value": 1813,
            "_view_count": null,
            "_view_module_version": "1.5.0",
            "orientation": "horizontal",
            "min": 0,
            "description_tooltip": null,
            "_model_module": "@jupyter-widgets/controls",
            "layout": "IPY_MODEL_1809e9ed8fde4de488948f395323dce8"
          }
        },
        "935a46992d4447b7b47dfcd5086a26fc": {
          "model_module": "@jupyter-widgets/controls",
          "model_name": "HTMLModel",
          "model_module_version": "1.5.0",
          "state": {
            "_view_name": "HTMLView",
            "style": "IPY_MODEL_7e2669fd276a418894faa631591a1b29",
            "_dom_classes": [],
            "description": "",
            "_model_name": "HTMLModel",
            "placeholder": "​",
            "_view_module": "@jupyter-widgets/controls",
            "_model_module_version": "1.5.0",
            "value": " 1813/1813 [00:36&lt;00:00, 48.79batch/s, mean_loss=463]",
            "_view_count": null,
            "_view_module_version": "1.5.0",
            "description_tooltip": null,
            "_model_module": "@jupyter-widgets/controls",
            "layout": "IPY_MODEL_c2c6338e59944ff889d0f0396cded559"
          }
        },
        "68797e9e42e045f0922d58a89d133d06": {
          "model_module": "@jupyter-widgets/controls",
          "model_name": "DescriptionStyleModel",
          "model_module_version": "1.5.0",
          "state": {
            "_view_name": "StyleView",
            "_model_name": "DescriptionStyleModel",
            "description_width": "",
            "_view_module": "@jupyter-widgets/base",
            "_model_module_version": "1.5.0",
            "_view_count": null,
            "_view_module_version": "1.2.0",
            "_model_module": "@jupyter-widgets/controls"
          }
        },
        "3e6e819797844763ace04342590a3369": {
          "model_module": "@jupyter-widgets/base",
          "model_name": "LayoutModel",
          "model_module_version": "1.2.0",
          "state": {
            "_view_name": "LayoutView",
            "grid_template_rows": null,
            "right": null,
            "justify_content": null,
            "_view_module": "@jupyter-widgets/base",
            "overflow": null,
            "_model_module_version": "1.2.0",
            "_view_count": null,
            "flex_flow": null,
            "width": null,
            "min_width": null,
            "border": null,
            "align_items": null,
            "bottom": null,
            "_model_module": "@jupyter-widgets/base",
            "top": null,
            "grid_column": null,
            "overflow_y": null,
            "overflow_x": null,
            "grid_auto_flow": null,
            "grid_area": null,
            "grid_template_columns": null,
            "flex": null,
            "_model_name": "LayoutModel",
            "justify_items": null,
            "grid_row": null,
            "max_height": null,
            "align_content": null,
            "visibility": null,
            "align_self": null,
            "height": null,
            "min_height": null,
            "padding": null,
            "grid_auto_rows": null,
            "grid_gap": null,
            "max_width": null,
            "order": null,
            "_view_module_version": "1.2.0",
            "grid_template_areas": null,
            "object_position": null,
            "object_fit": null,
            "grid_auto_columns": null,
            "margin": null,
            "display": null,
            "left": null
          }
        },
        "96b6229b947540c1a92df0129bfe6a75": {
          "model_module": "@jupyter-widgets/controls",
          "model_name": "ProgressStyleModel",
          "model_module_version": "1.5.0",
          "state": {
            "_view_name": "StyleView",
            "_model_name": "ProgressStyleModel",
            "description_width": "",
            "_view_module": "@jupyter-widgets/base",
            "_model_module_version": "1.5.0",
            "_view_count": null,
            "_view_module_version": "1.2.0",
            "bar_color": null,
            "_model_module": "@jupyter-widgets/controls"
          }
        },
        "1809e9ed8fde4de488948f395323dce8": {
          "model_module": "@jupyter-widgets/base",
          "model_name": "LayoutModel",
          "model_module_version": "1.2.0",
          "state": {
            "_view_name": "LayoutView",
            "grid_template_rows": null,
            "right": null,
            "justify_content": null,
            "_view_module": "@jupyter-widgets/base",
            "overflow": null,
            "_model_module_version": "1.2.0",
            "_view_count": null,
            "flex_flow": null,
            "width": null,
            "min_width": null,
            "border": null,
            "align_items": null,
            "bottom": null,
            "_model_module": "@jupyter-widgets/base",
            "top": null,
            "grid_column": null,
            "overflow_y": null,
            "overflow_x": null,
            "grid_auto_flow": null,
            "grid_area": null,
            "grid_template_columns": null,
            "flex": null,
            "_model_name": "LayoutModel",
            "justify_items": null,
            "grid_row": null,
            "max_height": null,
            "align_content": null,
            "visibility": null,
            "align_self": null,
            "height": null,
            "min_height": null,
            "padding": null,
            "grid_auto_rows": null,
            "grid_gap": null,
            "max_width": null,
            "order": null,
            "_view_module_version": "1.2.0",
            "grid_template_areas": null,
            "object_position": null,
            "object_fit": null,
            "grid_auto_columns": null,
            "margin": null,
            "display": null,
            "left": null
          }
        },
        "7e2669fd276a418894faa631591a1b29": {
          "model_module": "@jupyter-widgets/controls",
          "model_name": "DescriptionStyleModel",
          "model_module_version": "1.5.0",
          "state": {
            "_view_name": "StyleView",
            "_model_name": "DescriptionStyleModel",
            "description_width": "",
            "_view_module": "@jupyter-widgets/base",
            "_model_module_version": "1.5.0",
            "_view_count": null,
            "_view_module_version": "1.2.0",
            "_model_module": "@jupyter-widgets/controls"
          }
        },
        "c2c6338e59944ff889d0f0396cded559": {
          "model_module": "@jupyter-widgets/base",
          "model_name": "LayoutModel",
          "model_module_version": "1.2.0",
          "state": {
            "_view_name": "LayoutView",
            "grid_template_rows": null,
            "right": null,
            "justify_content": null,
            "_view_module": "@jupyter-widgets/base",
            "overflow": null,
            "_model_module_version": "1.2.0",
            "_view_count": null,
            "flex_flow": null,
            "width": null,
            "min_width": null,
            "border": null,
            "align_items": null,
            "bottom": null,
            "_model_module": "@jupyter-widgets/base",
            "top": null,
            "grid_column": null,
            "overflow_y": null,
            "overflow_x": null,
            "grid_auto_flow": null,
            "grid_area": null,
            "grid_template_columns": null,
            "flex": null,
            "_model_name": "LayoutModel",
            "justify_items": null,
            "grid_row": null,
            "max_height": null,
            "align_content": null,
            "visibility": null,
            "align_self": null,
            "height": null,
            "min_height": null,
            "padding": null,
            "grid_auto_rows": null,
            "grid_gap": null,
            "max_width": null,
            "order": null,
            "_view_module_version": "1.2.0",
            "grid_template_areas": null,
            "object_position": null,
            "object_fit": null,
            "grid_auto_columns": null,
            "margin": null,
            "display": null,
            "left": null
          }
        },
        "a8d95b322e424ac9b54216080ee1cfd6": {
          "model_module": "@jupyter-widgets/controls",
          "model_name": "HBoxModel",
          "model_module_version": "1.5.0",
          "state": {
            "_view_name": "HBoxView",
            "_dom_classes": [],
            "_model_name": "HBoxModel",
            "_view_module": "@jupyter-widgets/controls",
            "_model_module_version": "1.5.0",
            "_view_count": null,
            "_view_module_version": "1.5.0",
            "box_style": "",
            "layout": "IPY_MODEL_56fd2016af084b6c9e55aa853eb394a6",
            "_model_module": "@jupyter-widgets/controls",
            "children": [
              "IPY_MODEL_c73b99a776dc4152a610acdc0d330f1f",
              "IPY_MODEL_7761aaf794774b07b8e68ca4a0b76052",
              "IPY_MODEL_d1fe318a9a454848864f0aca07afdcc0"
            ]
          }
        },
        "56fd2016af084b6c9e55aa853eb394a6": {
          "model_module": "@jupyter-widgets/base",
          "model_name": "LayoutModel",
          "model_module_version": "1.2.0",
          "state": {
            "_view_name": "LayoutView",
            "grid_template_rows": null,
            "right": null,
            "justify_content": null,
            "_view_module": "@jupyter-widgets/base",
            "overflow": null,
            "_model_module_version": "1.2.0",
            "_view_count": null,
            "flex_flow": null,
            "width": null,
            "min_width": null,
            "border": null,
            "align_items": null,
            "bottom": null,
            "_model_module": "@jupyter-widgets/base",
            "top": null,
            "grid_column": null,
            "overflow_y": null,
            "overflow_x": null,
            "grid_auto_flow": null,
            "grid_area": null,
            "grid_template_columns": null,
            "flex": null,
            "_model_name": "LayoutModel",
            "justify_items": null,
            "grid_row": null,
            "max_height": null,
            "align_content": null,
            "visibility": null,
            "align_self": null,
            "height": null,
            "min_height": null,
            "padding": null,
            "grid_auto_rows": null,
            "grid_gap": null,
            "max_width": null,
            "order": null,
            "_view_module_version": "1.2.0",
            "grid_template_areas": null,
            "object_position": null,
            "object_fit": null,
            "grid_auto_columns": null,
            "margin": null,
            "display": null,
            "left": null
          }
        },
        "c73b99a776dc4152a610acdc0d330f1f": {
          "model_module": "@jupyter-widgets/controls",
          "model_name": "HTMLModel",
          "model_module_version": "1.5.0",
          "state": {
            "_view_name": "HTMLView",
            "style": "IPY_MODEL_90be067bf50b440dba3fa73433a5d812",
            "_dom_classes": [],
            "description": "",
            "_model_name": "HTMLModel",
            "placeholder": "​",
            "_view_module": "@jupyter-widgets/controls",
            "_model_module_version": "1.5.0",
            "value": "epoch 5: 100%",
            "_view_count": null,
            "_view_module_version": "1.5.0",
            "description_tooltip": null,
            "_model_module": "@jupyter-widgets/controls",
            "layout": "IPY_MODEL_a9077be0f32d48f6b8672f3a6799a5bb"
          }
        },
        "7761aaf794774b07b8e68ca4a0b76052": {
          "model_module": "@jupyter-widgets/controls",
          "model_name": "FloatProgressModel",
          "model_module_version": "1.5.0",
          "state": {
            "_view_name": "ProgressView",
            "style": "IPY_MODEL_607d5a95794b43e18bd7ac4187b76ede",
            "_dom_classes": [],
            "description": "",
            "_model_name": "FloatProgressModel",
            "bar_style": "success",
            "max": 1813,
            "_view_module": "@jupyter-widgets/controls",
            "_model_module_version": "1.5.0",
            "value": 1813,
            "_view_count": null,
            "_view_module_version": "1.5.0",
            "orientation": "horizontal",
            "min": 0,
            "description_tooltip": null,
            "_model_module": "@jupyter-widgets/controls",
            "layout": "IPY_MODEL_d0d9c3da24ac4affb8d642c5b907e2f9"
          }
        },
        "d1fe318a9a454848864f0aca07afdcc0": {
          "model_module": "@jupyter-widgets/controls",
          "model_name": "HTMLModel",
          "model_module_version": "1.5.0",
          "state": {
            "_view_name": "HTMLView",
            "style": "IPY_MODEL_28d5cc9b43144f40aed75166a301641e",
            "_dom_classes": [],
            "description": "",
            "_model_name": "HTMLModel",
            "placeholder": "​",
            "_view_module": "@jupyter-widgets/controls",
            "_model_module_version": "1.5.0",
            "value": " 1813/1813 [00:36&lt;00:00, 49.53batch/s, mean_loss=426]",
            "_view_count": null,
            "_view_module_version": "1.5.0",
            "description_tooltip": null,
            "_model_module": "@jupyter-widgets/controls",
            "layout": "IPY_MODEL_cc508c90655f43d3b87032d18d7ddc28"
          }
        },
        "90be067bf50b440dba3fa73433a5d812": {
          "model_module": "@jupyter-widgets/controls",
          "model_name": "DescriptionStyleModel",
          "model_module_version": "1.5.0",
          "state": {
            "_view_name": "StyleView",
            "_model_name": "DescriptionStyleModel",
            "description_width": "",
            "_view_module": "@jupyter-widgets/base",
            "_model_module_version": "1.5.0",
            "_view_count": null,
            "_view_module_version": "1.2.0",
            "_model_module": "@jupyter-widgets/controls"
          }
        },
        "a9077be0f32d48f6b8672f3a6799a5bb": {
          "model_module": "@jupyter-widgets/base",
          "model_name": "LayoutModel",
          "model_module_version": "1.2.0",
          "state": {
            "_view_name": "LayoutView",
            "grid_template_rows": null,
            "right": null,
            "justify_content": null,
            "_view_module": "@jupyter-widgets/base",
            "overflow": null,
            "_model_module_version": "1.2.0",
            "_view_count": null,
            "flex_flow": null,
            "width": null,
            "min_width": null,
            "border": null,
            "align_items": null,
            "bottom": null,
            "_model_module": "@jupyter-widgets/base",
            "top": null,
            "grid_column": null,
            "overflow_y": null,
            "overflow_x": null,
            "grid_auto_flow": null,
            "grid_area": null,
            "grid_template_columns": null,
            "flex": null,
            "_model_name": "LayoutModel",
            "justify_items": null,
            "grid_row": null,
            "max_height": null,
            "align_content": null,
            "visibility": null,
            "align_self": null,
            "height": null,
            "min_height": null,
            "padding": null,
            "grid_auto_rows": null,
            "grid_gap": null,
            "max_width": null,
            "order": null,
            "_view_module_version": "1.2.0",
            "grid_template_areas": null,
            "object_position": null,
            "object_fit": null,
            "grid_auto_columns": null,
            "margin": null,
            "display": null,
            "left": null
          }
        },
        "607d5a95794b43e18bd7ac4187b76ede": {
          "model_module": "@jupyter-widgets/controls",
          "model_name": "ProgressStyleModel",
          "model_module_version": "1.5.0",
          "state": {
            "_view_name": "StyleView",
            "_model_name": "ProgressStyleModel",
            "description_width": "",
            "_view_module": "@jupyter-widgets/base",
            "_model_module_version": "1.5.0",
            "_view_count": null,
            "_view_module_version": "1.2.0",
            "bar_color": null,
            "_model_module": "@jupyter-widgets/controls"
          }
        },
        "d0d9c3da24ac4affb8d642c5b907e2f9": {
          "model_module": "@jupyter-widgets/base",
          "model_name": "LayoutModel",
          "model_module_version": "1.2.0",
          "state": {
            "_view_name": "LayoutView",
            "grid_template_rows": null,
            "right": null,
            "justify_content": null,
            "_view_module": "@jupyter-widgets/base",
            "overflow": null,
            "_model_module_version": "1.2.0",
            "_view_count": null,
            "flex_flow": null,
            "width": null,
            "min_width": null,
            "border": null,
            "align_items": null,
            "bottom": null,
            "_model_module": "@jupyter-widgets/base",
            "top": null,
            "grid_column": null,
            "overflow_y": null,
            "overflow_x": null,
            "grid_auto_flow": null,
            "grid_area": null,
            "grid_template_columns": null,
            "flex": null,
            "_model_name": "LayoutModel",
            "justify_items": null,
            "grid_row": null,
            "max_height": null,
            "align_content": null,
            "visibility": null,
            "align_self": null,
            "height": null,
            "min_height": null,
            "padding": null,
            "grid_auto_rows": null,
            "grid_gap": null,
            "max_width": null,
            "order": null,
            "_view_module_version": "1.2.0",
            "grid_template_areas": null,
            "object_position": null,
            "object_fit": null,
            "grid_auto_columns": null,
            "margin": null,
            "display": null,
            "left": null
          }
        },
        "28d5cc9b43144f40aed75166a301641e": {
          "model_module": "@jupyter-widgets/controls",
          "model_name": "DescriptionStyleModel",
          "model_module_version": "1.5.0",
          "state": {
            "_view_name": "StyleView",
            "_model_name": "DescriptionStyleModel",
            "description_width": "",
            "_view_module": "@jupyter-widgets/base",
            "_model_module_version": "1.5.0",
            "_view_count": null,
            "_view_module_version": "1.2.0",
            "_model_module": "@jupyter-widgets/controls"
          }
        },
        "cc508c90655f43d3b87032d18d7ddc28": {
          "model_module": "@jupyter-widgets/base",
          "model_name": "LayoutModel",
          "model_module_version": "1.2.0",
          "state": {
            "_view_name": "LayoutView",
            "grid_template_rows": null,
            "right": null,
            "justify_content": null,
            "_view_module": "@jupyter-widgets/base",
            "overflow": null,
            "_model_module_version": "1.2.0",
            "_view_count": null,
            "flex_flow": null,
            "width": null,
            "min_width": null,
            "border": null,
            "align_items": null,
            "bottom": null,
            "_model_module": "@jupyter-widgets/base",
            "top": null,
            "grid_column": null,
            "overflow_y": null,
            "overflow_x": null,
            "grid_auto_flow": null,
            "grid_area": null,
            "grid_template_columns": null,
            "flex": null,
            "_model_name": "LayoutModel",
            "justify_items": null,
            "grid_row": null,
            "max_height": null,
            "align_content": null,
            "visibility": null,
            "align_self": null,
            "height": null,
            "min_height": null,
            "padding": null,
            "grid_auto_rows": null,
            "grid_gap": null,
            "max_width": null,
            "order": null,
            "_view_module_version": "1.2.0",
            "grid_template_areas": null,
            "object_position": null,
            "object_fit": null,
            "grid_auto_columns": null,
            "margin": null,
            "display": null,
            "left": null
          }
        },
        "5ff674503eb34487b031e78fa52be702": {
          "model_module": "@jupyter-widgets/controls",
          "model_name": "HBoxModel",
          "model_module_version": "1.5.0",
          "state": {
            "_view_name": "HBoxView",
            "_dom_classes": [],
            "_model_name": "HBoxModel",
            "_view_module": "@jupyter-widgets/controls",
            "_model_module_version": "1.5.0",
            "_view_count": null,
            "_view_module_version": "1.5.0",
            "box_style": "",
            "layout": "IPY_MODEL_7915c356e6d1431b8706b1ed77be63a8",
            "_model_module": "@jupyter-widgets/controls",
            "children": [
              "IPY_MODEL_2080cc8ac53a48598f377e59049c7231",
              "IPY_MODEL_4dcdf61d3eda4302b47b025c7b4824be",
              "IPY_MODEL_54c6a3545507483cb3e6a86eb97f5502"
            ]
          }
        },
        "7915c356e6d1431b8706b1ed77be63a8": {
          "model_module": "@jupyter-widgets/base",
          "model_name": "LayoutModel",
          "model_module_version": "1.2.0",
          "state": {
            "_view_name": "LayoutView",
            "grid_template_rows": null,
            "right": null,
            "justify_content": null,
            "_view_module": "@jupyter-widgets/base",
            "overflow": null,
            "_model_module_version": "1.2.0",
            "_view_count": null,
            "flex_flow": null,
            "width": null,
            "min_width": null,
            "border": null,
            "align_items": null,
            "bottom": null,
            "_model_module": "@jupyter-widgets/base",
            "top": null,
            "grid_column": null,
            "overflow_y": null,
            "overflow_x": null,
            "grid_auto_flow": null,
            "grid_area": null,
            "grid_template_columns": null,
            "flex": null,
            "_model_name": "LayoutModel",
            "justify_items": null,
            "grid_row": null,
            "max_height": null,
            "align_content": null,
            "visibility": null,
            "align_self": null,
            "height": null,
            "min_height": null,
            "padding": null,
            "grid_auto_rows": null,
            "grid_gap": null,
            "max_width": null,
            "order": null,
            "_view_module_version": "1.2.0",
            "grid_template_areas": null,
            "object_position": null,
            "object_fit": null,
            "grid_auto_columns": null,
            "margin": null,
            "display": null,
            "left": null
          }
        },
        "2080cc8ac53a48598f377e59049c7231": {
          "model_module": "@jupyter-widgets/controls",
          "model_name": "HTMLModel",
          "model_module_version": "1.5.0",
          "state": {
            "_view_name": "HTMLView",
            "style": "IPY_MODEL_0fda7a6b8aa247e3bbfd31560203ccf7",
            "_dom_classes": [],
            "description": "",
            "_model_name": "HTMLModel",
            "placeholder": "​",
            "_view_module": "@jupyter-widgets/controls",
            "_model_module_version": "1.5.0",
            "value": "epoch 6: 100%",
            "_view_count": null,
            "_view_module_version": "1.5.0",
            "description_tooltip": null,
            "_model_module": "@jupyter-widgets/controls",
            "layout": "IPY_MODEL_2a412f8d50a8492e973f91149397c877"
          }
        },
        "4dcdf61d3eda4302b47b025c7b4824be": {
          "model_module": "@jupyter-widgets/controls",
          "model_name": "FloatProgressModel",
          "model_module_version": "1.5.0",
          "state": {
            "_view_name": "ProgressView",
            "style": "IPY_MODEL_6bfd339782b840d3b9f9105f6d8d6315",
            "_dom_classes": [],
            "description": "",
            "_model_name": "FloatProgressModel",
            "bar_style": "success",
            "max": 1813,
            "_view_module": "@jupyter-widgets/controls",
            "_model_module_version": "1.5.0",
            "value": 1813,
            "_view_count": null,
            "_view_module_version": "1.5.0",
            "orientation": "horizontal",
            "min": 0,
            "description_tooltip": null,
            "_model_module": "@jupyter-widgets/controls",
            "layout": "IPY_MODEL_25c709cd78f8429790a587ac9fb876d2"
          }
        },
        "54c6a3545507483cb3e6a86eb97f5502": {
          "model_module": "@jupyter-widgets/controls",
          "model_name": "HTMLModel",
          "model_module_version": "1.5.0",
          "state": {
            "_view_name": "HTMLView",
            "style": "IPY_MODEL_a581c0cc82bf4336a8edc31bc802f061",
            "_dom_classes": [],
            "description": "",
            "_model_name": "HTMLModel",
            "placeholder": "​",
            "_view_module": "@jupyter-widgets/controls",
            "_model_module_version": "1.5.0",
            "value": " 1813/1813 [00:36&lt;00:00, 50.79batch/s, mean_loss=397]",
            "_view_count": null,
            "_view_module_version": "1.5.0",
            "description_tooltip": null,
            "_model_module": "@jupyter-widgets/controls",
            "layout": "IPY_MODEL_3c4bcc593df94e698b2933ad114ff8ee"
          }
        },
        "0fda7a6b8aa247e3bbfd31560203ccf7": {
          "model_module": "@jupyter-widgets/controls",
          "model_name": "DescriptionStyleModel",
          "model_module_version": "1.5.0",
          "state": {
            "_view_name": "StyleView",
            "_model_name": "DescriptionStyleModel",
            "description_width": "",
            "_view_module": "@jupyter-widgets/base",
            "_model_module_version": "1.5.0",
            "_view_count": null,
            "_view_module_version": "1.2.0",
            "_model_module": "@jupyter-widgets/controls"
          }
        },
        "2a412f8d50a8492e973f91149397c877": {
          "model_module": "@jupyter-widgets/base",
          "model_name": "LayoutModel",
          "model_module_version": "1.2.0",
          "state": {
            "_view_name": "LayoutView",
            "grid_template_rows": null,
            "right": null,
            "justify_content": null,
            "_view_module": "@jupyter-widgets/base",
            "overflow": null,
            "_model_module_version": "1.2.0",
            "_view_count": null,
            "flex_flow": null,
            "width": null,
            "min_width": null,
            "border": null,
            "align_items": null,
            "bottom": null,
            "_model_module": "@jupyter-widgets/base",
            "top": null,
            "grid_column": null,
            "overflow_y": null,
            "overflow_x": null,
            "grid_auto_flow": null,
            "grid_area": null,
            "grid_template_columns": null,
            "flex": null,
            "_model_name": "LayoutModel",
            "justify_items": null,
            "grid_row": null,
            "max_height": null,
            "align_content": null,
            "visibility": null,
            "align_self": null,
            "height": null,
            "min_height": null,
            "padding": null,
            "grid_auto_rows": null,
            "grid_gap": null,
            "max_width": null,
            "order": null,
            "_view_module_version": "1.2.0",
            "grid_template_areas": null,
            "object_position": null,
            "object_fit": null,
            "grid_auto_columns": null,
            "margin": null,
            "display": null,
            "left": null
          }
        },
        "6bfd339782b840d3b9f9105f6d8d6315": {
          "model_module": "@jupyter-widgets/controls",
          "model_name": "ProgressStyleModel",
          "model_module_version": "1.5.0",
          "state": {
            "_view_name": "StyleView",
            "_model_name": "ProgressStyleModel",
            "description_width": "",
            "_view_module": "@jupyter-widgets/base",
            "_model_module_version": "1.5.0",
            "_view_count": null,
            "_view_module_version": "1.2.0",
            "bar_color": null,
            "_model_module": "@jupyter-widgets/controls"
          }
        },
        "25c709cd78f8429790a587ac9fb876d2": {
          "model_module": "@jupyter-widgets/base",
          "model_name": "LayoutModel",
          "model_module_version": "1.2.0",
          "state": {
            "_view_name": "LayoutView",
            "grid_template_rows": null,
            "right": null,
            "justify_content": null,
            "_view_module": "@jupyter-widgets/base",
            "overflow": null,
            "_model_module_version": "1.2.0",
            "_view_count": null,
            "flex_flow": null,
            "width": null,
            "min_width": null,
            "border": null,
            "align_items": null,
            "bottom": null,
            "_model_module": "@jupyter-widgets/base",
            "top": null,
            "grid_column": null,
            "overflow_y": null,
            "overflow_x": null,
            "grid_auto_flow": null,
            "grid_area": null,
            "grid_template_columns": null,
            "flex": null,
            "_model_name": "LayoutModel",
            "justify_items": null,
            "grid_row": null,
            "max_height": null,
            "align_content": null,
            "visibility": null,
            "align_self": null,
            "height": null,
            "min_height": null,
            "padding": null,
            "grid_auto_rows": null,
            "grid_gap": null,
            "max_width": null,
            "order": null,
            "_view_module_version": "1.2.0",
            "grid_template_areas": null,
            "object_position": null,
            "object_fit": null,
            "grid_auto_columns": null,
            "margin": null,
            "display": null,
            "left": null
          }
        },
        "a581c0cc82bf4336a8edc31bc802f061": {
          "model_module": "@jupyter-widgets/controls",
          "model_name": "DescriptionStyleModel",
          "model_module_version": "1.5.0",
          "state": {
            "_view_name": "StyleView",
            "_model_name": "DescriptionStyleModel",
            "description_width": "",
            "_view_module": "@jupyter-widgets/base",
            "_model_module_version": "1.5.0",
            "_view_count": null,
            "_view_module_version": "1.2.0",
            "_model_module": "@jupyter-widgets/controls"
          }
        },
        "3c4bcc593df94e698b2933ad114ff8ee": {
          "model_module": "@jupyter-widgets/base",
          "model_name": "LayoutModel",
          "model_module_version": "1.2.0",
          "state": {
            "_view_name": "LayoutView",
            "grid_template_rows": null,
            "right": null,
            "justify_content": null,
            "_view_module": "@jupyter-widgets/base",
            "overflow": null,
            "_model_module_version": "1.2.0",
            "_view_count": null,
            "flex_flow": null,
            "width": null,
            "min_width": null,
            "border": null,
            "align_items": null,
            "bottom": null,
            "_model_module": "@jupyter-widgets/base",
            "top": null,
            "grid_column": null,
            "overflow_y": null,
            "overflow_x": null,
            "grid_auto_flow": null,
            "grid_area": null,
            "grid_template_columns": null,
            "flex": null,
            "_model_name": "LayoutModel",
            "justify_items": null,
            "grid_row": null,
            "max_height": null,
            "align_content": null,
            "visibility": null,
            "align_self": null,
            "height": null,
            "min_height": null,
            "padding": null,
            "grid_auto_rows": null,
            "grid_gap": null,
            "max_width": null,
            "order": null,
            "_view_module_version": "1.2.0",
            "grid_template_areas": null,
            "object_position": null,
            "object_fit": null,
            "grid_auto_columns": null,
            "margin": null,
            "display": null,
            "left": null
          }
        },
        "1fca2227a2fc4b85ab33cee799a953eb": {
          "model_module": "@jupyter-widgets/controls",
          "model_name": "HBoxModel",
          "model_module_version": "1.5.0",
          "state": {
            "_view_name": "HBoxView",
            "_dom_classes": [],
            "_model_name": "HBoxModel",
            "_view_module": "@jupyter-widgets/controls",
            "_model_module_version": "1.5.0",
            "_view_count": null,
            "_view_module_version": "1.5.0",
            "box_style": "",
            "layout": "IPY_MODEL_2867767305114bf7bc476207b11319d9",
            "_model_module": "@jupyter-widgets/controls",
            "children": [
              "IPY_MODEL_97bec066eba242f29d8b881147166436",
              "IPY_MODEL_0b1726265caa4dcca798b916e0e88f47",
              "IPY_MODEL_ee4d2ad28fb44b998660d9fdbea32f54"
            ]
          }
        },
        "2867767305114bf7bc476207b11319d9": {
          "model_module": "@jupyter-widgets/base",
          "model_name": "LayoutModel",
          "model_module_version": "1.2.0",
          "state": {
            "_view_name": "LayoutView",
            "grid_template_rows": null,
            "right": null,
            "justify_content": null,
            "_view_module": "@jupyter-widgets/base",
            "overflow": null,
            "_model_module_version": "1.2.0",
            "_view_count": null,
            "flex_flow": null,
            "width": null,
            "min_width": null,
            "border": null,
            "align_items": null,
            "bottom": null,
            "_model_module": "@jupyter-widgets/base",
            "top": null,
            "grid_column": null,
            "overflow_y": null,
            "overflow_x": null,
            "grid_auto_flow": null,
            "grid_area": null,
            "grid_template_columns": null,
            "flex": null,
            "_model_name": "LayoutModel",
            "justify_items": null,
            "grid_row": null,
            "max_height": null,
            "align_content": null,
            "visibility": null,
            "align_self": null,
            "height": null,
            "min_height": null,
            "padding": null,
            "grid_auto_rows": null,
            "grid_gap": null,
            "max_width": null,
            "order": null,
            "_view_module_version": "1.2.0",
            "grid_template_areas": null,
            "object_position": null,
            "object_fit": null,
            "grid_auto_columns": null,
            "margin": null,
            "display": null,
            "left": null
          }
        },
        "97bec066eba242f29d8b881147166436": {
          "model_module": "@jupyter-widgets/controls",
          "model_name": "HTMLModel",
          "model_module_version": "1.5.0",
          "state": {
            "_view_name": "HTMLView",
            "style": "IPY_MODEL_1dc41f58f4554f15bf91cf83e6f59d70",
            "_dom_classes": [],
            "description": "",
            "_model_name": "HTMLModel",
            "placeholder": "​",
            "_view_module": "@jupyter-widgets/controls",
            "_model_module_version": "1.5.0",
            "value": "epoch 7: 100%",
            "_view_count": null,
            "_view_module_version": "1.5.0",
            "description_tooltip": null,
            "_model_module": "@jupyter-widgets/controls",
            "layout": "IPY_MODEL_8657ca3a40e6453fa215a1514a3c61de"
          }
        },
        "0b1726265caa4dcca798b916e0e88f47": {
          "model_module": "@jupyter-widgets/controls",
          "model_name": "FloatProgressModel",
          "model_module_version": "1.5.0",
          "state": {
            "_view_name": "ProgressView",
            "style": "IPY_MODEL_09df60da3e4f4646af226d522216d73d",
            "_dom_classes": [],
            "description": "",
            "_model_name": "FloatProgressModel",
            "bar_style": "success",
            "max": 1813,
            "_view_module": "@jupyter-widgets/controls",
            "_model_module_version": "1.5.0",
            "value": 1813,
            "_view_count": null,
            "_view_module_version": "1.5.0",
            "orientation": "horizontal",
            "min": 0,
            "description_tooltip": null,
            "_model_module": "@jupyter-widgets/controls",
            "layout": "IPY_MODEL_06a22abb4c56453f826a5d6a5d182f5a"
          }
        },
        "ee4d2ad28fb44b998660d9fdbea32f54": {
          "model_module": "@jupyter-widgets/controls",
          "model_name": "HTMLModel",
          "model_module_version": "1.5.0",
          "state": {
            "_view_name": "HTMLView",
            "style": "IPY_MODEL_b758774942164e19ae070b708f6f9336",
            "_dom_classes": [],
            "description": "",
            "_model_name": "HTMLModel",
            "placeholder": "​",
            "_view_module": "@jupyter-widgets/controls",
            "_model_module_version": "1.5.0",
            "value": " 1813/1813 [00:36&lt;00:00, 51.26batch/s, mean_loss=374]",
            "_view_count": null,
            "_view_module_version": "1.5.0",
            "description_tooltip": null,
            "_model_module": "@jupyter-widgets/controls",
            "layout": "IPY_MODEL_d8ae6b5abc854601a2a0492a49291bdc"
          }
        },
        "1dc41f58f4554f15bf91cf83e6f59d70": {
          "model_module": "@jupyter-widgets/controls",
          "model_name": "DescriptionStyleModel",
          "model_module_version": "1.5.0",
          "state": {
            "_view_name": "StyleView",
            "_model_name": "DescriptionStyleModel",
            "description_width": "",
            "_view_module": "@jupyter-widgets/base",
            "_model_module_version": "1.5.0",
            "_view_count": null,
            "_view_module_version": "1.2.0",
            "_model_module": "@jupyter-widgets/controls"
          }
        },
        "8657ca3a40e6453fa215a1514a3c61de": {
          "model_module": "@jupyter-widgets/base",
          "model_name": "LayoutModel",
          "model_module_version": "1.2.0",
          "state": {
            "_view_name": "LayoutView",
            "grid_template_rows": null,
            "right": null,
            "justify_content": null,
            "_view_module": "@jupyter-widgets/base",
            "overflow": null,
            "_model_module_version": "1.2.0",
            "_view_count": null,
            "flex_flow": null,
            "width": null,
            "min_width": null,
            "border": null,
            "align_items": null,
            "bottom": null,
            "_model_module": "@jupyter-widgets/base",
            "top": null,
            "grid_column": null,
            "overflow_y": null,
            "overflow_x": null,
            "grid_auto_flow": null,
            "grid_area": null,
            "grid_template_columns": null,
            "flex": null,
            "_model_name": "LayoutModel",
            "justify_items": null,
            "grid_row": null,
            "max_height": null,
            "align_content": null,
            "visibility": null,
            "align_self": null,
            "height": null,
            "min_height": null,
            "padding": null,
            "grid_auto_rows": null,
            "grid_gap": null,
            "max_width": null,
            "order": null,
            "_view_module_version": "1.2.0",
            "grid_template_areas": null,
            "object_position": null,
            "object_fit": null,
            "grid_auto_columns": null,
            "margin": null,
            "display": null,
            "left": null
          }
        },
        "09df60da3e4f4646af226d522216d73d": {
          "model_module": "@jupyter-widgets/controls",
          "model_name": "ProgressStyleModel",
          "model_module_version": "1.5.0",
          "state": {
            "_view_name": "StyleView",
            "_model_name": "ProgressStyleModel",
            "description_width": "",
            "_view_module": "@jupyter-widgets/base",
            "_model_module_version": "1.5.0",
            "_view_count": null,
            "_view_module_version": "1.2.0",
            "bar_color": null,
            "_model_module": "@jupyter-widgets/controls"
          }
        },
        "06a22abb4c56453f826a5d6a5d182f5a": {
          "model_module": "@jupyter-widgets/base",
          "model_name": "LayoutModel",
          "model_module_version": "1.2.0",
          "state": {
            "_view_name": "LayoutView",
            "grid_template_rows": null,
            "right": null,
            "justify_content": null,
            "_view_module": "@jupyter-widgets/base",
            "overflow": null,
            "_model_module_version": "1.2.0",
            "_view_count": null,
            "flex_flow": null,
            "width": null,
            "min_width": null,
            "border": null,
            "align_items": null,
            "bottom": null,
            "_model_module": "@jupyter-widgets/base",
            "top": null,
            "grid_column": null,
            "overflow_y": null,
            "overflow_x": null,
            "grid_auto_flow": null,
            "grid_area": null,
            "grid_template_columns": null,
            "flex": null,
            "_model_name": "LayoutModel",
            "justify_items": null,
            "grid_row": null,
            "max_height": null,
            "align_content": null,
            "visibility": null,
            "align_self": null,
            "height": null,
            "min_height": null,
            "padding": null,
            "grid_auto_rows": null,
            "grid_gap": null,
            "max_width": null,
            "order": null,
            "_view_module_version": "1.2.0",
            "grid_template_areas": null,
            "object_position": null,
            "object_fit": null,
            "grid_auto_columns": null,
            "margin": null,
            "display": null,
            "left": null
          }
        },
        "b758774942164e19ae070b708f6f9336": {
          "model_module": "@jupyter-widgets/controls",
          "model_name": "DescriptionStyleModel",
          "model_module_version": "1.5.0",
          "state": {
            "_view_name": "StyleView",
            "_model_name": "DescriptionStyleModel",
            "description_width": "",
            "_view_module": "@jupyter-widgets/base",
            "_model_module_version": "1.5.0",
            "_view_count": null,
            "_view_module_version": "1.2.0",
            "_model_module": "@jupyter-widgets/controls"
          }
        },
        "d8ae6b5abc854601a2a0492a49291bdc": {
          "model_module": "@jupyter-widgets/base",
          "model_name": "LayoutModel",
          "model_module_version": "1.2.0",
          "state": {
            "_view_name": "LayoutView",
            "grid_template_rows": null,
            "right": null,
            "justify_content": null,
            "_view_module": "@jupyter-widgets/base",
            "overflow": null,
            "_model_module_version": "1.2.0",
            "_view_count": null,
            "flex_flow": null,
            "width": null,
            "min_width": null,
            "border": null,
            "align_items": null,
            "bottom": null,
            "_model_module": "@jupyter-widgets/base",
            "top": null,
            "grid_column": null,
            "overflow_y": null,
            "overflow_x": null,
            "grid_auto_flow": null,
            "grid_area": null,
            "grid_template_columns": null,
            "flex": null,
            "_model_name": "LayoutModel",
            "justify_items": null,
            "grid_row": null,
            "max_height": null,
            "align_content": null,
            "visibility": null,
            "align_self": null,
            "height": null,
            "min_height": null,
            "padding": null,
            "grid_auto_rows": null,
            "grid_gap": null,
            "max_width": null,
            "order": null,
            "_view_module_version": "1.2.0",
            "grid_template_areas": null,
            "object_position": null,
            "object_fit": null,
            "grid_auto_columns": null,
            "margin": null,
            "display": null,
            "left": null
          }
        },
        "5994e67565ce4d6f9e6388a703f92d5d": {
          "model_module": "@jupyter-widgets/controls",
          "model_name": "HBoxModel",
          "model_module_version": "1.5.0",
          "state": {
            "_view_name": "HBoxView",
            "_dom_classes": [],
            "_model_name": "HBoxModel",
            "_view_module": "@jupyter-widgets/controls",
            "_model_module_version": "1.5.0",
            "_view_count": null,
            "_view_module_version": "1.5.0",
            "box_style": "",
            "layout": "IPY_MODEL_43ac3f1de20d41d58d45aa62e3b1ce5d",
            "_model_module": "@jupyter-widgets/controls",
            "children": [
              "IPY_MODEL_f40022fd5afc4cd198217602108764d5",
              "IPY_MODEL_1482d0f31c814808bbe81c61d596b074",
              "IPY_MODEL_40068118f416401194513632ae29731f"
            ]
          }
        },
        "43ac3f1de20d41d58d45aa62e3b1ce5d": {
          "model_module": "@jupyter-widgets/base",
          "model_name": "LayoutModel",
          "model_module_version": "1.2.0",
          "state": {
            "_view_name": "LayoutView",
            "grid_template_rows": null,
            "right": null,
            "justify_content": null,
            "_view_module": "@jupyter-widgets/base",
            "overflow": null,
            "_model_module_version": "1.2.0",
            "_view_count": null,
            "flex_flow": null,
            "width": null,
            "min_width": null,
            "border": null,
            "align_items": null,
            "bottom": null,
            "_model_module": "@jupyter-widgets/base",
            "top": null,
            "grid_column": null,
            "overflow_y": null,
            "overflow_x": null,
            "grid_auto_flow": null,
            "grid_area": null,
            "grid_template_columns": null,
            "flex": null,
            "_model_name": "LayoutModel",
            "justify_items": null,
            "grid_row": null,
            "max_height": null,
            "align_content": null,
            "visibility": null,
            "align_self": null,
            "height": null,
            "min_height": null,
            "padding": null,
            "grid_auto_rows": null,
            "grid_gap": null,
            "max_width": null,
            "order": null,
            "_view_module_version": "1.2.0",
            "grid_template_areas": null,
            "object_position": null,
            "object_fit": null,
            "grid_auto_columns": null,
            "margin": null,
            "display": null,
            "left": null
          }
        },
        "f40022fd5afc4cd198217602108764d5": {
          "model_module": "@jupyter-widgets/controls",
          "model_name": "HTMLModel",
          "model_module_version": "1.5.0",
          "state": {
            "_view_name": "HTMLView",
            "style": "IPY_MODEL_0b0a8189773a4c93b91e411587ab37e9",
            "_dom_classes": [],
            "description": "",
            "_model_name": "HTMLModel",
            "placeholder": "​",
            "_view_module": "@jupyter-widgets/controls",
            "_model_module_version": "1.5.0",
            "value": "epoch 8: 100%",
            "_view_count": null,
            "_view_module_version": "1.5.0",
            "description_tooltip": null,
            "_model_module": "@jupyter-widgets/controls",
            "layout": "IPY_MODEL_90bbdfc9c50a4fff88c3200c9d4d4863"
          }
        },
        "1482d0f31c814808bbe81c61d596b074": {
          "model_module": "@jupyter-widgets/controls",
          "model_name": "FloatProgressModel",
          "model_module_version": "1.5.0",
          "state": {
            "_view_name": "ProgressView",
            "style": "IPY_MODEL_2378aa613be0452181b801537434e326",
            "_dom_classes": [],
            "description": "",
            "_model_name": "FloatProgressModel",
            "bar_style": "success",
            "max": 1813,
            "_view_module": "@jupyter-widgets/controls",
            "_model_module_version": "1.5.0",
            "value": 1813,
            "_view_count": null,
            "_view_module_version": "1.5.0",
            "orientation": "horizontal",
            "min": 0,
            "description_tooltip": null,
            "_model_module": "@jupyter-widgets/controls",
            "layout": "IPY_MODEL_76f1bac06c9e4c5190947eee8bbca9ca"
          }
        },
        "40068118f416401194513632ae29731f": {
          "model_module": "@jupyter-widgets/controls",
          "model_name": "HTMLModel",
          "model_module_version": "1.5.0",
          "state": {
            "_view_name": "HTMLView",
            "style": "IPY_MODEL_4af5b0c3ee2c473d85fc1430c34d9773",
            "_dom_classes": [],
            "description": "",
            "_model_name": "HTMLModel",
            "placeholder": "​",
            "_view_module": "@jupyter-widgets/controls",
            "_model_module_version": "1.5.0",
            "value": " 1813/1813 [00:36&lt;00:00, 50.17batch/s, mean_loss=355]",
            "_view_count": null,
            "_view_module_version": "1.5.0",
            "description_tooltip": null,
            "_model_module": "@jupyter-widgets/controls",
            "layout": "IPY_MODEL_f84c255d804c42ed9a8c9e56c9f27a53"
          }
        },
        "0b0a8189773a4c93b91e411587ab37e9": {
          "model_module": "@jupyter-widgets/controls",
          "model_name": "DescriptionStyleModel",
          "model_module_version": "1.5.0",
          "state": {
            "_view_name": "StyleView",
            "_model_name": "DescriptionStyleModel",
            "description_width": "",
            "_view_module": "@jupyter-widgets/base",
            "_model_module_version": "1.5.0",
            "_view_count": null,
            "_view_module_version": "1.2.0",
            "_model_module": "@jupyter-widgets/controls"
          }
        },
        "90bbdfc9c50a4fff88c3200c9d4d4863": {
          "model_module": "@jupyter-widgets/base",
          "model_name": "LayoutModel",
          "model_module_version": "1.2.0",
          "state": {
            "_view_name": "LayoutView",
            "grid_template_rows": null,
            "right": null,
            "justify_content": null,
            "_view_module": "@jupyter-widgets/base",
            "overflow": null,
            "_model_module_version": "1.2.0",
            "_view_count": null,
            "flex_flow": null,
            "width": null,
            "min_width": null,
            "border": null,
            "align_items": null,
            "bottom": null,
            "_model_module": "@jupyter-widgets/base",
            "top": null,
            "grid_column": null,
            "overflow_y": null,
            "overflow_x": null,
            "grid_auto_flow": null,
            "grid_area": null,
            "grid_template_columns": null,
            "flex": null,
            "_model_name": "LayoutModel",
            "justify_items": null,
            "grid_row": null,
            "max_height": null,
            "align_content": null,
            "visibility": null,
            "align_self": null,
            "height": null,
            "min_height": null,
            "padding": null,
            "grid_auto_rows": null,
            "grid_gap": null,
            "max_width": null,
            "order": null,
            "_view_module_version": "1.2.0",
            "grid_template_areas": null,
            "object_position": null,
            "object_fit": null,
            "grid_auto_columns": null,
            "margin": null,
            "display": null,
            "left": null
          }
        },
        "2378aa613be0452181b801537434e326": {
          "model_module": "@jupyter-widgets/controls",
          "model_name": "ProgressStyleModel",
          "model_module_version": "1.5.0",
          "state": {
            "_view_name": "StyleView",
            "_model_name": "ProgressStyleModel",
            "description_width": "",
            "_view_module": "@jupyter-widgets/base",
            "_model_module_version": "1.5.0",
            "_view_count": null,
            "_view_module_version": "1.2.0",
            "bar_color": null,
            "_model_module": "@jupyter-widgets/controls"
          }
        },
        "76f1bac06c9e4c5190947eee8bbca9ca": {
          "model_module": "@jupyter-widgets/base",
          "model_name": "LayoutModel",
          "model_module_version": "1.2.0",
          "state": {
            "_view_name": "LayoutView",
            "grid_template_rows": null,
            "right": null,
            "justify_content": null,
            "_view_module": "@jupyter-widgets/base",
            "overflow": null,
            "_model_module_version": "1.2.0",
            "_view_count": null,
            "flex_flow": null,
            "width": null,
            "min_width": null,
            "border": null,
            "align_items": null,
            "bottom": null,
            "_model_module": "@jupyter-widgets/base",
            "top": null,
            "grid_column": null,
            "overflow_y": null,
            "overflow_x": null,
            "grid_auto_flow": null,
            "grid_area": null,
            "grid_template_columns": null,
            "flex": null,
            "_model_name": "LayoutModel",
            "justify_items": null,
            "grid_row": null,
            "max_height": null,
            "align_content": null,
            "visibility": null,
            "align_self": null,
            "height": null,
            "min_height": null,
            "padding": null,
            "grid_auto_rows": null,
            "grid_gap": null,
            "max_width": null,
            "order": null,
            "_view_module_version": "1.2.0",
            "grid_template_areas": null,
            "object_position": null,
            "object_fit": null,
            "grid_auto_columns": null,
            "margin": null,
            "display": null,
            "left": null
          }
        },
        "4af5b0c3ee2c473d85fc1430c34d9773": {
          "model_module": "@jupyter-widgets/controls",
          "model_name": "DescriptionStyleModel",
          "model_module_version": "1.5.0",
          "state": {
            "_view_name": "StyleView",
            "_model_name": "DescriptionStyleModel",
            "description_width": "",
            "_view_module": "@jupyter-widgets/base",
            "_model_module_version": "1.5.0",
            "_view_count": null,
            "_view_module_version": "1.2.0",
            "_model_module": "@jupyter-widgets/controls"
          }
        },
        "f84c255d804c42ed9a8c9e56c9f27a53": {
          "model_module": "@jupyter-widgets/base",
          "model_name": "LayoutModel",
          "model_module_version": "1.2.0",
          "state": {
            "_view_name": "LayoutView",
            "grid_template_rows": null,
            "right": null,
            "justify_content": null,
            "_view_module": "@jupyter-widgets/base",
            "overflow": null,
            "_model_module_version": "1.2.0",
            "_view_count": null,
            "flex_flow": null,
            "width": null,
            "min_width": null,
            "border": null,
            "align_items": null,
            "bottom": null,
            "_model_module": "@jupyter-widgets/base",
            "top": null,
            "grid_column": null,
            "overflow_y": null,
            "overflow_x": null,
            "grid_auto_flow": null,
            "grid_area": null,
            "grid_template_columns": null,
            "flex": null,
            "_model_name": "LayoutModel",
            "justify_items": null,
            "grid_row": null,
            "max_height": null,
            "align_content": null,
            "visibility": null,
            "align_self": null,
            "height": null,
            "min_height": null,
            "padding": null,
            "grid_auto_rows": null,
            "grid_gap": null,
            "max_width": null,
            "order": null,
            "_view_module_version": "1.2.0",
            "grid_template_areas": null,
            "object_position": null,
            "object_fit": null,
            "grid_auto_columns": null,
            "margin": null,
            "display": null,
            "left": null
          }
        },
        "b99891e87e374242a625044798fcf2a1": {
          "model_module": "@jupyter-widgets/controls",
          "model_name": "HBoxModel",
          "model_module_version": "1.5.0",
          "state": {
            "_view_name": "HBoxView",
            "_dom_classes": [],
            "_model_name": "HBoxModel",
            "_view_module": "@jupyter-widgets/controls",
            "_model_module_version": "1.5.0",
            "_view_count": null,
            "_view_module_version": "1.5.0",
            "box_style": "",
            "layout": "IPY_MODEL_8e5f2a6ce08d4d08b964464f717b21d8",
            "_model_module": "@jupyter-widgets/controls",
            "children": [
              "IPY_MODEL_0508440efb97470f82fd1140d9daf49b",
              "IPY_MODEL_3d09cd274fea42fe852ffb61cd2d7ab6",
              "IPY_MODEL_ee71c855b6d8477d91f20c0ca73db114"
            ]
          }
        },
        "8e5f2a6ce08d4d08b964464f717b21d8": {
          "model_module": "@jupyter-widgets/base",
          "model_name": "LayoutModel",
          "model_module_version": "1.2.0",
          "state": {
            "_view_name": "LayoutView",
            "grid_template_rows": null,
            "right": null,
            "justify_content": null,
            "_view_module": "@jupyter-widgets/base",
            "overflow": null,
            "_model_module_version": "1.2.0",
            "_view_count": null,
            "flex_flow": null,
            "width": null,
            "min_width": null,
            "border": null,
            "align_items": null,
            "bottom": null,
            "_model_module": "@jupyter-widgets/base",
            "top": null,
            "grid_column": null,
            "overflow_y": null,
            "overflow_x": null,
            "grid_auto_flow": null,
            "grid_area": null,
            "grid_template_columns": null,
            "flex": null,
            "_model_name": "LayoutModel",
            "justify_items": null,
            "grid_row": null,
            "max_height": null,
            "align_content": null,
            "visibility": null,
            "align_self": null,
            "height": null,
            "min_height": null,
            "padding": null,
            "grid_auto_rows": null,
            "grid_gap": null,
            "max_width": null,
            "order": null,
            "_view_module_version": "1.2.0",
            "grid_template_areas": null,
            "object_position": null,
            "object_fit": null,
            "grid_auto_columns": null,
            "margin": null,
            "display": null,
            "left": null
          }
        },
        "0508440efb97470f82fd1140d9daf49b": {
          "model_module": "@jupyter-widgets/controls",
          "model_name": "HTMLModel",
          "model_module_version": "1.5.0",
          "state": {
            "_view_name": "HTMLView",
            "style": "IPY_MODEL_0588528e900a4f70874345e415c879de",
            "_dom_classes": [],
            "description": "",
            "_model_name": "HTMLModel",
            "placeholder": "​",
            "_view_module": "@jupyter-widgets/controls",
            "_model_module_version": "1.5.0",
            "value": "epoch 9: 100%",
            "_view_count": null,
            "_view_module_version": "1.5.0",
            "description_tooltip": null,
            "_model_module": "@jupyter-widgets/controls",
            "layout": "IPY_MODEL_f0771a37426b4b4485dc90f11af0f623"
          }
        },
        "3d09cd274fea42fe852ffb61cd2d7ab6": {
          "model_module": "@jupyter-widgets/controls",
          "model_name": "FloatProgressModel",
          "model_module_version": "1.5.0",
          "state": {
            "_view_name": "ProgressView",
            "style": "IPY_MODEL_556aa2e2723442bbb2f1346c4e75cd04",
            "_dom_classes": [],
            "description": "",
            "_model_name": "FloatProgressModel",
            "bar_style": "success",
            "max": 1813,
            "_view_module": "@jupyter-widgets/controls",
            "_model_module_version": "1.5.0",
            "value": 1813,
            "_view_count": null,
            "_view_module_version": "1.5.0",
            "orientation": "horizontal",
            "min": 0,
            "description_tooltip": null,
            "_model_module": "@jupyter-widgets/controls",
            "layout": "IPY_MODEL_e7d3580f779f4825a31c89c2320f0ef5"
          }
        },
        "ee71c855b6d8477d91f20c0ca73db114": {
          "model_module": "@jupyter-widgets/controls",
          "model_name": "HTMLModel",
          "model_module_version": "1.5.0",
          "state": {
            "_view_name": "HTMLView",
            "style": "IPY_MODEL_025cdc49087a4650aaa473f2cd613857",
            "_dom_classes": [],
            "description": "",
            "_model_name": "HTMLModel",
            "placeholder": "​",
            "_view_module": "@jupyter-widgets/controls",
            "_model_module_version": "1.5.0",
            "value": " 1813/1813 [00:36&lt;00:00, 51.66batch/s, mean_loss=338]",
            "_view_count": null,
            "_view_module_version": "1.5.0",
            "description_tooltip": null,
            "_model_module": "@jupyter-widgets/controls",
            "layout": "IPY_MODEL_1ebba6e513994df2b6e41806b4ffbef9"
          }
        },
        "0588528e900a4f70874345e415c879de": {
          "model_module": "@jupyter-widgets/controls",
          "model_name": "DescriptionStyleModel",
          "model_module_version": "1.5.0",
          "state": {
            "_view_name": "StyleView",
            "_model_name": "DescriptionStyleModel",
            "description_width": "",
            "_view_module": "@jupyter-widgets/base",
            "_model_module_version": "1.5.0",
            "_view_count": null,
            "_view_module_version": "1.2.0",
            "_model_module": "@jupyter-widgets/controls"
          }
        },
        "f0771a37426b4b4485dc90f11af0f623": {
          "model_module": "@jupyter-widgets/base",
          "model_name": "LayoutModel",
          "model_module_version": "1.2.0",
          "state": {
            "_view_name": "LayoutView",
            "grid_template_rows": null,
            "right": null,
            "justify_content": null,
            "_view_module": "@jupyter-widgets/base",
            "overflow": null,
            "_model_module_version": "1.2.0",
            "_view_count": null,
            "flex_flow": null,
            "width": null,
            "min_width": null,
            "border": null,
            "align_items": null,
            "bottom": null,
            "_model_module": "@jupyter-widgets/base",
            "top": null,
            "grid_column": null,
            "overflow_y": null,
            "overflow_x": null,
            "grid_auto_flow": null,
            "grid_area": null,
            "grid_template_columns": null,
            "flex": null,
            "_model_name": "LayoutModel",
            "justify_items": null,
            "grid_row": null,
            "max_height": null,
            "align_content": null,
            "visibility": null,
            "align_self": null,
            "height": null,
            "min_height": null,
            "padding": null,
            "grid_auto_rows": null,
            "grid_gap": null,
            "max_width": null,
            "order": null,
            "_view_module_version": "1.2.0",
            "grid_template_areas": null,
            "object_position": null,
            "object_fit": null,
            "grid_auto_columns": null,
            "margin": null,
            "display": null,
            "left": null
          }
        },
        "556aa2e2723442bbb2f1346c4e75cd04": {
          "model_module": "@jupyter-widgets/controls",
          "model_name": "ProgressStyleModel",
          "model_module_version": "1.5.0",
          "state": {
            "_view_name": "StyleView",
            "_model_name": "ProgressStyleModel",
            "description_width": "",
            "_view_module": "@jupyter-widgets/base",
            "_model_module_version": "1.5.0",
            "_view_count": null,
            "_view_module_version": "1.2.0",
            "bar_color": null,
            "_model_module": "@jupyter-widgets/controls"
          }
        },
        "e7d3580f779f4825a31c89c2320f0ef5": {
          "model_module": "@jupyter-widgets/base",
          "model_name": "LayoutModel",
          "model_module_version": "1.2.0",
          "state": {
            "_view_name": "LayoutView",
            "grid_template_rows": null,
            "right": null,
            "justify_content": null,
            "_view_module": "@jupyter-widgets/base",
            "overflow": null,
            "_model_module_version": "1.2.0",
            "_view_count": null,
            "flex_flow": null,
            "width": null,
            "min_width": null,
            "border": null,
            "align_items": null,
            "bottom": null,
            "_model_module": "@jupyter-widgets/base",
            "top": null,
            "grid_column": null,
            "overflow_y": null,
            "overflow_x": null,
            "grid_auto_flow": null,
            "grid_area": null,
            "grid_template_columns": null,
            "flex": null,
            "_model_name": "LayoutModel",
            "justify_items": null,
            "grid_row": null,
            "max_height": null,
            "align_content": null,
            "visibility": null,
            "align_self": null,
            "height": null,
            "min_height": null,
            "padding": null,
            "grid_auto_rows": null,
            "grid_gap": null,
            "max_width": null,
            "order": null,
            "_view_module_version": "1.2.0",
            "grid_template_areas": null,
            "object_position": null,
            "object_fit": null,
            "grid_auto_columns": null,
            "margin": null,
            "display": null,
            "left": null
          }
        },
        "025cdc49087a4650aaa473f2cd613857": {
          "model_module": "@jupyter-widgets/controls",
          "model_name": "DescriptionStyleModel",
          "model_module_version": "1.5.0",
          "state": {
            "_view_name": "StyleView",
            "_model_name": "DescriptionStyleModel",
            "description_width": "",
            "_view_module": "@jupyter-widgets/base",
            "_model_module_version": "1.5.0",
            "_view_count": null,
            "_view_module_version": "1.2.0",
            "_model_module": "@jupyter-widgets/controls"
          }
        },
        "1ebba6e513994df2b6e41806b4ffbef9": {
          "model_module": "@jupyter-widgets/base",
          "model_name": "LayoutModel",
          "model_module_version": "1.2.0",
          "state": {
            "_view_name": "LayoutView",
            "grid_template_rows": null,
            "right": null,
            "justify_content": null,
            "_view_module": "@jupyter-widgets/base",
            "overflow": null,
            "_model_module_version": "1.2.0",
            "_view_count": null,
            "flex_flow": null,
            "width": null,
            "min_width": null,
            "border": null,
            "align_items": null,
            "bottom": null,
            "_model_module": "@jupyter-widgets/base",
            "top": null,
            "grid_column": null,
            "overflow_y": null,
            "overflow_x": null,
            "grid_auto_flow": null,
            "grid_area": null,
            "grid_template_columns": null,
            "flex": null,
            "_model_name": "LayoutModel",
            "justify_items": null,
            "grid_row": null,
            "max_height": null,
            "align_content": null,
            "visibility": null,
            "align_self": null,
            "height": null,
            "min_height": null,
            "padding": null,
            "grid_auto_rows": null,
            "grid_gap": null,
            "max_width": null,
            "order": null,
            "_view_module_version": "1.2.0",
            "grid_template_areas": null,
            "object_position": null,
            "object_fit": null,
            "grid_auto_columns": null,
            "margin": null,
            "display": null,
            "left": null
          }
        },
        "8090275babcc4b6dbe4940c9955efa48": {
          "model_module": "@jupyter-widgets/controls",
          "model_name": "HBoxModel",
          "model_module_version": "1.5.0",
          "state": {
            "_view_name": "HBoxView",
            "_dom_classes": [],
            "_model_name": "HBoxModel",
            "_view_module": "@jupyter-widgets/controls",
            "_model_module_version": "1.5.0",
            "_view_count": null,
            "_view_module_version": "1.5.0",
            "box_style": "",
            "layout": "IPY_MODEL_d546522c3814436b83b530ba238ff422",
            "_model_module": "@jupyter-widgets/controls",
            "children": [
              "IPY_MODEL_0eff8e41eba54dcca649edf751cbd85f",
              "IPY_MODEL_8589de18f1074f48addb9b02a97d330e",
              "IPY_MODEL_ad60ee01ddf5415ab4fbf5bafb42e863"
            ]
          }
        },
        "d546522c3814436b83b530ba238ff422": {
          "model_module": "@jupyter-widgets/base",
          "model_name": "LayoutModel",
          "model_module_version": "1.2.0",
          "state": {
            "_view_name": "LayoutView",
            "grid_template_rows": null,
            "right": null,
            "justify_content": null,
            "_view_module": "@jupyter-widgets/base",
            "overflow": null,
            "_model_module_version": "1.2.0",
            "_view_count": null,
            "flex_flow": null,
            "width": null,
            "min_width": null,
            "border": null,
            "align_items": null,
            "bottom": null,
            "_model_module": "@jupyter-widgets/base",
            "top": null,
            "grid_column": null,
            "overflow_y": null,
            "overflow_x": null,
            "grid_auto_flow": null,
            "grid_area": null,
            "grid_template_columns": null,
            "flex": null,
            "_model_name": "LayoutModel",
            "justify_items": null,
            "grid_row": null,
            "max_height": null,
            "align_content": null,
            "visibility": null,
            "align_self": null,
            "height": null,
            "min_height": null,
            "padding": null,
            "grid_auto_rows": null,
            "grid_gap": null,
            "max_width": null,
            "order": null,
            "_view_module_version": "1.2.0",
            "grid_template_areas": null,
            "object_position": null,
            "object_fit": null,
            "grid_auto_columns": null,
            "margin": null,
            "display": null,
            "left": null
          }
        },
        "0eff8e41eba54dcca649edf751cbd85f": {
          "model_module": "@jupyter-widgets/controls",
          "model_name": "HTMLModel",
          "model_module_version": "1.5.0",
          "state": {
            "_view_name": "HTMLView",
            "style": "IPY_MODEL_4f62a5c3f6a048c084375463f68d0f59",
            "_dom_classes": [],
            "description": "",
            "_model_name": "HTMLModel",
            "placeholder": "​",
            "_view_module": "@jupyter-widgets/controls",
            "_model_module_version": "1.5.0",
            "value": "epoch 10: 100%",
            "_view_count": null,
            "_view_module_version": "1.5.0",
            "description_tooltip": null,
            "_model_module": "@jupyter-widgets/controls",
            "layout": "IPY_MODEL_8a514160aa5e47e580f7674cad1fd9d8"
          }
        },
        "8589de18f1074f48addb9b02a97d330e": {
          "model_module": "@jupyter-widgets/controls",
          "model_name": "FloatProgressModel",
          "model_module_version": "1.5.0",
          "state": {
            "_view_name": "ProgressView",
            "style": "IPY_MODEL_bd4f0bb43f8241f181c02208035ab217",
            "_dom_classes": [],
            "description": "",
            "_model_name": "FloatProgressModel",
            "bar_style": "success",
            "max": 1813,
            "_view_module": "@jupyter-widgets/controls",
            "_model_module_version": "1.5.0",
            "value": 1813,
            "_view_count": null,
            "_view_module_version": "1.5.0",
            "orientation": "horizontal",
            "min": 0,
            "description_tooltip": null,
            "_model_module": "@jupyter-widgets/controls",
            "layout": "IPY_MODEL_adb1b265ac3d4caa919646e4d31fd632"
          }
        },
        "ad60ee01ddf5415ab4fbf5bafb42e863": {
          "model_module": "@jupyter-widgets/controls",
          "model_name": "HTMLModel",
          "model_module_version": "1.5.0",
          "state": {
            "_view_name": "HTMLView",
            "style": "IPY_MODEL_aad8f4c844b44589a18092e70005ae0a",
            "_dom_classes": [],
            "description": "",
            "_model_name": "HTMLModel",
            "placeholder": "​",
            "_view_module": "@jupyter-widgets/controls",
            "_model_module_version": "1.5.0",
            "value": " 1813/1813 [00:36&lt;00:00, 51.65batch/s, mean_loss=326]",
            "_view_count": null,
            "_view_module_version": "1.5.0",
            "description_tooltip": null,
            "_model_module": "@jupyter-widgets/controls",
            "layout": "IPY_MODEL_5d57433d2b244812a1dc5699db3105e0"
          }
        },
        "4f62a5c3f6a048c084375463f68d0f59": {
          "model_module": "@jupyter-widgets/controls",
          "model_name": "DescriptionStyleModel",
          "model_module_version": "1.5.0",
          "state": {
            "_view_name": "StyleView",
            "_model_name": "DescriptionStyleModel",
            "description_width": "",
            "_view_module": "@jupyter-widgets/base",
            "_model_module_version": "1.5.0",
            "_view_count": null,
            "_view_module_version": "1.2.0",
            "_model_module": "@jupyter-widgets/controls"
          }
        },
        "8a514160aa5e47e580f7674cad1fd9d8": {
          "model_module": "@jupyter-widgets/base",
          "model_name": "LayoutModel",
          "model_module_version": "1.2.0",
          "state": {
            "_view_name": "LayoutView",
            "grid_template_rows": null,
            "right": null,
            "justify_content": null,
            "_view_module": "@jupyter-widgets/base",
            "overflow": null,
            "_model_module_version": "1.2.0",
            "_view_count": null,
            "flex_flow": null,
            "width": null,
            "min_width": null,
            "border": null,
            "align_items": null,
            "bottom": null,
            "_model_module": "@jupyter-widgets/base",
            "top": null,
            "grid_column": null,
            "overflow_y": null,
            "overflow_x": null,
            "grid_auto_flow": null,
            "grid_area": null,
            "grid_template_columns": null,
            "flex": null,
            "_model_name": "LayoutModel",
            "justify_items": null,
            "grid_row": null,
            "max_height": null,
            "align_content": null,
            "visibility": null,
            "align_self": null,
            "height": null,
            "min_height": null,
            "padding": null,
            "grid_auto_rows": null,
            "grid_gap": null,
            "max_width": null,
            "order": null,
            "_view_module_version": "1.2.0",
            "grid_template_areas": null,
            "object_position": null,
            "object_fit": null,
            "grid_auto_columns": null,
            "margin": null,
            "display": null,
            "left": null
          }
        },
        "bd4f0bb43f8241f181c02208035ab217": {
          "model_module": "@jupyter-widgets/controls",
          "model_name": "ProgressStyleModel",
          "model_module_version": "1.5.0",
          "state": {
            "_view_name": "StyleView",
            "_model_name": "ProgressStyleModel",
            "description_width": "",
            "_view_module": "@jupyter-widgets/base",
            "_model_module_version": "1.5.0",
            "_view_count": null,
            "_view_module_version": "1.2.0",
            "bar_color": null,
            "_model_module": "@jupyter-widgets/controls"
          }
        },
        "adb1b265ac3d4caa919646e4d31fd632": {
          "model_module": "@jupyter-widgets/base",
          "model_name": "LayoutModel",
          "model_module_version": "1.2.0",
          "state": {
            "_view_name": "LayoutView",
            "grid_template_rows": null,
            "right": null,
            "justify_content": null,
            "_view_module": "@jupyter-widgets/base",
            "overflow": null,
            "_model_module_version": "1.2.0",
            "_view_count": null,
            "flex_flow": null,
            "width": null,
            "min_width": null,
            "border": null,
            "align_items": null,
            "bottom": null,
            "_model_module": "@jupyter-widgets/base",
            "top": null,
            "grid_column": null,
            "overflow_y": null,
            "overflow_x": null,
            "grid_auto_flow": null,
            "grid_area": null,
            "grid_template_columns": null,
            "flex": null,
            "_model_name": "LayoutModel",
            "justify_items": null,
            "grid_row": null,
            "max_height": null,
            "align_content": null,
            "visibility": null,
            "align_self": null,
            "height": null,
            "min_height": null,
            "padding": null,
            "grid_auto_rows": null,
            "grid_gap": null,
            "max_width": null,
            "order": null,
            "_view_module_version": "1.2.0",
            "grid_template_areas": null,
            "object_position": null,
            "object_fit": null,
            "grid_auto_columns": null,
            "margin": null,
            "display": null,
            "left": null
          }
        },
        "aad8f4c844b44589a18092e70005ae0a": {
          "model_module": "@jupyter-widgets/controls",
          "model_name": "DescriptionStyleModel",
          "model_module_version": "1.5.0",
          "state": {
            "_view_name": "StyleView",
            "_model_name": "DescriptionStyleModel",
            "description_width": "",
            "_view_module": "@jupyter-widgets/base",
            "_model_module_version": "1.5.0",
            "_view_count": null,
            "_view_module_version": "1.2.0",
            "_model_module": "@jupyter-widgets/controls"
          }
        },
        "5d57433d2b244812a1dc5699db3105e0": {
          "model_module": "@jupyter-widgets/base",
          "model_name": "LayoutModel",
          "model_module_version": "1.2.0",
          "state": {
            "_view_name": "LayoutView",
            "grid_template_rows": null,
            "right": null,
            "justify_content": null,
            "_view_module": "@jupyter-widgets/base",
            "overflow": null,
            "_model_module_version": "1.2.0",
            "_view_count": null,
            "flex_flow": null,
            "width": null,
            "min_width": null,
            "border": null,
            "align_items": null,
            "bottom": null,
            "_model_module": "@jupyter-widgets/base",
            "top": null,
            "grid_column": null,
            "overflow_y": null,
            "overflow_x": null,
            "grid_auto_flow": null,
            "grid_area": null,
            "grid_template_columns": null,
            "flex": null,
            "_model_name": "LayoutModel",
            "justify_items": null,
            "grid_row": null,
            "max_height": null,
            "align_content": null,
            "visibility": null,
            "align_self": null,
            "height": null,
            "min_height": null,
            "padding": null,
            "grid_auto_rows": null,
            "grid_gap": null,
            "max_width": null,
            "order": null,
            "_view_module_version": "1.2.0",
            "grid_template_areas": null,
            "object_position": null,
            "object_fit": null,
            "grid_auto_columns": null,
            "margin": null,
            "display": null,
            "left": null
          }
        }
      }
    }
  },
  "nbformat": 4,
  "nbformat_minor": 0
}