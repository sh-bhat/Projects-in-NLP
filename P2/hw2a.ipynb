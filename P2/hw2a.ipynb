{
  "cells": [
    {
      "cell_type": "markdown",
      "id": "0683589f",
      "metadata": {
        "_kg_hide-output": true,
        "papermill": {
          "duration": 0.014499,
          "end_time": "2022-02-11T21:46:41.411298",
          "exception": false,
          "start_time": "2022-02-11T21:46:41.396799",
          "status": "completed"
        },
        "tags": [],
        "id": "0683589f"
      },
      "source": [
        "# HW2A: Alignment with IBM Model 1\n",
        "\n",
        "Going forward, all notebooks for this class will use Kaggle instead of Google Colaboratory. If you have a Colab Pro or Colab Pro+ account and wish to switch back, you can use `File > Download Notebook` to obtain the `.ipynb` file and upload it to Colab. If you haven't used Kaggle before, you'll need to verify your phone number in order to (1) allow internet access and (2) access GPU accelerators. You can find the verification link on the settings tab on the right side of this notebook, although you shouldn't need any special packages for this part of the homework.\n"
      ]
    },
    {
      "cell_type": "code",
      "execution_count": null,
      "id": "cda6b405",
      "metadata": {
        "_cell_guid": "b1076dfc-b9ad-4769-8c92-a6c4dae69d19",
        "_uuid": "8f2839f25d086af736a60e9eeb907d3b93b6e0e5",
        "execution": {
          "iopub.execute_input": "2022-02-11T21:46:41.449287Z",
          "iopub.status.busy": "2022-02-11T21:46:41.441076Z",
          "iopub.status.idle": "2022-02-11T21:46:41.518142Z",
          "shell.execute_reply": "2022-02-11T21:46:41.518703Z",
          "shell.execute_reply.started": "2022-02-11T20:25:09.644071Z"
        },
        "papermill": {
          "duration": 0.094536,
          "end_time": "2022-02-11T21:46:41.519005",
          "exception": false,
          "start_time": "2022-02-11T21:46:41.424469",
          "status": "completed"
        },
        "tags": [],
        "id": "cda6b405"
      },
      "outputs": [],
      "source": [
        "# This Python 3 environment comes with many helpful analytics libraries installed\n",
        "# It is defined by the kaggle/python Docker image: https://github.com/kaggle/docker-python\n",
        "# For example, here's several helpful packages to load\n",
        "\n",
        "import math\n",
        "import matplotlib.pyplot as plt # graphs and figures\n",
        "import numpy as np # linear algebra\n",
        "import pandas as pd # data processing, CSV file I/O (e.g. pd.read_csv)\n",
        "import string\n",
        "from collections import Counter\n",
        "from itertools import product\n",
        "import tqdm.notebook\n",
        "import pickle\n",
        "from collections import defaultdict\n",
        "import networkx as nx\n",
        "from networkx.algorithms import bipartite\n",
        "# Input data files are available in the read-only \"../input/\" directory\n",
        "# For example, running this (by clicking run or pressing Shift+Enter) will list all files under the input directory\n",
        "\n",
        "import os\n",
        "for dirname, _, filenames in os.walk('/kaggle/input'):\n",
        "    for filename in filenames:\n",
        "        print(os.path.join(dirname, filename))\n",
        "\n",
        "# You can write up to 20GB to the current directory (/kaggle/working/) that gets preserved as output when you create a version using \"Save & Run All\" \n",
        "# You can also write temporary files to /kaggle/temp/, but they won't be saved outside of the current session"
      ]
    },
    {
      "cell_type": "markdown",
      "id": "b3fcc75b",
      "metadata": {
        "papermill": {
          "duration": 0.01261,
          "end_time": "2022-02-11T21:46:41.544564",
          "exception": false,
          "start_time": "2022-02-11T21:46:41.531954",
          "status": "completed"
        },
        "tags": [],
        "id": "b3fcc75b"
      },
      "source": [
        "## Data\n",
        "\n",
        "We'll start out by using the toy dataset presented in lecture. Please see [these slides](https://cal-cs288.github.io/sp20/slides/cs288_sp20_05_statistical_translation_4up.pdf) for a more complete coverage of IBM Model 1, and feel free to check out Philipp Koehn's book _Statistical Machine Translation_. "
      ]
    },
    {
      "cell_type": "code",
      "execution_count": null,
      "id": "fd65543f",
      "metadata": {
        "execution": {
          "iopub.execute_input": "2022-02-11T21:46:41.575555Z",
          "iopub.status.busy": "2022-02-11T21:46:41.574876Z",
          "iopub.status.idle": "2022-02-11T21:46:41.576382Z",
          "shell.execute_reply": "2022-02-11T21:46:41.576924Z",
          "shell.execute_reply.started": "2022-02-11T20:27:06.438872Z"
        },
        "papermill": {
          "duration": 0.019788,
          "end_time": "2022-02-11T21:46:41.577113",
          "exception": false,
          "start_time": "2022-02-11T21:46:41.557325",
          "status": "completed"
        },
        "tags": [],
        "id": "fd65543f"
      },
      "outputs": [],
      "source": [
        "aligned_data = [\n",
        "    ([\"das\", \"haus\"], [\"the\", \"house\"]),\n",
        "    ([\"das\", \"buch\"], [\"the\", \"book\"]),\n",
        "    ([\"ein\", \"buch\"], [\"a\", \"book\"]),\n",
        "]"
      ]
    },
    {
      "cell_type": "code",
      "source": [
        "pairs=[]\n",
        "weighted_counts = defaultdict(int)\n",
        "totals = []\n",
        "for each in aligned_data:\n",
        "  pairs.extend(product(each[0],each[1]))\n",
        "print((Counter(pairs)))\n",
        "for each in Counter(pairs):\n",
        "  weighted_counts[each]=Counter(pairs)[each]/3\n",
        "for each in Counter(pairs):\n",
        "  totals.append(each[0])\n",
        "print(Counter(totals)['kjf'])"
      ],
      "metadata": {
        "colab": {
          "base_uri": "https://localhost:8080/"
        },
        "id": "jTIzloVPQ-Pf",
        "outputId": "f504d83b-bc55-4dc7-a65d-d26aac709dac"
      },
      "id": "jTIzloVPQ-Pf",
      "execution_count": null,
      "outputs": [
        {
          "output_type": "stream",
          "name": "stdout",
          "text": [
            "Counter({('das', 'the'): 2, ('buch', 'book'): 2, ('das', 'house'): 1, ('haus', 'the'): 1, ('haus', 'house'): 1, ('das', 'book'): 1, ('buch', 'the'): 1, ('ein', 'a'): 1, ('ein', 'book'): 1, ('buch', 'a'): 1})\n",
            "0\n"
          ]
        }
      ]
    },
    {
      "cell_type": "markdown",
      "id": "0f50da6f",
      "metadata": {
        "papermill": {
          "duration": 0.012383,
          "end_time": "2022-02-11T21:46:41.602070",
          "exception": false,
          "start_time": "2022-02-11T21:46:41.589687",
          "status": "completed"
        },
        "tags": [],
        "id": "0f50da6f"
      },
      "source": [
        "## Alignment Model\n",
        "\n",
        "Fill in the code for IBM Model 1 below. A correct implementation should achieve perplexity 4096 on the first iteration and perplexity around 70 by the tenth iteration, for the toy dataset above. Note that we'll be grading you only on the generated `self.translation_probabilities`, so the probability and perplexity functions only exist for you to check the correctness of your own implementation. You may wish to comment them out during implementation and check that `self.translation_probabilities` looks reasonable instead."
      ]
    },
    {
      "cell_type": "code",
      "execution_count": null,
      "id": "9065ba73",
      "metadata": {
        "execution": {
          "iopub.execute_input": "2022-02-11T21:46:41.630762Z",
          "iopub.status.busy": "2022-02-11T21:46:41.630080Z",
          "iopub.status.idle": "2022-02-11T21:46:41.643213Z",
          "shell.execute_reply": "2022-02-11T21:46:41.642550Z",
          "shell.execute_reply.started": "2022-02-11T20:27:18.353655Z"
        },
        "papermill": {
          "duration": 0.028752,
          "end_time": "2022-02-11T21:46:41.643497",
          "exception": true,
          "start_time": "2022-02-11T21:46:41.614745",
          "status": "failed"
        },
        "tags": [],
        "id": "9065ba73",
        "outputId": "c9a95769-ea1d-4994-add4-afae67927a2a",
        "colab": {
          "base_uri": "https://localhost:8080/"
        }
      },
      "outputs": [
        {
          "output_type": "stream",
          "name": "stderr",
          "text": [
            "100%|██████████| 10/10 [00:00<00:00, 1619.61it/s]"
          ]
        },
        {
          "output_type": "stream",
          "name": "stdout",
          "text": [
            "0\n",
            "Iteration: 0 | Perplexity: None\n",
            "1\n",
            "Iteration: 1 | Perplexity: None\n",
            "2\n",
            "Iteration: 2 | Perplexity: None\n",
            "3\n",
            "Iteration: 3 | Perplexity: None\n",
            "4\n",
            "Iteration: 4 | Perplexity: None\n",
            "5\n",
            "Iteration: 5 | Perplexity: None\n",
            "6\n",
            "Iteration: 6 | Perplexity: None\n",
            "7\n",
            "Iteration: 7 | Perplexity: None\n",
            "8\n",
            "Iteration: 8 | Perplexity: None\n",
            "9\n",
            "Iteration: 9 | Perplexity: None\n",
            "Iteration: 10 | Perplexity: None\n",
            "{('ein', 'house'): 0.0, ('ein', 'book'): 0.004611088752222586, ('ein', 'a'): 0.9172359189928124, ('ein', 'the'): 0.0, ('haus', 'house'): 0.9172359189928124, ('haus', 'book'): 0.0, ('haus', 'a'): 0.0, ('haus', 'the'): 0.0046110887522225865, ('das', 'house'): 0.08276408100718743, ('das', 'book'): 0.0020835715312350995, ('das', 'a'): 0.0, ('das', 'the'): 0.9933053397165424, ('buch', 'house'): 0.0, ('buch', 'book'): 0.9933053397165423, ('buch', 'a'): 0.08276408100718743, ('buch', 'the'): 0.0020835715312351013}\n",
            "('buch', 'book') 0.9933053397165423\n",
            "('ein', 'a') 0.9172359189928124\n"
          ]
        },
        {
          "output_type": "stream",
          "name": "stderr",
          "text": [
            "\n"
          ]
        }
      ],
      "source": [
        "class IBMModel1:\n",
        "    def __init__(self, data, num_iterations=10, epsilon=1.0, compute_perplexity=True):\n",
        "        self.data = data # aligned corpus as shown above\n",
        "        self.num_iterations = num_iterations # iterations of expectation-maximization\n",
        "        self.epsilon = epsilon\n",
        "        self.compute_perplexity = compute_perplexity\n",
        "        self.s_total = defaultdict(int)\n",
        "\n",
        "        # Preprocess bitext data:\n",
        "        self.source_words, self.target_words = set(), set()\n",
        "        for (source,target) in self.data:\n",
        "            self.source_words.update(source)\n",
        "            self.target_words.update(target)\n",
        "        \n",
        "        # Initialize uniform probabilities:\n",
        "        self.translation_probs = {(s,t): 1.0/len(self.target_words)\n",
        "                                  for s,t in product(self.source_words, self.target_words)}\n",
        "        \n",
        "    def e_step(self):\n",
        "        # YOUR SOLUTION HERE\n",
        "        # - Iterate over paired sentences in the data and compute:\n",
        "        # - (1) counts, the number of times a source word is translated into a target word,\n",
        "        #       weighted by alignment probabilities\n",
        "        # - (2) total, the sum of counts over all possible target words\n",
        "        # See slide 32 for more information: https://cal-cs288.github.io/sp20/slides/cs288_sp20_05_statistical_translation_4up.pdf\n",
        "        # BEGIN SOLUTION\n",
        "\n",
        "        counts = defaultdict(int)\n",
        "        totals = defaultdict(int)\n",
        "        for (s,t) in self.data:\n",
        "          for source in s:\n",
        "            self.s_total[source] = 0\n",
        "            for target in t:\n",
        "              self.s_total[source] += self.translation_probs[(source,target)]\n",
        "\n",
        "          for source in s:\n",
        "            for target in t:\n",
        "              counts[(source, target)] += self.translation_probs[(source,target)]/self.s_total[source]\n",
        "              totals[target] += self.translation_probs[(source,target)]/self.s_total[source]\n",
        "\n",
        "        return counts, totals\n",
        "\n",
        "        # END SOLUTION\n",
        "        \n",
        "    def m_step(self, counts, total):\n",
        "        # YOUR SOLUTION HERE\n",
        "        # - Update self.translation_probs using counts and total\n",
        "        # BEGIN SOLUTION\n",
        "        for source in self.source_words:\n",
        "          for target in self.target_words:\n",
        "            self.translation_probs[(source,target)] = counts[(source,target)]/total[target]\n",
        "        # END SOLUTION\n",
        "        \n",
        "    def train(self):\n",
        "        # Run EM for self.num_iterations:\n",
        "\n",
        "        for idx in tqdm.tqdm(range(self.num_iterations)):\n",
        "            print(idx)\n",
        "            if self.compute_perplexity: \n",
        "                print(\"Iteration: {} | Perplexity: {}\".format(idx, self.perplexity()))\n",
        "            counts, total = self.e_step()\n",
        "            self.m_step(counts, total)\n",
        "        if self.compute_perplexity:\n",
        "            print(\"Iteration: {} | Perplexity: {}\".format(self.num_iterations, self.perplexity()))\n",
        "        print(self.translation_probs)\n",
        "  \n",
        "    def probability(self, source, target):\n",
        "        # YOUR SOLUTION HERE\n",
        "        # - Use the normalization trick from lecture to efficiently compute probabilities\n",
        "        # - We'll use self.epsilon here, which is defined in the initialization\n",
        "        # BEGIN SOLUTION\n",
        "        pass\n",
        "        # END SOLUTION\n",
        "        \n",
        "    def perplexity(self):\n",
        "        # YOUR SOLUTION HERE\n",
        "        # - Iterate over each pair of sentences in the dataset\n",
        "        # - Call self.probability and compute a sum in log space\n",
        "        # - Feel free to comment this out while testing your initial model\n",
        "        # BEGIN SOLUTION\n",
        "        pass\n",
        "        # END SOLUTION\n",
        "        \n",
        "    def get_alignment(self, source, target):\n",
        "        # YOUR SOLUTION HERE\n",
        "        # - Find the best word alignment for a source, target pair\n",
        "        # - Output a list of [(source_idx, target_idx)]\n",
        "        #   For example: ([\"ein\", \"buch\"], [\"a\", \"book\"])\n",
        "        #   should have an alignment [(0,0), (1,1)]\n",
        "        # BEGIN SOLUTION\n",
        "        aligned = []\n",
        "        indices=[]\n",
        "        d = {x:self.translation_probs[x] for x in product(source,target)}\n",
        "        \n",
        "        for i in range(0,len(source)):\n",
        "          each = sorted(d, key=d.get, reverse=True)[0]\n",
        "          print(each,d[each])\n",
        "          aligned.append(each)\n",
        "          for every in sorted(d, key=d.get, reverse=True):\n",
        "            if each[0]==every[0] or each[1]==every[1]:\n",
        "              del d[every]\n",
        "        for i,s in enumerate(source):\n",
        "          indices.append((i,target.index(dict(aligned)[s])))\n",
        "        return indices   \n",
        "\n",
        "        # END SOLUTION\n",
        "\n",
        "ibm = IBMModel1(aligned_data)\n",
        "ibm.train()\n",
        "#ibm.get_alignment([\"ein\", \"buch\"], [\"a\", \"book\"])\n",
        "assert(ibm.get_alignment([\"ein\", \"buch\"], [\"a\", \"book\"]) == [(0, 0), (1, 1)])\n",
        "with open(\"example_alignments.pkl\", \"wb\") as outfile:\n",
        "    pickle.dump(ibm.translation_probs, outfile, protocol=pickle.HIGHEST_PROTOCOL)"
      ]
    },
    {
      "cell_type": "markdown",
      "id": "385fca8c",
      "metadata": {
        "papermill": {
          "duration": null,
          "end_time": null,
          "exception": null,
          "start_time": null,
          "status": "pending"
        },
        "tags": [],
        "id": "385fca8c"
      },
      "source": [
        "## Visualization and Analysis\n",
        "\n",
        "Write code to visualize alignments and rerun the IBM model on a (very slightly larger) toy dataset:"
      ]
    },
    {
      "cell_type": "code",
      "execution_count": null,
      "id": "ba4badce",
      "metadata": {
        "papermill": {
          "duration": null,
          "end_time": null,
          "exception": null,
          "start_time": null,
          "status": "pending"
        },
        "tags": [],
        "id": "ba4badce",
        "colab": {
          "base_uri": "https://localhost:8080/",
          "height": 744
        },
        "outputId": "50258a76-982d-42de-9b62-460a7ba436a9"
      },
      "outputs": [
        {
          "output_type": "stream",
          "name": "stderr",
          "text": [
            "100%|██████████| 10/10 [00:00<00:00, 1309.33it/s]\n"
          ]
        },
        {
          "output_type": "stream",
          "name": "stdout",
          "text": [
            "0\n",
            "Iteration: 0 | Perplexity: None\n",
            "1\n",
            "Iteration: 1 | Perplexity: None\n",
            "2\n",
            "Iteration: 2 | Perplexity: None\n",
            "3\n",
            "Iteration: 3 | Perplexity: None\n",
            "4\n",
            "Iteration: 4 | Perplexity: None\n",
            "5\n",
            "Iteration: 5 | Perplexity: None\n",
            "6\n",
            "Iteration: 6 | Perplexity: None\n",
            "7\n",
            "Iteration: 7 | Perplexity: None\n",
            "8\n",
            "Iteration: 8 | Perplexity: None\n",
            "9\n",
            "Iteration: 9 | Perplexity: None\n",
            "Iteration: 10 | Perplexity: None\n",
            "{('das', 'big'): 0.0015450832863394212, ('das', 'small'): 0.016120410746646958, ('das', 'a'): 0.0, ('das', 'is'): 0.029309610456651137, ('das', 'book'): 0.018731144562149128, ('das', 'the'): 0.9253585911176321, ('das', 'house'): 0.10959822209269293, ('ist', 'big'): 0.0707098376121323, ('ist', 'small'): 0.2013446432902171, ('ist', 'a'): 0.0, ('ist', 'is'): 0.5754938937080402, ('ist', 'book'): 3.86234171707252e-05, ('ist', 'the'): 0.03006063559836389, ('ist', 'house'): 0.019628225300952883, ('ja', 'big'): 0.26661425222821916, ('ja', 'small'): 0.03980251423366606, ('ja', 'a'): 0.0, ('ja', 'is'): 0.3665259202260007, ('ja', 'book'): 0.005638717230654892, ('ja', 'the'): 0.019145298057425528, ('ja', 'house'): 0.00014540421427954397, ('ein', 'big'): 0.0, ('ein', 'small'): 0.0, ('ein', 'a'): 0.918614067829133, ('ein', 'is'): 0.0, ('ein', 'book'): 6.0298304205422474e-05, ('ein', 'the'): 0.0, ('ein', 'house'): 0.0, ('groß', 'big'): 0.651556820562155, ('groß', 'small'): 0.0, ('groß', 'a'): 0.0, ('groß', 'is'): 0.00018601584672125964, ('groß', 'book'): 0.0, ('groß', 'the'): 9.716444683330922e-06, ('groß', 'house'): 0.0003553414971650584, ('haus', 'big'): 0.009574006311154086, ('haus', 'small'): 0.00013893373242212232, ('haus', 'a'): 0.0, ('haus', 'is'): 0.0036675326671600566, ('haus', 'book'): 0.0, ('haus', 'the'): 0.02379542724186083, ('haus', 'house'): 0.870225994937316, ('klein', 'big'): 0.0, ('klein', 'small'): 0.7424993067826017, ('klein', 'a'): 0.0, ('klein', 'is'): 0.02481387928181502, ('klein', 'book'): 0.00010157487407132819, ('klein', 'the'): 0.0012961405690446017, ('klein', 'house'): 4.681195759365916e-05, ('buch', 'big'): 0.0, ('buch', 'small'): 9.419121444619091e-05, ('buch', 'a'): 0.0813859321708669, ('buch', 'is'): 3.1478136118444365e-06, ('buch', 'book'): 0.9754296416117485, ('buch', 'the'): 0.00033419097098964074, ('buch', 'house'): 0.0}\n",
            "('das', 'the') 0.9253585911176321\n",
            "('haus', 'house') 0.870225994937316\n",
            "('klein', 'small') 0.7424993067826017\n",
            "('ist', 'is') 0.5754938937080402\n",
            "[(0, 3), (1, 2), (2, 0), (3, 1)]\n",
            "['klein', 'ist', 'das', 'haus']\n"
          ]
        },
        {
          "output_type": "display_data",
          "data": {
            "image/png": "[encoded data removed]",
            "text/plain": [
              "<Figure size 432x288 with 1 Axes>"
            ]
          },
          "metadata": {}
        }
      ],
      "source": [
        "def visualize_alignment(alignment, source, target):\n",
        "    # YOUR SOLUTION HERE\n",
        "    # BEGIN ALIGNMENT [(0, 3), (1, 2), (2, 0), (3, 1)]\n",
        "    G = nx.Graph()\n",
        "    G.add_nodes_from(source, bipartite=0)\n",
        "    G.add_nodes_from(target,bipartite=1)\n",
        "    align_map = [(source[s], target[t]) for (s,t) in alignment]\n",
        "    print(source)\n",
        "    G.add_edges_from(align_map)\n",
        "    nx.draw_networkx(G, pos = nx.drawing.layout.bipartite_layout(G, source), width = 2, node_size = 2000)\n",
        "\n",
        "    # END ALIGNMENT\n",
        "\n",
        "aligned_data = [\n",
        "    (['klein', 'ist', 'das', 'haus'], ['the', 'house', 'is', 'small']),\n",
        "    (['das', 'haus', 'ist', 'ja', 'groß'], ['the', 'house', 'is', 'big']),\n",
        "    (['das', 'buch', 'ist', 'ja', 'klein'], ['the', 'book', 'is', 'small']),\n",
        "    (['das', 'haus'], ['the', 'house']),\n",
        "    (['das', 'buch'], ['the', 'book']),\n",
        "    (['ein', 'buch'], ['a', 'book'])\n",
        "]\n",
        "ibm = IBMModel1(aligned_data)\n",
        "ibm.train()\n",
        "\n",
        "alignment = ibm.get_alignment(['klein', 'ist', 'das', 'haus'], ['the', 'house', 'is', 'small'])\n",
        "print(alignment)\n",
        "\n",
        "visualize_alignment(alignment,['klein', 'ist', 'das', 'haus'],['the', 'house', 'is', 'small'])"
      ]
    },
    {
      "cell_type": "markdown",
      "id": "2745f0e8",
      "metadata": {
        "papermill": {
          "duration": null,
          "end_time": null,
          "exception": null,
          "start_time": null,
          "status": "pending"
        },
        "tags": [],
        "id": "2745f0e8"
      },
      "source": [
        "We'll now run the IBM model on a significantly larger dataset to showcase its failure modes:"
      ]
    },
    {
      "cell_type": "code",
      "execution_count": null,
      "id": "9be5da0a",
      "metadata": {
        "execution": {
          "iopub.execute_input": "2022-02-11T20:06:12.446028Z",
          "iopub.status.busy": "2022-02-11T20:06:12.445711Z",
          "iopub.status.idle": "2022-02-11T20:07:21.554165Z",
          "shell.execute_reply": "2022-02-11T20:07:21.553432Z",
          "shell.execute_reply.started": "2022-02-11T20:06:12.445985Z"
        },
        "papermill": {
          "duration": null,
          "end_time": null,
          "exception": null,
          "start_time": null,
          "status": "pending"
        },
        "tags": [],
        "id": "9be5da0a",
        "colab": {
          "base_uri": "https://localhost:8080/"
        },
        "outputId": "8efedeec-eacf-4ac9-f136-5e4eee9c1d70"
      },
      "outputs": [
        {
          "output_type": "stream",
          "name": "stdout",
          "text": [
            "Collecting sentencepiece\n",
            "  Downloading sentencepiece-0.1.96-cp37-cp37m-manylinux_2_17_x86_64.manylinux2014_x86_64.whl (1.2 MB)\n",
            "\u001b[K     |████████████████████████████████| 1.2 MB 30.1 MB/s \n",
            "\u001b[?25hCollecting torchtext==0.8.1\n",
            "  Downloading torchtext-0.8.1-cp37-cp37m-manylinux1_x86_64.whl (7.0 MB)\n",
            "\u001b[K     |████████████████████████████████| 7.0 MB 50.1 MB/s \n",
            "\u001b[?25hRequirement already satisfied: requests in /usr/local/lib/python3.7/dist-packages (from torchtext==0.8.1) (2.23.0)\n",
            "Requirement already satisfied: numpy in /usr/local/lib/python3.7/dist-packages (from torchtext==0.8.1) (1.21.5)\n",
            "Collecting torch==1.7.1\n",
            "  Downloading torch-1.7.1-cp37-cp37m-manylinux1_x86_64.whl (776.8 MB)\n",
            "\u001b[K     |████████████████████████████████| 776.8 MB 9.3 kB/s \n",
            "\u001b[?25hRequirement already satisfied: tqdm in /usr/local/lib/python3.7/dist-packages (from torchtext==0.8.1) (4.62.3)\n",
            "Requirement already satisfied: typing-extensions in /usr/local/lib/python3.7/dist-packages (from torch==1.7.1->torchtext==0.8.1) (3.10.0.2)\n",
            "Requirement already satisfied: certifi>=2017.4.17 in /usr/local/lib/python3.7/dist-packages (from requests->torchtext==0.8.1) (2021.10.8)\n",
            "Requirement already satisfied: idna<3,>=2.5 in /usr/local/lib/python3.7/dist-packages (from requests->torchtext==0.8.1) (2.10)\n",
            "Requirement already satisfied: urllib3!=1.25.0,!=1.25.1,<1.26,>=1.21.1 in /usr/local/lib/python3.7/dist-packages (from requests->torchtext==0.8.1) (1.24.3)\n",
            "Requirement already satisfied: chardet<4,>=3.0.2 in /usr/local/lib/python3.7/dist-packages (from requests->torchtext==0.8.1) (3.0.4)\n",
            "Installing collected packages: torch, torchtext, sentencepiece\n",
            "  Attempting uninstall: torch\n",
            "    Found existing installation: torch 1.10.0+cu111\n",
            "    Uninstalling torch-1.10.0+cu111:\n",
            "      Successfully uninstalled torch-1.10.0+cu111\n",
            "  Attempting uninstall: torchtext\n",
            "    Found existing installation: torchtext 0.11.0\n",
            "    Uninstalling torchtext-0.11.0:\n",
            "      Successfully uninstalled torchtext-0.11.0\n",
            "\u001b[31mERROR: pip's dependency resolver does not currently take into account all the packages that are installed. This behaviour is the source of the following dependency conflicts.\n",
            "torchvision 0.11.1+cu111 requires torch==1.10.0, but you have torch 1.7.1 which is incompatible.\n",
            "torchaudio 0.10.0+cu111 requires torch==1.10.0, but you have torch 1.7.1 which is incompatible.\u001b[0m\n",
            "Successfully installed sentencepiece-0.1.96 torch-1.7.1 torchtext-0.8.1\n"
          ]
        }
      ],
      "source": [
        "!pip install sentencepiece torchtext==0.8.1\n",
        "import sentencepiece\n",
        "import torchtext"
      ]
    },
    {
      "cell_type": "code",
      "execution_count": 11,
      "id": "4fb54d6d",
      "metadata": {
        "execution": {
          "iopub.execute_input": "2022-02-11T20:07:21.556417Z",
          "iopub.status.busy": "2022-02-11T20:07:21.55607Z",
          "iopub.status.idle": "2022-02-11T20:07:26.26864Z",
          "shell.execute_reply": "2022-02-11T20:07:26.267744Z",
          "shell.execute_reply.started": "2022-02-11T20:07:21.556373Z"
        },
        "papermill": {
          "duration": null,
          "end_time": null,
          "exception": null,
          "start_time": null,
          "status": "pending"
        },
        "tags": [],
        "id": "4fb54d6d",
        "colab": {
          "base_uri": "https://localhost:8080/"
        },
        "outputId": "ca7c3d4b-dbac-46c0-847e-29dd03af36b0"
      },
      "outputs": [
        {
          "output_type": "stream",
          "name": "stderr",
          "text": [
            "/usr/local/lib/python3.7/dist-packages/torchtext/data/field.py:150: UserWarning: Field class will be retired soon and moved to torchtext.legacy. Please see the most recent release notes for further information.\n",
            "  warnings.warn('{} class will be retired soon and moved to torchtext.legacy. Please see the most recent release notes for further information.'.format(self.__class__.__name__), UserWarning)\n"
          ]
        },
        {
          "output_type": "stream",
          "name": "stdout",
          "text": [
            "downloading training.tar.gz\n"
          ]
        },
        {
          "output_type": "stream",
          "name": "stderr",
          "text": [
            "training.tar.gz: 100%|██████████| 1.21M/1.21M [00:01<00:00, 811kB/s] \n"
          ]
        },
        {
          "output_type": "stream",
          "name": "stdout",
          "text": [
            "downloading validation.tar.gz\n"
          ]
        },
        {
          "output_type": "stream",
          "name": "stderr",
          "text": [
            "validation.tar.gz: 100%|██████████| 46.3k/46.3k [00:00<00:00, 192kB/s]\n"
          ]
        },
        {
          "output_type": "stream",
          "name": "stdout",
          "text": [
            "downloading mmt_task1_test2016.tar.gz\n"
          ]
        },
        {
          "output_type": "stream",
          "name": "stderr",
          "text": [
            "mmt_task1_test2016.tar.gz: 100%|██████████| 66.2k/66.2k [00:00<00:00, 277kB/s]\n",
            "/usr/local/lib/python3.7/dist-packages/torchtext/data/example.py:78: UserWarning: Example class will be retired soon and moved to torchtext.legacy. Please see the most recent release notes for further information.\n",
            "  warnings.warn('Example class will be retired soon and moved to torchtext.legacy. Please see the most recent release notes for further information.', UserWarning)\n"
          ]
        }
      ],
      "source": [
        "# Load the Multi30K translation dataset:\n",
        "extensions = [\".de\", \".en\"]\n",
        "source_field = torchtext.data.Field(tokenize=lambda x: x)\n",
        "target_field = torchtext.data.Field(tokenize=lambda x: x)\n",
        "training_data, validation_data, test_data = torchtext.datasets.Multi30k.splits(\n",
        "    extensions, [source_field, target_field], root=\".\")"
      ]
    },
    {
      "cell_type": "code",
      "execution_count": 12,
      "id": "4c842f2f",
      "metadata": {
        "execution": {
          "iopub.execute_input": "2022-02-11T20:27:56.558251Z",
          "iopub.status.busy": "2022-02-11T20:27:56.557834Z",
          "iopub.status.idle": "2022-02-11T20:29:20.564518Z",
          "shell.execute_reply": "2022-02-11T20:29:20.563594Z",
          "shell.execute_reply.started": "2022-02-11T20:27:56.5582Z"
        },
        "papermill": {
          "duration": null,
          "end_time": null,
          "exception": null,
          "start_time": null,
          "status": "pending"
        },
        "tags": [],
        "id": "4c842f2f",
        "colab": {
          "base_uri": "https://localhost:8080/"
        },
        "outputId": "08b7bcae-1027-4378-ddc1-e6fe6054e8b9"
      },
      "outputs": [
        {
          "output_type": "stream",
          "name": "stderr",
          "text": [
            "\r  0%|          | 0/10 [00:00<?, ?it/s]"
          ]
        },
        {
          "output_type": "stream",
          "name": "stdout",
          "text": [
            "0\n"
          ]
        },
        {
          "output_type": "stream",
          "name": "stderr",
          "text": [
            "\r 10%|█         | 1/10 [00:09<01:25,  9.47s/it]"
          ]
        },
        {
          "output_type": "stream",
          "name": "stdout",
          "text": [
            "1\n"
          ]
        },
        {
          "output_type": "stream",
          "name": "stderr",
          "text": [
            "\r 20%|██        | 2/10 [00:19<01:19,  9.90s/it]"
          ]
        },
        {
          "output_type": "stream",
          "name": "stdout",
          "text": [
            "2\n"
          ]
        },
        {
          "output_type": "stream",
          "name": "stderr",
          "text": [
            "\r 30%|███       | 3/10 [00:27<01:02,  8.93s/it]"
          ]
        },
        {
          "output_type": "stream",
          "name": "stdout",
          "text": [
            "3\n"
          ]
        },
        {
          "output_type": "stream",
          "name": "stderr",
          "text": [
            "\r 40%|████      | 4/10 [00:34<00:49,  8.24s/it]"
          ]
        },
        {
          "output_type": "stream",
          "name": "stdout",
          "text": [
            "4\n"
          ]
        },
        {
          "output_type": "stream",
          "name": "stderr",
          "text": [
            "\r 50%|█████     | 5/10 [00:42<00:39,  7.94s/it]"
          ]
        },
        {
          "output_type": "stream",
          "name": "stdout",
          "text": [
            "5\n"
          ]
        },
        {
          "output_type": "stream",
          "name": "stderr",
          "text": [
            "\r 60%|██████    | 6/10 [00:49<00:30,  7.65s/it]"
          ]
        },
        {
          "output_type": "stream",
          "name": "stdout",
          "text": [
            "6\n"
          ]
        },
        {
          "output_type": "stream",
          "name": "stderr",
          "text": [
            "\r 70%|███████   | 7/10 [00:56<00:22,  7.61s/it]"
          ]
        },
        {
          "output_type": "stream",
          "name": "stdout",
          "text": [
            "7\n"
          ]
        },
        {
          "output_type": "stream",
          "name": "stderr",
          "text": [
            "\r 80%|████████  | 8/10 [01:04<00:15,  7.58s/it]"
          ]
        },
        {
          "output_type": "stream",
          "name": "stdout",
          "text": [
            "8\n"
          ]
        },
        {
          "output_type": "stream",
          "name": "stderr",
          "text": [
            "\r 90%|█████████ | 9/10 [01:11<00:07,  7.52s/it]"
          ]
        },
        {
          "output_type": "stream",
          "name": "stdout",
          "text": [
            "9\n"
          ]
        },
        {
          "output_type": "stream",
          "name": "stderr",
          "text": [
            "100%|██████████| 10/10 [01:19<00:00,  7.94s/it]\n",
            "IOPub data rate exceeded.\n",
            "The notebook server will temporarily stop sending output\n",
            "to the client in order to avoid crashing it.\n",
            "To change this limit, set the config variable\n",
            "`--NotebookApp.iopub_data_rate_limit`.\n",
            "\n",
            "Current values:\n",
            "NotebookApp.iopub_data_rate_limit=1000000.0 (bytes/sec)\n",
            "NotebookApp.rate_limit_window=3.0 (secs)\n",
            "\n"
          ]
        }
      ],
      "source": [
        "def preprocess(sentence):\n",
        "    sentence = sentence.translate(str.maketrans('', '', string.punctuation)) # strip punctuation\n",
        "    return sentence.strip().lower().split()\n",
        "\n",
        "aligned_data = []\n",
        "for example in training_data[:1000]:\n",
        "    source = preprocess(example.src)\n",
        "    target = preprocess(example.trg)\n",
        "    aligned_data.append((source, target))\n",
        "\n",
        "ibm = IBMModel1(aligned_data, compute_perplexity=False)\n",
        "ibm.train()\n",
        "with open(\"multi30k_alignments.pkl\", \"wb\") as outfile:\n",
        "    pickle.dump(ibm.translation_probs, outfile, protocol=pickle.HIGHEST_PROTOCOL)"
      ]
    },
    {
      "cell_type": "code",
      "execution_count": 51,
      "id": "8ca568b9",
      "metadata": {
        "execution": {
          "iopub.execute_input": "2022-02-11T21:05:19.138073Z",
          "iopub.status.busy": "2022-02-11T21:05:19.137386Z",
          "iopub.status.idle": "2022-02-11T21:05:19.147051Z",
          "shell.execute_reply": "2022-02-11T21:05:19.146357Z",
          "shell.execute_reply.started": "2022-02-11T21:05:19.13803Z"
        },
        "papermill": {
          "duration": null,
          "end_time": null,
          "exception": null,
          "start_time": null,
          "status": "pending"
        },
        "tags": [],
        "id": "8ca568b9",
        "colab": {
          "base_uri": "https://localhost:8080/",
          "height": 461
        },
        "outputId": "72547bad-0d8d-4666-bf84-0c967ed4a737"
      },
      "outputs": [
        {
          "output_type": "stream",
          "name": "stdout",
          "text": [
            "('frau', 'woman'): 0.7069625165056156\n",
            "('hund', 'dog'): 0.9345793763683204\n",
            "('kirche', 'church'): 0.23288135062136892\n",
            "('der', 'the'): 0.35536228372246104\n",
            "('nach', 'after'): 0.4575915526156438\n",
            "('die', 'man'): 6.245034446961668e-07\n",
            "('hund', 'dog') 0.9345793763683204\n",
            "('frau', 'woman') 0.7069625165056156\n",
            "('ist', 'is') 2.309548607690163e-05\n",
            "('ihrer', 'her') 6.087043534772479e-06\n",
            "('bei', 'with') 7.736979472088875e-09\n",
            "[(0, 0), (1, 1), (2, 2), (3, 3), (4, 4)]\n",
            "['frau', 'ist', 'bei', 'ihrer', 'hund']\n"
          ]
        },
        {
          "output_type": "display_data",
          "data": {
            "image/png": "[encoded data removed]",
            "text/plain": [
              "<Figure size 432x288 with 1 Axes>"
            ]
          },
          "metadata": {}
        }
      ],
      "source": [
        "# Making sure the model learned something:\n",
        "examples = [\n",
        "    (\"hund\", \"dog\"),\n",
        "    (\"hund\", \"cat\"),\n",
        "    (\"ein\", \"a\"),\n",
        "    (\"ein\", \"the\"),\n",
        "    (\"frau\", \"woman\"),\n",
        "    (\"frau\", \"man\"),\n",
        "]\n",
        "\n",
        "examples = [\n",
        "    (\"frau\", \"woman\"),\n",
        "    (\"hund\", \"dog\"),\n",
        "    (\"kirche\", \"church\"),\n",
        "    (\"der\", \"the\"),\n",
        "    (\"nach\", \"after\"),\n",
        "    (\"die\", \"man\")\n",
        "]\n",
        "for example in examples:\n",
        "    print(str(example) + \": \" + str(ibm.translation_probs[example]))\n",
        "alignment = ibm.get_alignment(['frau', 'ist', 'bei', 'ihrer', 'hund'],['woman', 'is', 'with', 'her', 'dog'])\n",
        "print(alignment)\n",
        "visualize_alignment(alignment,['frau', 'ist', 'bei', 'ihrer', 'hund'],['woman', 'is', 'with', 'her', 'dog'])\n",
        "#alignment = ibm.get_alignment(['frau', 'ist', 'in', 'der', 'kirche','mit'],['woman', 'is', 'in', 'the', 'church','with'])\n",
        "#print()\n",
        "#visualize_alignment(alignment,['frau', 'ist', 'in', 'der', 'kirche','mit'],['woman', 'is', 'in', 'the', 'church','with'])"
      ]
    },
    {
      "cell_type": "markdown",
      "id": "6de11413",
      "metadata": {
        "papermill": {
          "duration": null,
          "end_time": null,
          "exception": null,
          "start_time": null,
          "status": "pending"
        },
        "tags": [],
        "id": "6de11413"
      },
      "source": [
        "From this larger dataset: find at least one sentence where the IBM alignment model performs reasonably well, and find another one where it fails catastrophically, and include alignment visualizations for both examples in your report. You may want to consult a [German-English dictionary](https://www.collinsdictionary.com/us/dictionary/english-german) for this part of the problem. Provide a brief explanation for why the alignment model did poorly on the failure case."
      ]
    }
  ],
  "metadata": {
    "kernelspec": {
      "display_name": "Python 3",
      "language": "python",
      "name": "python3"
    },
    "language_info": {
      "codemirror_mode": {
        "name": "ipython",
        "version": 3
      },
      "file_extension": ".py",
      "mimetype": "text/x-python",
      "name": "python",
      "nbconvert_exporter": "python",
      "pygments_lexer": "ipython3",
      "version": "3.7.12"
    },
    "papermill": {
      "default_parameters": {},
      "duration": 10.340851,
      "end_time": "2022-02-11T21:46:42.266035",
      "environment_variables": {},
      "exception": true,
      "input_path": "__notebook__.ipynb",
      "output_path": "__notebook__.ipynb",
      "parameters": {},
      "start_time": "2022-02-11T21:46:31.925184",
      "version": "2.3.3"
    },
    "colab": {
      "name": "HW2a",
      "provenance": [],
      "collapsed_sections": []
    }
  },
  "nbformat": 4,
  "nbformat_minor": 5
}